{
 "cells": [
  {
   "cell_type": "markdown",
   "metadata": {},
   "source": [
    "## Modeling"
   ]
  },
  {
   "cell_type": "markdown",
   "metadata": {},
   "source": [
    "Give our sample with many features (hard to scale on KNN) that are not all independent (hard to make naive bayes assumption), let's start with logistic regression."
   ]
  },
  {
   "cell_type": "code",
   "execution_count": 2,
   "metadata": {},
   "outputs": [],
   "source": [
    "# import necessary libraries\n",
    "import pandas as pd\n",
    "import matplotlib.pyplot as plt\n",
    "import scipy.stats as scs\n",
    "import numpy as np\n",
    "\n",
    "from sklearn.linear_model import LogisticRegression, LogisticRegressionCV\n",
    "from sklearn.ensemble import RandomForestClassifier\n",
    "#from sklearn.neighbors import KNeighborsClassifier\n",
    "from sklearn.model_selection import train_test_split\n",
    "from sklearn.preprocessing import OneHotEncoder, StandardScaler\n",
    "#from visualize import generate_moons_df, preprocess, plot_boundaries\n",
    "\n",
    "from sklearn.datasets import make_classification\n",
    "from sklearn.metrics import plot_confusion_matrix, plot_roc_curve, classification_report, roc_curve"
   ]
  },
  {
   "cell_type": "code",
   "execution_count": 3,
   "metadata": {
    "scrolled": true
   },
   "outputs": [
    {
     "data": {
      "text/html": [
       "<div>\n",
       "<style scoped>\n",
       "    .dataframe tbody tr th:only-of-type {\n",
       "        vertical-align: middle;\n",
       "    }\n",
       "\n",
       "    .dataframe tbody tr th {\n",
       "        vertical-align: top;\n",
       "    }\n",
       "\n",
       "    .dataframe thead th {\n",
       "        text-align: right;\n",
       "    }\n",
       "</style>\n",
       "<table border=\"1\" class=\"dataframe\">\n",
       "  <thead>\n",
       "    <tr style=\"text-align: right;\">\n",
       "      <th></th>\n",
       "      <th>id</th>\n",
       "      <th>sex</th>\n",
       "      <th>birth_year</th>\n",
       "      <th>sample_type</th>\n",
       "      <th>race</th>\n",
       "      <th>poverty</th>\n",
       "      <th>marriage</th>\n",
       "      <th>metro_area</th>\n",
       "      <th>child_at_home</th>\n",
       "      <th>degree_other</th>\n",
       "      <th>house_type_30</th>\n",
       "      <th>fin_assets_30</th>\n",
       "      <th>debts_30</th>\n",
       "      <th>income_wage_compiled</th>\n",
       "      <th>income_bus_compiled</th>\n",
       "    </tr>\n",
       "  </thead>\n",
       "  <tbody>\n",
       "    <tr>\n",
       "      <th>0</th>\n",
       "      <td>4</td>\n",
       "      <td>2</td>\n",
       "      <td>1981</td>\n",
       "      <td>1</td>\n",
       "      <td>2</td>\n",
       "      <td>179</td>\n",
       "      <td>2</td>\n",
       "      <td>3</td>\n",
       "      <td>1</td>\n",
       "      <td>2</td>\n",
       "      <td>6</td>\n",
       "      <td>0</td>\n",
       "      <td>0</td>\n",
       "      <td>4</td>\n",
       "      <td>0</td>\n",
       "    </tr>\n",
       "    <tr>\n",
       "      <th>1</th>\n",
       "      <td>5</td>\n",
       "      <td>1</td>\n",
       "      <td>1982</td>\n",
       "      <td>1</td>\n",
       "      <td>2</td>\n",
       "      <td>871</td>\n",
       "      <td>3</td>\n",
       "      <td>3</td>\n",
       "      <td>2</td>\n",
       "      <td>2</td>\n",
       "      <td>1</td>\n",
       "      <td>144000</td>\n",
       "      <td>9000</td>\n",
       "      <td>6</td>\n",
       "      <td>0</td>\n",
       "    </tr>\n",
       "    <tr>\n",
       "      <th>2</th>\n",
       "      <td>6</td>\n",
       "      <td>2</td>\n",
       "      <td>1982</td>\n",
       "      <td>1</td>\n",
       "      <td>2</td>\n",
       "      <td>226</td>\n",
       "      <td>3</td>\n",
       "      <td>3</td>\n",
       "      <td>2</td>\n",
       "      <td>2</td>\n",
       "      <td>6</td>\n",
       "      <td>3500</td>\n",
       "      <td>1000</td>\n",
       "      <td>3</td>\n",
       "      <td>0</td>\n",
       "    </tr>\n",
       "    <tr>\n",
       "      <th>3</th>\n",
       "      <td>10</td>\n",
       "      <td>1</td>\n",
       "      <td>1984</td>\n",
       "      <td>1</td>\n",
       "      <td>4</td>\n",
       "      <td>906</td>\n",
       "      <td>3</td>\n",
       "      <td>3</td>\n",
       "      <td>1</td>\n",
       "      <td>4</td>\n",
       "      <td>6</td>\n",
       "      <td>185000</td>\n",
       "      <td>96500</td>\n",
       "      <td>5</td>\n",
       "      <td>0</td>\n",
       "    </tr>\n",
       "    <tr>\n",
       "      <th>4</th>\n",
       "      <td>11</td>\n",
       "      <td>2</td>\n",
       "      <td>1982</td>\n",
       "      <td>1</td>\n",
       "      <td>2</td>\n",
       "      <td>399</td>\n",
       "      <td>3</td>\n",
       "      <td>3</td>\n",
       "      <td>1</td>\n",
       "      <td>4</td>\n",
       "      <td>6</td>\n",
       "      <td>3000</td>\n",
       "      <td>62500</td>\n",
       "      <td>4</td>\n",
       "      <td>0</td>\n",
       "    </tr>\n",
       "    <tr>\n",
       "      <th>...</th>\n",
       "      <td>...</td>\n",
       "      <td>...</td>\n",
       "      <td>...</td>\n",
       "      <td>...</td>\n",
       "      <td>...</td>\n",
       "      <td>...</td>\n",
       "      <td>...</td>\n",
       "      <td>...</td>\n",
       "      <td>...</td>\n",
       "      <td>...</td>\n",
       "      <td>...</td>\n",
       "      <td>...</td>\n",
       "      <td>...</td>\n",
       "      <td>...</td>\n",
       "      <td>...</td>\n",
       "    </tr>\n",
       "    <tr>\n",
       "      <th>3773</th>\n",
       "      <td>9013</td>\n",
       "      <td>1</td>\n",
       "      <td>1982</td>\n",
       "      <td>0</td>\n",
       "      <td>1</td>\n",
       "      <td>140</td>\n",
       "      <td>2</td>\n",
       "      <td>3</td>\n",
       "      <td>0</td>\n",
       "      <td>1</td>\n",
       "      <td>6</td>\n",
       "      <td>1750</td>\n",
       "      <td>0</td>\n",
       "      <td>3</td>\n",
       "      <td>0</td>\n",
       "    </tr>\n",
       "    <tr>\n",
       "      <th>3774</th>\n",
       "      <td>9015</td>\n",
       "      <td>2</td>\n",
       "      <td>1980</td>\n",
       "      <td>0</td>\n",
       "      <td>1</td>\n",
       "      <td>325</td>\n",
       "      <td>3</td>\n",
       "      <td>2</td>\n",
       "      <td>3</td>\n",
       "      <td>2</td>\n",
       "      <td>1</td>\n",
       "      <td>88176</td>\n",
       "      <td>55464</td>\n",
       "      <td>5</td>\n",
       "      <td>0</td>\n",
       "    </tr>\n",
       "    <tr>\n",
       "      <th>3775</th>\n",
       "      <td>9018</td>\n",
       "      <td>2</td>\n",
       "      <td>1980</td>\n",
       "      <td>1</td>\n",
       "      <td>4</td>\n",
       "      <td>327</td>\n",
       "      <td>3</td>\n",
       "      <td>2</td>\n",
       "      <td>0</td>\n",
       "      <td>1</td>\n",
       "      <td>6</td>\n",
       "      <td>100</td>\n",
       "      <td>1200</td>\n",
       "      <td>3</td>\n",
       "      <td>0</td>\n",
       "    </tr>\n",
       "    <tr>\n",
       "      <th>3776</th>\n",
       "      <td>9019</td>\n",
       "      <td>1</td>\n",
       "      <td>1984</td>\n",
       "      <td>0</td>\n",
       "      <td>2</td>\n",
       "      <td>498</td>\n",
       "      <td>2</td>\n",
       "      <td>3</td>\n",
       "      <td>0</td>\n",
       "      <td>3</td>\n",
       "      <td>6</td>\n",
       "      <td>400</td>\n",
       "      <td>17000</td>\n",
       "      <td>4</td>\n",
       "      <td>0</td>\n",
       "    </tr>\n",
       "    <tr>\n",
       "      <th>3777</th>\n",
       "      <td>9021</td>\n",
       "      <td>1</td>\n",
       "      <td>1980</td>\n",
       "      <td>1</td>\n",
       "      <td>4</td>\n",
       "      <td>260</td>\n",
       "      <td>2</td>\n",
       "      <td>2</td>\n",
       "      <td>1</td>\n",
       "      <td>4</td>\n",
       "      <td>6</td>\n",
       "      <td>5000</td>\n",
       "      <td>0</td>\n",
       "      <td>4</td>\n",
       "      <td>0</td>\n",
       "    </tr>\n",
       "  </tbody>\n",
       "</table>\n",
       "<p>3113 rows × 15 columns</p>\n",
       "</div>"
      ],
      "text/plain": [
       "        id  sex  birth_year  sample_type  race  poverty  marriage  metro_area  \\\n",
       "0        4    2        1981            1     2      179         2           3   \n",
       "1        5    1        1982            1     2      871         3           3   \n",
       "2        6    2        1982            1     2      226         3           3   \n",
       "3       10    1        1984            1     4      906         3           3   \n",
       "4       11    2        1982            1     2      399         3           3   \n",
       "...    ...  ...         ...          ...   ...      ...       ...         ...   \n",
       "3773  9013    1        1982            0     1      140         2           3   \n",
       "3774  9015    2        1980            0     1      325         3           2   \n",
       "3775  9018    2        1980            1     4      327         3           2   \n",
       "3776  9019    1        1984            0     2      498         2           3   \n",
       "3777  9021    1        1980            1     4      260         2           2   \n",
       "\n",
       "      child_at_home  degree_other  house_type_30  fin_assets_30  debts_30  \\\n",
       "0                 1             2              6              0         0   \n",
       "1                 2             2              1         144000      9000   \n",
       "2                 2             2              6           3500      1000   \n",
       "3                 1             4              6         185000     96500   \n",
       "4                 1             4              6           3000     62500   \n",
       "...             ...           ...            ...            ...       ...   \n",
       "3773              0             1              6           1750         0   \n",
       "3774              3             2              1          88176     55464   \n",
       "3775              0             1              6            100      1200   \n",
       "3776              0             3              6            400     17000   \n",
       "3777              1             4              6           5000         0   \n",
       "\n",
       "      income_wage_compiled  income_bus_compiled  \n",
       "0                        4                    0  \n",
       "1                        6                    0  \n",
       "2                        3                    0  \n",
       "3                        5                    0  \n",
       "4                        4                    0  \n",
       "...                    ...                  ...  \n",
       "3773                     3                    0  \n",
       "3774                     5                    0  \n",
       "3775                     3                    0  \n",
       "3776                     4                    0  \n",
       "3777                     4                    0  \n",
       "\n",
       "[3113 rows x 15 columns]"
      ]
     },
     "execution_count": 3,
     "metadata": {},
     "output_type": "execute_result"
    }
   ],
   "source": [
    "model_ready = pd.read_pickle('model_ready.pickle')\n",
    "model_ready"
   ]
  },
  {
   "cell_type": "code",
   "execution_count": 3,
   "metadata": {
    "scrolled": false
   },
   "outputs": [
    {
     "data": {
      "text/plain": [
       "Index(['id', 'sex', 'birth_year', 'sample_type', 'race', 'poverty', 'marriage',\n",
       "       'metro_area', 'child_at_home', 'degree_other', 'house_type_30',\n",
       "       'fin_assets_30', 'debts_30', 'income_wage_compiled',\n",
       "       'income_bus_compiled'],\n",
       "      dtype='object')"
      ]
     },
     "execution_count": 3,
     "metadata": {},
     "output_type": "execute_result"
    }
   ],
   "source": [
    "model_ready.columns"
   ]
  },
  {
   "cell_type": "markdown",
   "metadata": {},
   "source": [
    "### FSM: Financial Features"
   ]
  },
  {
   "cell_type": "markdown",
   "metadata": {},
   "source": [
    "#### Let's start with our FSM metics--only the financial metrics. \n",
    "#### 'id', \n",
    "#'sex', \\\n",
    "#'birth_year', \\\n",
    "#### 'sample_type', \\\n",
    "#'race', \n",
    "#### 'poverty', \n",
    "#'marriage', \\\n",
    "#'metro_area', \\\n",
    "#'child_at_home', \\\n",
    "#'degree_other', \n",
    "#### 'house_type_30', \n",
    "#### 'fin_assets_30', \n",
    "#### 'debts_30', \n",
    "#### 'income_wage_compiled' \n",
    "#### 'income_bus_compiled' "
   ]
  },
  {
   "cell_type": "markdown",
   "metadata": {},
   "source": [
    "Poverty Ratio= A ratio comparing the gross household income variable (rounds 1-7) or the gross family income variable (rounds 8 and up) to the federal poverty level for previous year, taking household size into account. \\\n",
    "Any number above 1 means the family is above the poverty threshold. \\\n",
    "The higher the number, the more wealthy the family is compared to the the federal poverty level. \\"
   ]
  },
  {
   "cell_type": "markdown",
   "metadata": {},
   "source": [
    "The ratio was transformed by the study into integers, but let's tranform them back into floats."
   ]
  },
  {
   "cell_type": "code",
   "execution_count": 4,
   "metadata": {},
   "outputs": [
    {
     "data": {
      "text/html": [
       "<div>\n",
       "<style scoped>\n",
       "    .dataframe tbody tr th:only-of-type {\n",
       "        vertical-align: middle;\n",
       "    }\n",
       "\n",
       "    .dataframe tbody tr th {\n",
       "        vertical-align: top;\n",
       "    }\n",
       "\n",
       "    .dataframe thead th {\n",
       "        text-align: right;\n",
       "    }\n",
       "</style>\n",
       "<table border=\"1\" class=\"dataframe\">\n",
       "  <thead>\n",
       "    <tr style=\"text-align: right;\">\n",
       "      <th></th>\n",
       "      <th>id</th>\n",
       "      <th>sex</th>\n",
       "      <th>birth_year</th>\n",
       "      <th>sample_type</th>\n",
       "      <th>race</th>\n",
       "      <th>poverty</th>\n",
       "      <th>marriage</th>\n",
       "      <th>metro_area</th>\n",
       "      <th>child_at_home</th>\n",
       "      <th>degree_other</th>\n",
       "      <th>house_type_30</th>\n",
       "      <th>fin_assets_30</th>\n",
       "      <th>debts_30</th>\n",
       "      <th>income_wage_compiled</th>\n",
       "      <th>income_bus_compiled</th>\n",
       "    </tr>\n",
       "  </thead>\n",
       "  <tbody>\n",
       "  </tbody>\n",
       "</table>\n",
       "</div>"
      ],
      "text/plain": [
       "Empty DataFrame\n",
       "Columns: [id, sex, birth_year, sample_type, race, poverty, marriage, metro_area, child_at_home, degree_other, house_type_30, fin_assets_30, debts_30, income_wage_compiled, income_bus_compiled]\n",
       "Index: []"
      ]
     },
     "execution_count": 4,
     "metadata": {},
     "output_type": "execute_result"
    }
   ],
   "source": [
    "#checking for negative values\n",
    "model_ready[model_ready['poverty'] < 0]"
   ]
  },
  {
   "cell_type": "code",
   "execution_count": 5,
   "metadata": {},
   "outputs": [],
   "source": [
    "model_ready['poverty'] = model_ready['poverty'].apply(lambda x: float(x/100))"
   ]
  },
  {
   "cell_type": "code",
   "execution_count": 6,
   "metadata": {
    "scrolled": false
   },
   "outputs": [
    {
     "data": {
      "text/plain": [
       "id                        int64\n",
       "sex                       int64\n",
       "birth_year                int64\n",
       "sample_type               int64\n",
       "race                      int64\n",
       "poverty                 float64\n",
       "marriage                  int64\n",
       "metro_area                int64\n",
       "child_at_home             int64\n",
       "degree_other              int64\n",
       "house_type_30             int64\n",
       "fin_assets_30             int64\n",
       "debts_30                  int64\n",
       "income_wage_compiled      int64\n",
       "income_bus_compiled       int64\n",
       "dtype: object"
      ]
     },
     "execution_count": 6,
     "metadata": {},
     "output_type": "execute_result"
    }
   ],
   "source": [
    "model_ready.dtypes"
   ]
  },
  {
   "cell_type": "markdown",
   "metadata": {},
   "source": [
    "We want to do a binary classification, so we have to extract the owner/not owner boolean from our house_type_30 column"
   ]
  },
  {
   "cell_type": "markdown",
   "metadata": {},
   "source": [
    "House Type Key:\\\n",
    "1='House' \\\n",
    "2='Ranch/Farm' \\\n",
    "3='Mobile Home'\\\n",
    "6='R does not own'\\\n",
    "9='Owns other residence type'"
   ]
  },
  {
   "cell_type": "code",
   "execution_count": 7,
   "metadata": {},
   "outputs": [
    {
     "data": {
      "text/plain": [
       "6    1970\n",
       "1     968\n",
       "9      98\n",
       "3      76\n",
       "2       1\n",
       "Name: house_type_30, dtype: int64"
      ]
     },
     "execution_count": 7,
     "metadata": {},
     "output_type": "execute_result"
    }
   ],
   "source": [
    "model_ready.house_type_30.value_counts()"
   ]
  },
  {
   "cell_type": "code",
   "execution_count": 8,
   "metadata": {},
   "outputs": [
    {
     "data": {
      "text/plain": [
       "0"
      ]
     },
     "execution_count": 8,
     "metadata": {},
     "output_type": "execute_result"
    }
   ],
   "source": [
    "model_ready.house_type_30.isnull().sum()"
   ]
  },
  {
   "cell_type": "code",
   "execution_count": 9,
   "metadata": {},
   "outputs": [],
   "source": [
    "def owns_house(house_type):\n",
    "    '''Takes in house_type_30 code and exports a boolean, 1 for owned home, regardless of type and 0 for rental home'''\n",
    "    if house_type == 6:\n",
    "        return 0\n",
    "    else:\n",
    "        return 1"
   ]
  },
  {
   "cell_type": "code",
   "execution_count": 10,
   "metadata": {},
   "outputs": [],
   "source": [
    "#create new column--our y variable--for binary classification.\n",
    "model_ready['homeowner'] = model_ready['house_type_30'].apply(lambda x: owns_house(x))"
   ]
  },
  {
   "cell_type": "code",
   "execution_count": 11,
   "metadata": {
    "scrolled": true
   },
   "outputs": [
    {
     "data": {
      "image/png": "[encoded data removed]",
      "text/plain": [
       "<Figure size 432x288 with 1 Axes>"
      ]
     },
     "metadata": {
      "needs_background": "light"
     },
     "output_type": "display_data"
    }
   ],
   "source": [
    "#we can see that our values aren't fully balanced. This is good to keep in mind \n",
    "#for classification metric interpretation and the precision recall tradeoff.\n",
    "plt.hist(model_ready['homeowner']);"
   ]
  },
  {
   "cell_type": "code",
   "execution_count": 12,
   "metadata": {},
   "outputs": [],
   "source": [
    "#pickle this dataframe\n",
    "model_ready.to_pickle('model_ready_fsm')"
   ]
  },
  {
   "cell_type": "code",
   "execution_count": 2,
   "metadata": {},
   "outputs": [],
   "source": [
    "model_ready = pd.read_pickle('model_ready_fsm')"
   ]
  },
  {
   "cell_type": "code",
   "execution_count": 3,
   "metadata": {},
   "outputs": [],
   "source": [
    "#create new df with only financial values for our FSM and id.\n",
    "model_0 = model_ready[['id', 'poverty', 'homeowner', 'fin_assets_30', 'debts_30', 'income_wage_compiled', 'income_bus_compiled']]\n",
    "\n"
   ]
  },
  {
   "cell_type": "code",
   "execution_count": 4,
   "metadata": {
    "scrolled": false
   },
   "outputs": [
    {
     "data": {
      "text/html": [
       "<div>\n",
       "<style scoped>\n",
       "    .dataframe tbody tr th:only-of-type {\n",
       "        vertical-align: middle;\n",
       "    }\n",
       "\n",
       "    .dataframe tbody tr th {\n",
       "        vertical-align: top;\n",
       "    }\n",
       "\n",
       "    .dataframe thead th {\n",
       "        text-align: right;\n",
       "    }\n",
       "</style>\n",
       "<table border=\"1\" class=\"dataframe\">\n",
       "  <thead>\n",
       "    <tr style=\"text-align: right;\">\n",
       "      <th></th>\n",
       "      <th>id</th>\n",
       "      <th>poverty</th>\n",
       "      <th>homeowner</th>\n",
       "      <th>fin_assets_30</th>\n",
       "      <th>debts_30</th>\n",
       "      <th>income_wage_compiled</th>\n",
       "      <th>income_bus_compiled</th>\n",
       "    </tr>\n",
       "  </thead>\n",
       "  <tbody>\n",
       "    <tr>\n",
       "      <th>0</th>\n",
       "      <td>4</td>\n",
       "      <td>1.79</td>\n",
       "      <td>0</td>\n",
       "      <td>0</td>\n",
       "      <td>0</td>\n",
       "      <td>4</td>\n",
       "      <td>0</td>\n",
       "    </tr>\n",
       "    <tr>\n",
       "      <th>1</th>\n",
       "      <td>5</td>\n",
       "      <td>8.71</td>\n",
       "      <td>1</td>\n",
       "      <td>144000</td>\n",
       "      <td>9000</td>\n",
       "      <td>6</td>\n",
       "      <td>0</td>\n",
       "    </tr>\n",
       "    <tr>\n",
       "      <th>2</th>\n",
       "      <td>6</td>\n",
       "      <td>2.26</td>\n",
       "      <td>0</td>\n",
       "      <td>3500</td>\n",
       "      <td>1000</td>\n",
       "      <td>3</td>\n",
       "      <td>0</td>\n",
       "    </tr>\n",
       "    <tr>\n",
       "      <th>3</th>\n",
       "      <td>10</td>\n",
       "      <td>9.06</td>\n",
       "      <td>0</td>\n",
       "      <td>185000</td>\n",
       "      <td>96500</td>\n",
       "      <td>5</td>\n",
       "      <td>0</td>\n",
       "    </tr>\n",
       "    <tr>\n",
       "      <th>4</th>\n",
       "      <td>11</td>\n",
       "      <td>3.99</td>\n",
       "      <td>0</td>\n",
       "      <td>3000</td>\n",
       "      <td>62500</td>\n",
       "      <td>4</td>\n",
       "      <td>0</td>\n",
       "    </tr>\n",
       "    <tr>\n",
       "      <th>...</th>\n",
       "      <td>...</td>\n",
       "      <td>...</td>\n",
       "      <td>...</td>\n",
       "      <td>...</td>\n",
       "      <td>...</td>\n",
       "      <td>...</td>\n",
       "      <td>...</td>\n",
       "    </tr>\n",
       "    <tr>\n",
       "      <th>3773</th>\n",
       "      <td>9013</td>\n",
       "      <td>1.40</td>\n",
       "      <td>0</td>\n",
       "      <td>1750</td>\n",
       "      <td>0</td>\n",
       "      <td>3</td>\n",
       "      <td>0</td>\n",
       "    </tr>\n",
       "    <tr>\n",
       "      <th>3774</th>\n",
       "      <td>9015</td>\n",
       "      <td>3.25</td>\n",
       "      <td>1</td>\n",
       "      <td>88176</td>\n",
       "      <td>55464</td>\n",
       "      <td>5</td>\n",
       "      <td>0</td>\n",
       "    </tr>\n",
       "    <tr>\n",
       "      <th>3775</th>\n",
       "      <td>9018</td>\n",
       "      <td>3.27</td>\n",
       "      <td>0</td>\n",
       "      <td>100</td>\n",
       "      <td>1200</td>\n",
       "      <td>3</td>\n",
       "      <td>0</td>\n",
       "    </tr>\n",
       "    <tr>\n",
       "      <th>3776</th>\n",
       "      <td>9019</td>\n",
       "      <td>4.98</td>\n",
       "      <td>0</td>\n",
       "      <td>400</td>\n",
       "      <td>17000</td>\n",
       "      <td>4</td>\n",
       "      <td>0</td>\n",
       "    </tr>\n",
       "    <tr>\n",
       "      <th>3777</th>\n",
       "      <td>9021</td>\n",
       "      <td>2.60</td>\n",
       "      <td>0</td>\n",
       "      <td>5000</td>\n",
       "      <td>0</td>\n",
       "      <td>4</td>\n",
       "      <td>0</td>\n",
       "    </tr>\n",
       "  </tbody>\n",
       "</table>\n",
       "<p>3113 rows × 7 columns</p>\n",
       "</div>"
      ],
      "text/plain": [
       "        id  poverty  homeowner  fin_assets_30  debts_30  income_wage_compiled  \\\n",
       "0        4     1.79          0              0         0                     4   \n",
       "1        5     8.71          1         144000      9000                     6   \n",
       "2        6     2.26          0           3500      1000                     3   \n",
       "3       10     9.06          0         185000     96500                     5   \n",
       "4       11     3.99          0           3000     62500                     4   \n",
       "...    ...      ...        ...            ...       ...                   ...   \n",
       "3773  9013     1.40          0           1750         0                     3   \n",
       "3774  9015     3.25          1          88176     55464                     5   \n",
       "3775  9018     3.27          0            100      1200                     3   \n",
       "3776  9019     4.98          0            400     17000                     4   \n",
       "3777  9021     2.60          0           5000         0                     4   \n",
       "\n",
       "      income_bus_compiled  \n",
       "0                       0  \n",
       "1                       0  \n",
       "2                       0  \n",
       "3                       0  \n",
       "4                       0  \n",
       "...                   ...  \n",
       "3773                    0  \n",
       "3774                    0  \n",
       "3775                    0  \n",
       "3776                    0  \n",
       "3777                    0  \n",
       "\n",
       "[3113 rows x 7 columns]"
      ]
     },
     "execution_count": 4,
     "metadata": {},
     "output_type": "execute_result"
    }
   ],
   "source": [
    "model_0"
   ]
  },
  {
   "cell_type": "code",
   "execution_count": 61,
   "metadata": {},
   "outputs": [],
   "source": [
    "model_0.to_pickle('model_financial.pickle')"
   ]
  },
  {
   "cell_type": "markdown",
   "metadata": {},
   "source": [
    "### Logistic Regression - Financial Features Only"
   ]
  },
  {
   "cell_type": "code",
   "execution_count": 5,
   "metadata": {},
   "outputs": [],
   "source": [
    "features = ['poverty', 'fin_assets_30', 'debts_30', 'income_wage_compiled', 'income_bus_compiled']\n",
    "\n",
    "X = model_0.loc[:, features]\n",
    "y = model_0['homeowner']"
   ]
  },
  {
   "cell_type": "code",
   "execution_count": 6,
   "metadata": {},
   "outputs": [],
   "source": [
    "X_train_val, X_test, y_train_val, y_test = train_test_split(X, y, test_size=0.2, random_state=7)\n",
    "X_train, X_val, y_train, y_val = train_test_split(X_train_val, y_train_val, test_size=0.25, random_state=3)"
   ]
  },
  {
   "cell_type": "code",
   "execution_count": 8,
   "metadata": {},
   "outputs": [
    {
     "name": "stdout",
     "output_type": "stream",
     "text": [
      "Logistic Regression TRAIN accuracy: 0.70166\n",
      "Logistic Regression VAL accuracy: 0.71910\n"
     ]
    }
   ],
   "source": [
    "#set up logistic regression cross validation\n",
    "#set balanced class weights--since we know our classes are imbalanced.\n",
    "lr_cv = LogisticRegressionCV(class_weight = 'balanced')\n",
    "\n",
    "#Scale data\n",
    "ss = StandardScaler()\n",
    "#fit transform X train\n",
    "X_train_scaled = ss.fit_transform(X_train)\n",
    "#fit X val\n",
    "X_val_scaled = ss.transform(X_val)\n",
    "\n",
    "#fit the X train on logiscitc regression cv model\n",
    "lr_cv.fit(X_train_scaled, y_train)\n",
    "\n",
    "print(f'Logistic Regression TRAIN accuracy: {lr_cv.score(X_train_scaled, y_train):.5f}')\n",
    "print(f'Logistic Regression VAL accuracy: {lr_cv.score(X_val_scaled, y_val):.5f}')"
   ]
  },
  {
   "cell_type": "code",
   "execution_count": 9,
   "metadata": {},
   "outputs": [
    {
     "name": "stdout",
     "output_type": "stream",
     "text": [
      "              precision    recall  f1-score   support\n",
      "\n",
      "           0       0.79      0.79      0.79       413\n",
      "           1       0.58      0.59      0.58       210\n",
      "\n",
      "    accuracy                           0.72       623\n",
      "   macro avg       0.69      0.69      0.69       623\n",
      "weighted avg       0.72      0.72      0.72       623\n",
      "\n"
     ]
    }
   ],
   "source": [
    "y_preds = lr_cv.predict(X_val_scaled)\n",
    "\n",
    "print(classification_report(y_val, y_preds))"
   ]
  },
  {
   "cell_type": "code",
   "execution_count": 10,
   "metadata": {},
   "outputs": [
    {
     "data": {
      "image/png": "[encoded data removed]",
      "text/plain": [
       "<Figure size 504x504 with 2 Axes>"
      ]
     },
     "metadata": {
      "needs_background": "light"
     },
     "output_type": "display_data"
    }
   ],
   "source": [
    "fig, ax = plt.subplots(figsize=(7, 7))\n",
    "plot_confusion_matrix(lr_cv, X_val_scaled, y_val, ax=ax);"
   ]
  },
  {
   "cell_type": "markdown",
   "metadata": {},
   "source": [
    "We're seeing a balanced matrix, with an almost equal amount of false negatives and positives.\\\n",
    "Our precision and recall are very balanced."
   ]
  },
  {
   "cell_type": "markdown",
   "metadata": {},
   "source": [
    "### Test"
   ]
  },
  {
   "cell_type": "code",
   "execution_count": 11,
   "metadata": {},
   "outputs": [
    {
     "name": "stdout",
     "output_type": "stream",
     "text": [
      "Logistic Regression TRAIN-VAL accuracy: 0.70281\n",
      "Logistic Regression TEST accuracy: 0.72392\n"
     ]
    }
   ],
   "source": [
    "#set up logistic regression cross validation\n",
    "#set balanced class weights--since we know our classes are imbalanced.\n",
    "lr = LogisticRegression(class_weight = 'balanced')\n",
    "\n",
    "#Scale data\n",
    "ss = StandardScaler()\n",
    "#fit transform X train\n",
    "X_train_val_scaled = ss.fit_transform(X_train_val)\n",
    "#fit X val\n",
    "X_test_scaled = ss.transform(X_test)\n",
    "\n",
    "#fit the X train on logiscitc regression cv model\n",
    "lr.fit(X_train_val_scaled, y_train_val)\n",
    "\n",
    "print(f'Logistic Regression TRAIN-VAL accuracy: {lr.score(X_train_val_scaled, y_train_val):.5f}')\n",
    "print(f'Logistic Regression TEST accuracy: {lr.score(X_test_scaled, y_test):.5f}')"
   ]
  },
  {
   "cell_type": "code",
   "execution_count": 12,
   "metadata": {},
   "outputs": [
    {
     "name": "stdout",
     "output_type": "stream",
     "text": [
      "              precision    recall  f1-score   support\n",
      "\n",
      "           0       0.81      0.75      0.78       400\n",
      "           1       0.60      0.68      0.64       223\n",
      "\n",
      "    accuracy                           0.72       623\n",
      "   macro avg       0.70      0.71      0.71       623\n",
      "weighted avg       0.73      0.72      0.73       623\n",
      "\n"
     ]
    }
   ],
   "source": [
    "y_preds_test = lr.predict(X_test_scaled)\n",
    "\n",
    "print(classification_report(y_test, y_preds_test))"
   ]
  },
  {
   "cell_type": "code",
   "execution_count": 13,
   "metadata": {
    "scrolled": false
   },
   "outputs": [
    {
     "data": {
      "image/png": "[encoded data removed]",
      "text/plain": [
       "<Figure size 504x504 with 2 Axes>"
      ]
     },
     "metadata": {
      "needs_background": "light"
     },
     "output_type": "display_data"
    }
   ],
   "source": [
    "fig, ax = plt.subplots(figsize=(7, 7))\n",
    "plot_confusion_matrix(lr, X_test_scaled, y_test, ax=ax);"
   ]
  },
  {
   "cell_type": "markdown",
   "metadata": {},
   "source": [
    "#### Let's plot the ROC curve and look at AUC in order to determine more about model effectiveness, compared to our KNN model in our other notebook (Model-KNN)"
   ]
  },
  {
   "cell_type": "code",
   "execution_count": 36,
   "metadata": {},
   "outputs": [
    {
     "data": {
      "text/plain": [
       "<Figure size 1080x1080 with 0 Axes>"
      ]
     },
     "metadata": {},
     "output_type": "display_data"
    },
    {
     "data": {
      "image/png": "[encoded data removed]",
      "text/plain": [
       "<Figure size 432x288 with 1 Axes>"
      ]
     },
     "metadata": {
      "needs_background": "light"
     },
     "output_type": "display_data"
    }
   ],
   "source": [
    "plt.figure(figsize=(15, 15))\n",
    "plot_roc_curve(lr, X_test_scaled, y_test)\n",
    "plt.show();\n"
   ]
  },
  {
   "cell_type": "markdown",
   "metadata": {},
   "source": [
    "### Look at predictions"
   ]
  },
  {
   "cell_type": "code",
   "execution_count": 25,
   "metadata": {},
   "outputs": [],
   "source": [
    "X_test_pred_df = X_test.copy()"
   ]
  },
  {
   "cell_type": "code",
   "execution_count": 27,
   "metadata": {},
   "outputs": [
    {
     "data": {
      "text/html": [
       "<div>\n",
       "<style scoped>\n",
       "    .dataframe tbody tr th:only-of-type {\n",
       "        vertical-align: middle;\n",
       "    }\n",
       "\n",
       "    .dataframe tbody tr th {\n",
       "        vertical-align: top;\n",
       "    }\n",
       "\n",
       "    .dataframe thead th {\n",
       "        text-align: right;\n",
       "    }\n",
       "</style>\n",
       "<table border=\"1\" class=\"dataframe\">\n",
       "  <thead>\n",
       "    <tr style=\"text-align: right;\">\n",
       "      <th></th>\n",
       "      <th>poverty</th>\n",
       "      <th>fin_assets_30</th>\n",
       "      <th>debts_30</th>\n",
       "      <th>income_wage_compiled</th>\n",
       "      <th>income_bus_compiled</th>\n",
       "      <th>homeowner_pred</th>\n",
       "      <th>homeowner</th>\n",
       "    </tr>\n",
       "  </thead>\n",
       "  <tbody>\n",
       "    <tr>\n",
       "      <th>3391</th>\n",
       "      <td>10.48</td>\n",
       "      <td>135000</td>\n",
       "      <td>0</td>\n",
       "      <td>6</td>\n",
       "      <td>0</td>\n",
       "      <td>1</td>\n",
       "      <td>0</td>\n",
       "    </tr>\n",
       "    <tr>\n",
       "      <th>1289</th>\n",
       "      <td>5.44</td>\n",
       "      <td>17000</td>\n",
       "      <td>46000</td>\n",
       "      <td>5</td>\n",
       "      <td>0</td>\n",
       "      <td>1</td>\n",
       "      <td>1</td>\n",
       "    </tr>\n",
       "    <tr>\n",
       "      <th>226</th>\n",
       "      <td>3.29</td>\n",
       "      <td>1000</td>\n",
       "      <td>2000</td>\n",
       "      <td>3</td>\n",
       "      <td>0</td>\n",
       "      <td>0</td>\n",
       "      <td>0</td>\n",
       "    </tr>\n",
       "    <tr>\n",
       "      <th>375</th>\n",
       "      <td>2.54</td>\n",
       "      <td>600</td>\n",
       "      <td>24200</td>\n",
       "      <td>5</td>\n",
       "      <td>0</td>\n",
       "      <td>1</td>\n",
       "      <td>0</td>\n",
       "    </tr>\n",
       "    <tr>\n",
       "      <th>487</th>\n",
       "      <td>5.88</td>\n",
       "      <td>27000</td>\n",
       "      <td>0</td>\n",
       "      <td>6</td>\n",
       "      <td>0</td>\n",
       "      <td>1</td>\n",
       "      <td>0</td>\n",
       "    </tr>\n",
       "    <tr>\n",
       "      <th>...</th>\n",
       "      <td>...</td>\n",
       "      <td>...</td>\n",
       "      <td>...</td>\n",
       "      <td>...</td>\n",
       "      <td>...</td>\n",
       "      <td>...</td>\n",
       "      <td>...</td>\n",
       "    </tr>\n",
       "    <tr>\n",
       "      <th>3003</th>\n",
       "      <td>0.54</td>\n",
       "      <td>2600</td>\n",
       "      <td>80164</td>\n",
       "      <td>2</td>\n",
       "      <td>0</td>\n",
       "      <td>0</td>\n",
       "      <td>0</td>\n",
       "    </tr>\n",
       "    <tr>\n",
       "      <th>2853</th>\n",
       "      <td>1.04</td>\n",
       "      <td>1920</td>\n",
       "      <td>0</td>\n",
       "      <td>3</td>\n",
       "      <td>2</td>\n",
       "      <td>0</td>\n",
       "      <td>0</td>\n",
       "    </tr>\n",
       "    <tr>\n",
       "      <th>1300</th>\n",
       "      <td>0.47</td>\n",
       "      <td>365</td>\n",
       "      <td>7000</td>\n",
       "      <td>1</td>\n",
       "      <td>0</td>\n",
       "      <td>0</td>\n",
       "      <td>0</td>\n",
       "    </tr>\n",
       "    <tr>\n",
       "      <th>1284</th>\n",
       "      <td>2.34</td>\n",
       "      <td>1000</td>\n",
       "      <td>0</td>\n",
       "      <td>4</td>\n",
       "      <td>0</td>\n",
       "      <td>0</td>\n",
       "      <td>0</td>\n",
       "    </tr>\n",
       "    <tr>\n",
       "      <th>2383</th>\n",
       "      <td>4.81</td>\n",
       "      <td>500</td>\n",
       "      <td>7000</td>\n",
       "      <td>5</td>\n",
       "      <td>0</td>\n",
       "      <td>0</td>\n",
       "      <td>0</td>\n",
       "    </tr>\n",
       "  </tbody>\n",
       "</table>\n",
       "<p>623 rows × 7 columns</p>\n",
       "</div>"
      ],
      "text/plain": [
       "      poverty  fin_assets_30  debts_30  income_wage_compiled  \\\n",
       "3391    10.48         135000         0                     6   \n",
       "1289     5.44          17000     46000                     5   \n",
       "226      3.29           1000      2000                     3   \n",
       "375      2.54            600     24200                     5   \n",
       "487      5.88          27000         0                     6   \n",
       "...       ...            ...       ...                   ...   \n",
       "3003     0.54           2600     80164                     2   \n",
       "2853     1.04           1920         0                     3   \n",
       "1300     0.47            365      7000                     1   \n",
       "1284     2.34           1000         0                     4   \n",
       "2383     4.81            500      7000                     5   \n",
       "\n",
       "      income_bus_compiled  homeowner_pred  homeowner  \n",
       "3391                    0               1          0  \n",
       "1289                    0               1          1  \n",
       "226                     0               0          0  \n",
       "375                     0               1          0  \n",
       "487                     0               1          0  \n",
       "...                   ...             ...        ...  \n",
       "3003                    0               0          0  \n",
       "2853                    2               0          0  \n",
       "1300                    0               0          0  \n",
       "1284                    0               0          0  \n",
       "2383                    0               0          0  \n",
       "\n",
       "[623 rows x 7 columns]"
      ]
     },
     "execution_count": 27,
     "metadata": {},
     "output_type": "execute_result"
    }
   ],
   "source": [
    "#add in new column for our predictions\n",
    "X_test_pred_df['homeowner_pred'] = y_preds_test"
   ]
  },
  {
   "cell_type": "code",
   "execution_count": 29,
   "metadata": {},
   "outputs": [],
   "source": [
    "#add back in our actual Y values\n",
    "X_test_pred_df = X_test_pred_df.join(y_test)"
   ]
  },
  {
   "cell_type": "code",
   "execution_count": 31,
   "metadata": {},
   "outputs": [
    {
     "data": {
      "text/html": [
       "<div>\n",
       "<style scoped>\n",
       "    .dataframe tbody tr th:only-of-type {\n",
       "        vertical-align: middle;\n",
       "    }\n",
       "\n",
       "    .dataframe tbody tr th {\n",
       "        vertical-align: top;\n",
       "    }\n",
       "\n",
       "    .dataframe thead th {\n",
       "        text-align: right;\n",
       "    }\n",
       "</style>\n",
       "<table border=\"1\" class=\"dataframe\">\n",
       "  <thead>\n",
       "    <tr style=\"text-align: right;\">\n",
       "      <th></th>\n",
       "      <th>poverty</th>\n",
       "      <th>fin_assets_30</th>\n",
       "      <th>debts_30</th>\n",
       "      <th>income_wage_compiled</th>\n",
       "      <th>income_bus_compiled</th>\n",
       "      <th>homeowner_pred</th>\n",
       "      <th>homeowner</th>\n",
       "    </tr>\n",
       "  </thead>\n",
       "  <tbody>\n",
       "    <tr>\n",
       "      <th>count</th>\n",
       "      <td>101.000000</td>\n",
       "      <td>101.000000</td>\n",
       "      <td>101.000000</td>\n",
       "      <td>101.000000</td>\n",
       "      <td>101.000000</td>\n",
       "      <td>101.0</td>\n",
       "      <td>101.0</td>\n",
       "    </tr>\n",
       "    <tr>\n",
       "      <th>mean</th>\n",
       "      <td>5.728911</td>\n",
       "      <td>31661.247525</td>\n",
       "      <td>36087.772277</td>\n",
       "      <td>4.871287</td>\n",
       "      <td>0.158416</td>\n",
       "      <td>1.0</td>\n",
       "      <td>0.0</td>\n",
       "    </tr>\n",
       "    <tr>\n",
       "      <th>std</th>\n",
       "      <td>4.562888</td>\n",
       "      <td>34199.560246</td>\n",
       "      <td>49411.290676</td>\n",
       "      <td>0.757144</td>\n",
       "      <td>0.758059</td>\n",
       "      <td>0.0</td>\n",
       "      <td>0.0</td>\n",
       "    </tr>\n",
       "    <tr>\n",
       "      <th>min</th>\n",
       "      <td>1.030000</td>\n",
       "      <td>0.000000</td>\n",
       "      <td>0.000000</td>\n",
       "      <td>2.000000</td>\n",
       "      <td>0.000000</td>\n",
       "      <td>1.0</td>\n",
       "      <td>0.0</td>\n",
       "    </tr>\n",
       "    <tr>\n",
       "      <th>25%</th>\n",
       "      <td>3.420000</td>\n",
       "      <td>9200.000000</td>\n",
       "      <td>6000.000000</td>\n",
       "      <td>4.000000</td>\n",
       "      <td>0.000000</td>\n",
       "      <td>1.0</td>\n",
       "      <td>0.0</td>\n",
       "    </tr>\n",
       "    <tr>\n",
       "      <th>50%</th>\n",
       "      <td>4.710000</td>\n",
       "      <td>20000.000000</td>\n",
       "      <td>24000.000000</td>\n",
       "      <td>5.000000</td>\n",
       "      <td>0.000000</td>\n",
       "      <td>1.0</td>\n",
       "      <td>0.0</td>\n",
       "    </tr>\n",
       "    <tr>\n",
       "      <th>75%</th>\n",
       "      <td>6.190000</td>\n",
       "      <td>38000.000000</td>\n",
       "      <td>44000.000000</td>\n",
       "      <td>5.000000</td>\n",
       "      <td>0.000000</td>\n",
       "      <td>1.0</td>\n",
       "      <td>0.0</td>\n",
       "    </tr>\n",
       "    <tr>\n",
       "      <th>max</th>\n",
       "      <td>23.030000</td>\n",
       "      <td>160000.000000</td>\n",
       "      <td>360000.000000</td>\n",
       "      <td>6.000000</td>\n",
       "      <td>5.000000</td>\n",
       "      <td>1.0</td>\n",
       "      <td>0.0</td>\n",
       "    </tr>\n",
       "  </tbody>\n",
       "</table>\n",
       "</div>"
      ],
      "text/plain": [
       "          poverty  fin_assets_30       debts_30  income_wage_compiled  \\\n",
       "count  101.000000     101.000000     101.000000            101.000000   \n",
       "mean     5.728911   31661.247525   36087.772277              4.871287   \n",
       "std      4.562888   34199.560246   49411.290676              0.757144   \n",
       "min      1.030000       0.000000       0.000000              2.000000   \n",
       "25%      3.420000    9200.000000    6000.000000              4.000000   \n",
       "50%      4.710000   20000.000000   24000.000000              5.000000   \n",
       "75%      6.190000   38000.000000   44000.000000              5.000000   \n",
       "max     23.030000  160000.000000  360000.000000              6.000000   \n",
       "\n",
       "       income_bus_compiled  homeowner_pred  homeowner  \n",
       "count           101.000000           101.0      101.0  \n",
       "mean              0.158416             1.0        0.0  \n",
       "std               0.758059             0.0        0.0  \n",
       "min               0.000000             1.0        0.0  \n",
       "25%               0.000000             1.0        0.0  \n",
       "50%               0.000000             1.0        0.0  \n",
       "75%               0.000000             1.0        0.0  \n",
       "max               5.000000             1.0        0.0  "
      ]
     },
     "execution_count": 31,
     "metadata": {},
     "output_type": "execute_result"
    }
   ],
   "source": [
    "false_positives = X_test_pred_df[(X_test_pred_df['homeowner_pred'] == 1) & (X_test_pred_df['homeowner'] == 0)]\n",
    "false_positives.describe()"
   ]
  },
  {
   "cell_type": "code",
   "execution_count": 30,
   "metadata": {},
   "outputs": [
    {
     "data": {
      "text/html": [
       "<div>\n",
       "<style scoped>\n",
       "    .dataframe tbody tr th:only-of-type {\n",
       "        vertical-align: middle;\n",
       "    }\n",
       "\n",
       "    .dataframe tbody tr th {\n",
       "        vertical-align: top;\n",
       "    }\n",
       "\n",
       "    .dataframe thead th {\n",
       "        text-align: right;\n",
       "    }\n",
       "</style>\n",
       "<table border=\"1\" class=\"dataframe\">\n",
       "  <thead>\n",
       "    <tr style=\"text-align: right;\">\n",
       "      <th></th>\n",
       "      <th>poverty</th>\n",
       "      <th>fin_assets_30</th>\n",
       "      <th>debts_30</th>\n",
       "      <th>income_wage_compiled</th>\n",
       "      <th>income_bus_compiled</th>\n",
       "      <th>homeowner_pred</th>\n",
       "      <th>homeowner</th>\n",
       "    </tr>\n",
       "  </thead>\n",
       "  <tbody>\n",
       "    <tr>\n",
       "      <th>count</th>\n",
       "      <td>71.000000</td>\n",
       "      <td>71.000000</td>\n",
       "      <td>71.00000</td>\n",
       "      <td>71.000000</td>\n",
       "      <td>71.000000</td>\n",
       "      <td>71.0</td>\n",
       "      <td>71.0</td>\n",
       "    </tr>\n",
       "    <tr>\n",
       "      <th>mean</th>\n",
       "      <td>3.758310</td>\n",
       "      <td>9776.915493</td>\n",
       "      <td>12668.28169</td>\n",
       "      <td>3.507042</td>\n",
       "      <td>0.239437</td>\n",
       "      <td>0.0</td>\n",
       "      <td>1.0</td>\n",
       "    </tr>\n",
       "    <tr>\n",
       "      <th>std</th>\n",
       "      <td>3.849758</td>\n",
       "      <td>15808.233463</td>\n",
       "      <td>15867.09108</td>\n",
       "      <td>1.132295</td>\n",
       "      <td>0.932964</td>\n",
       "      <td>0.0</td>\n",
       "      <td>0.0</td>\n",
       "    </tr>\n",
       "    <tr>\n",
       "      <th>min</th>\n",
       "      <td>0.050000</td>\n",
       "      <td>0.000000</td>\n",
       "      <td>0.00000</td>\n",
       "      <td>0.000000</td>\n",
       "      <td>0.000000</td>\n",
       "      <td>0.0</td>\n",
       "      <td>1.0</td>\n",
       "    </tr>\n",
       "    <tr>\n",
       "      <th>25%</th>\n",
       "      <td>2.055000</td>\n",
       "      <td>700.000000</td>\n",
       "      <td>0.00000</td>\n",
       "      <td>3.000000</td>\n",
       "      <td>0.000000</td>\n",
       "      <td>0.0</td>\n",
       "      <td>1.0</td>\n",
       "    </tr>\n",
       "    <tr>\n",
       "      <th>50%</th>\n",
       "      <td>2.880000</td>\n",
       "      <td>3800.000000</td>\n",
       "      <td>7000.00000</td>\n",
       "      <td>4.000000</td>\n",
       "      <td>0.000000</td>\n",
       "      <td>0.0</td>\n",
       "      <td>1.0</td>\n",
       "    </tr>\n",
       "    <tr>\n",
       "      <th>75%</th>\n",
       "      <td>4.125000</td>\n",
       "      <td>10000.000000</td>\n",
       "      <td>17000.00000</td>\n",
       "      <td>4.000000</td>\n",
       "      <td>0.000000</td>\n",
       "      <td>0.0</td>\n",
       "      <td>1.0</td>\n",
       "    </tr>\n",
       "    <tr>\n",
       "      <th>max</th>\n",
       "      <td>23.030000</td>\n",
       "      <td>88000.000000</td>\n",
       "      <td>71800.00000</td>\n",
       "      <td>5.000000</td>\n",
       "      <td>6.000000</td>\n",
       "      <td>0.0</td>\n",
       "      <td>1.0</td>\n",
       "    </tr>\n",
       "  </tbody>\n",
       "</table>\n",
       "</div>"
      ],
      "text/plain": [
       "         poverty  fin_assets_30     debts_30  income_wage_compiled  \\\n",
       "count  71.000000      71.000000     71.00000             71.000000   \n",
       "mean    3.758310    9776.915493  12668.28169              3.507042   \n",
       "std     3.849758   15808.233463  15867.09108              1.132295   \n",
       "min     0.050000       0.000000      0.00000              0.000000   \n",
       "25%     2.055000     700.000000      0.00000              3.000000   \n",
       "50%     2.880000    3800.000000   7000.00000              4.000000   \n",
       "75%     4.125000   10000.000000  17000.00000              4.000000   \n",
       "max    23.030000   88000.000000  71800.00000              5.000000   \n",
       "\n",
       "       income_bus_compiled  homeowner_pred  homeowner  \n",
       "count            71.000000            71.0       71.0  \n",
       "mean              0.239437             0.0        1.0  \n",
       "std               0.932964             0.0        0.0  \n",
       "min               0.000000             0.0        1.0  \n",
       "25%               0.000000             0.0        1.0  \n",
       "50%               0.000000             0.0        1.0  \n",
       "75%               0.000000             0.0        1.0  \n",
       "max               6.000000             0.0        1.0  "
      ]
     },
     "execution_count": 30,
     "metadata": {},
     "output_type": "execute_result"
    }
   ],
   "source": [
    "false_negatives = X_test_pred_df[(X_test_pred_df['homeowner_pred'] == 0) & (X_test_pred_df['homeowner'] == 1)]\n",
    "false_negatives.describe()"
   ]
  },
  {
   "cell_type": "code",
   "execution_count": null,
   "metadata": {},
   "outputs": [],
   "source": []
  }
 ],
 "metadata": {
  "kernelspec": {
   "display_name": "Python [conda env:metis] *",
   "language": "python",
   "name": "conda-env-metis-py"
  },
  "language_info": {
   "codemirror_mode": {
    "name": "ipython",
    "version": 3
   },
   "file_extension": ".py",
   "mimetype": "text/x-python",
   "name": "python",
   "nbconvert_exporter": "python",
   "pygments_lexer": "ipython3",
   "version": "3.8.5"
  }
 },
 "nbformat": 4,
 "nbformat_minor": 4
}
