{
 "cells": [
  {
   "cell_type": "markdown",
   "metadata": {},
   "source": [
    "## KNN - Financial Features Only "
   ]
  },
  {
   "cell_type": "code",
   "execution_count": 1,
   "metadata": {},
   "outputs": [],
   "source": [
    "# import necessary libraries\n",
    "import pandas as pd\n",
    "import matplotlib.pyplot as plt\n",
    "import scipy.stats as scs\n",
    "import numpy as np\n",
    "\n",
    "#from sklearn.linear_model import LogisticRegression, LogisticRegressionCV\n",
    "from sklearn.neighbors import KNeighborsClassifier\n",
    "from sklearn.model_selection import train_test_split\n",
    "from sklearn.preprocessing import StandardScaler\n",
    "#from visualize import generate_moons_df, preprocess, plot_boundaries\n",
    "\n",
    "from sklearn.datasets import make_classification\n",
    "from sklearn.metrics import plot_confusion_matrix, plot_roc_curve, classification_report"
   ]
  },
  {
   "cell_type": "code",
   "execution_count": 2,
   "metadata": {},
   "outputs": [
    {
     "data": {
      "text/html": [
       "<div>\n",
       "<style scoped>\n",
       "    .dataframe tbody tr th:only-of-type {\n",
       "        vertical-align: middle;\n",
       "    }\n",
       "\n",
       "    .dataframe tbody tr th {\n",
       "        vertical-align: top;\n",
       "    }\n",
       "\n",
       "    .dataframe thead th {\n",
       "        text-align: right;\n",
       "    }\n",
       "</style>\n",
       "<table border=\"1\" class=\"dataframe\">\n",
       "  <thead>\n",
       "    <tr style=\"text-align: right;\">\n",
       "      <th></th>\n",
       "      <th>id</th>\n",
       "      <th>poverty</th>\n",
       "      <th>homeowner</th>\n",
       "      <th>fin_assets_30</th>\n",
       "      <th>debts_30</th>\n",
       "      <th>income_wage_compiled</th>\n",
       "      <th>income_bus_compiled</th>\n",
       "    </tr>\n",
       "  </thead>\n",
       "  <tbody>\n",
       "    <tr>\n",
       "      <th>0</th>\n",
       "      <td>4</td>\n",
       "      <td>1.79</td>\n",
       "      <td>0</td>\n",
       "      <td>0</td>\n",
       "      <td>0</td>\n",
       "      <td>4</td>\n",
       "      <td>0</td>\n",
       "    </tr>\n",
       "    <tr>\n",
       "      <th>1</th>\n",
       "      <td>5</td>\n",
       "      <td>8.71</td>\n",
       "      <td>1</td>\n",
       "      <td>144000</td>\n",
       "      <td>9000</td>\n",
       "      <td>6</td>\n",
       "      <td>0</td>\n",
       "    </tr>\n",
       "    <tr>\n",
       "      <th>2</th>\n",
       "      <td>6</td>\n",
       "      <td>2.26</td>\n",
       "      <td>0</td>\n",
       "      <td>3500</td>\n",
       "      <td>1000</td>\n",
       "      <td>3</td>\n",
       "      <td>0</td>\n",
       "    </tr>\n",
       "    <tr>\n",
       "      <th>3</th>\n",
       "      <td>10</td>\n",
       "      <td>9.06</td>\n",
       "      <td>0</td>\n",
       "      <td>185000</td>\n",
       "      <td>96500</td>\n",
       "      <td>5</td>\n",
       "      <td>0</td>\n",
       "    </tr>\n",
       "    <tr>\n",
       "      <th>4</th>\n",
       "      <td>11</td>\n",
       "      <td>3.99</td>\n",
       "      <td>0</td>\n",
       "      <td>3000</td>\n",
       "      <td>62500</td>\n",
       "      <td>4</td>\n",
       "      <td>0</td>\n",
       "    </tr>\n",
       "    <tr>\n",
       "      <th>...</th>\n",
       "      <td>...</td>\n",
       "      <td>...</td>\n",
       "      <td>...</td>\n",
       "      <td>...</td>\n",
       "      <td>...</td>\n",
       "      <td>...</td>\n",
       "      <td>...</td>\n",
       "    </tr>\n",
       "    <tr>\n",
       "      <th>3773</th>\n",
       "      <td>9013</td>\n",
       "      <td>1.40</td>\n",
       "      <td>0</td>\n",
       "      <td>1750</td>\n",
       "      <td>0</td>\n",
       "      <td>3</td>\n",
       "      <td>0</td>\n",
       "    </tr>\n",
       "    <tr>\n",
       "      <th>3774</th>\n",
       "      <td>9015</td>\n",
       "      <td>3.25</td>\n",
       "      <td>1</td>\n",
       "      <td>88176</td>\n",
       "      <td>55464</td>\n",
       "      <td>5</td>\n",
       "      <td>0</td>\n",
       "    </tr>\n",
       "    <tr>\n",
       "      <th>3775</th>\n",
       "      <td>9018</td>\n",
       "      <td>3.27</td>\n",
       "      <td>0</td>\n",
       "      <td>100</td>\n",
       "      <td>1200</td>\n",
       "      <td>3</td>\n",
       "      <td>0</td>\n",
       "    </tr>\n",
       "    <tr>\n",
       "      <th>3776</th>\n",
       "      <td>9019</td>\n",
       "      <td>4.98</td>\n",
       "      <td>0</td>\n",
       "      <td>400</td>\n",
       "      <td>17000</td>\n",
       "      <td>4</td>\n",
       "      <td>0</td>\n",
       "    </tr>\n",
       "    <tr>\n",
       "      <th>3777</th>\n",
       "      <td>9021</td>\n",
       "      <td>2.60</td>\n",
       "      <td>0</td>\n",
       "      <td>5000</td>\n",
       "      <td>0</td>\n",
       "      <td>4</td>\n",
       "      <td>0</td>\n",
       "    </tr>\n",
       "  </tbody>\n",
       "</table>\n",
       "<p>3113 rows × 7 columns</p>\n",
       "</div>"
      ],
      "text/plain": [
       "        id  poverty  homeowner  fin_assets_30  debts_30  income_wage_compiled  \\\n",
       "0        4     1.79          0              0         0                     4   \n",
       "1        5     8.71          1         144000      9000                     6   \n",
       "2        6     2.26          0           3500      1000                     3   \n",
       "3       10     9.06          0         185000     96500                     5   \n",
       "4       11     3.99          0           3000     62500                     4   \n",
       "...    ...      ...        ...            ...       ...                   ...   \n",
       "3773  9013     1.40          0           1750         0                     3   \n",
       "3774  9015     3.25          1          88176     55464                     5   \n",
       "3775  9018     3.27          0            100      1200                     3   \n",
       "3776  9019     4.98          0            400     17000                     4   \n",
       "3777  9021     2.60          0           5000         0                     4   \n",
       "\n",
       "      income_bus_compiled  \n",
       "0                       0  \n",
       "1                       0  \n",
       "2                       0  \n",
       "3                       0  \n",
       "4                       0  \n",
       "...                   ...  \n",
       "3773                    0  \n",
       "3774                    0  \n",
       "3775                    0  \n",
       "3776                    0  \n",
       "3777                    0  \n",
       "\n",
       "[3113 rows x 7 columns]"
      ]
     },
     "execution_count": 2,
     "metadata": {},
     "output_type": "execute_result"
    }
   ],
   "source": [
    "model_0 = pd.read_pickle('model_financial.pickle')\n",
    "model_0"
   ]
  },
  {
   "cell_type": "code",
   "execution_count": 3,
   "metadata": {},
   "outputs": [],
   "source": [
    "features = ['poverty', 'fin_assets_30', 'debts_30', 'income_wage_compiled', 'income_bus_compiled']\n",
    "\n",
    "X = model_0.loc[:, features]\n",
    "y = model_0['homeowner']"
   ]
  },
  {
   "cell_type": "code",
   "execution_count": 4,
   "metadata": {},
   "outputs": [],
   "source": [
    "X_train_val, X_test, y_train_val, y_test = train_test_split(X, y, test_size=0.2, random_state=7)\n",
    "X_train, X_val, y_train, y_val = train_test_split(X_train_val, y_train_val, test_size=0.25, random_state=3)"
   ]
  },
  {
   "cell_type": "markdown",
   "metadata": {},
   "source": [
    "### Neighbors = 5"
   ]
  },
  {
   "cell_type": "code",
   "execution_count": 5,
   "metadata": {},
   "outputs": [
    {
     "name": "stdout",
     "output_type": "stream",
     "text": [
      "knn TRAIN accuracy: 0.79539\n",
      "knn VAL accuracy: 0.69021\n"
     ]
    }
   ],
   "source": [
    "#set up KNN\n",
    "neighbors = 5\n",
    "knn_5 = KNeighborsClassifier(n_neighbors= neighbors )\n",
    "\n",
    "#Scale data\n",
    "ss = StandardScaler()\n",
    "#fit transform X train\n",
    "X_train_scaled = ss.fit_transform(X_train)\n",
    "#fit X val\n",
    "X_val_scaled = ss.transform(X_val)\n",
    "\n",
    "#fit the X train on KNN\n",
    "knn_5.fit(X_train_scaled, y_train)\n",
    "\n",
    "print(f'knn TRAIN accuracy: {knn_5.score(X_train_scaled, y_train):.5f}')\n",
    "print(f'knn VAL accuracy: {knn_5.score(X_val_scaled, y_val):.5f}')"
   ]
  },
  {
   "cell_type": "code",
   "execution_count": 6,
   "metadata": {},
   "outputs": [
    {
     "name": "stdout",
     "output_type": "stream",
     "text": [
      "              precision    recall  f1-score   support\n",
      "\n",
      "           0       0.75      0.79      0.77       413\n",
      "           1       0.54      0.50      0.52       210\n",
      "\n",
      "    accuracy                           0.69       623\n",
      "   macro avg       0.65      0.64      0.65       623\n",
      "weighted avg       0.68      0.69      0.69       623\n",
      "\n"
     ]
    }
   ],
   "source": [
    "y_preds = knn_5.predict(X_val_scaled)\n",
    "\n",
    "print(classification_report(y_val, y_preds))"
   ]
  },
  {
   "cell_type": "code",
   "execution_count": 7,
   "metadata": {
    "scrolled": true
   },
   "outputs": [
    {
     "data": {
      "image/png": "[encoded data removed]",
      "text/plain": [
       "<Figure size 504x504 with 2 Axes>"
      ]
     },
     "metadata": {
      "needs_background": "light"
     },
     "output_type": "display_data"
    }
   ],
   "source": [
    "fig, ax = plt.subplots(figsize=(7, 7))\n",
    "plot_confusion_matrix(knn_5, X_val_scaled, y_val, ax=ax);"
   ]
  },
  {
   "cell_type": "markdown",
   "metadata": {},
   "source": [
    "Compared to our linear regression model, we're seeing **fewer false negatives** and **more true positives**. \\\n",
    "However, we are also seeing **more false positives** and **fewer true negatives**\n",
    "#### We have lowered our threshold, thus trading precision for recall, and recall v precision is nicely balanced here, as indicated by our f1 score"
   ]
  },
  {
   "cell_type": "markdown",
   "metadata": {},
   "source": [
    "### Finding optimal n neighbors"
   ]
  },
  {
   "cell_type": "markdown",
   "metadata": {},
   "source": [
    "In the above model, we chose a random number for n neighbors, but let's plot out the optimal N value for accuracy"
   ]
  },
  {
   "cell_type": "code",
   "execution_count": 56,
   "metadata": {},
   "outputs": [
    {
     "name": "stdout",
     "output_type": "stream",
     "text": [
      "Maximum accuracy: 0.7174959871589085 at K = 19\n"
     ]
    },
    {
     "data": {
      "image/png": "[encoded data removed]",
      "text/plain": [
       "<Figure size 720x432 with 1 Axes>"
      ]
     },
     "metadata": {
      "needs_background": "light"
     },
     "output_type": "display_data"
    }
   ],
   "source": [
    "acc = []\n",
    "for i in range(1,50):\n",
    "    knn = KNeighborsClassifier(n_neighbors = i)\n",
    "    knn.fit(X_train_scaled, y_train)\n",
    "    acc.append(knn.score(X_val_scaled, y_val))\n",
    "\n",
    "plt.figure(figsize=(10,6))\n",
    "plt.plot(range(1,50),acc,color = 'blue',linestyle='dashed', \n",
    "         marker='o',markerfacecolor='red', markersize=10)\n",
    "plt.title('accuracy vs. K Value')\n",
    "plt.xlabel('K')\n",
    "plt.ylabel('Accuracy')\n",
    "print(\"Maximum accuracy:\",max(acc),\"at K =\",acc.index(max(acc)))"
   ]
  },
  {
   "cell_type": "markdown",
   "metadata": {},
   "source": [
    "Let's test out our optimal accuracy at n= 19 with a new model:"
   ]
  },
  {
   "cell_type": "markdown",
   "metadata": {},
   "source": [
    "### Neighbors = 19"
   ]
  },
  {
   "cell_type": "code",
   "execution_count": 13,
   "metadata": {},
   "outputs": [
    {
     "data": {
      "text/plain": [
       "KNeighborsClassifier(n_neighbors=19)"
      ]
     },
     "execution_count": 13,
     "metadata": {},
     "output_type": "execute_result"
    }
   ],
   "source": [
    "#set up KNN\n",
    "optimal = 19\n",
    "knn = KNeighborsClassifier(n_neighbors= optimal )\n",
    "\n",
    "#Scale data\n",
    "ss = StandardScaler()\n",
    "#fit transform X train\n",
    "X_train_scaled = ss.fit_transform(X_train)\n",
    "#fit X val\n",
    "X_val_scaled = ss.transform(X_val)\n",
    "\n",
    "#fit the X train on KNN model\n",
    "knn.fit(X_train_scaled, y_train)"
   ]
  },
  {
   "cell_type": "code",
   "execution_count": 14,
   "metadata": {},
   "outputs": [
    {
     "name": "stdout",
     "output_type": "stream",
     "text": [
      "              precision    recall  f1-score   support\n",
      "\n",
      "           0       0.75      0.84      0.79       413\n",
      "           1       0.59      0.45      0.51       210\n",
      "\n",
      "    accuracy                           0.71       623\n",
      "   macro avg       0.67      0.65      0.65       623\n",
      "weighted avg       0.70      0.71      0.70       623\n",
      "\n"
     ]
    }
   ],
   "source": [
    "y_preds = knn.predict(X_val_scaled)\n",
    "\n",
    "print(classification_report(y_val, y_preds))"
   ]
  },
  {
   "cell_type": "code",
   "execution_count": 15,
   "metadata": {
    "scrolled": true
   },
   "outputs": [
    {
     "data": {
      "image/png": "[encoded data removed]",
      "text/plain": [
       "<Figure size 504x504 with 2 Axes>"
      ]
     },
     "metadata": {
      "needs_background": "light"
     },
     "output_type": "display_data"
    }
   ],
   "source": [
    "fig, ax = plt.subplots(figsize=(7, 7))\n",
    "plot_confusion_matrix(knn, X_val_scaled, y_val, ax=ax);\n",
    "\n"
   ]
  },
  {
   "cell_type": "markdown",
   "metadata": {},
   "source": [
    "#### Test"
   ]
  },
  {
   "cell_type": "code",
   "execution_count": 17,
   "metadata": {},
   "outputs": [
    {
     "data": {
      "text/plain": [
       "KNeighborsClassifier(n_neighbors=19)"
      ]
     },
     "execution_count": 17,
     "metadata": {},
     "output_type": "execute_result"
    }
   ],
   "source": [
    "#set up KNN\n",
    "optimal = 19\n",
    "knn = KNeighborsClassifier(n_neighbors= optimal)\n",
    "\n",
    "#Scale data\n",
    "ss = StandardScaler()\n",
    "#fit transform X train-val\n",
    "X_train_val_scaled = ss.fit_transform(X_train_val)\n",
    "#fit X test\n",
    "X_test_scaled = ss.transform(X_test)\n",
    "\n",
    "#fit the X train-val on KNN model\n",
    "knn.fit(X_train_val_scaled, y_train_val)"
   ]
  },
  {
   "cell_type": "code",
   "execution_count": 18,
   "metadata": {},
   "outputs": [
    {
     "name": "stdout",
     "output_type": "stream",
     "text": [
      "              precision    recall  f1-score   support\n",
      "\n",
      "           0       0.76      0.83      0.80       400\n",
      "           1       0.65      0.54      0.59       223\n",
      "\n",
      "    accuracy                           0.73       623\n",
      "   macro avg       0.70      0.69      0.69       623\n",
      "weighted avg       0.72      0.73      0.72       623\n",
      "\n"
     ]
    }
   ],
   "source": [
    "y_preds = knn.predict(X_test_scaled)\n",
    "\n",
    "print(classification_report(y_test, y_preds))"
   ]
  },
  {
   "cell_type": "code",
   "execution_count": 19,
   "metadata": {},
   "outputs": [
    {
     "data": {
      "image/png": "[encoded data removed]",
      "text/plain": [
       "<Figure size 504x504 with 2 Axes>"
      ]
     },
     "metadata": {
      "needs_background": "light"
     },
     "output_type": "display_data"
    }
   ],
   "source": [
    "fig, ax = plt.subplots(figsize=(7, 7))\n",
    "plot_confusion_matrix(knn, X_val_scaled, y_val, ax=ax);"
   ]
  },
  {
   "cell_type": "markdown",
   "metadata": {},
   "source": [
    "Compared to our k = 5 model, we're seeing **fewer true positives** and **more false negatives**. \\\n",
    "However, we are also seeing **fewer false positives** and **more true negatives**\n",
    "#### We have raised our threshold, thus trading recall for precision, and so our f1 score is no longer as balanced as our k = 5 model, but still better than our logistic regression model"
   ]
  },
  {
   "cell_type": "code",
   "execution_count": 20,
   "metadata": {},
   "outputs": [
    {
     "data": {
      "text/plain": [
       "<Figure size 1080x1080 with 0 Axes>"
      ]
     },
     "metadata": {},
     "output_type": "display_data"
    },
    {
     "data": {
      "image/png": "[encoded data removed]",
      "text/plain": [
       "<Figure size 432x288 with 1 Axes>"
      ]
     },
     "metadata": {
      "needs_background": "light"
     },
     "output_type": "display_data"
    }
   ],
   "source": [
    "plt.figure(figsize=(15, 15))\n",
    "plot_roc_curve(knn, X_test_scaled, y_test)\n",
    "plt.show();"
   ]
  },
  {
   "cell_type": "markdown",
   "metadata": {},
   "source": [
    "#### Our ROC and AUC are not as good as the logistic regression model"
   ]
  },
  {
   "cell_type": "markdown",
   "metadata": {},
   "source": [
    "### Testing K = 5"
   ]
  },
  {
   "cell_type": "markdown",
   "metadata": {},
   "source": [
    "K = 5 is our best model currently based on our validation tests Let's test it."
   ]
  },
  {
   "cell_type": "code",
   "execution_count": 8,
   "metadata": {},
   "outputs": [
    {
     "name": "stdout",
     "output_type": "stream",
     "text": [
      "knn TRAIN-VAL accuracy: 0.78795\n",
      "knn TEST accuracy: 0.70787\n"
     ]
    }
   ],
   "source": [
    "#set up KNN \n",
    "neighbors = 5\n",
    "knn_5 = KNeighborsClassifier(n_neighbors= neighbors )\n",
    "\n",
    "#Scale data\n",
    "ss = StandardScaler()\n",
    "#fit transform X train-val\n",
    "X_train_val_scaled = ss.fit_transform(X_train_val)\n",
    "#fit X test\n",
    "X_test_scaled = ss.transform(X_test)\n",
    "\n",
    "#fit the X train-val on KNN model\n",
    "knn_5.fit(X_train_val_scaled, y_train_val)\n",
    "\n",
    "print(f'knn TRAIN-VAL accuracy: {knn_5.score(X_train_val_scaled, y_train_val):.5f}')\n",
    "print(f'knn TEST accuracy: {knn_5.score(X_test_scaled, y_test):.5f}')"
   ]
  },
  {
   "cell_type": "code",
   "execution_count": 9,
   "metadata": {},
   "outputs": [
    {
     "name": "stdout",
     "output_type": "stream",
     "text": [
      "              precision    recall  f1-score   support\n",
      "\n",
      "           0       0.77      0.77      0.77       400\n",
      "           1       0.59      0.59      0.59       223\n",
      "\n",
      "    accuracy                           0.71       623\n",
      "   macro avg       0.68      0.68      0.68       623\n",
      "weighted avg       0.71      0.71      0.71       623\n",
      "\n"
     ]
    }
   ],
   "source": [
    "y_test_preds = knn_5.predict(X_test_scaled)\n",
    "\n",
    "print(classification_report(y_test, y_test_preds))"
   ]
  },
  {
   "cell_type": "code",
   "execution_count": 10,
   "metadata": {
    "scrolled": true
   },
   "outputs": [
    {
     "data": {
      "image/png": "[encoded data removed]",
      "text/plain": [
       "<Figure size 504x504 with 2 Axes>"
      ]
     },
     "metadata": {
      "needs_background": "light"
     },
     "output_type": "display_data"
    }
   ],
   "source": [
    "fig, ax = plt.subplots(figsize=(7, 7))\n",
    "plot_confusion_matrix(knn_5, X_test_scaled, y_test, ax=ax);"
   ]
  },
  {
   "cell_type": "markdown",
   "metadata": {},
   "source": [
    "Our test looks even better than our validation round!"
   ]
  },
  {
   "cell_type": "code",
   "execution_count": 12,
   "metadata": {},
   "outputs": [
    {
     "data": {
      "text/plain": [
       "<Figure size 1080x1080 with 0 Axes>"
      ]
     },
     "metadata": {},
     "output_type": "display_data"
    },
    {
     "data": {
      "image/png": "[encoded data removed]",
      "text/plain": [
       "<Figure size 432x288 with 1 Axes>"
      ]
     },
     "metadata": {
      "needs_background": "light"
     },
     "output_type": "display_data"
    }
   ],
   "source": [
    "plt.figure(figsize=(15, 15))\n",
    "plot_roc_curve(knn_5, X_test_scaled, y_test)\n",
    "plt.show();"
   ]
  },
  {
   "cell_type": "markdown",
   "metadata": {},
   "source": [
    "#### Compared to our logistic regression model (in Model- Logistic Regression notebook), KNN's ROC and AUC doesn't plot as well. This is good to know."
   ]
  },
  {
   "cell_type": "code",
   "execution_count": 33,
   "metadata": {},
   "outputs": [],
   "source": [
    "X_test_pred_df = X_test.copy()"
   ]
  },
  {
   "cell_type": "code",
   "execution_count": 48,
   "metadata": {},
   "outputs": [],
   "source": [
    "#add in new column for our predictions\n",
    "X_test_pred_df['homeowner_pred'] = y_test_preds\n",
    "#add back in our actual Y values\n",
    "X_test_pred_df.join(y_test)\n"
   ]
  },
  {
   "cell_type": "code",
   "execution_count": 65,
   "metadata": {},
   "outputs": [],
   "source": [
    "#X_test_pred_df"
   ]
  },
  {
   "cell_type": "code",
   "execution_count": 63,
   "metadata": {},
   "outputs": [
    {
     "data": {
      "text/html": [
       "<div>\n",
       "<style scoped>\n",
       "    .dataframe tbody tr th:only-of-type {\n",
       "        vertical-align: middle;\n",
       "    }\n",
       "\n",
       "    .dataframe tbody tr th {\n",
       "        vertical-align: top;\n",
       "    }\n",
       "\n",
       "    .dataframe thead th {\n",
       "        text-align: right;\n",
       "    }\n",
       "</style>\n",
       "<table border=\"1\" class=\"dataframe\">\n",
       "  <thead>\n",
       "    <tr style=\"text-align: right;\">\n",
       "      <th></th>\n",
       "      <th>poverty</th>\n",
       "      <th>fin_assets_30</th>\n",
       "      <th>debts_30</th>\n",
       "      <th>income_wage_compiled</th>\n",
       "      <th>income_bus_compiled</th>\n",
       "      <th>homeowner_pred</th>\n",
       "      <th>homeowner</th>\n",
       "    </tr>\n",
       "  </thead>\n",
       "  <tbody>\n",
       "    <tr>\n",
       "      <th>count</th>\n",
       "      <td>91.000000</td>\n",
       "      <td>91.000000</td>\n",
       "      <td>91.000000</td>\n",
       "      <td>91.000000</td>\n",
       "      <td>91.000000</td>\n",
       "      <td>91.0</td>\n",
       "      <td>91.0</td>\n",
       "    </tr>\n",
       "    <tr>\n",
       "      <th>mean</th>\n",
       "      <td>5.216154</td>\n",
       "      <td>28077.252747</td>\n",
       "      <td>22661.197802</td>\n",
       "      <td>4.593407</td>\n",
       "      <td>0.197802</td>\n",
       "      <td>1.0</td>\n",
       "      <td>0.0</td>\n",
       "    </tr>\n",
       "    <tr>\n",
       "      <th>std</th>\n",
       "      <td>4.512615</td>\n",
       "      <td>33648.393253</td>\n",
       "      <td>21712.124598</td>\n",
       "      <td>0.930687</td>\n",
       "      <td>0.819482</td>\n",
       "      <td>0.0</td>\n",
       "      <td>0.0</td>\n",
       "    </tr>\n",
       "    <tr>\n",
       "      <th>min</th>\n",
       "      <td>0.910000</td>\n",
       "      <td>0.000000</td>\n",
       "      <td>0.000000</td>\n",
       "      <td>2.000000</td>\n",
       "      <td>0.000000</td>\n",
       "      <td>1.0</td>\n",
       "      <td>0.0</td>\n",
       "    </tr>\n",
       "    <tr>\n",
       "      <th>25%</th>\n",
       "      <td>2.815000</td>\n",
       "      <td>3700.000000</td>\n",
       "      <td>5000.000000</td>\n",
       "      <td>4.000000</td>\n",
       "      <td>0.000000</td>\n",
       "      <td>1.0</td>\n",
       "      <td>0.0</td>\n",
       "    </tr>\n",
       "    <tr>\n",
       "      <th>50%</th>\n",
       "      <td>4.120000</td>\n",
       "      <td>17060.000000</td>\n",
       "      <td>15600.000000</td>\n",
       "      <td>5.000000</td>\n",
       "      <td>0.000000</td>\n",
       "      <td>1.0</td>\n",
       "      <td>0.0</td>\n",
       "    </tr>\n",
       "    <tr>\n",
       "      <th>75%</th>\n",
       "      <td>5.700000</td>\n",
       "      <td>37200.000000</td>\n",
       "      <td>37000.000000</td>\n",
       "      <td>5.000000</td>\n",
       "      <td>0.000000</td>\n",
       "      <td>1.0</td>\n",
       "      <td>0.0</td>\n",
       "    </tr>\n",
       "    <tr>\n",
       "      <th>max</th>\n",
       "      <td>23.030000</td>\n",
       "      <td>160000.000000</td>\n",
       "      <td>100000.000000</td>\n",
       "      <td>6.000000</td>\n",
       "      <td>5.000000</td>\n",
       "      <td>1.0</td>\n",
       "      <td>0.0</td>\n",
       "    </tr>\n",
       "  </tbody>\n",
       "</table>\n",
       "</div>"
      ],
      "text/plain": [
       "         poverty  fin_assets_30       debts_30  income_wage_compiled  \\\n",
       "count  91.000000      91.000000      91.000000             91.000000   \n",
       "mean    5.216154   28077.252747   22661.197802              4.593407   \n",
       "std     4.512615   33648.393253   21712.124598              0.930687   \n",
       "min     0.910000       0.000000       0.000000              2.000000   \n",
       "25%     2.815000    3700.000000    5000.000000              4.000000   \n",
       "50%     4.120000   17060.000000   15600.000000              5.000000   \n",
       "75%     5.700000   37200.000000   37000.000000              5.000000   \n",
       "max    23.030000  160000.000000  100000.000000              6.000000   \n",
       "\n",
       "       income_bus_compiled  homeowner_pred  homeowner  \n",
       "count            91.000000            91.0       91.0  \n",
       "mean              0.197802             1.0        0.0  \n",
       "std               0.819482             0.0        0.0  \n",
       "min               0.000000             1.0        0.0  \n",
       "25%               0.000000             1.0        0.0  \n",
       "50%               0.000000             1.0        0.0  \n",
       "75%               0.000000             1.0        0.0  \n",
       "max               5.000000             1.0        0.0  "
      ]
     },
     "execution_count": 63,
     "metadata": {},
     "output_type": "execute_result"
    }
   ],
   "source": [
    "false_positives = X_test_pred_df[(X_test_pred_df['homeowner_pred'] == 1) & (X_test_pred_df['homeowner'] == 0)]\n",
    "false_positives.describe()"
   ]
  },
  {
   "cell_type": "code",
   "execution_count": 64,
   "metadata": {},
   "outputs": [
    {
     "data": {
      "text/html": [
       "<div>\n",
       "<style scoped>\n",
       "    .dataframe tbody tr th:only-of-type {\n",
       "        vertical-align: middle;\n",
       "    }\n",
       "\n",
       "    .dataframe tbody tr th {\n",
       "        vertical-align: top;\n",
       "    }\n",
       "\n",
       "    .dataframe thead th {\n",
       "        text-align: right;\n",
       "    }\n",
       "</style>\n",
       "<table border=\"1\" class=\"dataframe\">\n",
       "  <thead>\n",
       "    <tr style=\"text-align: right;\">\n",
       "      <th></th>\n",
       "      <th>poverty</th>\n",
       "      <th>fin_assets_30</th>\n",
       "      <th>debts_30</th>\n",
       "      <th>income_wage_compiled</th>\n",
       "      <th>income_bus_compiled</th>\n",
       "      <th>homeowner_pred</th>\n",
       "      <th>homeowner</th>\n",
       "    </tr>\n",
       "  </thead>\n",
       "  <tbody>\n",
       "    <tr>\n",
       "      <th>count</th>\n",
       "      <td>91.000000</td>\n",
       "      <td>91.000000</td>\n",
       "      <td>91.000000</td>\n",
       "      <td>91.000000</td>\n",
       "      <td>91.000000</td>\n",
       "      <td>91.0</td>\n",
       "      <td>91.0</td>\n",
       "    </tr>\n",
       "    <tr>\n",
       "      <th>mean</th>\n",
       "      <td>4.215385</td>\n",
       "      <td>26920.901099</td>\n",
       "      <td>22736.263736</td>\n",
       "      <td>3.978022</td>\n",
       "      <td>0.153846</td>\n",
       "      <td>0.0</td>\n",
       "      <td>1.0</td>\n",
       "    </tr>\n",
       "    <tr>\n",
       "      <th>std</th>\n",
       "      <td>4.117312</td>\n",
       "      <td>52799.543059</td>\n",
       "      <td>35071.895258</td>\n",
       "      <td>1.192365</td>\n",
       "      <td>0.681878</td>\n",
       "      <td>0.0</td>\n",
       "      <td>0.0</td>\n",
       "    </tr>\n",
       "    <tr>\n",
       "      <th>min</th>\n",
       "      <td>0.050000</td>\n",
       "      <td>0.000000</td>\n",
       "      <td>0.000000</td>\n",
       "      <td>0.000000</td>\n",
       "      <td>0.000000</td>\n",
       "      <td>0.0</td>\n",
       "      <td>1.0</td>\n",
       "    </tr>\n",
       "    <tr>\n",
       "      <th>25%</th>\n",
       "      <td>2.440000</td>\n",
       "      <td>2250.000000</td>\n",
       "      <td>0.000000</td>\n",
       "      <td>4.000000</td>\n",
       "      <td>0.000000</td>\n",
       "      <td>0.0</td>\n",
       "      <td>1.0</td>\n",
       "    </tr>\n",
       "    <tr>\n",
       "      <th>50%</th>\n",
       "      <td>3.330000</td>\n",
       "      <td>9500.000000</td>\n",
       "      <td>10000.000000</td>\n",
       "      <td>4.000000</td>\n",
       "      <td>0.000000</td>\n",
       "      <td>0.0</td>\n",
       "      <td>1.0</td>\n",
       "    </tr>\n",
       "    <tr>\n",
       "      <th>75%</th>\n",
       "      <td>4.350000</td>\n",
       "      <td>23750.000000</td>\n",
       "      <td>29000.000000</td>\n",
       "      <td>5.000000</td>\n",
       "      <td>0.000000</td>\n",
       "      <td>0.0</td>\n",
       "      <td>1.0</td>\n",
       "    </tr>\n",
       "    <tr>\n",
       "      <th>max</th>\n",
       "      <td>23.030000</td>\n",
       "      <td>300000.000000</td>\n",
       "      <td>206000.000000</td>\n",
       "      <td>7.000000</td>\n",
       "      <td>4.000000</td>\n",
       "      <td>0.0</td>\n",
       "      <td>1.0</td>\n",
       "    </tr>\n",
       "  </tbody>\n",
       "</table>\n",
       "</div>"
      ],
      "text/plain": [
       "         poverty  fin_assets_30       debts_30  income_wage_compiled  \\\n",
       "count  91.000000      91.000000      91.000000             91.000000   \n",
       "mean    4.215385   26920.901099   22736.263736              3.978022   \n",
       "std     4.117312   52799.543059   35071.895258              1.192365   \n",
       "min     0.050000       0.000000       0.000000              0.000000   \n",
       "25%     2.440000    2250.000000       0.000000              4.000000   \n",
       "50%     3.330000    9500.000000   10000.000000              4.000000   \n",
       "75%     4.350000   23750.000000   29000.000000              5.000000   \n",
       "max    23.030000  300000.000000  206000.000000              7.000000   \n",
       "\n",
       "       income_bus_compiled  homeowner_pred  homeowner  \n",
       "count            91.000000            91.0       91.0  \n",
       "mean              0.153846             0.0        1.0  \n",
       "std               0.681878             0.0        0.0  \n",
       "min               0.000000             0.0        1.0  \n",
       "25%               0.000000             0.0        1.0  \n",
       "50%               0.000000             0.0        1.0  \n",
       "75%               0.000000             0.0        1.0  \n",
       "max               4.000000             0.0        1.0  "
      ]
     },
     "execution_count": 64,
     "metadata": {},
     "output_type": "execute_result"
    }
   ],
   "source": [
    "false_negatives = X_test_pred_df[(X_test_pred_df['homeowner_pred'] == 0) & (X_test_pred_df['homeowner'] == 1)]\n",
    "false_negatives.describe()"
   ]
  },
  {
   "cell_type": "markdown",
   "metadata": {},
   "source": [
    "We have an **equal number of false positives and false negatives.** \n",
    "There also aren't large differences in the  means for each feature column for both sets, though there are higher standard deviations for false negatives in the fin_assets_30, debts_30, and income_wage categories. \n",
    "\n",
    "**We need to add more features in order to improve our model.** We already have several demographic and geographic features on hand, which will be our next step!"
   ]
  },
  {
   "cell_type": "code",
   "execution_count": null,
   "metadata": {},
   "outputs": [],
   "source": []
  }
 ],
 "metadata": {
  "kernelspec": {
   "display_name": "Python 3",
   "language": "python",
   "name": "python3"
  },
  "language_info": {
   "codemirror_mode": {
    "name": "ipython",
    "version": 3
   },
   "file_extension": ".py",
   "mimetype": "text/x-python",
   "name": "python",
   "nbconvert_exporter": "python",
   "pygments_lexer": "ipython3",
   "version": "3.8.5"
  }
 },
 "nbformat": 4,
 "nbformat_minor": 4
}
