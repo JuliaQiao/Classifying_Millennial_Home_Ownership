{
 "cells": [
  {
   "cell_type": "markdown",
   "metadata": {},
   "source": [
    "## Data Exploration and Cleaning"
   ]
  },
  {
   "source": [
    "In this notebook, we will be using SQL for initial data exploration, filtering, and variable selection (in the case of duplicate variables pulled from the study). <br/>\n",
    "\n",
    "We will be using Pandas and Numpy for more detailed data cleaning, imputation, decoding and re-encoding the variables from the study into relevant features, and feature engineering.\n",
    "\n",
    "Note: most of the functions used in the notebook will be found in the EDA_Functions.py file."
   ],
   "cell_type": "markdown",
   "metadata": {}
  },
  {
   "cell_type": "markdown",
   "metadata": {},
   "source": [
    "### Importing Database"
   ]
  },
  {
   "cell_type": "code",
   "execution_count": 3,
   "metadata": {},
   "outputs": [],
   "source": [
    "# Get pandas and postgres to work together\n",
    "import psycopg2 as pg\n",
    "import pandas as pd\n",
    "import pandas.io.sql as pd_sql\n",
    "import numpy as np\n",
    "from sklearn.preprocessing import OneHotEncoder\n",
    "\n",
    "# We are also going to do some basic viz\n",
    "import matplotlib.pyplot as plt\n",
    "%matplotlib inline\n",
    "\n",
    "#import our own EDA functions \n",
    "from EDA_Functions import *\n",
    "\n",
    "#make sure we can import our .py functions\n",
    "%load_ext autoreload\n",
    "%autoreload 2"
   ]
  },
  {
   "cell_type": "code",
   "execution_count": 5,
   "metadata": {},
   "outputs": [],
   "source": [
    "connection_args = {\n",
    "    'host': 'localhost',  # We are connecting to our _local_ version of psql\n",
    "    'dbname': 'juliaqiao',    # DB that we are connecting to which contains all the nls data tables I've created in postgress\n",
    "}\n",
    "\n",
    "connection = pg.connect(**connection_args)"
   ]
  },
  {
   "cell_type": "code",
   "execution_count": 6,
   "metadata": {
    "scrolled": true
   },
   "outputs": [
    {
     "output_type": "execute_result",
     "data": {
      "text/plain": [
       "        id  sex  birth_year  sample_type  race  poverty  degree_2017  \\\n",
       "0        1    2        1981            1     4       -5           -5   \n",
       "1        2    1        1982            1     2      929            2   \n",
       "2        3    2        1983            1     2       -3            4   \n",
       "3        4    2        1981            1     2      179            2   \n",
       "4        5    1        1982            1     2      871            2   \n",
       "...    ...  ...         ...          ...   ...      ...          ...   \n",
       "8979  9018    2        1980            1     4      327            1   \n",
       "8980  9019    1        1984            0     2      498            3   \n",
       "8981  9020    1        1980            1     4       -5           -5   \n",
       "8982  9021    1        1980            1     4      260            4   \n",
       "8983  9022    2        1982            1     4       -3            5   \n",
       "\n",
       "      marriage  metro_area  child_at_home  ...  income_wage_est  \\\n",
       "0           -5          -5             -5  ...               -5   \n",
       "1            2           2             -4  ...               -4   \n",
       "2            3           2              2  ...               -1   \n",
       "3            2           3              1  ...               -4   \n",
       "4            3           3              2  ...               -4   \n",
       "...        ...         ...            ...  ...              ...   \n",
       "8979         3           2              0  ...               -4   \n",
       "8980         2           3              0  ...               -4   \n",
       "8981        -5          -5             -5  ...               -5   \n",
       "8982         2           2              1  ...               -4   \n",
       "8983         8           2              2  ...               -4   \n",
       "\n",
       "      income_bus_total  income_bus_est  degree_other  house_type_30  \\\n",
       "0                   -5              -5             4              6   \n",
       "1                   -4              -4             2              6   \n",
       "2                   -4              -4             4              6   \n",
       "3                   -4              -4             2              6   \n",
       "4                   -4              -4             2              1   \n",
       "...                ...             ...           ...            ...   \n",
       "8979                -4              -4             1              6   \n",
       "8980                -4              -4             3              6   \n",
       "8981                -5              -5             2              6   \n",
       "8982                -4              -4             4              6   \n",
       "8983                -4              -4             5              6   \n",
       "\n",
       "      fin_assets_30  debts_30  house_type_35  fin_assets_35  debts_35  \n",
       "0             30000     18000             -4             -4        -4  \n",
       "1             45000     35000              1           2000     62500  \n",
       "2                -3     19300             -4             -4        -4  \n",
       "3                 0         0              6           7050      1300  \n",
       "4            144000      9000              1         300000      3000  \n",
       "...             ...       ...            ...            ...       ...  \n",
       "8979            100      1200              1           4000     19000  \n",
       "8980            400     17000             -4             -4        -4  \n",
       "8981           6000         0              6          78750         0  \n",
       "8982           5000         0              6           9000         0  \n",
       "8983           2400     60000              1          23000     60000  \n",
       "\n",
       "[8984 rows x 22 columns]"
      ],
      "text/html": "<div>\n<style scoped>\n    .dataframe tbody tr th:only-of-type {\n        vertical-align: middle;\n    }\n\n    .dataframe tbody tr th {\n        vertical-align: top;\n    }\n\n    .dataframe thead th {\n        text-align: right;\n    }\n</style>\n<table border=\"1\" class=\"dataframe\">\n  <thead>\n    <tr style=\"text-align: right;\">\n      <th></th>\n      <th>id</th>\n      <th>sex</th>\n      <th>birth_year</th>\n      <th>sample_type</th>\n      <th>race</th>\n      <th>poverty</th>\n      <th>degree_2017</th>\n      <th>marriage</th>\n      <th>metro_area</th>\n      <th>child_at_home</th>\n      <th>...</th>\n      <th>income_wage_est</th>\n      <th>income_bus_total</th>\n      <th>income_bus_est</th>\n      <th>degree_other</th>\n      <th>house_type_30</th>\n      <th>fin_assets_30</th>\n      <th>debts_30</th>\n      <th>house_type_35</th>\n      <th>fin_assets_35</th>\n      <th>debts_35</th>\n    </tr>\n  </thead>\n  <tbody>\n    <tr>\n      <th>0</th>\n      <td>1</td>\n      <td>2</td>\n      <td>1981</td>\n      <td>1</td>\n      <td>4</td>\n      <td>-5</td>\n      <td>-5</td>\n      <td>-5</td>\n      <td>-5</td>\n      <td>-5</td>\n      <td>...</td>\n      <td>-5</td>\n      <td>-5</td>\n      <td>-5</td>\n      <td>4</td>\n      <td>6</td>\n      <td>30000</td>\n      <td>18000</td>\n      <td>-4</td>\n      <td>-4</td>\n      <td>-4</td>\n    </tr>\n    <tr>\n      <th>1</th>\n      <td>2</td>\n      <td>1</td>\n      <td>1982</td>\n      <td>1</td>\n      <td>2</td>\n      <td>929</td>\n      <td>2</td>\n      <td>2</td>\n      <td>2</td>\n      <td>-4</td>\n      <td>...</td>\n      <td>-4</td>\n      <td>-4</td>\n      <td>-4</td>\n      <td>2</td>\n      <td>6</td>\n      <td>45000</td>\n      <td>35000</td>\n      <td>1</td>\n      <td>2000</td>\n      <td>62500</td>\n    </tr>\n    <tr>\n      <th>2</th>\n      <td>3</td>\n      <td>2</td>\n      <td>1983</td>\n      <td>1</td>\n      <td>2</td>\n      <td>-3</td>\n      <td>4</td>\n      <td>3</td>\n      <td>2</td>\n      <td>2</td>\n      <td>...</td>\n      <td>-1</td>\n      <td>-4</td>\n      <td>-4</td>\n      <td>4</td>\n      <td>6</td>\n      <td>-3</td>\n      <td>19300</td>\n      <td>-4</td>\n      <td>-4</td>\n      <td>-4</td>\n    </tr>\n    <tr>\n      <th>3</th>\n      <td>4</td>\n      <td>2</td>\n      <td>1981</td>\n      <td>1</td>\n      <td>2</td>\n      <td>179</td>\n      <td>2</td>\n      <td>2</td>\n      <td>3</td>\n      <td>1</td>\n      <td>...</td>\n      <td>-4</td>\n      <td>-4</td>\n      <td>-4</td>\n      <td>2</td>\n      <td>6</td>\n      <td>0</td>\n      <td>0</td>\n      <td>6</td>\n      <td>7050</td>\n      <td>1300</td>\n    </tr>\n    <tr>\n      <th>4</th>\n      <td>5</td>\n      <td>1</td>\n      <td>1982</td>\n      <td>1</td>\n      <td>2</td>\n      <td>871</td>\n      <td>2</td>\n      <td>3</td>\n      <td>3</td>\n      <td>2</td>\n      <td>...</td>\n      <td>-4</td>\n      <td>-4</td>\n      <td>-4</td>\n      <td>2</td>\n      <td>1</td>\n      <td>144000</td>\n      <td>9000</td>\n      <td>1</td>\n      <td>300000</td>\n      <td>3000</td>\n    </tr>\n    <tr>\n      <th>...</th>\n      <td>...</td>\n      <td>...</td>\n      <td>...</td>\n      <td>...</td>\n      <td>...</td>\n      <td>...</td>\n      <td>...</td>\n      <td>...</td>\n      <td>...</td>\n      <td>...</td>\n      <td>...</td>\n      <td>...</td>\n      <td>...</td>\n      <td>...</td>\n      <td>...</td>\n      <td>...</td>\n      <td>...</td>\n      <td>...</td>\n      <td>...</td>\n      <td>...</td>\n      <td>...</td>\n    </tr>\n    <tr>\n      <th>8979</th>\n      <td>9018</td>\n      <td>2</td>\n      <td>1980</td>\n      <td>1</td>\n      <td>4</td>\n      <td>327</td>\n      <td>1</td>\n      <td>3</td>\n      <td>2</td>\n      <td>0</td>\n      <td>...</td>\n      <td>-4</td>\n      <td>-4</td>\n      <td>-4</td>\n      <td>1</td>\n      <td>6</td>\n      <td>100</td>\n      <td>1200</td>\n      <td>1</td>\n      <td>4000</td>\n      <td>19000</td>\n    </tr>\n    <tr>\n      <th>8980</th>\n      <td>9019</td>\n      <td>1</td>\n      <td>1984</td>\n      <td>0</td>\n      <td>2</td>\n      <td>498</td>\n      <td>3</td>\n      <td>2</td>\n      <td>3</td>\n      <td>0</td>\n      <td>...</td>\n      <td>-4</td>\n      <td>-4</td>\n      <td>-4</td>\n      <td>3</td>\n      <td>6</td>\n      <td>400</td>\n      <td>17000</td>\n      <td>-4</td>\n      <td>-4</td>\n      <td>-4</td>\n    </tr>\n    <tr>\n      <th>8981</th>\n      <td>9020</td>\n      <td>1</td>\n      <td>1980</td>\n      <td>1</td>\n      <td>4</td>\n      <td>-5</td>\n      <td>-5</td>\n      <td>-5</td>\n      <td>-5</td>\n      <td>-5</td>\n      <td>...</td>\n      <td>-5</td>\n      <td>-5</td>\n      <td>-5</td>\n      <td>2</td>\n      <td>6</td>\n      <td>6000</td>\n      <td>0</td>\n      <td>6</td>\n      <td>78750</td>\n      <td>0</td>\n    </tr>\n    <tr>\n      <th>8982</th>\n      <td>9021</td>\n      <td>1</td>\n      <td>1980</td>\n      <td>1</td>\n      <td>4</td>\n      <td>260</td>\n      <td>4</td>\n      <td>2</td>\n      <td>2</td>\n      <td>1</td>\n      <td>...</td>\n      <td>-4</td>\n      <td>-4</td>\n      <td>-4</td>\n      <td>4</td>\n      <td>6</td>\n      <td>5000</td>\n      <td>0</td>\n      <td>6</td>\n      <td>9000</td>\n      <td>0</td>\n    </tr>\n    <tr>\n      <th>8983</th>\n      <td>9022</td>\n      <td>2</td>\n      <td>1982</td>\n      <td>1</td>\n      <td>4</td>\n      <td>-3</td>\n      <td>5</td>\n      <td>8</td>\n      <td>2</td>\n      <td>2</td>\n      <td>...</td>\n      <td>-4</td>\n      <td>-4</td>\n      <td>-4</td>\n      <td>5</td>\n      <td>6</td>\n      <td>2400</td>\n      <td>60000</td>\n      <td>1</td>\n      <td>23000</td>\n      <td>60000</td>\n    </tr>\n  </tbody>\n</table>\n<p>8984 rows × 22 columns</p>\n</div>"
     },
     "metadata": {},
     "execution_count": 6
    }
   ],
   "source": [
    "#load our full dataset\n",
    "query = \"SELECT * FROM nls;\"\n",
    "\n",
    "pd_sql.read_sql(query, connection)"
   ]
  },
  {
   "cell_type": "markdown",
   "metadata": {},
   "source": [
    "### Exploration"
   ]
  },
  {
   "cell_type": "code",
   "execution_count": 7,
   "metadata": {},
   "outputs": [
    {
     "output_type": "execute_result",
     "data": {
      "text/plain": [
       "   house_type_30  count\n",
       "0              6   5352\n",
       "1              1   1936\n",
       "2             -4   1274\n",
       "3              9    247\n",
       "4              3    156\n",
       "5             -3     17\n",
       "6              2      2"
      ],
      "text/html": "<div>\n<style scoped>\n    .dataframe tbody tr th:only-of-type {\n        vertical-align: middle;\n    }\n\n    .dataframe tbody tr th {\n        vertical-align: top;\n    }\n\n    .dataframe thead th {\n        text-align: right;\n    }\n</style>\n<table border=\"1\" class=\"dataframe\">\n  <thead>\n    <tr style=\"text-align: right;\">\n      <th></th>\n      <th>house_type_30</th>\n      <th>count</th>\n    </tr>\n  </thead>\n  <tbody>\n    <tr>\n      <th>0</th>\n      <td>6</td>\n      <td>5352</td>\n    </tr>\n    <tr>\n      <th>1</th>\n      <td>1</td>\n      <td>1936</td>\n    </tr>\n    <tr>\n      <th>2</th>\n      <td>-4</td>\n      <td>1274</td>\n    </tr>\n    <tr>\n      <th>3</th>\n      <td>9</td>\n      <td>247</td>\n    </tr>\n    <tr>\n      <th>4</th>\n      <td>3</td>\n      <td>156</td>\n    </tr>\n    <tr>\n      <th>5</th>\n      <td>-3</td>\n      <td>17</td>\n    </tr>\n    <tr>\n      <th>6</th>\n      <td>2</td>\n      <td>2</td>\n    </tr>\n  </tbody>\n</table>\n</div>"
     },
     "metadata": {},
     "execution_count": 7
    }
   ],
   "source": [
    "#counting house ownership count by category, for age 30\n",
    "query_house_count_30 = \"\"\"\n",
    "        SELECT house_type_30, COUNT(house_type_30)\n",
    "        FROM nls\n",
    "        GROUP BY house_type_30\n",
    "        ORDER BY COUNT(house_type_30) DESC \n",
    "\"\"\"\n",
    "\n",
    "pd_sql.read_sql(query_house_count_30, connection)"
   ]
  },
  {
   "cell_type": "markdown",
   "metadata": {},
   "source": [
    "CVC_HOUSE_TYPE_30 KEY <br/>\n",
    "  1='House' <br/>\n",
    "  2='Ranch/Farm' <br/>\n",
    "  3='Mobile Home' <br/>\n",
    "  6='R does not own' <br/>\n",
    "  9='Owns other residence type'"
   ]
  },
  {
   "cell_type": "code",
   "execution_count": 8,
   "metadata": {
    "scrolled": true
   },
   "outputs": [
    {
     "output_type": "execute_result",
     "data": {
      "text/plain": [
       "   house_type_35  count\n",
       "0             -4   4817\n",
       "1              6   2360\n",
       "2              1   1617\n",
       "3              9    128\n",
       "4              3     46\n",
       "5             -3     14\n",
       "6              2      2"
      ],
      "text/html": "<div>\n<style scoped>\n    .dataframe tbody tr th:only-of-type {\n        vertical-align: middle;\n    }\n\n    .dataframe tbody tr th {\n        vertical-align: top;\n    }\n\n    .dataframe thead th {\n        text-align: right;\n    }\n</style>\n<table border=\"1\" class=\"dataframe\">\n  <thead>\n    <tr style=\"text-align: right;\">\n      <th></th>\n      <th>house_type_35</th>\n      <th>count</th>\n    </tr>\n  </thead>\n  <tbody>\n    <tr>\n      <th>0</th>\n      <td>-4</td>\n      <td>4817</td>\n    </tr>\n    <tr>\n      <th>1</th>\n      <td>6</td>\n      <td>2360</td>\n    </tr>\n    <tr>\n      <th>2</th>\n      <td>1</td>\n      <td>1617</td>\n    </tr>\n    <tr>\n      <th>3</th>\n      <td>9</td>\n      <td>128</td>\n    </tr>\n    <tr>\n      <th>4</th>\n      <td>3</td>\n      <td>46</td>\n    </tr>\n    <tr>\n      <th>5</th>\n      <td>-3</td>\n      <td>14</td>\n    </tr>\n    <tr>\n      <th>6</th>\n      <td>2</td>\n      <td>2</td>\n    </tr>\n  </tbody>\n</table>\n</div>"
     },
     "metadata": {},
     "execution_count": 8
    }
   ],
   "source": [
    "#counting house ownership count by category, for age 35\n",
    "query_house_count_35 = \"\"\"\n",
    "        SELECT house_type_35, COUNT(house_type_35)\n",
    "        FROM nls\n",
    "        GROUP BY house_type_35\n",
    "        ORDER BY COUNT(house_type_35) DESC \n",
    "\"\"\"\n",
    "\n",
    "pd_sql.read_sql(query_house_count_35, connection)"
   ]
  },
  {
   "cell_type": "markdown",
   "metadata": {},
   "source": [
    "Interview Skip Key (from the nls_key_decoder_sas): <br/>\n",
    "Noninterview -5 <br/>\n",
    "Valid Skip -4 <br/>\n",
    "Invalid Skip -3 <br/>\n",
    "Don't Know -2 <br/>\n",
    "Refusal -1 <br/>\n"
   ]
  },
  {
   "cell_type": "markdown",
   "metadata": {},
   "source": [
    "Between age 30 and 35, it's clear that we should stick to 30 for a larger sample size, as most of the age 35 answers were valid skips (since only half of the subjects had reached 35 by the last survey)."
   ]
  },
  {
   "cell_type": "markdown",
   "metadata": {},
   "source": [
    "#### Adding in additional features"
   ]
  },
  {
   "cell_type": "code",
   "execution_count": 9,
   "metadata": {},
   "outputs": [
    {
     "output_type": "execute_result",
     "data": {
      "text/plain": [
       "        id  childhood_home  childhood_poverty  own_or_rent  home_situation  \\\n",
       "0        1               2                 -3            5               1   \n",
       "1        2              -4                 -4            4              -4   \n",
       "2        3               2                583            4              -4   \n",
       "3        4               2                108            4              -4   \n",
       "4        5               2                 -3            1              -4   \n",
       "...    ...             ...                ...          ...             ...   \n",
       "8979  9018              -4                 -3            4              -4   \n",
       "8980  9019               2                 -3            5               1   \n",
       "8981  9020               1                663            5               8   \n",
       "8982  9021               2                144            4              -4   \n",
       "8983  9022               2                144            4              -4   \n",
       "\n",
       "      moves_since_12  \n",
       "0                  1  \n",
       "1                 -4  \n",
       "2                 13  \n",
       "3                  5  \n",
       "4                  9  \n",
       "...              ...  \n",
       "8979              -4  \n",
       "8980               5  \n",
       "8981               9  \n",
       "8982              13  \n",
       "8983              18  \n",
       "\n",
       "[8984 rows x 6 columns]"
      ],
      "text/html": "<div>\n<style scoped>\n    .dataframe tbody tr th:only-of-type {\n        vertical-align: middle;\n    }\n\n    .dataframe tbody tr th {\n        vertical-align: top;\n    }\n\n    .dataframe thead th {\n        text-align: right;\n    }\n</style>\n<table border=\"1\" class=\"dataframe\">\n  <thead>\n    <tr style=\"text-align: right;\">\n      <th></th>\n      <th>id</th>\n      <th>childhood_home</th>\n      <th>childhood_poverty</th>\n      <th>own_or_rent</th>\n      <th>home_situation</th>\n      <th>moves_since_12</th>\n    </tr>\n  </thead>\n  <tbody>\n    <tr>\n      <th>0</th>\n      <td>1</td>\n      <td>2</td>\n      <td>-3</td>\n      <td>5</td>\n      <td>1</td>\n      <td>1</td>\n    </tr>\n    <tr>\n      <th>1</th>\n      <td>2</td>\n      <td>-4</td>\n      <td>-4</td>\n      <td>4</td>\n      <td>-4</td>\n      <td>-4</td>\n    </tr>\n    <tr>\n      <th>2</th>\n      <td>3</td>\n      <td>2</td>\n      <td>583</td>\n      <td>4</td>\n      <td>-4</td>\n      <td>13</td>\n    </tr>\n    <tr>\n      <th>3</th>\n      <td>4</td>\n      <td>2</td>\n      <td>108</td>\n      <td>4</td>\n      <td>-4</td>\n      <td>5</td>\n    </tr>\n    <tr>\n      <th>4</th>\n      <td>5</td>\n      <td>2</td>\n      <td>-3</td>\n      <td>1</td>\n      <td>-4</td>\n      <td>9</td>\n    </tr>\n    <tr>\n      <th>...</th>\n      <td>...</td>\n      <td>...</td>\n      <td>...</td>\n      <td>...</td>\n      <td>...</td>\n      <td>...</td>\n    </tr>\n    <tr>\n      <th>8979</th>\n      <td>9018</td>\n      <td>-4</td>\n      <td>-3</td>\n      <td>4</td>\n      <td>-4</td>\n      <td>-4</td>\n    </tr>\n    <tr>\n      <th>8980</th>\n      <td>9019</td>\n      <td>2</td>\n      <td>-3</td>\n      <td>5</td>\n      <td>1</td>\n      <td>5</td>\n    </tr>\n    <tr>\n      <th>8981</th>\n      <td>9020</td>\n      <td>1</td>\n      <td>663</td>\n      <td>5</td>\n      <td>8</td>\n      <td>9</td>\n    </tr>\n    <tr>\n      <th>8982</th>\n      <td>9021</td>\n      <td>2</td>\n      <td>144</td>\n      <td>4</td>\n      <td>-4</td>\n      <td>13</td>\n    </tr>\n    <tr>\n      <th>8983</th>\n      <td>9022</td>\n      <td>2</td>\n      <td>144</td>\n      <td>4</td>\n      <td>-4</td>\n      <td>18</td>\n    </tr>\n  </tbody>\n</table>\n<p>8984 rows × 6 columns</p>\n</div>"
     },
     "metadata": {},
     "execution_count": 9
    }
   ],
   "source": [
    "#load our additional features\n",
    "query_extra = \"SELECT * FROM nls_extra;\"\n",
    "\n",
    "pd_sql.read_sql(query_extra, connection)"
   ]
  },
  {
   "cell_type": "code",
   "execution_count": 23,
   "metadata": {},
   "outputs": [
    {
     "data": {
      "text/html": [
       "<div>\n",
       "<style scoped>\n",
       "    .dataframe tbody tr th:only-of-type {\n",
       "        vertical-align: middle;\n",
       "    }\n",
       "\n",
       "    .dataframe tbody tr th {\n",
       "        vertical-align: top;\n",
       "    }\n",
       "\n",
       "    .dataframe thead th {\n",
       "        text-align: right;\n",
       "    }\n",
       "</style>\n",
       "<table border=\"1\" class=\"dataframe\">\n",
       "  <thead>\n",
       "    <tr style=\"text-align: right;\">\n",
       "      <th></th>\n",
       "      <th>id</th>\n",
       "      <th>sex</th>\n",
       "      <th>birth_year</th>\n",
       "      <th>sample_type</th>\n",
       "      <th>race</th>\n",
       "      <th>poverty</th>\n",
       "      <th>degree_2017</th>\n",
       "      <th>marriage</th>\n",
       "      <th>metro_area</th>\n",
       "      <th>child_at_home</th>\n",
       "      <th>...</th>\n",
       "      <th>debts_30</th>\n",
       "      <th>house_type_35</th>\n",
       "      <th>fin_assets_35</th>\n",
       "      <th>debts_35</th>\n",
       "      <th>id</th>\n",
       "      <th>childhood_home</th>\n",
       "      <th>childhood_poverty</th>\n",
       "      <th>own_or_rent</th>\n",
       "      <th>home_situation</th>\n",
       "      <th>moves_since_12</th>\n",
       "    </tr>\n",
       "  </thead>\n",
       "  <tbody>\n",
       "    <tr>\n",
       "      <th>0</th>\n",
       "      <td>1</td>\n",
       "      <td>2</td>\n",
       "      <td>1981</td>\n",
       "      <td>1</td>\n",
       "      <td>4</td>\n",
       "      <td>-5</td>\n",
       "      <td>-5</td>\n",
       "      <td>-5</td>\n",
       "      <td>-5</td>\n",
       "      <td>-5</td>\n",
       "      <td>...</td>\n",
       "      <td>18000</td>\n",
       "      <td>-4</td>\n",
       "      <td>-4</td>\n",
       "      <td>-4</td>\n",
       "      <td>1</td>\n",
       "      <td>2</td>\n",
       "      <td>-3</td>\n",
       "      <td>5</td>\n",
       "      <td>1</td>\n",
       "      <td>1</td>\n",
       "    </tr>\n",
       "    <tr>\n",
       "      <th>1</th>\n",
       "      <td>2</td>\n",
       "      <td>1</td>\n",
       "      <td>1982</td>\n",
       "      <td>1</td>\n",
       "      <td>2</td>\n",
       "      <td>929</td>\n",
       "      <td>2</td>\n",
       "      <td>2</td>\n",
       "      <td>2</td>\n",
       "      <td>-4</td>\n",
       "      <td>...</td>\n",
       "      <td>35000</td>\n",
       "      <td>1</td>\n",
       "      <td>2000</td>\n",
       "      <td>62500</td>\n",
       "      <td>2</td>\n",
       "      <td>-4</td>\n",
       "      <td>-4</td>\n",
       "      <td>4</td>\n",
       "      <td>-4</td>\n",
       "      <td>-4</td>\n",
       "    </tr>\n",
       "    <tr>\n",
       "      <th>2</th>\n",
       "      <td>3</td>\n",
       "      <td>2</td>\n",
       "      <td>1983</td>\n",
       "      <td>1</td>\n",
       "      <td>2</td>\n",
       "      <td>-3</td>\n",
       "      <td>4</td>\n",
       "      <td>3</td>\n",
       "      <td>2</td>\n",
       "      <td>2</td>\n",
       "      <td>...</td>\n",
       "      <td>19300</td>\n",
       "      <td>-4</td>\n",
       "      <td>-4</td>\n",
       "      <td>-4</td>\n",
       "      <td>3</td>\n",
       "      <td>2</td>\n",
       "      <td>583</td>\n",
       "      <td>4</td>\n",
       "      <td>-4</td>\n",
       "      <td>13</td>\n",
       "    </tr>\n",
       "    <tr>\n",
       "      <th>3</th>\n",
       "      <td>4</td>\n",
       "      <td>2</td>\n",
       "      <td>1981</td>\n",
       "      <td>1</td>\n",
       "      <td>2</td>\n",
       "      <td>179</td>\n",
       "      <td>2</td>\n",
       "      <td>2</td>\n",
       "      <td>3</td>\n",
       "      <td>1</td>\n",
       "      <td>...</td>\n",
       "      <td>0</td>\n",
       "      <td>6</td>\n",
       "      <td>7050</td>\n",
       "      <td>1300</td>\n",
       "      <td>4</td>\n",
       "      <td>2</td>\n",
       "      <td>108</td>\n",
       "      <td>4</td>\n",
       "      <td>-4</td>\n",
       "      <td>5</td>\n",
       "    </tr>\n",
       "    <tr>\n",
       "      <th>4</th>\n",
       "      <td>5</td>\n",
       "      <td>1</td>\n",
       "      <td>1982</td>\n",
       "      <td>1</td>\n",
       "      <td>2</td>\n",
       "      <td>871</td>\n",
       "      <td>2</td>\n",
       "      <td>3</td>\n",
       "      <td>3</td>\n",
       "      <td>2</td>\n",
       "      <td>...</td>\n",
       "      <td>9000</td>\n",
       "      <td>1</td>\n",
       "      <td>300000</td>\n",
       "      <td>3000</td>\n",
       "      <td>5</td>\n",
       "      <td>2</td>\n",
       "      <td>-3</td>\n",
       "      <td>1</td>\n",
       "      <td>-4</td>\n",
       "      <td>9</td>\n",
       "    </tr>\n",
       "    <tr>\n",
       "      <th>...</th>\n",
       "      <td>...</td>\n",
       "      <td>...</td>\n",
       "      <td>...</td>\n",
       "      <td>...</td>\n",
       "      <td>...</td>\n",
       "      <td>...</td>\n",
       "      <td>...</td>\n",
       "      <td>...</td>\n",
       "      <td>...</td>\n",
       "      <td>...</td>\n",
       "      <td>...</td>\n",
       "      <td>...</td>\n",
       "      <td>...</td>\n",
       "      <td>...</td>\n",
       "      <td>...</td>\n",
       "      <td>...</td>\n",
       "      <td>...</td>\n",
       "      <td>...</td>\n",
       "      <td>...</td>\n",
       "      <td>...</td>\n",
       "      <td>...</td>\n",
       "    </tr>\n",
       "    <tr>\n",
       "      <th>8979</th>\n",
       "      <td>9018</td>\n",
       "      <td>2</td>\n",
       "      <td>1980</td>\n",
       "      <td>1</td>\n",
       "      <td>4</td>\n",
       "      <td>327</td>\n",
       "      <td>1</td>\n",
       "      <td>3</td>\n",
       "      <td>2</td>\n",
       "      <td>0</td>\n",
       "      <td>...</td>\n",
       "      <td>1200</td>\n",
       "      <td>1</td>\n",
       "      <td>4000</td>\n",
       "      <td>19000</td>\n",
       "      <td>9018</td>\n",
       "      <td>-4</td>\n",
       "      <td>-3</td>\n",
       "      <td>4</td>\n",
       "      <td>-4</td>\n",
       "      <td>-4</td>\n",
       "    </tr>\n",
       "    <tr>\n",
       "      <th>8980</th>\n",
       "      <td>9019</td>\n",
       "      <td>1</td>\n",
       "      <td>1984</td>\n",
       "      <td>0</td>\n",
       "      <td>2</td>\n",
       "      <td>498</td>\n",
       "      <td>3</td>\n",
       "      <td>2</td>\n",
       "      <td>3</td>\n",
       "      <td>0</td>\n",
       "      <td>...</td>\n",
       "      <td>17000</td>\n",
       "      <td>-4</td>\n",
       "      <td>-4</td>\n",
       "      <td>-4</td>\n",
       "      <td>9019</td>\n",
       "      <td>2</td>\n",
       "      <td>-3</td>\n",
       "      <td>5</td>\n",
       "      <td>1</td>\n",
       "      <td>5</td>\n",
       "    </tr>\n",
       "    <tr>\n",
       "      <th>8981</th>\n",
       "      <td>9020</td>\n",
       "      <td>1</td>\n",
       "      <td>1980</td>\n",
       "      <td>1</td>\n",
       "      <td>4</td>\n",
       "      <td>-5</td>\n",
       "      <td>-5</td>\n",
       "      <td>-5</td>\n",
       "      <td>-5</td>\n",
       "      <td>-5</td>\n",
       "      <td>...</td>\n",
       "      <td>0</td>\n",
       "      <td>6</td>\n",
       "      <td>78750</td>\n",
       "      <td>0</td>\n",
       "      <td>9020</td>\n",
       "      <td>1</td>\n",
       "      <td>663</td>\n",
       "      <td>5</td>\n",
       "      <td>8</td>\n",
       "      <td>9</td>\n",
       "    </tr>\n",
       "    <tr>\n",
       "      <th>8982</th>\n",
       "      <td>9021</td>\n",
       "      <td>1</td>\n",
       "      <td>1980</td>\n",
       "      <td>1</td>\n",
       "      <td>4</td>\n",
       "      <td>260</td>\n",
       "      <td>4</td>\n",
       "      <td>2</td>\n",
       "      <td>2</td>\n",
       "      <td>1</td>\n",
       "      <td>...</td>\n",
       "      <td>0</td>\n",
       "      <td>6</td>\n",
       "      <td>9000</td>\n",
       "      <td>0</td>\n",
       "      <td>9021</td>\n",
       "      <td>2</td>\n",
       "      <td>144</td>\n",
       "      <td>4</td>\n",
       "      <td>-4</td>\n",
       "      <td>13</td>\n",
       "    </tr>\n",
       "    <tr>\n",
       "      <th>8983</th>\n",
       "      <td>9022</td>\n",
       "      <td>2</td>\n",
       "      <td>1982</td>\n",
       "      <td>1</td>\n",
       "      <td>4</td>\n",
       "      <td>-3</td>\n",
       "      <td>5</td>\n",
       "      <td>8</td>\n",
       "      <td>2</td>\n",
       "      <td>2</td>\n",
       "      <td>...</td>\n",
       "      <td>60000</td>\n",
       "      <td>1</td>\n",
       "      <td>23000</td>\n",
       "      <td>60000</td>\n",
       "      <td>9022</td>\n",
       "      <td>2</td>\n",
       "      <td>144</td>\n",
       "      <td>4</td>\n",
       "      <td>-4</td>\n",
       "      <td>18</td>\n",
       "    </tr>\n",
       "  </tbody>\n",
       "</table>\n",
       "<p>8984 rows × 28 columns</p>\n",
       "</div>"
      ],
      "text/plain": [
       "        id  sex  birth_year  sample_type  race  poverty  degree_2017  \\\n",
       "0        1    2        1981            1     4       -5           -5   \n",
       "1        2    1        1982            1     2      929            2   \n",
       "2        3    2        1983            1     2       -3            4   \n",
       "3        4    2        1981            1     2      179            2   \n",
       "4        5    1        1982            1     2      871            2   \n",
       "...    ...  ...         ...          ...   ...      ...          ...   \n",
       "8979  9018    2        1980            1     4      327            1   \n",
       "8980  9019    1        1984            0     2      498            3   \n",
       "8981  9020    1        1980            1     4       -5           -5   \n",
       "8982  9021    1        1980            1     4      260            4   \n",
       "8983  9022    2        1982            1     4       -3            5   \n",
       "\n",
       "      marriage  metro_area  child_at_home  ...  debts_30  house_type_35  \\\n",
       "0           -5          -5             -5  ...     18000             -4   \n",
       "1            2           2             -4  ...     35000              1   \n",
       "2            3           2              2  ...     19300             -4   \n",
       "3            2           3              1  ...         0              6   \n",
       "4            3           3              2  ...      9000              1   \n",
       "...        ...         ...            ...  ...       ...            ...   \n",
       "8979         3           2              0  ...      1200              1   \n",
       "8980         2           3              0  ...     17000             -4   \n",
       "8981        -5          -5             -5  ...         0              6   \n",
       "8982         2           2              1  ...         0              6   \n",
       "8983         8           2              2  ...     60000              1   \n",
       "\n",
       "      fin_assets_35  debts_35    id  childhood_home  childhood_poverty  \\\n",
       "0                -4        -4     1               2                 -3   \n",
       "1              2000     62500     2              -4                 -4   \n",
       "2                -4        -4     3               2                583   \n",
       "3              7050      1300     4               2                108   \n",
       "4            300000      3000     5               2                 -3   \n",
       "...             ...       ...   ...             ...                ...   \n",
       "8979           4000     19000  9018              -4                 -3   \n",
       "8980             -4        -4  9019               2                 -3   \n",
       "8981          78750         0  9020               1                663   \n",
       "8982           9000         0  9021               2                144   \n",
       "8983          23000     60000  9022               2                144   \n",
       "\n",
       "      own_or_rent  home_situation  moves_since_12  \n",
       "0               5               1               1  \n",
       "1               4              -4              -4  \n",
       "2               4              -4              13  \n",
       "3               4              -4               5  \n",
       "4               1              -4               9  \n",
       "...           ...             ...             ...  \n",
       "8979            4              -4              -4  \n",
       "8980            5               1               5  \n",
       "8981            5               8               9  \n",
       "8982            4              -4              13  \n",
       "8983            4              -4              18  \n",
       "\n",
       "[8984 rows x 28 columns]"
      ]
     },
     "execution_count": 23,
     "metadata": {},
     "output_type": "execute_result"
    }
   ],
   "source": [
    "#join the two tables (inner join is default join)\n",
    "query_join = \"SELECT * FROM nls JOIN nls_extra ON nls.id = nls_extra.id;\"\n",
    "\n",
    "pd_sql.read_sql(query_join, connection)"
   ]
  },
  {
   "source": [
    "### Variable Duplication"
   ],
   "cell_type": "markdown",
   "metadata": {}
  },
  {
   "source": [
    "Now that we have our joined tables, let's take a look at our duplicate variables. Our study had a few duplicates, so we pulled them all in to see which in particular should be used to represent each feautre."
   ],
   "cell_type": "markdown",
   "metadata": {}
  },
  {
   "cell_type": "code",
   "execution_count": 10,
   "metadata": {},
   "outputs": [
    {
     "output_type": "execute_result",
     "data": {
      "text/plain": [
       "   house_type_30  count\n",
       "0              2      2\n",
       "1              9    247\n",
       "2              6   5352\n",
       "3              1   1936\n",
       "4              3    156"
      ],
      "text/html": "<div>\n<style scoped>\n    .dataframe tbody tr th:only-of-type {\n        vertical-align: middle;\n    }\n\n    .dataframe tbody tr th {\n        vertical-align: top;\n    }\n\n    .dataframe thead th {\n        text-align: right;\n    }\n</style>\n<table border=\"1\" class=\"dataframe\">\n  <thead>\n    <tr style=\"text-align: right;\">\n      <th></th>\n      <th>house_type_30</th>\n      <th>count</th>\n    </tr>\n  </thead>\n  <tbody>\n    <tr>\n      <th>0</th>\n      <td>2</td>\n      <td>2</td>\n    </tr>\n    <tr>\n      <th>1</th>\n      <td>9</td>\n      <td>247</td>\n    </tr>\n    <tr>\n      <th>2</th>\n      <td>6</td>\n      <td>5352</td>\n    </tr>\n    <tr>\n      <th>3</th>\n      <td>1</td>\n      <td>1936</td>\n    </tr>\n    <tr>\n      <th>4</th>\n      <td>3</td>\n      <td>156</td>\n    </tr>\n  </tbody>\n</table>\n</div>"
     },
     "metadata": {},
     "execution_count": 10
    }
   ],
   "source": [
    "#we have 2 variables from the study that could be our Y variable, so let's see which one has gathered more data.\n",
    "#let's look at house_type_30 first\n",
    "#interview skip keys are: [-5, -4,-3,-2,-1]\n",
    "\n",
    "query_Y_house_type = \"SELECT house_type_30, COUNT(house_type_30) FROM nls JOIN nls_extra ON nls.id = nls_extra.id WHERE house_type_30 NOT IN (-5, -4,-3,-2,-1) GROUP BY house_type_30;\"\n",
    "\n",
    "pd_sql.read_sql(query_Y_house_type, connection)"
   ]
  },
  {
   "cell_type": "code",
   "execution_count": 11,
   "metadata": {},
   "outputs": [
    {
     "output_type": "execute_result",
     "data": {
      "text/plain": [
       "   count\n",
       "0   7693"
      ],
      "text/html": "<div>\n<style scoped>\n    .dataframe tbody tr th:only-of-type {\n        vertical-align: middle;\n    }\n\n    .dataframe tbody tr th {\n        vertical-align: top;\n    }\n\n    .dataframe thead th {\n        text-align: right;\n    }\n</style>\n<table border=\"1\" class=\"dataframe\">\n  <thead>\n    <tr style=\"text-align: right;\">\n      <th></th>\n      <th>count</th>\n    </tr>\n  </thead>\n  <tbody>\n    <tr>\n      <th>0</th>\n      <td>7693</td>\n    </tr>\n  </tbody>\n</table>\n</div>"
     },
     "metadata": {},
     "execution_count": 11
    }
   ],
   "source": [
    "#let's look at total counts of answers\n",
    "query_Y_house_type = \"SELECT COUNT(house_type_30) FROM nls JOIN nls_extra ON nls.id = nls_extra.id WHERE house_type_30 NOT IN (-5, -4,-3,-2,-1);\"\n",
    "\n",
    "pd_sql.read_sql(query_Y_house_type, connection)"
   ]
  },
  {
   "cell_type": "code",
   "execution_count": 10,
   "metadata": {},
   "outputs": [
    {
     "output_type": "execute_result",
     "data": {
      "text/plain": [
       "   own_or_rent  count\n",
       "0            1    750\n",
       "1            3    114\n",
       "2            5   2178\n",
       "3            2    364\n",
       "4            4   4037"
      ],
      "text/html": "<div>\n<style scoped>\n    .dataframe tbody tr th:only-of-type {\n        vertical-align: middle;\n    }\n\n    .dataframe tbody tr th {\n        vertical-align: top;\n    }\n\n    .dataframe thead th {\n        text-align: right;\n    }\n</style>\n<table border=\"1\" class=\"dataframe\">\n  <thead>\n    <tr style=\"text-align: right;\">\n      <th></th>\n      <th>own_or_rent</th>\n      <th>count</th>\n    </tr>\n  </thead>\n  <tbody>\n    <tr>\n      <th>0</th>\n      <td>1</td>\n      <td>750</td>\n    </tr>\n    <tr>\n      <th>1</th>\n      <td>3</td>\n      <td>114</td>\n    </tr>\n    <tr>\n      <th>2</th>\n      <td>5</td>\n      <td>2178</td>\n    </tr>\n    <tr>\n      <th>3</th>\n      <td>2</td>\n      <td>364</td>\n    </tr>\n    <tr>\n      <th>4</th>\n      <td>4</td>\n      <td>4037</td>\n    </tr>\n  </tbody>\n</table>\n</div>"
     },
     "metadata": {},
     "execution_count": 10
    }
   ],
   "source": [
    "#now let's look at own_or_rent\n",
    "#interview skip keys are: [-5, -4,-3,-2,-1]\n",
    "\n",
    "query_Y_house_type = \"SELECT own_or_rent, COUNT(own_or_rent) FROM nls JOIN nls_extra ON nls.id = nls_extra.id WHERE own_or_rent NOT IN (-5, -4,-3,-2,-1) GROUP BY own_or_rent;\"\n",
    "\n",
    "pd_sql.read_sql(query_Y_house_type, connection)"
   ]
  },
  {
   "cell_type": "code",
   "execution_count": 12,
   "metadata": {
    "scrolled": true
   },
   "outputs": [
    {
     "output_type": "execute_result",
     "data": {
      "text/plain": [
       "   count\n",
       "0   7443"
      ],
      "text/html": "<div>\n<style scoped>\n    .dataframe tbody tr th:only-of-type {\n        vertical-align: middle;\n    }\n\n    .dataframe tbody tr th {\n        vertical-align: top;\n    }\n\n    .dataframe thead th {\n        text-align: right;\n    }\n</style>\n<table border=\"1\" class=\"dataframe\">\n  <thead>\n    <tr style=\"text-align: right;\">\n      <th></th>\n      <th>count</th>\n    </tr>\n  </thead>\n  <tbody>\n    <tr>\n      <th>0</th>\n      <td>7443</td>\n    </tr>\n  </tbody>\n</table>\n</div>"
     },
     "metadata": {},
     "execution_count": 12
    }
   ],
   "source": [
    "#let's look at total counts of answers\n",
    "\n",
    "query_Y_house_type = \"SELECT COUNT(own_or_rent) FROM nls JOIN nls_extra ON nls.id = nls_extra.id WHERE own_or_rent NOT IN (-5, -4,-3,-2,-1);\"\n",
    "\n",
    "pd_sql.read_sql(query_Y_house_type, connection)"
   ]
  },
  {
   "cell_type": "markdown",
   "metadata": {},
   "source": [
    "House_type_30 has a higher answer count than own_or_rent, so we will use house_type_30 as our Y variable."
   ]
  },
  {
   "cell_type": "code",
   "execution_count": 13,
   "metadata": {},
   "outputs": [
    {
     "output_type": "execute_result",
     "data": {
      "text/plain": [
       "   degree_2017  count\n",
       "0           -5   1064\n",
       "1           -3     26"
      ],
      "text/html": "<div>\n<style scoped>\n    .dataframe tbody tr th:only-of-type {\n        vertical-align: middle;\n    }\n\n    .dataframe tbody tr th {\n        vertical-align: top;\n    }\n\n    .dataframe thead th {\n        text-align: right;\n    }\n</style>\n<table border=\"1\" class=\"dataframe\">\n  <thead>\n    <tr style=\"text-align: right;\">\n      <th></th>\n      <th>degree_2017</th>\n      <th>count</th>\n    </tr>\n  </thead>\n  <tbody>\n    <tr>\n      <th>0</th>\n      <td>-5</td>\n      <td>1064</td>\n    </tr>\n    <tr>\n      <th>1</th>\n      <td>-3</td>\n      <td>26</td>\n    </tr>\n  </tbody>\n</table>\n</div>"
     },
     "metadata": {},
     "execution_count": 13
    }
   ],
   "source": [
    "#let's now look at our duplicate variable--degrees, to see which one is more robust and should be used as our feature\n",
    "# looks like degree_2017 has a lot of skipped answers - noninterview. \n",
    "query_degree_2017 = \"\"\"\n",
    "        SELECT degree_2017, COUNT(degree_2017)\n",
    "        FROM nls \n",
    "        JOIN nls_extra \n",
    "        ON nls.id = nls_extra.id\n",
    "        WHERE house_type_30 NOT IN (-5,-4,-3,-2,-1)\n",
    "        AND degree_2017 IN (-5,-4,-3,-2,-1)\n",
    "        GROUP BY degree_2017\n",
    "        \n",
    "        \n",
    "\"\"\"\n",
    "\n",
    "pd_sql.read_sql(query_degree_2017, connection)\n"
   ]
  },
  {
   "cell_type": "code",
   "execution_count": 15,
   "metadata": {},
   "outputs": [
    {
     "output_type": "execute_result",
     "data": {
      "text/plain": [
       "   degree_other  count\n",
       "0            -3     30"
      ],
      "text/html": "<div>\n<style scoped>\n    .dataframe tbody tr th:only-of-type {\n        vertical-align: middle;\n    }\n\n    .dataframe tbody tr th {\n        vertical-align: top;\n    }\n\n    .dataframe thead th {\n        text-align: right;\n    }\n</style>\n<table border=\"1\" class=\"dataframe\">\n  <thead>\n    <tr style=\"text-align: right;\">\n      <th></th>\n      <th>degree_other</th>\n      <th>count</th>\n    </tr>\n  </thead>\n  <tbody>\n    <tr>\n      <th>0</th>\n      <td>-3</td>\n      <td>30</td>\n    </tr>\n  </tbody>\n</table>\n</div>"
     },
     "metadata": {},
     "execution_count": 15
    }
   ],
   "source": [
    "#how many skips does degree_other have? \n",
    "query_degree_other = \"\"\"\n",
    "        SELECT degree_other, COUNT(degree_2017)\n",
    "        FROM nls \n",
    "        JOIN nls_extra \n",
    "        ON nls.id = nls_extra.id\n",
    "        WHERE house_type_30 NOT IN (-5,-4,-3,-2,-1)\n",
    "        AND degree_other IN (-5,-4,-3,-2,-1)\n",
    "        GROUP BY degree_other\n",
    "        \n",
    "        \n",
    "\"\"\"\n",
    "\n",
    "pd_sql.read_sql(query_degree_other, connection)"
   ]
  },
  {
   "source": [
    "Degree_other have much fewer skips than degree_2017 -- potentially a more recent variable, so we will stick with degree_other as the education feature!"
   ],
   "cell_type": "markdown",
   "metadata": {}
  },
  {
   "cell_type": "code",
   "execution_count": 14,
   "metadata": {},
   "outputs": [],
   "source": [
    "#let's create a df only with no skips for our Y variable question--house_type_30\n",
    "#once again, interview skip keys are: [-5, -4,-3,-2,-1]\n",
    "query_Y= \"\"\"SELECT * \n",
    "            FROM nls \n",
    "            JOIN nls_extra \n",
    "            ON nls.id = nls_extra.id \n",
    "            WHERE house_type_30 \n",
    "            NOT IN (-5, -4,-3,-2,-1);\"\"\"\n",
    "\n",
    "joined_df = pd_sql.read_sql(query_Y, connection)"
   ]
  },
  {
   "cell_type": "code",
   "execution_count": 26,
   "metadata": {},
   "outputs": [],
   "source": [
    "#pickle this starter df for later\n",
    "joined_df.to_pickle('joined_df.pickle')"
   ]
  },
  {
   "cell_type": "code",
   "execution_count": 15,
   "metadata": {},
   "outputs": [
    {
     "output_type": "execute_result",
     "data": {
      "text/plain": [
       "id                   0\n",
       "sex                  0\n",
       "birth_year           0\n",
       "sample_type          0\n",
       "race                 0\n",
       "poverty              0\n",
       "degree_2017          0\n",
       "marriage             0\n",
       "metro_area           0\n",
       "child_at_home        0\n",
       "urban_rural          0\n",
       "income_wage_total    0\n",
       "income_wage_est      0\n",
       "income_bus_total     0\n",
       "income_bus_est       0\n",
       "degree_other         0\n",
       "house_type_30        0\n",
       "fin_assets_30        0\n",
       "debts_30             0\n",
       "house_type_35        0\n",
       "fin_assets_35        0\n",
       "debts_35             0\n",
       "id                   0\n",
       "childhood_home       0\n",
       "childhood_poverty    0\n",
       "own_or_rent          0\n",
       "home_situation       0\n",
       "moves_since_12       0\n",
       "dtype: int64"
      ]
     },
     "metadata": {},
     "execution_count": 15
    }
   ],
   "source": [
    "#let's see if we have any NaNs\n",
    "joined_df.isnull().sum()"
   ]
  },
  {
   "cell_type": "markdown",
   "metadata": {},
   "source": [
    "#### Let's now query only the columns we need for modeling."
   ]
  },
  {
   "cell_type": "code",
   "execution_count": 16,
   "metadata": {},
   "outputs": [],
   "source": [
    "query_model = \"\"\"\n",
    "        SELECT nls.id, sex, birth_year, sample_type, race, \n",
    "        poverty, marriage, metro_area, child_at_home, urban_rural, \n",
    "        income_wage_total, income_wage_est, income_bus_total, income_bus_est,\n",
    "        degree_other, house_type_30, fin_assets_30, debts_30, \n",
    "        childhood_home, childhood_poverty, moves_since_12  \n",
    "        FROM nls \n",
    "        JOIN nls_extra \n",
    "        ON nls.id = nls_extra.id \n",
    "        WHERE house_type_30 NOT IN (-5,-4,-3,-2,-1)\n",
    "        \n",
    "\"\"\"\n",
    "\n",
    "joined_clean = pd_sql.read_sql(query_model, connection)"
   ]
  },
  {
   "cell_type": "code",
   "execution_count": 34,
   "metadata": {},
   "outputs": [],
   "source": [
    "#pickle it for our modeling later\n",
    "joined_clean.to_pickle('joined_clean.pickle')"
   ]
  },
  {
   "cell_type": "code",
   "execution_count": 17,
   "metadata": {},
   "outputs": [
    {
     "output_type": "execute_result",
     "data": {
      "text/plain": [
       "        id  sex  birth_year  sample_type  race  poverty  marriage  metro_area  \\\n",
       "0        1    2        1981            1     4       -5        -5          -5   \n",
       "1        2    1        1982            1     2      929         2           2   \n",
       "2        3    2        1983            1     2       -3         3           2   \n",
       "3        4    2        1981            1     2      179         2           3   \n",
       "4        5    1        1982            1     2      871         3           3   \n",
       "...    ...  ...         ...          ...   ...      ...       ...         ...   \n",
       "7688  9018    2        1980            1     4      327         3           2   \n",
       "7689  9019    1        1984            0     2      498         2           3   \n",
       "7690  9020    1        1980            1     4       -5        -5          -5   \n",
       "7691  9021    1        1980            1     4      260         2           2   \n",
       "7692  9022    2        1982            1     4       -3         8           2   \n",
       "\n",
       "      child_at_home  urban_rural  ...  income_wage_est  income_bus_total  \\\n",
       "0                -5           -5  ...               -5                -5   \n",
       "1                -4            0  ...               -4                -4   \n",
       "2                 2            2  ...               -1                -4   \n",
       "3                 1            1  ...               -4                -4   \n",
       "4                 2            1  ...               -4                -4   \n",
       "...             ...          ...  ...              ...               ...   \n",
       "7688              0            1  ...               -4                -4   \n",
       "7689              0            1  ...               -4                -4   \n",
       "7690             -5           -5  ...               -5                -5   \n",
       "7691              1            1  ...               -4                -4   \n",
       "7692              2            1  ...               -4                -4   \n",
       "\n",
       "      income_bus_est  degree_other  house_type_30  fin_assets_30  debts_30  \\\n",
       "0                 -5             4              6          30000     18000   \n",
       "1                 -4             2              6          45000     35000   \n",
       "2                 -4             4              6             -3     19300   \n",
       "3                 -4             2              6              0         0   \n",
       "4                 -4             2              1         144000      9000   \n",
       "...              ...           ...            ...            ...       ...   \n",
       "7688              -4             1              6            100      1200   \n",
       "7689              -4             3              6            400     17000   \n",
       "7690              -5             2              6           6000         0   \n",
       "7691              -4             4              6           5000         0   \n",
       "7692              -4             5              6           2400     60000   \n",
       "\n",
       "      childhood_home  childhood_poverty  moves_since_12  \n",
       "0                  2                 -3               1  \n",
       "1                 -4                 -4              -4  \n",
       "2                  2                583              13  \n",
       "3                  2                108               5  \n",
       "4                  2                 -3               9  \n",
       "...              ...                ...             ...  \n",
       "7688              -4                 -3              -4  \n",
       "7689               2                 -3               5  \n",
       "7690               1                663               9  \n",
       "7691               2                144              13  \n",
       "7692               2                144              18  \n",
       "\n",
       "[7693 rows x 21 columns]"
      ],
      "text/html": "<div>\n<style scoped>\n    .dataframe tbody tr th:only-of-type {\n        vertical-align: middle;\n    }\n\n    .dataframe tbody tr th {\n        vertical-align: top;\n    }\n\n    .dataframe thead th {\n        text-align: right;\n    }\n</style>\n<table border=\"1\" class=\"dataframe\">\n  <thead>\n    <tr style=\"text-align: right;\">\n      <th></th>\n      <th>id</th>\n      <th>sex</th>\n      <th>birth_year</th>\n      <th>sample_type</th>\n      <th>race</th>\n      <th>poverty</th>\n      <th>marriage</th>\n      <th>metro_area</th>\n      <th>child_at_home</th>\n      <th>urban_rural</th>\n      <th>...</th>\n      <th>income_wage_est</th>\n      <th>income_bus_total</th>\n      <th>income_bus_est</th>\n      <th>degree_other</th>\n      <th>house_type_30</th>\n      <th>fin_assets_30</th>\n      <th>debts_30</th>\n      <th>childhood_home</th>\n      <th>childhood_poverty</th>\n      <th>moves_since_12</th>\n    </tr>\n  </thead>\n  <tbody>\n    <tr>\n      <th>0</th>\n      <td>1</td>\n      <td>2</td>\n      <td>1981</td>\n      <td>1</td>\n      <td>4</td>\n      <td>-5</td>\n      <td>-5</td>\n      <td>-5</td>\n      <td>-5</td>\n      <td>-5</td>\n      <td>...</td>\n      <td>-5</td>\n      <td>-5</td>\n      <td>-5</td>\n      <td>4</td>\n      <td>6</td>\n      <td>30000</td>\n      <td>18000</td>\n      <td>2</td>\n      <td>-3</td>\n      <td>1</td>\n    </tr>\n    <tr>\n      <th>1</th>\n      <td>2</td>\n      <td>1</td>\n      <td>1982</td>\n      <td>1</td>\n      <td>2</td>\n      <td>929</td>\n      <td>2</td>\n      <td>2</td>\n      <td>-4</td>\n      <td>0</td>\n      <td>...</td>\n      <td>-4</td>\n      <td>-4</td>\n      <td>-4</td>\n      <td>2</td>\n      <td>6</td>\n      <td>45000</td>\n      <td>35000</td>\n      <td>-4</td>\n      <td>-4</td>\n      <td>-4</td>\n    </tr>\n    <tr>\n      <th>2</th>\n      <td>3</td>\n      <td>2</td>\n      <td>1983</td>\n      <td>1</td>\n      <td>2</td>\n      <td>-3</td>\n      <td>3</td>\n      <td>2</td>\n      <td>2</td>\n      <td>2</td>\n      <td>...</td>\n      <td>-1</td>\n      <td>-4</td>\n      <td>-4</td>\n      <td>4</td>\n      <td>6</td>\n      <td>-3</td>\n      <td>19300</td>\n      <td>2</td>\n      <td>583</td>\n      <td>13</td>\n    </tr>\n    <tr>\n      <th>3</th>\n      <td>4</td>\n      <td>2</td>\n      <td>1981</td>\n      <td>1</td>\n      <td>2</td>\n      <td>179</td>\n      <td>2</td>\n      <td>3</td>\n      <td>1</td>\n      <td>1</td>\n      <td>...</td>\n      <td>-4</td>\n      <td>-4</td>\n      <td>-4</td>\n      <td>2</td>\n      <td>6</td>\n      <td>0</td>\n      <td>0</td>\n      <td>2</td>\n      <td>108</td>\n      <td>5</td>\n    </tr>\n    <tr>\n      <th>4</th>\n      <td>5</td>\n      <td>1</td>\n      <td>1982</td>\n      <td>1</td>\n      <td>2</td>\n      <td>871</td>\n      <td>3</td>\n      <td>3</td>\n      <td>2</td>\n      <td>1</td>\n      <td>...</td>\n      <td>-4</td>\n      <td>-4</td>\n      <td>-4</td>\n      <td>2</td>\n      <td>1</td>\n      <td>144000</td>\n      <td>9000</td>\n      <td>2</td>\n      <td>-3</td>\n      <td>9</td>\n    </tr>\n    <tr>\n      <th>...</th>\n      <td>...</td>\n      <td>...</td>\n      <td>...</td>\n      <td>...</td>\n      <td>...</td>\n      <td>...</td>\n      <td>...</td>\n      <td>...</td>\n      <td>...</td>\n      <td>...</td>\n      <td>...</td>\n      <td>...</td>\n      <td>...</td>\n      <td>...</td>\n      <td>...</td>\n      <td>...</td>\n      <td>...</td>\n      <td>...</td>\n      <td>...</td>\n      <td>...</td>\n      <td>...</td>\n    </tr>\n    <tr>\n      <th>7688</th>\n      <td>9018</td>\n      <td>2</td>\n      <td>1980</td>\n      <td>1</td>\n      <td>4</td>\n      <td>327</td>\n      <td>3</td>\n      <td>2</td>\n      <td>0</td>\n      <td>1</td>\n      <td>...</td>\n      <td>-4</td>\n      <td>-4</td>\n      <td>-4</td>\n      <td>1</td>\n      <td>6</td>\n      <td>100</td>\n      <td>1200</td>\n      <td>-4</td>\n      <td>-3</td>\n      <td>-4</td>\n    </tr>\n    <tr>\n      <th>7689</th>\n      <td>9019</td>\n      <td>1</td>\n      <td>1984</td>\n      <td>0</td>\n      <td>2</td>\n      <td>498</td>\n      <td>2</td>\n      <td>3</td>\n      <td>0</td>\n      <td>1</td>\n      <td>...</td>\n      <td>-4</td>\n      <td>-4</td>\n      <td>-4</td>\n      <td>3</td>\n      <td>6</td>\n      <td>400</td>\n      <td>17000</td>\n      <td>2</td>\n      <td>-3</td>\n      <td>5</td>\n    </tr>\n    <tr>\n      <th>7690</th>\n      <td>9020</td>\n      <td>1</td>\n      <td>1980</td>\n      <td>1</td>\n      <td>4</td>\n      <td>-5</td>\n      <td>-5</td>\n      <td>-5</td>\n      <td>-5</td>\n      <td>-5</td>\n      <td>...</td>\n      <td>-5</td>\n      <td>-5</td>\n      <td>-5</td>\n      <td>2</td>\n      <td>6</td>\n      <td>6000</td>\n      <td>0</td>\n      <td>1</td>\n      <td>663</td>\n      <td>9</td>\n    </tr>\n    <tr>\n      <th>7691</th>\n      <td>9021</td>\n      <td>1</td>\n      <td>1980</td>\n      <td>1</td>\n      <td>4</td>\n      <td>260</td>\n      <td>2</td>\n      <td>2</td>\n      <td>1</td>\n      <td>1</td>\n      <td>...</td>\n      <td>-4</td>\n      <td>-4</td>\n      <td>-4</td>\n      <td>4</td>\n      <td>6</td>\n      <td>5000</td>\n      <td>0</td>\n      <td>2</td>\n      <td>144</td>\n      <td>13</td>\n    </tr>\n    <tr>\n      <th>7692</th>\n      <td>9022</td>\n      <td>2</td>\n      <td>1982</td>\n      <td>1</td>\n      <td>4</td>\n      <td>-3</td>\n      <td>8</td>\n      <td>2</td>\n      <td>2</td>\n      <td>1</td>\n      <td>...</td>\n      <td>-4</td>\n      <td>-4</td>\n      <td>-4</td>\n      <td>5</td>\n      <td>6</td>\n      <td>2400</td>\n      <td>60000</td>\n      <td>2</td>\n      <td>144</td>\n      <td>18</td>\n    </tr>\n  </tbody>\n</table>\n<p>7693 rows × 21 columns</p>\n</div>"
     },
     "metadata": {},
     "execution_count": 17
    }
   ],
   "source": [
    "joined_clean"
   ]
  },
  {
   "cell_type": "markdown",
   "metadata": {},
   "source": [
    "### De-coding"
   ]
  },
  {
   "cell_type": "markdown",
   "metadata": {},
   "source": [
    "All of the variables are coded by the study. We need to \"decode\" them and re-encode them to extract what we need for our models."
   ]
  },
  {
   "cell_type": "code",
   "execution_count": 18,
   "metadata": {},
   "outputs": [],
   "source": [
    "#first, let's address the interview skips, and fill them with NaNs\n",
    "#Skips = (-5, -4,-3,-2,-1)\n",
    "\n",
    "joined_filled = joined_clean.copy()\n",
    "\n",
    "joined_filled.replace([-5, -4,-3,-2,-1], np.nan, inplace=True)"
   ]
  },
  {
   "cell_type": "code",
   "execution_count": null,
   "metadata": {},
   "outputs": [],
   "source": [
    "joined_filled['homeowner'] = joined_filled.apply(lambda x: owns_home(x['house_type_30']),axis=1)"
   ]
  },
  {
   "cell_type": "markdown",
   "metadata": {},
   "source": [
    "### Feature Engineering - Continuous"
   ]
  },
  {
   "source": [
    "Let's take a look at our continuous variables first:"
   ],
   "cell_type": "markdown",
   "metadata": {}
  },
  {
   "cell_type": "code",
   "execution_count": 163,
   "metadata": {},
   "outputs": [],
   "source": [
    "continuous = ['birth_year', 'poverty', 'child_at_home', 'fin_assets_30', 'debts_30',\n",
    "       'childhood_poverty', 'moves_since_12',\n",
    "       'income_wage_compiled', 'income_bus_compiled']"
   ]
  },
  {
   "cell_type": "markdown",
   "metadata": {},
   "source": [
    "Let's start by feature engineering our income columns. We have 4 columns--estimated and actual for salary/wages and for business/farm income. let's combine them into 2 encoded columns of estimated salary--one for wages and one for business/farm."
   ]
  },
  {
   "cell_type": "code",
   "execution_count": 19,
   "metadata": {
    "scrolled": false
   },
   "outputs": [
    {
     "output_type": "execute_result",
     "data": {
      "text/plain": [
       "3.0    112\n",
       "4.0     95\n",
       "2.0     50\n",
       "1.0     49\n",
       "5.0     43\n",
       "6.0     10\n",
       "7.0      4\n",
       "Name: income_wage_est, dtype: int64"
      ]
     },
     "metadata": {},
     "execution_count": 19
    }
   ],
   "source": [
    "joined_filled.income_wage_est.value_counts()"
   ]
  },
  {
   "source": [
    "Income Wage Code key: <br/>\n",
    "  1='A. $1 - $5,000' <br/>\n",
    "  2='B. $5,001 - $10,000' <br/>\n",
    "  3='C. $10,001 - $25,000' <br/>\n",
    "  4='D. $25,001 - $50,000' <br/>\n",
    "  5='E. $50,001 - $100,000' <br/>\n",
    "  6='F. $100,001 - $250,000' <br/>\n",
    "  7='G. More than $250,000' <br/>"
   ],
   "cell_type": "markdown",
   "metadata": {}
  },
  {
   "cell_type": "code",
   "execution_count": 20,
   "metadata": {},
   "outputs": [],
   "source": [
    "#calculate median of income wages above 25k--this is an imput for our decoder function\n",
    "median_25k = np.median([joined_filled['income_wage_total'] >=250000])\n",
    "\n",
    "#create new column to store these decoded wage income values.\n",
    "joined_filled['income_wage_est_decoded'] = joined_filled.apply(lambda x: income_est_decoder(x['income_wage_est'], median_25k),axis=1)"
   ]
  },
  {
   "source": [
    "Now we want to decode our business/farm income key from our survey. However, it is slightly different than our income wage key, because 1 here stands for \"lost/would lose money\" instead of \"$1-$5000.\" <br/>\n",
    "Original Business/farm income encoder from source data: \n",
    "\n",
    "  1='A.   LOST/WOULD LOSE MONEY' <br/>\n",
    "  2='B.   $1              -        $5,000' <br/>\n",
    "  3='C.   $5,001       -        $10,000' <br/>\n",
    "  4='D.   $10,001     -        $25,000' <br/>\n",
    "  5='E.    $25,001     -        $50,000' <br/>\n",
    "  6='F.    $50,001     -        $100,000' <br/>\n",
    "  7='G.    $100,001   -        $250,000' <br/>\n",
    "  8='H.    More than  $250,000'"
   ],
   "cell_type": "markdown",
   "metadata": {}
  },
  {
   "cell_type": "code",
   "execution_count": 21,
   "metadata": {},
   "outputs": [],
   "source": [
    "#let's transform this key to resemble our income wage key\n",
    "joined_filled['income_bus_est'] = joined_filled.apply(lambda x: income_bus_transformer(x['income_bus_est']),axis=1)\n"
   ]
  },
  {
   "cell_type": "code",
   "execution_count": 22,
   "metadata": {},
   "outputs": [],
   "source": [
    "#calculate median of income wages above 25k--this is an imput for our decoder function\n",
    "median_25k = np.median([joined_filled['income_bus_total'] >=250000])\n",
    "#create new column to store these decoded business/farm income values.\n",
    "joined_filled['income_bus_est_decoded'] = joined_filled.apply(lambda x: income_est_decoder(x['income_bus_est'], median_25k),axis=1)"
   ]
  },
  {
   "cell_type": "code",
   "execution_count": 23,
   "metadata": {},
   "outputs": [
    {
     "output_type": "execute_result",
     "data": {
      "text/plain": [
       "        id  sex  birth_year  sample_type  race  poverty  marriage  metro_area  \\\n",
       "0        1    2        1981            1     4      NaN       NaN         NaN   \n",
       "1        2    1        1982            1     2    929.0       2.0         2.0   \n",
       "2        3    2        1983            1     2      NaN       3.0         2.0   \n",
       "3        4    2        1981            1     2    179.0       2.0         3.0   \n",
       "4        5    1        1982            1     2    871.0       3.0         3.0   \n",
       "...    ...  ...         ...          ...   ...      ...       ...         ...   \n",
       "7688  9018    2        1980            1     4    327.0       3.0         2.0   \n",
       "7689  9019    1        1984            0     2    498.0       2.0         3.0   \n",
       "7690  9020    1        1980            1     4      NaN       NaN         NaN   \n",
       "7691  9021    1        1980            1     4    260.0       2.0         2.0   \n",
       "7692  9022    2        1982            1     4      NaN       8.0         2.0   \n",
       "\n",
       "      child_at_home  urban_rural  ...  income_bus_est  degree_other  \\\n",
       "0               NaN          NaN  ...             NaN           4.0   \n",
       "1               NaN          0.0  ...             NaN           2.0   \n",
       "2               2.0          2.0  ...             NaN           4.0   \n",
       "3               1.0          1.0  ...             NaN           2.0   \n",
       "4               2.0          1.0  ...             NaN           2.0   \n",
       "...             ...          ...  ...             ...           ...   \n",
       "7688            0.0          1.0  ...             NaN           1.0   \n",
       "7689            0.0          1.0  ...             NaN           3.0   \n",
       "7690            NaN          NaN  ...             NaN           2.0   \n",
       "7691            1.0          1.0  ...             NaN           4.0   \n",
       "7692            2.0          1.0  ...             NaN           5.0   \n",
       "\n",
       "      house_type_30  fin_assets_30  debts_30  childhood_home  \\\n",
       "0                 6        30000.0   18000.0             2.0   \n",
       "1                 6        45000.0   35000.0             NaN   \n",
       "2                 6            NaN   19300.0             2.0   \n",
       "3                 6            0.0       0.0             2.0   \n",
       "4                 1       144000.0    9000.0             2.0   \n",
       "...             ...            ...       ...             ...   \n",
       "7688              6          100.0    1200.0             NaN   \n",
       "7689              6          400.0   17000.0             2.0   \n",
       "7690              6         6000.0       0.0             1.0   \n",
       "7691              6         5000.0       0.0             2.0   \n",
       "7692              6         2400.0   60000.0             2.0   \n",
       "\n",
       "      childhood_poverty  moves_since_12  income_wage_est_decoded  \\\n",
       "0                   NaN             1.0                      NaN   \n",
       "1                   NaN             NaN                      NaN   \n",
       "2                 583.0            13.0                      NaN   \n",
       "3                 108.0             5.0                      NaN   \n",
       "4                   NaN             9.0                      NaN   \n",
       "...                 ...             ...                      ...   \n",
       "7688                NaN             NaN                      NaN   \n",
       "7689                NaN             5.0                      NaN   \n",
       "7690              663.0             9.0                      NaN   \n",
       "7691              144.0            13.0                      NaN   \n",
       "7692              144.0            18.0                      NaN   \n",
       "\n",
       "      income_bus_est_decoded  \n",
       "0                        NaN  \n",
       "1                        NaN  \n",
       "2                        NaN  \n",
       "3                        NaN  \n",
       "4                        NaN  \n",
       "...                      ...  \n",
       "7688                     NaN  \n",
       "7689                     NaN  \n",
       "7690                     NaN  \n",
       "7691                     NaN  \n",
       "7692                     NaN  \n",
       "\n",
       "[7693 rows x 23 columns]"
      ],
      "text/html": "<div>\n<style scoped>\n    .dataframe tbody tr th:only-of-type {\n        vertical-align: middle;\n    }\n\n    .dataframe tbody tr th {\n        vertical-align: top;\n    }\n\n    .dataframe thead th {\n        text-align: right;\n    }\n</style>\n<table border=\"1\" class=\"dataframe\">\n  <thead>\n    <tr style=\"text-align: right;\">\n      <th></th>\n      <th>id</th>\n      <th>sex</th>\n      <th>birth_year</th>\n      <th>sample_type</th>\n      <th>race</th>\n      <th>poverty</th>\n      <th>marriage</th>\n      <th>metro_area</th>\n      <th>child_at_home</th>\n      <th>urban_rural</th>\n      <th>...</th>\n      <th>income_bus_est</th>\n      <th>degree_other</th>\n      <th>house_type_30</th>\n      <th>fin_assets_30</th>\n      <th>debts_30</th>\n      <th>childhood_home</th>\n      <th>childhood_poverty</th>\n      <th>moves_since_12</th>\n      <th>income_wage_est_decoded</th>\n      <th>income_bus_est_decoded</th>\n    </tr>\n  </thead>\n  <tbody>\n    <tr>\n      <th>0</th>\n      <td>1</td>\n      <td>2</td>\n      <td>1981</td>\n      <td>1</td>\n      <td>4</td>\n      <td>NaN</td>\n      <td>NaN</td>\n      <td>NaN</td>\n      <td>NaN</td>\n      <td>NaN</td>\n      <td>...</td>\n      <td>NaN</td>\n      <td>4.0</td>\n      <td>6</td>\n      <td>30000.0</td>\n      <td>18000.0</td>\n      <td>2.0</td>\n      <td>NaN</td>\n      <td>1.0</td>\n      <td>NaN</td>\n      <td>NaN</td>\n    </tr>\n    <tr>\n      <th>1</th>\n      <td>2</td>\n      <td>1</td>\n      <td>1982</td>\n      <td>1</td>\n      <td>2</td>\n      <td>929.0</td>\n      <td>2.0</td>\n      <td>2.0</td>\n      <td>NaN</td>\n      <td>0.0</td>\n      <td>...</td>\n      <td>NaN</td>\n      <td>2.0</td>\n      <td>6</td>\n      <td>45000.0</td>\n      <td>35000.0</td>\n      <td>NaN</td>\n      <td>NaN</td>\n      <td>NaN</td>\n      <td>NaN</td>\n      <td>NaN</td>\n    </tr>\n    <tr>\n      <th>2</th>\n      <td>3</td>\n      <td>2</td>\n      <td>1983</td>\n      <td>1</td>\n      <td>2</td>\n      <td>NaN</td>\n      <td>3.0</td>\n      <td>2.0</td>\n      <td>2.0</td>\n      <td>2.0</td>\n      <td>...</td>\n      <td>NaN</td>\n      <td>4.0</td>\n      <td>6</td>\n      <td>NaN</td>\n      <td>19300.0</td>\n      <td>2.0</td>\n      <td>583.0</td>\n      <td>13.0</td>\n      <td>NaN</td>\n      <td>NaN</td>\n    </tr>\n    <tr>\n      <th>3</th>\n      <td>4</td>\n      <td>2</td>\n      <td>1981</td>\n      <td>1</td>\n      <td>2</td>\n      <td>179.0</td>\n      <td>2.0</td>\n      <td>3.0</td>\n      <td>1.0</td>\n      <td>1.0</td>\n      <td>...</td>\n      <td>NaN</td>\n      <td>2.0</td>\n      <td>6</td>\n      <td>0.0</td>\n      <td>0.0</td>\n      <td>2.0</td>\n      <td>108.0</td>\n      <td>5.0</td>\n      <td>NaN</td>\n      <td>NaN</td>\n    </tr>\n    <tr>\n      <th>4</th>\n      <td>5</td>\n      <td>1</td>\n      <td>1982</td>\n      <td>1</td>\n      <td>2</td>\n      <td>871.0</td>\n      <td>3.0</td>\n      <td>3.0</td>\n      <td>2.0</td>\n      <td>1.0</td>\n      <td>...</td>\n      <td>NaN</td>\n      <td>2.0</td>\n      <td>1</td>\n      <td>144000.0</td>\n      <td>9000.0</td>\n      <td>2.0</td>\n      <td>NaN</td>\n      <td>9.0</td>\n      <td>NaN</td>\n      <td>NaN</td>\n    </tr>\n    <tr>\n      <th>...</th>\n      <td>...</td>\n      <td>...</td>\n      <td>...</td>\n      <td>...</td>\n      <td>...</td>\n      <td>...</td>\n      <td>...</td>\n      <td>...</td>\n      <td>...</td>\n      <td>...</td>\n      <td>...</td>\n      <td>...</td>\n      <td>...</td>\n      <td>...</td>\n      <td>...</td>\n      <td>...</td>\n      <td>...</td>\n      <td>...</td>\n      <td>...</td>\n      <td>...</td>\n      <td>...</td>\n    </tr>\n    <tr>\n      <th>7688</th>\n      <td>9018</td>\n      <td>2</td>\n      <td>1980</td>\n      <td>1</td>\n      <td>4</td>\n      <td>327.0</td>\n      <td>3.0</td>\n      <td>2.0</td>\n      <td>0.0</td>\n      <td>1.0</td>\n      <td>...</td>\n      <td>NaN</td>\n      <td>1.0</td>\n      <td>6</td>\n      <td>100.0</td>\n      <td>1200.0</td>\n      <td>NaN</td>\n      <td>NaN</td>\n      <td>NaN</td>\n      <td>NaN</td>\n      <td>NaN</td>\n    </tr>\n    <tr>\n      <th>7689</th>\n      <td>9019</td>\n      <td>1</td>\n      <td>1984</td>\n      <td>0</td>\n      <td>2</td>\n      <td>498.0</td>\n      <td>2.0</td>\n      <td>3.0</td>\n      <td>0.0</td>\n      <td>1.0</td>\n      <td>...</td>\n      <td>NaN</td>\n      <td>3.0</td>\n      <td>6</td>\n      <td>400.0</td>\n      <td>17000.0</td>\n      <td>2.0</td>\n      <td>NaN</td>\n      <td>5.0</td>\n      <td>NaN</td>\n      <td>NaN</td>\n    </tr>\n    <tr>\n      <th>7690</th>\n      <td>9020</td>\n      <td>1</td>\n      <td>1980</td>\n      <td>1</td>\n      <td>4</td>\n      <td>NaN</td>\n      <td>NaN</td>\n      <td>NaN</td>\n      <td>NaN</td>\n      <td>NaN</td>\n      <td>...</td>\n      <td>NaN</td>\n      <td>2.0</td>\n      <td>6</td>\n      <td>6000.0</td>\n      <td>0.0</td>\n      <td>1.0</td>\n      <td>663.0</td>\n      <td>9.0</td>\n      <td>NaN</td>\n      <td>NaN</td>\n    </tr>\n    <tr>\n      <th>7691</th>\n      <td>9021</td>\n      <td>1</td>\n      <td>1980</td>\n      <td>1</td>\n      <td>4</td>\n      <td>260.0</td>\n      <td>2.0</td>\n      <td>2.0</td>\n      <td>1.0</td>\n      <td>1.0</td>\n      <td>...</td>\n      <td>NaN</td>\n      <td>4.0</td>\n      <td>6</td>\n      <td>5000.0</td>\n      <td>0.0</td>\n      <td>2.0</td>\n      <td>144.0</td>\n      <td>13.0</td>\n      <td>NaN</td>\n      <td>NaN</td>\n    </tr>\n    <tr>\n      <th>7692</th>\n      <td>9022</td>\n      <td>2</td>\n      <td>1982</td>\n      <td>1</td>\n      <td>4</td>\n      <td>NaN</td>\n      <td>8.0</td>\n      <td>2.0</td>\n      <td>2.0</td>\n      <td>1.0</td>\n      <td>...</td>\n      <td>NaN</td>\n      <td>5.0</td>\n      <td>6</td>\n      <td>2400.0</td>\n      <td>60000.0</td>\n      <td>2.0</td>\n      <td>144.0</td>\n      <td>18.0</td>\n      <td>NaN</td>\n      <td>NaN</td>\n    </tr>\n  </tbody>\n</table>\n<p>7693 rows × 23 columns</p>\n</div>"
     },
     "metadata": {},
     "execution_count": 23
    }
   ],
   "source": [
    "joined_filled"
   ]
  },
  {
   "cell_type": "code",
   "execution_count": 24,
   "metadata": {},
   "outputs": [
    {
     "output_type": "execute_result",
     "data": {
      "text/plain": [
       "5380"
      ]
     },
     "metadata": {},
     "execution_count": 24
    }
   ],
   "source": [
    "#let's compile the newly decoded estimates and our original total column for income wages now.\n",
    "joined_filled['income_wage_compiled'] = joined_filled.apply(lambda x: income_compiler(x['income_wage_total'],x['income_wage_est_decoded']),axis=1)\n",
    "joined_filled.income_wage_compiled.notnull().sum()"
   ]
  },
  {
   "cell_type": "code",
   "execution_count": 25,
   "metadata": {},
   "outputs": [
    {
     "output_type": "execute_result",
     "data": {
      "text/plain": [
       "5380"
      ]
     },
     "metadata": {},
     "execution_count": 25
    }
   ],
   "source": [
    "#sanity check--the non-null values in our compiled column is exactly the totals of the non-null values in our two individual columns\n",
    "joined_filled.income_wage_est_decoded.notnull().sum() + joined_filled.income_wage_total.notnull().sum()"
   ]
  },
  {
   "cell_type": "code",
   "execution_count": 26,
   "metadata": {},
   "outputs": [
    {
     "output_type": "execute_result",
     "data": {
      "text/plain": [
       "232"
      ]
     },
     "metadata": {},
     "execution_count": 26
    }
   ],
   "source": [
    "#let's compile the newly decoded estimates and our original total column for income farm/business now.\n",
    "joined_filled['income_bus_compiled'] = joined_filled.apply(lambda x: income_compiler(x['income_bus_total'],x['income_bus_est_decoded']),axis=1)\n",
    "joined_filled.income_bus_compiled.notnull().sum()\n",
    "\n"
   ]
  },
  {
   "cell_type": "code",
   "execution_count": 27,
   "metadata": {},
   "outputs": [
    {
     "output_type": "execute_result",
     "data": {
      "text/plain": [
       "232"
      ]
     },
     "metadata": {},
     "execution_count": 27
    }
   ],
   "source": [
    "#sanity check--the non-null values in our compiled column is exactly the totals of the non-null values in our two individual columns\n",
    "joined_filled.income_bus_est_decoded.notnull().sum() + joined_filled.income_bus_total.notnull().sum()"
   ]
  },
  {
   "cell_type": "code",
   "execution_count": 28,
   "metadata": {},
   "outputs": [
    {
     "output_type": "execute_result",
     "data": {
      "text/plain": [
       "Index(['id', 'sex', 'birth_year', 'sample_type', 'race', 'poverty', 'marriage',\n",
       "       'metro_area', 'child_at_home', 'urban_rural', 'income_wage_total',\n",
       "       'income_wage_est', 'income_bus_total', 'income_bus_est', 'degree_other',\n",
       "       'house_type_30', 'fin_assets_30', 'debts_30', 'childhood_home',\n",
       "       'childhood_poverty', 'moves_since_12', 'income_wage_est_decoded',\n",
       "       'income_bus_est_decoded', 'income_wage_compiled',\n",
       "       'income_bus_compiled'],\n",
       "      dtype='object')"
      ]
     },
     "metadata": {},
     "execution_count": 28
    }
   ],
   "source": [
    "joined_filled.columns"
   ]
  },
  {
   "cell_type": "code",
   "execution_count": 29,
   "metadata": {},
   "outputs": [],
   "source": [
    "#drop any columns we don't need during modeling\n",
    "joined_filled = joined_filled.drop(columns =['income_wage_total','income_wage_est', \n",
    "                                            'income_bus_total', 'income_bus_est',\n",
    "                                            'income_wage_est_decoded', 'income_bus_est_decoded',])\n",
    "\n",
    "                                \n",
    "       "
   ]
  },
  {
   "cell_type": "code",
   "execution_count": 83,
   "metadata": {},
   "outputs": [
    {
     "output_type": "execute_result",
     "data": {
      "text/plain": [
       "        id  sex  birth_year  sample_type  race  poverty  marriage  metro_area  \\\n",
       "0        1    2        1981            1     4      NaN       NaN         NaN   \n",
       "1        2    1        1982            1     2    929.0       2.0         2.0   \n",
       "2        3    2        1983            1     2      NaN       3.0         2.0   \n",
       "3        4    2        1981            1     2    179.0       2.0         3.0   \n",
       "4        5    1        1982            1     2    871.0       3.0         3.0   \n",
       "...    ...  ...         ...          ...   ...      ...       ...         ...   \n",
       "7688  9018    2        1980            1     4    327.0       3.0         2.0   \n",
       "7689  9019    1        1984            0     2    498.0       2.0         3.0   \n",
       "7690  9020    1        1980            1     4      NaN       NaN         NaN   \n",
       "7691  9021    1        1980            1     4    260.0       2.0         2.0   \n",
       "7692  9022    2        1982            1     4      NaN       8.0         2.0   \n",
       "\n",
       "      child_at_home  urban_rural  degree_other  house_type_30  fin_assets_30  \\\n",
       "0               NaN          NaN           4.0              6        30000.0   \n",
       "1               NaN          0.0           2.0              6        45000.0   \n",
       "2               2.0          2.0           4.0              6            NaN   \n",
       "3               1.0          1.0           2.0              6            0.0   \n",
       "4               2.0          1.0           2.0              1       144000.0   \n",
       "...             ...          ...           ...            ...            ...   \n",
       "7688            0.0          1.0           1.0              6          100.0   \n",
       "7689            0.0          1.0           3.0              6          400.0   \n",
       "7690            NaN          NaN           2.0              6         6000.0   \n",
       "7691            1.0          1.0           4.0              6         5000.0   \n",
       "7692            2.0          1.0           5.0              6         2400.0   \n",
       "\n",
       "      debts_30  childhood_home  childhood_poverty  moves_since_12  homeowner  \\\n",
       "0      18000.0             2.0                NaN             1.0          0   \n",
       "1      35000.0             NaN                NaN             NaN          0   \n",
       "2      19300.0             2.0              583.0            13.0          0   \n",
       "3          0.0             2.0              108.0             5.0          0   \n",
       "4       9000.0             2.0                NaN             9.0          1   \n",
       "...        ...             ...                ...             ...        ...   \n",
       "7688    1200.0             NaN                NaN             NaN          0   \n",
       "7689   17000.0             2.0                NaN             5.0          0   \n",
       "7690       0.0             1.0              663.0             9.0          0   \n",
       "7691       0.0             2.0              144.0            13.0          0   \n",
       "7692   60000.0             2.0              144.0            18.0          0   \n",
       "\n",
       "      income_wage_compiled  income_bus_compiled  \n",
       "0                      NaN                  NaN  \n",
       "1                 116000.0                  NaN  \n",
       "2                      NaN                  NaN  \n",
       "3                  45000.0                  NaN  \n",
       "4                 125000.0                  NaN  \n",
       "...                    ...                  ...  \n",
       "7688               17500.0                  NaN  \n",
       "7689               35000.0                  NaN  \n",
       "7690                   NaN                  NaN  \n",
       "7691               35000.0                  NaN  \n",
       "7692               50000.0                  NaN  \n",
       "\n",
       "[7693 rows x 20 columns]"
      ],
      "text/html": "<div>\n<style scoped>\n    .dataframe tbody tr th:only-of-type {\n        vertical-align: middle;\n    }\n\n    .dataframe tbody tr th {\n        vertical-align: top;\n    }\n\n    .dataframe thead th {\n        text-align: right;\n    }\n</style>\n<table border=\"1\" class=\"dataframe\">\n  <thead>\n    <tr style=\"text-align: right;\">\n      <th></th>\n      <th>id</th>\n      <th>sex</th>\n      <th>birth_year</th>\n      <th>sample_type</th>\n      <th>race</th>\n      <th>poverty</th>\n      <th>marriage</th>\n      <th>metro_area</th>\n      <th>child_at_home</th>\n      <th>urban_rural</th>\n      <th>degree_other</th>\n      <th>house_type_30</th>\n      <th>fin_assets_30</th>\n      <th>debts_30</th>\n      <th>childhood_home</th>\n      <th>childhood_poverty</th>\n      <th>moves_since_12</th>\n      <th>homeowner</th>\n      <th>income_wage_compiled</th>\n      <th>income_bus_compiled</th>\n    </tr>\n  </thead>\n  <tbody>\n    <tr>\n      <th>0</th>\n      <td>1</td>\n      <td>2</td>\n      <td>1981</td>\n      <td>1</td>\n      <td>4</td>\n      <td>NaN</td>\n      <td>NaN</td>\n      <td>NaN</td>\n      <td>NaN</td>\n      <td>NaN</td>\n      <td>4.0</td>\n      <td>6</td>\n      <td>30000.0</td>\n      <td>18000.0</td>\n      <td>2.0</td>\n      <td>NaN</td>\n      <td>1.0</td>\n      <td>0</td>\n      <td>NaN</td>\n      <td>NaN</td>\n    </tr>\n    <tr>\n      <th>1</th>\n      <td>2</td>\n      <td>1</td>\n      <td>1982</td>\n      <td>1</td>\n      <td>2</td>\n      <td>929.0</td>\n      <td>2.0</td>\n      <td>2.0</td>\n      <td>NaN</td>\n      <td>0.0</td>\n      <td>2.0</td>\n      <td>6</td>\n      <td>45000.0</td>\n      <td>35000.0</td>\n      <td>NaN</td>\n      <td>NaN</td>\n      <td>NaN</td>\n      <td>0</td>\n      <td>116000.0</td>\n      <td>NaN</td>\n    </tr>\n    <tr>\n      <th>2</th>\n      <td>3</td>\n      <td>2</td>\n      <td>1983</td>\n      <td>1</td>\n      <td>2</td>\n      <td>NaN</td>\n      <td>3.0</td>\n      <td>2.0</td>\n      <td>2.0</td>\n      <td>2.0</td>\n      <td>4.0</td>\n      <td>6</td>\n      <td>NaN</td>\n      <td>19300.0</td>\n      <td>2.0</td>\n      <td>583.0</td>\n      <td>13.0</td>\n      <td>0</td>\n      <td>NaN</td>\n      <td>NaN</td>\n    </tr>\n    <tr>\n      <th>3</th>\n      <td>4</td>\n      <td>2</td>\n      <td>1981</td>\n      <td>1</td>\n      <td>2</td>\n      <td>179.0</td>\n      <td>2.0</td>\n      <td>3.0</td>\n      <td>1.0</td>\n      <td>1.0</td>\n      <td>2.0</td>\n      <td>6</td>\n      <td>0.0</td>\n      <td>0.0</td>\n      <td>2.0</td>\n      <td>108.0</td>\n      <td>5.0</td>\n      <td>0</td>\n      <td>45000.0</td>\n      <td>NaN</td>\n    </tr>\n    <tr>\n      <th>4</th>\n      <td>5</td>\n      <td>1</td>\n      <td>1982</td>\n      <td>1</td>\n      <td>2</td>\n      <td>871.0</td>\n      <td>3.0</td>\n      <td>3.0</td>\n      <td>2.0</td>\n      <td>1.0</td>\n      <td>2.0</td>\n      <td>1</td>\n      <td>144000.0</td>\n      <td>9000.0</td>\n      <td>2.0</td>\n      <td>NaN</td>\n      <td>9.0</td>\n      <td>1</td>\n      <td>125000.0</td>\n      <td>NaN</td>\n    </tr>\n    <tr>\n      <th>...</th>\n      <td>...</td>\n      <td>...</td>\n      <td>...</td>\n      <td>...</td>\n      <td>...</td>\n      <td>...</td>\n      <td>...</td>\n      <td>...</td>\n      <td>...</td>\n      <td>...</td>\n      <td>...</td>\n      <td>...</td>\n      <td>...</td>\n      <td>...</td>\n      <td>...</td>\n      <td>...</td>\n      <td>...</td>\n      <td>...</td>\n      <td>...</td>\n      <td>...</td>\n    </tr>\n    <tr>\n      <th>7688</th>\n      <td>9018</td>\n      <td>2</td>\n      <td>1980</td>\n      <td>1</td>\n      <td>4</td>\n      <td>327.0</td>\n      <td>3.0</td>\n      <td>2.0</td>\n      <td>0.0</td>\n      <td>1.0</td>\n      <td>1.0</td>\n      <td>6</td>\n      <td>100.0</td>\n      <td>1200.0</td>\n      <td>NaN</td>\n      <td>NaN</td>\n      <td>NaN</td>\n      <td>0</td>\n      <td>17500.0</td>\n      <td>NaN</td>\n    </tr>\n    <tr>\n      <th>7689</th>\n      <td>9019</td>\n      <td>1</td>\n      <td>1984</td>\n      <td>0</td>\n      <td>2</td>\n      <td>498.0</td>\n      <td>2.0</td>\n      <td>3.0</td>\n      <td>0.0</td>\n      <td>1.0</td>\n      <td>3.0</td>\n      <td>6</td>\n      <td>400.0</td>\n      <td>17000.0</td>\n      <td>2.0</td>\n      <td>NaN</td>\n      <td>5.0</td>\n      <td>0</td>\n      <td>35000.0</td>\n      <td>NaN</td>\n    </tr>\n    <tr>\n      <th>7690</th>\n      <td>9020</td>\n      <td>1</td>\n      <td>1980</td>\n      <td>1</td>\n      <td>4</td>\n      <td>NaN</td>\n      <td>NaN</td>\n      <td>NaN</td>\n      <td>NaN</td>\n      <td>NaN</td>\n      <td>2.0</td>\n      <td>6</td>\n      <td>6000.0</td>\n      <td>0.0</td>\n      <td>1.0</td>\n      <td>663.0</td>\n      <td>9.0</td>\n      <td>0</td>\n      <td>NaN</td>\n      <td>NaN</td>\n    </tr>\n    <tr>\n      <th>7691</th>\n      <td>9021</td>\n      <td>1</td>\n      <td>1980</td>\n      <td>1</td>\n      <td>4</td>\n      <td>260.0</td>\n      <td>2.0</td>\n      <td>2.0</td>\n      <td>1.0</td>\n      <td>1.0</td>\n      <td>4.0</td>\n      <td>6</td>\n      <td>5000.0</td>\n      <td>0.0</td>\n      <td>2.0</td>\n      <td>144.0</td>\n      <td>13.0</td>\n      <td>0</td>\n      <td>35000.0</td>\n      <td>NaN</td>\n    </tr>\n    <tr>\n      <th>7692</th>\n      <td>9022</td>\n      <td>2</td>\n      <td>1982</td>\n      <td>1</td>\n      <td>4</td>\n      <td>NaN</td>\n      <td>8.0</td>\n      <td>2.0</td>\n      <td>2.0</td>\n      <td>1.0</td>\n      <td>5.0</td>\n      <td>6</td>\n      <td>2400.0</td>\n      <td>60000.0</td>\n      <td>2.0</td>\n      <td>144.0</td>\n      <td>18.0</td>\n      <td>0</td>\n      <td>50000.0</td>\n      <td>NaN</td>\n    </tr>\n  </tbody>\n</table>\n<p>7693 rows × 20 columns</p>\n</div>"
     },
     "metadata": {},
     "execution_count": 83
    }
   ],
   "source": [
    "joined_filled"
   ]
  },
  {
   "cell_type": "code",
   "execution_count": 84,
   "metadata": {},
   "outputs": [],
   "source": [
    "#pickle it for our next notebook on modeling!\n",
    "joined_filled.to_pickle('joined_filled_income_cont.pickle')"
   ]
  },
  {
   "source": [
    "### Homeowner breakdown"
   ],
   "cell_type": "markdown",
   "metadata": {}
  },
  {
   "source": [
    "Before we move onto categorical variables, let's plot an pie chart to see the proportion of millenials who own vs don't own homes, and how their type of home serves the problem we're trying to solve, which is pinpointing the millenial home owners that brands--marketers, product leads, etc-- can reach."
   ],
   "cell_type": "markdown",
   "metadata": {}
  },
  {
   "cell_type": "code",
   "execution_count": 30,
   "metadata": {},
   "outputs": [
    {
     "output_type": "execute_result",
     "data": {
      "text/plain": [
       "6    5352\n",
       "1    1936\n",
       "9     247\n",
       "3     156\n",
       "2       2\n",
       "Name: house_type_30, dtype: int64"
      ]
     },
     "metadata": {},
     "execution_count": 30
    }
   ],
   "source": [
    "\n",
    "#based on house type\n",
    "#let's get the percentages of each type\n",
    "joined_filled.house_type_30.value_counts()\n"
   ]
  },
  {
   "source": [
    "Here is the key for house type: <br/>\n",
    "  1='House' <br/>\n",
    "  2='Ranch/Farm' <br/>\n",
    "  3='Mobile Home' <br/>\n",
    "  6='R does not own' <br/>\n",
    "  9='Owns other residence type'"
   ],
   "cell_type": "markdown",
   "metadata": {}
  },
  {
   "cell_type": "code",
   "execution_count": 36,
   "metadata": {},
   "outputs": [],
   "source": [
    "# There is a bug in matplotlib. You cannot set the rc parameters in the same\n",
    "# cell that you use the \"%matplotlib inline\" magic command\n",
    "plt.style.use('ggplot')\n",
    "plt.rc('font', size=14)"
   ]
  },
  {
   "cell_type": "code",
   "execution_count": 45,
   "metadata": {},
   "outputs": [
    {
     "output_type": "display_data",
     "data": {
      "text/plain": "<Figure size 432x288 with 1 Axes>",
      "image/svg+xml": "<?xml version=\"1.0\" encoding=\"utf-8\" standalone=\"no\"?>\n<!DOCTYPE svg PUBLIC \"-//W3C//DTD SVG 1.1//EN\"\n  \"http://www.w3.org/Graphics/SVG/1.1/DTD/svg11.dtd\">\n<!-- Created with matplotlib (https://matplotlib.org/) -->\n<svg height=\"271.888113pt\" version=\"1.1\" viewBox=\"0 0 419.146142 271.888113\" width=\"419.146142pt\" xmlns=\"http://www.w3.org/2000/svg\" xmlns:xlink=\"http://www.w3.org/1999/xlink\">\n <metadata>\n  <rdf:RDF xmlns:cc=\"http://creativecommons.org/ns#\" xmlns:dc=\"http://purl.org/dc/elements/1.1/\" xmlns:rdf=\"http://www.w3.org/1999/02/22-rdf-syntax-ns#\">\n   <cc:Work>\n    <dc:type rdf:resource=\"http://purl.org/dc/dcmitype/StillImage\"/>\n    <dc:date>2020-10-28T09:27:35.036569</dc:date>\n    <dc:format>image/svg+xml</dc:format>\n    <dc:creator>\n     <cc:Agent>\n      <dc:title>Matplotlib v3.3.2, https://matplotlib.org/</dc:title>\n     </cc:Agent>\n    </dc:creator>\n   </cc:Work>\n  </rdf:RDF>\n </metadata>\n <defs>\n  <style type=\"text/css\">*{stroke-linecap:butt;stroke-linejoin:round;}</style>\n </defs>\n <g id=\"figure_1\">\n  <g id=\"patch_1\">\n   <path d=\"M -0 271.888113 \nL 419.146142 271.888113 \nL 419.146142 0 \nL -0 0 \nz\n\" style=\"fill:#ffffff;\"/>\n  </g>\n  <g id=\"axes_1\">\n   <g id=\"matplotlib.axis_1\"/>\n   <g id=\"matplotlib.axis_2\"/>\n   <g id=\"patch_2\">\n    <path d=\"M 185.431941 25.038776 \nC 164.681103 25.038776 144.324134 30.742921 126.594598 41.525352 \nC 108.865063 52.307784 94.436004 67.759182 84.890577 86.184222 \nC 75.34515 104.609261 71.045716 125.308496 72.464008 146.010808 \nC 73.882299 166.71312 80.964476 186.632613 92.933483 203.583724 \nC 104.902489 220.534834 121.303962 233.874068 140.338331 242.137846 \nC 159.372701 250.401625 180.317391 253.27624 200.874352 250.44629 \nC 221.431313 247.61634 240.820167 239.189254 256.913572 226.089652 \nC 273.006977 212.990049 285.193999 195.715213 292.137479 176.160538 \nL 185.431941 138.271504 \nL 185.431941 25.038776 \nz\n\" style=\"fill:#bfc9ca;\"/>\n   </g>\n   <g id=\"patch_3\">\n    <path d=\"M 292.137479 176.160538 \nC 297.79018 160.241035 299.809318 143.256475 298.046462 126.455405 \nC 296.283607 109.654335 290.78304 93.458781 281.949113 79.059291 \nC 273.115185 64.6598 261.169796 52.418073 246.99106 43.234008 \nC 232.812323 34.049943 216.756396 28.154235 200.003559 25.980281 \nL 185.431941 138.271504 \nL 292.137479 176.160538 \nz\n\" style=\"fill:#45b39d;\"/>\n   </g>\n   <g id=\"patch_4\">\n    <path d=\"M 200.003559 25.980281 \nC 197.588246 25.666855 195.163449 25.431438 192.732953 25.274398 \nC 190.302457 25.117358 187.867526 25.038776 185.431962 25.038776 \nL 185.431941 138.271504 \nL 200.003559 25.980281 \nz\n\" style=\"fill:#a3e4d7;\"/>\n   </g>\n   <g id=\"patch_5\">\n    <path clip-path=\"url(#p0ffe0636fe)\" d=\"M 185.431941 217.534414 \nC 206.45271 217.534414 226.615353 209.182773 241.479282 194.318845 \nC 256.34321 179.454916 264.69485 159.292273 264.69485 138.271504 \nC 264.69485 117.250735 256.34321 97.088092 241.479282 82.224163 \nC 226.615353 67.360234 206.45271 59.008594 185.431941 59.008594 \nC 164.411171 59.008594 144.248528 67.360234 129.3846 82.224163 \nC 114.520671 97.088092 106.169031 117.250735 106.169031 138.271504 \nC 106.169031 159.292273 114.520671 179.454916 129.3846 194.318845 \nC 144.248528 209.182773 164.411171 217.534414 185.431941 217.534414 \nz\n\" style=\"fill:#ffffff;\"/>\n   </g>\n   <g id=\"text_1\">\n    <!-- Rents -->\n    <g transform=\"translate(44.317387 213.978071)scale(0.14 -0.14)\">\n     <defs>\n      <path d=\"M 44.390625 34.1875 \nQ 47.5625 33.109375 50.5625 29.59375 \nQ 53.5625 26.078125 56.59375 19.921875 \nL 66.609375 0 \nL 56 0 \nL 46.6875 18.703125 \nQ 43.0625 26.03125 39.671875 28.421875 \nQ 36.28125 30.8125 30.421875 30.8125 \nL 19.671875 30.8125 \nL 19.671875 0 \nL 9.8125 0 \nL 9.8125 72.90625 \nL 32.078125 72.90625 \nQ 44.578125 72.90625 50.734375 67.671875 \nQ 56.890625 62.453125 56.890625 51.90625 \nQ 56.890625 45.015625 53.6875 40.46875 \nQ 50.484375 35.9375 44.390625 34.1875 \nz\nM 19.671875 64.796875 \nL 19.671875 38.921875 \nL 32.078125 38.921875 \nQ 39.203125 38.921875 42.84375 42.21875 \nQ 46.484375 45.515625 46.484375 51.90625 \nQ 46.484375 58.296875 42.84375 61.546875 \nQ 39.203125 64.796875 32.078125 64.796875 \nz\n\" id=\"DejaVuSans-82\"/>\n      <path d=\"M 56.203125 29.59375 \nL 56.203125 25.203125 \nL 14.890625 25.203125 \nQ 15.484375 15.921875 20.484375 11.0625 \nQ 25.484375 6.203125 34.421875 6.203125 \nQ 39.59375 6.203125 44.453125 7.46875 \nQ 49.3125 8.734375 54.109375 11.28125 \nL 54.109375 2.78125 \nQ 49.265625 0.734375 44.1875 -0.34375 \nQ 39.109375 -1.421875 33.890625 -1.421875 \nQ 20.796875 -1.421875 13.15625 6.1875 \nQ 5.515625 13.8125 5.515625 26.8125 \nQ 5.515625 40.234375 12.765625 48.109375 \nQ 20.015625 56 32.328125 56 \nQ 43.359375 56 49.78125 48.890625 \nQ 56.203125 41.796875 56.203125 29.59375 \nz\nM 47.21875 32.234375 \nQ 47.125 39.59375 43.09375 43.984375 \nQ 39.0625 48.390625 32.421875 48.390625 \nQ 24.90625 48.390625 20.390625 44.140625 \nQ 15.875 39.890625 15.1875 32.171875 \nz\n\" id=\"DejaVuSans-101\"/>\n      <path d=\"M 54.890625 33.015625 \nL 54.890625 0 \nL 45.90625 0 \nL 45.90625 32.71875 \nQ 45.90625 40.484375 42.875 44.328125 \nQ 39.84375 48.1875 33.796875 48.1875 \nQ 26.515625 48.1875 22.3125 43.546875 \nQ 18.109375 38.921875 18.109375 30.90625 \nL 18.109375 0 \nL 9.078125 0 \nL 9.078125 54.6875 \nL 18.109375 54.6875 \nL 18.109375 46.1875 \nQ 21.34375 51.125 25.703125 53.5625 \nQ 30.078125 56 35.796875 56 \nQ 45.21875 56 50.046875 50.171875 \nQ 54.890625 44.34375 54.890625 33.015625 \nz\n\" id=\"DejaVuSans-110\"/>\n      <path d=\"M 18.3125 70.21875 \nL 18.3125 54.6875 \nL 36.8125 54.6875 \nL 36.8125 47.703125 \nL 18.3125 47.703125 \nL 18.3125 18.015625 \nQ 18.3125 11.328125 20.140625 9.421875 \nQ 21.96875 7.515625 27.59375 7.515625 \nL 36.8125 7.515625 \nL 36.8125 0 \nL 27.59375 0 \nQ 17.1875 0 13.234375 3.875 \nQ 9.28125 7.765625 9.28125 18.015625 \nL 9.28125 47.703125 \nL 2.6875 47.703125 \nL 2.6875 54.6875 \nL 9.28125 54.6875 \nL 9.28125 70.21875 \nz\n\" id=\"DejaVuSans-116\"/>\n      <path d=\"M 44.28125 53.078125 \nL 44.28125 44.578125 \nQ 40.484375 46.53125 36.375 47.5 \nQ 32.28125 48.484375 27.875 48.484375 \nQ 21.1875 48.484375 17.84375 46.4375 \nQ 14.5 44.390625 14.5 40.28125 \nQ 14.5 37.15625 16.890625 35.375 \nQ 19.28125 33.59375 26.515625 31.984375 \nL 29.59375 31.296875 \nQ 39.15625 29.25 43.1875 25.515625 \nQ 47.21875 21.78125 47.21875 15.09375 \nQ 47.21875 7.46875 41.1875 3.015625 \nQ 35.15625 -1.421875 24.609375 -1.421875 \nQ 20.21875 -1.421875 15.453125 -0.5625 \nQ 10.6875 0.296875 5.421875 2 \nL 5.421875 11.28125 \nQ 10.40625 8.6875 15.234375 7.390625 \nQ 20.0625 6.109375 24.8125 6.109375 \nQ 31.15625 6.109375 34.5625 8.28125 \nQ 37.984375 10.453125 37.984375 14.40625 \nQ 37.984375 18.0625 35.515625 20.015625 \nQ 33.0625 21.96875 24.703125 23.78125 \nL 21.578125 24.515625 \nQ 13.234375 26.265625 9.515625 29.90625 \nQ 5.8125 33.546875 5.8125 39.890625 \nQ 5.8125 47.609375 11.28125 51.796875 \nQ 16.75 56 26.8125 56 \nQ 31.78125 56 36.171875 55.265625 \nQ 40.578125 54.546875 44.28125 53.078125 \nz\n\" id=\"DejaVuSans-115\"/>\n     </defs>\n     <use xlink:href=\"#DejaVuSans-82\"/>\n     <use x=\"64.982422\" xlink:href=\"#DejaVuSans-101\"/>\n     <use x=\"126.505859\" xlink:href=\"#DejaVuSans-110\"/>\n     <use x=\"189.884766\" xlink:href=\"#DejaVuSans-116\"/>\n     <use x=\"229.09375\" xlink:href=\"#DejaVuSans-115\"/>\n    </g>\n   </g>\n   <g id=\"text_2\">\n    <!-- 70% -->\n    <g transform=\"translate(114.374272 181.321961)scale(0.14 -0.14)\">\n     <defs>\n      <path d=\"M 8.203125 72.90625 \nL 55.078125 72.90625 \nL 55.078125 68.703125 \nL 28.609375 0 \nL 18.3125 0 \nL 43.21875 64.59375 \nL 8.203125 64.59375 \nz\n\" id=\"DejaVuSans-55\"/>\n      <path d=\"M 31.78125 66.40625 \nQ 24.171875 66.40625 20.328125 58.90625 \nQ 16.5 51.421875 16.5 36.375 \nQ 16.5 21.390625 20.328125 13.890625 \nQ 24.171875 6.390625 31.78125 6.390625 \nQ 39.453125 6.390625 43.28125 13.890625 \nQ 47.125 21.390625 47.125 36.375 \nQ 47.125 51.421875 43.28125 58.90625 \nQ 39.453125 66.40625 31.78125 66.40625 \nz\nM 31.78125 74.21875 \nQ 44.046875 74.21875 50.515625 64.515625 \nQ 56.984375 54.828125 56.984375 36.375 \nQ 56.984375 17.96875 50.515625 8.265625 \nQ 44.046875 -1.421875 31.78125 -1.421875 \nQ 19.53125 -1.421875 13.0625 8.265625 \nQ 6.59375 17.96875 6.59375 36.375 \nQ 6.59375 54.828125 13.0625 64.515625 \nQ 19.53125 74.21875 31.78125 74.21875 \nz\n\" id=\"DejaVuSans-48\"/>\n      <path d=\"M 72.703125 32.078125 \nQ 68.453125 32.078125 66.03125 28.46875 \nQ 63.625 24.859375 63.625 18.40625 \nQ 63.625 12.0625 66.03125 8.421875 \nQ 68.453125 4.78125 72.703125 4.78125 \nQ 76.859375 4.78125 79.265625 8.421875 \nQ 81.6875 12.0625 81.6875 18.40625 \nQ 81.6875 24.8125 79.265625 28.4375 \nQ 76.859375 32.078125 72.703125 32.078125 \nz\nM 72.703125 38.28125 \nQ 80.421875 38.28125 84.953125 32.90625 \nQ 89.5 27.546875 89.5 18.40625 \nQ 89.5 9.28125 84.9375 3.921875 \nQ 80.375 -1.421875 72.703125 -1.421875 \nQ 64.890625 -1.421875 60.34375 3.921875 \nQ 55.8125 9.28125 55.8125 18.40625 \nQ 55.8125 27.59375 60.375 32.9375 \nQ 64.9375 38.28125 72.703125 38.28125 \nz\nM 22.3125 68.015625 \nQ 18.109375 68.015625 15.6875 64.375 \nQ 13.28125 60.75 13.28125 54.390625 \nQ 13.28125 47.953125 15.671875 44.328125 \nQ 18.0625 40.71875 22.3125 40.71875 \nQ 26.5625 40.71875 28.96875 44.328125 \nQ 31.390625 47.953125 31.390625 54.390625 \nQ 31.390625 60.6875 28.953125 64.34375 \nQ 26.515625 68.015625 22.3125 68.015625 \nz\nM 66.40625 74.21875 \nL 74.21875 74.21875 \nL 28.609375 -1.421875 \nL 20.796875 -1.421875 \nz\nM 22.3125 74.21875 \nQ 30.03125 74.21875 34.609375 68.875 \nQ 39.203125 63.53125 39.203125 54.390625 \nQ 39.203125 45.171875 34.640625 39.84375 \nQ 30.078125 34.515625 22.3125 34.515625 \nQ 14.546875 34.515625 10.03125 39.859375 \nQ 5.515625 45.21875 5.515625 54.390625 \nQ 5.515625 63.484375 10.046875 68.84375 \nQ 14.59375 74.21875 22.3125 74.21875 \nz\n\" id=\"DejaVuSans-37\"/>\n     </defs>\n     <use xlink:href=\"#DejaVuSans-55\"/>\n     <use x=\"63.623047\" xlink:href=\"#DejaVuSans-48\"/>\n     <use x=\"127.246094\" xlink:href=\"#DejaVuSans-37\"/>\n    </g>\n   </g>\n   <g id=\"text_3\">\n    <!-- Owns: House/Apt -->\n    <g transform=\"translate(291.60083 77.001194)scale(0.14 -0.14)\">\n     <defs>\n      <path d=\"M 39.40625 66.21875 \nQ 28.65625 66.21875 22.328125 58.203125 \nQ 16.015625 50.203125 16.015625 36.375 \nQ 16.015625 22.609375 22.328125 14.59375 \nQ 28.65625 6.59375 39.40625 6.59375 \nQ 50.140625 6.59375 56.421875 14.59375 \nQ 62.703125 22.609375 62.703125 36.375 \nQ 62.703125 50.203125 56.421875 58.203125 \nQ 50.140625 66.21875 39.40625 66.21875 \nz\nM 39.40625 74.21875 \nQ 54.734375 74.21875 63.90625 63.9375 \nQ 73.09375 53.65625 73.09375 36.375 \nQ 73.09375 19.140625 63.90625 8.859375 \nQ 54.734375 -1.421875 39.40625 -1.421875 \nQ 24.03125 -1.421875 14.8125 8.828125 \nQ 5.609375 19.09375 5.609375 36.375 \nQ 5.609375 53.65625 14.8125 63.9375 \nQ 24.03125 74.21875 39.40625 74.21875 \nz\n\" id=\"DejaVuSans-79\"/>\n      <path d=\"M 4.203125 54.6875 \nL 13.1875 54.6875 \nL 24.421875 12.015625 \nL 35.59375 54.6875 \nL 46.1875 54.6875 \nL 57.421875 12.015625 \nL 68.609375 54.6875 \nL 77.59375 54.6875 \nL 63.28125 0 \nL 52.6875 0 \nL 40.921875 44.828125 \nL 29.109375 0 \nL 18.5 0 \nz\n\" id=\"DejaVuSans-119\"/>\n      <path d=\"M 11.71875 12.40625 \nL 22.015625 12.40625 \nL 22.015625 0 \nL 11.71875 0 \nz\nM 11.71875 51.703125 \nL 22.015625 51.703125 \nL 22.015625 39.3125 \nL 11.71875 39.3125 \nz\n\" id=\"DejaVuSans-58\"/>\n      <path id=\"DejaVuSans-32\"/>\n      <path d=\"M 9.8125 72.90625 \nL 19.671875 72.90625 \nL 19.671875 43.015625 \nL 55.515625 43.015625 \nL 55.515625 72.90625 \nL 65.375 72.90625 \nL 65.375 0 \nL 55.515625 0 \nL 55.515625 34.71875 \nL 19.671875 34.71875 \nL 19.671875 0 \nL 9.8125 0 \nz\n\" id=\"DejaVuSans-72\"/>\n      <path d=\"M 30.609375 48.390625 \nQ 23.390625 48.390625 19.1875 42.75 \nQ 14.984375 37.109375 14.984375 27.296875 \nQ 14.984375 17.484375 19.15625 11.84375 \nQ 23.34375 6.203125 30.609375 6.203125 \nQ 37.796875 6.203125 41.984375 11.859375 \nQ 46.1875 17.53125 46.1875 27.296875 \nQ 46.1875 37.015625 41.984375 42.703125 \nQ 37.796875 48.390625 30.609375 48.390625 \nz\nM 30.609375 56 \nQ 42.328125 56 49.015625 48.375 \nQ 55.71875 40.765625 55.71875 27.296875 \nQ 55.71875 13.875 49.015625 6.21875 \nQ 42.328125 -1.421875 30.609375 -1.421875 \nQ 18.84375 -1.421875 12.171875 6.21875 \nQ 5.515625 13.875 5.515625 27.296875 \nQ 5.515625 40.765625 12.171875 48.375 \nQ 18.84375 56 30.609375 56 \nz\n\" id=\"DejaVuSans-111\"/>\n      <path d=\"M 8.5 21.578125 \nL 8.5 54.6875 \nL 17.484375 54.6875 \nL 17.484375 21.921875 \nQ 17.484375 14.15625 20.5 10.265625 \nQ 23.53125 6.390625 29.59375 6.390625 \nQ 36.859375 6.390625 41.078125 11.03125 \nQ 45.3125 15.671875 45.3125 23.6875 \nL 45.3125 54.6875 \nL 54.296875 54.6875 \nL 54.296875 0 \nL 45.3125 0 \nL 45.3125 8.40625 \nQ 42.046875 3.421875 37.71875 1 \nQ 33.40625 -1.421875 27.6875 -1.421875 \nQ 18.265625 -1.421875 13.375 4.4375 \nQ 8.5 10.296875 8.5 21.578125 \nz\nM 31.109375 56 \nz\n\" id=\"DejaVuSans-117\"/>\n      <path d=\"M 25.390625 72.90625 \nL 33.6875 72.90625 \nL 8.296875 -9.28125 \nL 0 -9.28125 \nz\n\" id=\"DejaVuSans-47\"/>\n      <path d=\"M 34.1875 63.1875 \nL 20.796875 26.90625 \nL 47.609375 26.90625 \nz\nM 28.609375 72.90625 \nL 39.796875 72.90625 \nL 67.578125 0 \nL 57.328125 0 \nL 50.6875 18.703125 \nL 17.828125 18.703125 \nL 11.1875 0 \nL 0.78125 0 \nz\n\" id=\"DejaVuSans-65\"/>\n      <path d=\"M 18.109375 8.203125 \nL 18.109375 -20.796875 \nL 9.078125 -20.796875 \nL 9.078125 54.6875 \nL 18.109375 54.6875 \nL 18.109375 46.390625 \nQ 20.953125 51.265625 25.265625 53.625 \nQ 29.59375 56 35.59375 56 \nQ 45.5625 56 51.78125 48.09375 \nQ 58.015625 40.1875 58.015625 27.296875 \nQ 58.015625 14.40625 51.78125 6.484375 \nQ 45.5625 -1.421875 35.59375 -1.421875 \nQ 29.59375 -1.421875 25.265625 0.953125 \nQ 20.953125 3.328125 18.109375 8.203125 \nz\nM 48.6875 27.296875 \nQ 48.6875 37.203125 44.609375 42.84375 \nQ 40.53125 48.484375 33.40625 48.484375 \nQ 26.265625 48.484375 22.1875 42.84375 \nQ 18.109375 37.203125 18.109375 27.296875 \nQ 18.109375 17.390625 22.1875 11.75 \nQ 26.265625 6.109375 33.40625 6.109375 \nQ 40.53125 6.109375 44.609375 11.75 \nQ 48.6875 17.390625 48.6875 27.296875 \nz\n\" id=\"DejaVuSans-112\"/>\n     </defs>\n     <use xlink:href=\"#DejaVuSans-79\"/>\n     <use x=\"78.710938\" xlink:href=\"#DejaVuSans-119\"/>\n     <use x=\"160.498047\" xlink:href=\"#DejaVuSans-110\"/>\n     <use x=\"223.876953\" xlink:href=\"#DejaVuSans-115\"/>\n     <use x=\"275.976562\" xlink:href=\"#DejaVuSans-58\"/>\n     <use x=\"309.667969\" xlink:href=\"#DejaVuSans-32\"/>\n     <use x=\"341.455078\" xlink:href=\"#DejaVuSans-72\"/>\n     <use x=\"416.650391\" xlink:href=\"#DejaVuSans-111\"/>\n     <use x=\"477.832031\" xlink:href=\"#DejaVuSans-117\"/>\n     <use x=\"541.210938\" xlink:href=\"#DejaVuSans-115\"/>\n     <use x=\"593.310547\" xlink:href=\"#DejaVuSans-101\"/>\n     <use x=\"654.833984\" xlink:href=\"#DejaVuSans-47\"/>\n     <use x=\"688.525391\" xlink:href=\"#DejaVuSans-65\"/>\n     <use x=\"756.933594\" xlink:href=\"#DejaVuSans-112\"/>\n     <use x=\"820.410156\" xlink:href=\"#DejaVuSans-116\"/>\n    </g>\n   </g>\n   <g id=\"text_4\">\n    <!-- 28% -->\n    <g transform=\"translate(227.78365 106.607301)scale(0.14 -0.14)\">\n     <defs>\n      <path d=\"M 19.1875 8.296875 \nL 53.609375 8.296875 \nL 53.609375 0 \nL 7.328125 0 \nL 7.328125 8.296875 \nQ 12.9375 14.109375 22.625 23.890625 \nQ 32.328125 33.6875 34.8125 36.53125 \nQ 39.546875 41.84375 41.421875 45.53125 \nQ 43.3125 49.21875 43.3125 52.78125 \nQ 43.3125 58.59375 39.234375 62.25 \nQ 35.15625 65.921875 28.609375 65.921875 \nQ 23.96875 65.921875 18.8125 64.3125 \nQ 13.671875 62.703125 7.8125 59.421875 \nL 7.8125 69.390625 \nQ 13.765625 71.78125 18.9375 73 \nQ 24.125 74.21875 28.421875 74.21875 \nQ 39.75 74.21875 46.484375 68.546875 \nQ 53.21875 62.890625 53.21875 53.421875 \nQ 53.21875 48.921875 51.53125 44.890625 \nQ 49.859375 40.875 45.40625 35.40625 \nQ 44.1875 33.984375 37.640625 27.21875 \nQ 31.109375 20.453125 19.1875 8.296875 \nz\n\" id=\"DejaVuSans-50\"/>\n      <path d=\"M 31.78125 34.625 \nQ 24.75 34.625 20.71875 30.859375 \nQ 16.703125 27.09375 16.703125 20.515625 \nQ 16.703125 13.921875 20.71875 10.15625 \nQ 24.75 6.390625 31.78125 6.390625 \nQ 38.8125 6.390625 42.859375 10.171875 \nQ 46.921875 13.96875 46.921875 20.515625 \nQ 46.921875 27.09375 42.890625 30.859375 \nQ 38.875 34.625 31.78125 34.625 \nz\nM 21.921875 38.8125 \nQ 15.578125 40.375 12.03125 44.71875 \nQ 8.5 49.078125 8.5 55.328125 \nQ 8.5 64.0625 14.71875 69.140625 \nQ 20.953125 74.21875 31.78125 74.21875 \nQ 42.671875 74.21875 48.875 69.140625 \nQ 55.078125 64.0625 55.078125 55.328125 \nQ 55.078125 49.078125 51.53125 44.71875 \nQ 48 40.375 41.703125 38.8125 \nQ 48.828125 37.15625 52.796875 32.3125 \nQ 56.78125 27.484375 56.78125 20.515625 \nQ 56.78125 9.90625 50.3125 4.234375 \nQ 43.84375 -1.421875 31.78125 -1.421875 \nQ 19.734375 -1.421875 13.25 4.234375 \nQ 6.78125 9.90625 6.78125 20.515625 \nQ 6.78125 27.484375 10.78125 32.3125 \nQ 14.796875 37.15625 21.921875 38.8125 \nz\nM 18.3125 54.390625 \nQ 18.3125 48.734375 21.84375 45.5625 \nQ 25.390625 42.390625 31.78125 42.390625 \nQ 38.140625 42.390625 41.71875 45.5625 \nQ 45.3125 48.734375 45.3125 54.390625 \nQ 45.3125 60.0625 41.71875 63.234375 \nQ 38.140625 66.40625 31.78125 66.40625 \nQ 25.390625 66.40625 21.84375 63.234375 \nQ 18.3125 60.0625 18.3125 54.390625 \nz\n\" id=\"DejaVuSans-56\"/>\n     </defs>\n     <use xlink:href=\"#DejaVuSans-50\"/>\n     <use x=\"63.623047\" xlink:href=\"#DejaVuSans-56\"/>\n     <use x=\"127.246094\" xlink:href=\"#DejaVuSans-37\"/>\n    </g>\n   </g>\n   <g id=\"text_5\">\n    <!-- Owns: Other -->\n    <g transform=\"translate(193.463054 17.837813)scale(0.14 -0.14)\">\n     <defs>\n      <path d=\"M 54.890625 33.015625 \nL 54.890625 0 \nL 45.90625 0 \nL 45.90625 32.71875 \nQ 45.90625 40.484375 42.875 44.328125 \nQ 39.84375 48.1875 33.796875 48.1875 \nQ 26.515625 48.1875 22.3125 43.546875 \nQ 18.109375 38.921875 18.109375 30.90625 \nL 18.109375 0 \nL 9.078125 0 \nL 9.078125 75.984375 \nL 18.109375 75.984375 \nL 18.109375 46.1875 \nQ 21.34375 51.125 25.703125 53.5625 \nQ 30.078125 56 35.796875 56 \nQ 45.21875 56 50.046875 50.171875 \nQ 54.890625 44.34375 54.890625 33.015625 \nz\n\" id=\"DejaVuSans-104\"/>\n      <path d=\"M 41.109375 46.296875 \nQ 39.59375 47.171875 37.8125 47.578125 \nQ 36.03125 48 33.890625 48 \nQ 26.265625 48 22.1875 43.046875 \nQ 18.109375 38.09375 18.109375 28.8125 \nL 18.109375 0 \nL 9.078125 0 \nL 9.078125 54.6875 \nL 18.109375 54.6875 \nL 18.109375 46.1875 \nQ 20.953125 51.171875 25.484375 53.578125 \nQ 30.03125 56 36.53125 56 \nQ 37.453125 56 38.578125 55.875 \nQ 39.703125 55.765625 41.0625 55.515625 \nz\n\" id=\"DejaVuSans-114\"/>\n     </defs>\n     <use xlink:href=\"#DejaVuSans-79\"/>\n     <use x=\"78.710938\" xlink:href=\"#DejaVuSans-119\"/>\n     <use x=\"160.498047\" xlink:href=\"#DejaVuSans-110\"/>\n     <use x=\"223.876953\" xlink:href=\"#DejaVuSans-115\"/>\n     <use x=\"275.976562\" xlink:href=\"#DejaVuSans-58\"/>\n     <use x=\"309.667969\" xlink:href=\"#DejaVuSans-32\"/>\n     <use x=\"341.455078\" xlink:href=\"#DejaVuSans-79\"/>\n     <use x=\"420.166016\" xlink:href=\"#DejaVuSans-116\"/>\n     <use x=\"459.375\" xlink:href=\"#DejaVuSans-104\"/>\n     <use x=\"522.753906\" xlink:href=\"#DejaVuSans-101\"/>\n     <use x=\"584.277344\" xlink:href=\"#DejaVuSans-114\"/>\n    </g>\n   </g>\n   <g id=\"text_6\">\n    <!-- 2% -->\n    <g transform=\"translate(178.707704 74.336365)scale(0.14 -0.14)\">\n     <use xlink:href=\"#DejaVuSans-50\"/>\n     <use x=\"63.623047\" xlink:href=\"#DejaVuSans-37\"/>\n    </g>\n   </g>\n  </g>\n </g>\n <defs>\n  <clipPath id=\"p0ffe0636fe\">\n   <rect height=\"251.061211\" width=\"356.455034\" x=\"7.2\" y=\"13.626903\"/>\n  </clipPath>\n </defs>\n</svg>\n",
      "image/png": "[encoded data removed]"
     },
     "metadata": {}
    }
   ],
   "source": [
    "# Pie chart, where the slices will be ordered and plotted counter-clockwise:\n",
    "labels = 'Rents', 'Owns: House/Apt', 'Owns: Other'\n",
    "sizes = [(5352/7693), ((1936+247)/7693), ((156+2)/7693)]\n",
    "colors = ['#BFC9CA','#45B39D','#A3E4D7']\n",
    "\n",
    "fig1, ax1 = plt.subplots()\n",
    "ax1.pie(sizes, labels=labels, autopct='%.f%%', startangle=90, colors = colors)\n",
    "ax1.axis('equal')  # Equal aspect ratio ensures that pie is drawn as a circle.\n",
    "\n",
    "#draw circle\n",
    "centre_circle = plt.Circle((0,0),0.7,fc='white')\n",
    "fig = plt.gcf()\n",
    "fig.gca().add_artist(centre_circle)\n",
    "\n",
    "plt.tight_layout()\n",
    "\n",
    "plt.savefig('piechart.png', dpi=300);"
   ]
  },
  {
   "source": [
    "For this model for marketers, we're only interested in permanent homes that are primary residences, with permanent residences, and not large scale business operations, so we can exclude farms/ranches and mobile homes."
   ],
   "cell_type": "markdown",
   "metadata": {}
  },
  {
   "cell_type": "code",
   "execution_count": 134,
   "metadata": {},
   "outputs": [],
   "source": [
    "#let's create a new column to focus on our more specialized Y variable.\n",
    "joined_filled['homeowner_perm'] = joined_filled.apply(lambda x: owns_perm_home(x['house_type_30']),axis=1)"
   ]
  },
  {
   "cell_type": "code",
   "execution_count": 136,
   "metadata": {},
   "outputs": [
    {
     "output_type": "execute_result",
     "data": {
      "text/plain": [
       "Index(['id', 'sex', 'birth_year', 'sample_type', 'race', 'poverty', 'marriage',\n",
       "       'metro_area', 'child_at_home', 'urban_rural', 'degree_other',\n",
       "       'house_type_30', 'fin_assets_30', 'debts_30', 'childhood_home',\n",
       "       'childhood_poverty', 'moves_since_12', 'homeowner',\n",
       "       'income_wage_compiled', 'income_bus_compiled', 'homeowner_perm'],\n",
       "      dtype='object')"
      ]
     },
     "metadata": {},
     "execution_count": 136
    }
   ],
   "source": [
    "joined_filled.columns"
   ]
  },
  {
   "source": [
    "### Categorical Variables: Enocoding and Engineering"
   ],
   "cell_type": "markdown",
   "metadata": {}
  },
  {
   "source": [
    "We will be engineering the categorial variables in this next section.\n",
    "\n",
    "Let's now look at our categorial features and understand which ones we can easily use one hot encode and which we will need to manually encode (due to the complexity of the study's feature keys and the precense of NaNs). \n"
   ],
   "cell_type": "markdown",
   "metadata": {}
  },
  {
   "cell_type": "code",
   "execution_count": 141,
   "metadata": {},
   "outputs": [],
   "source": [
    "#listing out our categorical variables\n",
    "categorical = ['sex', 'sample_type', 'race', 'marriage',\n",
    "       'metro_area', 'urban_rural', 'degree_other','childhood_home']\n",
    "\n",
    "cat_ohe = ['sex', 'race']"
   ]
  },
  {
   "cell_type": "code",
   "execution_count": 144,
   "metadata": {},
   "outputs": [],
   "source": [
    "ohe = OneHotEncoder(sparse = False)\n",
    "\n",
    "cat = ohe.fit_transform(joined_filled.loc[: , cat_ohe])"
   ]
  },
  {
   "cell_type": "code",
   "execution_count": 146,
   "metadata": {},
   "outputs": [],
   "source": [
    "cat_df = pd.DataFrame(cat, columns=ohe.get_feature_names(cat_ohe), index = joined_filled.index)"
   ]
  },
  {
   "cell_type": "code",
   "execution_count": 157,
   "metadata": {},
   "outputs": [],
   "source": [
    "joined_filled = joined_filled.join(cat_df)"
   ]
  },
  {
   "source": [
    "sex_1 = male\n",
    "sex_2 = female\n",
    "race_1 = black\n",
    "race_2 = hispanic\n",
    "race_3 = mixed race \n",
    "race_4 = not black, hispanic, or mixed"
   ],
   "cell_type": "markdown",
   "metadata": {}
  },
  {
   "cell_type": "code",
   "execution_count": 158,
   "metadata": {},
   "outputs": [],
   "source": [
    "#drop the last categorical in each category\n",
    "joined_filled = joined_filled.drop(columns =['sex_2', 'race_4'])"
   ]
  },
  {
   "cell_type": "code",
   "execution_count": 159,
   "metadata": {},
   "outputs": [],
   "source": [
    "#rename the columns for ease of interpretation\n",
    "joined_filled = joined_filled.rename({'sex_1': 'is_male', 'race_1': 'is_black', 'race_2': 'is_hispanic', 'race_3': 'is_mixed'}, axis=1)\n"
   ]
  },
  {
   "cell_type": "code",
   "execution_count": 160,
   "metadata": {},
   "outputs": [
    {
     "output_type": "execute_result",
     "data": {
      "text/plain": [
       "        id  sex  birth_year  sample_type  race  poverty  marriage  metro_area  \\\n",
       "0        1    2        1981            1     4      NaN       NaN         NaN   \n",
       "1        2    1        1982            1     2    929.0       2.0         2.0   \n",
       "2        3    2        1983            1     2      NaN       3.0         2.0   \n",
       "3        4    2        1981            1     2    179.0       2.0         3.0   \n",
       "4        5    1        1982            1     2    871.0       3.0         3.0   \n",
       "...    ...  ...         ...          ...   ...      ...       ...         ...   \n",
       "7688  9018    2        1980            1     4    327.0       3.0         2.0   \n",
       "7689  9019    1        1984            0     2    498.0       2.0         3.0   \n",
       "7690  9020    1        1980            1     4      NaN       NaN         NaN   \n",
       "7691  9021    1        1980            1     4    260.0       2.0         2.0   \n",
       "7692  9022    2        1982            1     4      NaN       8.0         2.0   \n",
       "\n",
       "      child_at_home  urban_rural  ...  childhood_poverty  moves_since_12  \\\n",
       "0               NaN          NaN  ...                NaN             1.0   \n",
       "1               NaN          0.0  ...                NaN             NaN   \n",
       "2               2.0          2.0  ...              583.0            13.0   \n",
       "3               1.0          1.0  ...              108.0             5.0   \n",
       "4               2.0          1.0  ...                NaN             9.0   \n",
       "...             ...          ...  ...                ...             ...   \n",
       "7688            0.0          1.0  ...                NaN             NaN   \n",
       "7689            0.0          1.0  ...                NaN             5.0   \n",
       "7690            NaN          NaN  ...              663.0             9.0   \n",
       "7691            1.0          1.0  ...              144.0            13.0   \n",
       "7692            2.0          1.0  ...              144.0            18.0   \n",
       "\n",
       "      homeowner  income_wage_compiled  income_bus_compiled  homeowner_perm  \\\n",
       "0             0                   NaN                  NaN               0   \n",
       "1             0              116000.0                  NaN               0   \n",
       "2             0                   NaN                  NaN               0   \n",
       "3             0               45000.0                  NaN               0   \n",
       "4             1              125000.0                  NaN               1   \n",
       "...         ...                   ...                  ...             ...   \n",
       "7688          0               17500.0                  NaN               0   \n",
       "7689          0               35000.0                  NaN               0   \n",
       "7690          0                   NaN                  NaN               0   \n",
       "7691          0               35000.0                  NaN               0   \n",
       "7692          0               50000.0                  NaN               0   \n",
       "\n",
       "      is_male  is_black  is_hispanic  is_mixed  \n",
       "0         0.0       0.0          0.0       0.0  \n",
       "1         1.0       0.0          1.0       0.0  \n",
       "2         0.0       0.0          1.0       0.0  \n",
       "3         0.0       0.0          1.0       0.0  \n",
       "4         1.0       0.0          1.0       0.0  \n",
       "...       ...       ...          ...       ...  \n",
       "7688      0.0       0.0          0.0       0.0  \n",
       "7689      1.0       0.0          1.0       0.0  \n",
       "7690      1.0       0.0          0.0       0.0  \n",
       "7691      1.0       0.0          0.0       0.0  \n",
       "7692      0.0       0.0          0.0       0.0  \n",
       "\n",
       "[7693 rows x 25 columns]"
      ],
      "text/html": "<div>\n<style scoped>\n    .dataframe tbody tr th:only-of-type {\n        vertical-align: middle;\n    }\n\n    .dataframe tbody tr th {\n        vertical-align: top;\n    }\n\n    .dataframe thead th {\n        text-align: right;\n    }\n</style>\n<table border=\"1\" class=\"dataframe\">\n  <thead>\n    <tr style=\"text-align: right;\">\n      <th></th>\n      <th>id</th>\n      <th>sex</th>\n      <th>birth_year</th>\n      <th>sample_type</th>\n      <th>race</th>\n      <th>poverty</th>\n      <th>marriage</th>\n      <th>metro_area</th>\n      <th>child_at_home</th>\n      <th>urban_rural</th>\n      <th>...</th>\n      <th>childhood_poverty</th>\n      <th>moves_since_12</th>\n      <th>homeowner</th>\n      <th>income_wage_compiled</th>\n      <th>income_bus_compiled</th>\n      <th>homeowner_perm</th>\n      <th>is_male</th>\n      <th>is_black</th>\n      <th>is_hispanic</th>\n      <th>is_mixed</th>\n    </tr>\n  </thead>\n  <tbody>\n    <tr>\n      <th>0</th>\n      <td>1</td>\n      <td>2</td>\n      <td>1981</td>\n      <td>1</td>\n      <td>4</td>\n      <td>NaN</td>\n      <td>NaN</td>\n      <td>NaN</td>\n      <td>NaN</td>\n      <td>NaN</td>\n      <td>...</td>\n      <td>NaN</td>\n      <td>1.0</td>\n      <td>0</td>\n      <td>NaN</td>\n      <td>NaN</td>\n      <td>0</td>\n      <td>0.0</td>\n      <td>0.0</td>\n      <td>0.0</td>\n      <td>0.0</td>\n    </tr>\n    <tr>\n      <th>1</th>\n      <td>2</td>\n      <td>1</td>\n      <td>1982</td>\n      <td>1</td>\n      <td>2</td>\n      <td>929.0</td>\n      <td>2.0</td>\n      <td>2.0</td>\n      <td>NaN</td>\n      <td>0.0</td>\n      <td>...</td>\n      <td>NaN</td>\n      <td>NaN</td>\n      <td>0</td>\n      <td>116000.0</td>\n      <td>NaN</td>\n      <td>0</td>\n      <td>1.0</td>\n      <td>0.0</td>\n      <td>1.0</td>\n      <td>0.0</td>\n    </tr>\n    <tr>\n      <th>2</th>\n      <td>3</td>\n      <td>2</td>\n      <td>1983</td>\n      <td>1</td>\n      <td>2</td>\n      <td>NaN</td>\n      <td>3.0</td>\n      <td>2.0</td>\n      <td>2.0</td>\n      <td>2.0</td>\n      <td>...</td>\n      <td>583.0</td>\n      <td>13.0</td>\n      <td>0</td>\n      <td>NaN</td>\n      <td>NaN</td>\n      <td>0</td>\n      <td>0.0</td>\n      <td>0.0</td>\n      <td>1.0</td>\n      <td>0.0</td>\n    </tr>\n    <tr>\n      <th>3</th>\n      <td>4</td>\n      <td>2</td>\n      <td>1981</td>\n      <td>1</td>\n      <td>2</td>\n      <td>179.0</td>\n      <td>2.0</td>\n      <td>3.0</td>\n      <td>1.0</td>\n      <td>1.0</td>\n      <td>...</td>\n      <td>108.0</td>\n      <td>5.0</td>\n      <td>0</td>\n      <td>45000.0</td>\n      <td>NaN</td>\n      <td>0</td>\n      <td>0.0</td>\n      <td>0.0</td>\n      <td>1.0</td>\n      <td>0.0</td>\n    </tr>\n    <tr>\n      <th>4</th>\n      <td>5</td>\n      <td>1</td>\n      <td>1982</td>\n      <td>1</td>\n      <td>2</td>\n      <td>871.0</td>\n      <td>3.0</td>\n      <td>3.0</td>\n      <td>2.0</td>\n      <td>1.0</td>\n      <td>...</td>\n      <td>NaN</td>\n      <td>9.0</td>\n      <td>1</td>\n      <td>125000.0</td>\n      <td>NaN</td>\n      <td>1</td>\n      <td>1.0</td>\n      <td>0.0</td>\n      <td>1.0</td>\n      <td>0.0</td>\n    </tr>\n    <tr>\n      <th>...</th>\n      <td>...</td>\n      <td>...</td>\n      <td>...</td>\n      <td>...</td>\n      <td>...</td>\n      <td>...</td>\n      <td>...</td>\n      <td>...</td>\n      <td>...</td>\n      <td>...</td>\n      <td>...</td>\n      <td>...</td>\n      <td>...</td>\n      <td>...</td>\n      <td>...</td>\n      <td>...</td>\n      <td>...</td>\n      <td>...</td>\n      <td>...</td>\n      <td>...</td>\n      <td>...</td>\n    </tr>\n    <tr>\n      <th>7688</th>\n      <td>9018</td>\n      <td>2</td>\n      <td>1980</td>\n      <td>1</td>\n      <td>4</td>\n      <td>327.0</td>\n      <td>3.0</td>\n      <td>2.0</td>\n      <td>0.0</td>\n      <td>1.0</td>\n      <td>...</td>\n      <td>NaN</td>\n      <td>NaN</td>\n      <td>0</td>\n      <td>17500.0</td>\n      <td>NaN</td>\n      <td>0</td>\n      <td>0.0</td>\n      <td>0.0</td>\n      <td>0.0</td>\n      <td>0.0</td>\n    </tr>\n    <tr>\n      <th>7689</th>\n      <td>9019</td>\n      <td>1</td>\n      <td>1984</td>\n      <td>0</td>\n      <td>2</td>\n      <td>498.0</td>\n      <td>2.0</td>\n      <td>3.0</td>\n      <td>0.0</td>\n      <td>1.0</td>\n      <td>...</td>\n      <td>NaN</td>\n      <td>5.0</td>\n      <td>0</td>\n      <td>35000.0</td>\n      <td>NaN</td>\n      <td>0</td>\n      <td>1.0</td>\n      <td>0.0</td>\n      <td>1.0</td>\n      <td>0.0</td>\n    </tr>\n    <tr>\n      <th>7690</th>\n      <td>9020</td>\n      <td>1</td>\n      <td>1980</td>\n      <td>1</td>\n      <td>4</td>\n      <td>NaN</td>\n      <td>NaN</td>\n      <td>NaN</td>\n      <td>NaN</td>\n      <td>NaN</td>\n      <td>...</td>\n      <td>663.0</td>\n      <td>9.0</td>\n      <td>0</td>\n      <td>NaN</td>\n      <td>NaN</td>\n      <td>0</td>\n      <td>1.0</td>\n      <td>0.0</td>\n      <td>0.0</td>\n      <td>0.0</td>\n    </tr>\n    <tr>\n      <th>7691</th>\n      <td>9021</td>\n      <td>1</td>\n      <td>1980</td>\n      <td>1</td>\n      <td>4</td>\n      <td>260.0</td>\n      <td>2.0</td>\n      <td>2.0</td>\n      <td>1.0</td>\n      <td>1.0</td>\n      <td>...</td>\n      <td>144.0</td>\n      <td>13.0</td>\n      <td>0</td>\n      <td>35000.0</td>\n      <td>NaN</td>\n      <td>0</td>\n      <td>1.0</td>\n      <td>0.0</td>\n      <td>0.0</td>\n      <td>0.0</td>\n    </tr>\n    <tr>\n      <th>7692</th>\n      <td>9022</td>\n      <td>2</td>\n      <td>1982</td>\n      <td>1</td>\n      <td>4</td>\n      <td>NaN</td>\n      <td>8.0</td>\n      <td>2.0</td>\n      <td>2.0</td>\n      <td>1.0</td>\n      <td>...</td>\n      <td>144.0</td>\n      <td>18.0</td>\n      <td>0</td>\n      <td>50000.0</td>\n      <td>NaN</td>\n      <td>0</td>\n      <td>0.0</td>\n      <td>0.0</td>\n      <td>0.0</td>\n      <td>0.0</td>\n    </tr>\n  </tbody>\n</table>\n<p>7693 rows × 25 columns</p>\n</div>"
     },
     "metadata": {},
     "execution_count": 160
    }
   ],
   "source": [
    "joined_filled"
   ]
  },
  {
   "cell_type": "code",
   "execution_count": null,
   "metadata": {},
   "outputs": [],
   "source": [
    "#now we have the below variables for manual encoding\n",
    "manual_encoding = ['marriage',\n",
    "                    'metro_area', \n",
    "                    'urban_rural', \n",
    "                    'degree_other',\n",
    "                    'childhood_home']"
   ]
  },
  {
   "cell_type": "code",
   "execution_count": 162,
   "metadata": {},
   "outputs": [
    {
     "output_type": "execute_result",
     "data": {
      "text/plain": [
       "3.0     2856\n",
       "2.0     1905\n",
       "1.0      819\n",
       "8.0      416\n",
       "7.0      234\n",
       "4.0      163\n",
       "6.0      107\n",
       "5.0       44\n",
       "10.0      19\n",
       "9.0        4\n",
       "Name: marriage, dtype: int64"
      ]
     },
     "metadata": {},
     "execution_count": 162
    }
   ],
   "source": [
    "joined_filled.marriage.value_counts()"
   ]
  },
  {
   "source": [
    "Maritial status: <br/>\n",
    "  1='Never married, cohabiting' <br/>\n",
    "  2='Never married, not cohabiting' <br/>\n",
    "  3='Married, spouse present' <br/>\n",
    "  4='Married, spouse absent' <br/>\n",
    "  5='Separated, cohabiting' <br/>\n",
    "  6='Separated, not cohabiting' <br/>\n",
    "  7='Divorced, cohabiting' <br/>\n",
    "  8='Divorced, not cohabiting' <br/>\n",
    "  9='Widowed, cohabiting' <br/>\n",
    "  10='Widowed, not cohabiting' <br/>"
   ],
   "cell_type": "markdown",
   "metadata": {}
  },
  {
   "source": [
    "The marital status category is extremely detailed, but for the purposes of our model, we only care about whether the couple is married or cohabitating as these two situations most strongly imply either the merging of financial and/or real estate assets. Those who are married, cohabitating, or both, are also more likely to purchase homes based on domain knowledge. We will be encoding both of these values with 1.  "
   ],
   "cell_type": "markdown",
   "metadata": {}
  },
  {
   "cell_type": "code",
   "execution_count": 168,
   "metadata": {},
   "outputs": [],
   "source": [
    "#let's create a new column to signify marital status = currently married.\n",
    "joined_filled['is_married'] = joined_filled.apply(lambda x: married(x['marriage']),axis=1)"
   ]
  },
  {
   "cell_type": "code",
   "execution_count": 176,
   "metadata": {},
   "outputs": [],
   "source": [
    "#let's create a new column to signify cohabitation status = currently cohabitating (regardless of relationship status).\n",
    "joined_filled['is_cohab'] = joined_filled.apply(lambda x: cohabitating(x['marriage']),axis=1)"
   ]
  },
  {
   "source": [
    "Now let's look at metro_area and urban_rural breakdown.\n",
    "\n",
    "Metro_area key (CBSA as defined by census) <br/>\n",
    "  1='Not in CBSA'<br/>\n",
    "  2='In CBSA, not in central city'<br/>\n",
    "  3='In CBSA, in central city'<br/>\n",
    "  4='In CBSA, not known'<br/>\n",
    "  5='Not in country'<br/>\n",
    "\n",
    "Urban_rural key<br/>\n",
    "  0='Rural'<br/>\n",
    "  1='Urban'<br/>\n",
    "  2='Unknown'<br/>\n"
   ],
   "cell_type": "markdown",
   "metadata": {}
  },
  {
   "source": [
    "For the purposes of our model, we're only interested in anyone who's in CBSA, or in the central city, which already encompasses more specificity than an urban or rural area breakdown, so we'll focus on the metro_area variable for now.  "
   ],
   "cell_type": "markdown",
   "metadata": {}
  },
  {
   "cell_type": "code",
   "execution_count": 189,
   "metadata": {},
   "outputs": [],
   "source": [
    "#let's create a new column to signify CBSA (metro_area) residential status.\n",
    "joined_filled['is_metro'] = joined_filled.apply(lambda x: metro(x['metro_area']),axis=1)"
   ]
  },
  {
   "cell_type": "code",
   "execution_count": 190,
   "metadata": {},
   "outputs": [],
   "source": [
    "#let's create a new column to signify central city residential status.\n",
    "joined_filled['is_central'] = joined_filled.apply(lambda x: central_city(x['metro_area']),axis=1)"
   ]
  },
  {
   "cell_type": "code",
   "execution_count": 192,
   "metadata": {},
   "outputs": [
    {
     "output_type": "execute_result",
     "data": {
      "text/plain": [
       "        id  sex  birth_year  sample_type  race  poverty  marriage  metro_area  \\\n",
       "3        4    2        1981            1     2    179.0       2.0         3.0   \n",
       "4        5    1        1982            1     2    871.0       3.0         3.0   \n",
       "5        6    2        1982            1     2    226.0       3.0         3.0   \n",
       "8        9    1        1982            1     4    989.0       3.0         3.0   \n",
       "9       10    1        1984            1     4    906.0       3.0         3.0   \n",
       "...    ...  ...         ...          ...   ...      ...       ...         ...   \n",
       "7680  9009    1        1980            1     4    624.0       3.0         3.0   \n",
       "7684  9013    1        1982            0     1    140.0       2.0         3.0   \n",
       "7685  9014    2        1984            0     1     55.0       2.0         3.0   \n",
       "7687  9016    2        1982            0     1    223.0       2.0         3.0   \n",
       "7689  9019    1        1984            0     2    498.0       2.0         3.0   \n",
       "\n",
       "      child_at_home  urban_rural  ...  income_bus_compiled  homeowner_perm  \\\n",
       "3               1.0          1.0  ...                  NaN               0   \n",
       "4               2.0          1.0  ...                  NaN               1   \n",
       "5               2.0          1.0  ...                  NaN               0   \n",
       "8               NaN          1.0  ...                  NaN               0   \n",
       "9               1.0          1.0  ...                  NaN               0   \n",
       "...             ...          ...  ...                  ...             ...   \n",
       "7680            4.0          1.0  ...                  NaN               1   \n",
       "7684            0.0          1.0  ...                  NaN               0   \n",
       "7685            2.0          1.0  ...                  NaN               0   \n",
       "7687            NaN          1.0  ...                  NaN               1   \n",
       "7689            0.0          1.0  ...                  NaN               0   \n",
       "\n",
       "      is_male  is_black  is_hispanic  is_mixed  is_married  is_cohab  \\\n",
       "3         0.0       0.0          1.0       0.0           0         0   \n",
       "4         1.0       0.0          1.0       0.0           1         1   \n",
       "5         0.0       0.0          1.0       0.0           1         1   \n",
       "8         1.0       0.0          0.0       0.0           1         1   \n",
       "9         1.0       0.0          0.0       0.0           1         1   \n",
       "...       ...       ...          ...       ...         ...       ...   \n",
       "7680      1.0       0.0          0.0       0.0           1         1   \n",
       "7684      1.0       1.0          0.0       0.0           0         0   \n",
       "7685      0.0       1.0          0.0       0.0           0         0   \n",
       "7687      0.0       1.0          0.0       0.0           0         0   \n",
       "7689      1.0       0.0          1.0       0.0           0         0   \n",
       "\n",
       "      is_metro  is_central  \n",
       "3            1           1  \n",
       "4            1           1  \n",
       "5            1           1  \n",
       "8            1           1  \n",
       "9            1           1  \n",
       "...        ...         ...  \n",
       "7680         1           1  \n",
       "7684         1           1  \n",
       "7685         1           1  \n",
       "7687         1           1  \n",
       "7689         1           1  \n",
       "\n",
       "[2693 rows x 29 columns]"
      ],
      "text/html": "<div>\n<style scoped>\n    .dataframe tbody tr th:only-of-type {\n        vertical-align: middle;\n    }\n\n    .dataframe tbody tr th {\n        vertical-align: top;\n    }\n\n    .dataframe thead th {\n        text-align: right;\n    }\n</style>\n<table border=\"1\" class=\"dataframe\">\n  <thead>\n    <tr style=\"text-align: right;\">\n      <th></th>\n      <th>id</th>\n      <th>sex</th>\n      <th>birth_year</th>\n      <th>sample_type</th>\n      <th>race</th>\n      <th>poverty</th>\n      <th>marriage</th>\n      <th>metro_area</th>\n      <th>child_at_home</th>\n      <th>urban_rural</th>\n      <th>...</th>\n      <th>income_bus_compiled</th>\n      <th>homeowner_perm</th>\n      <th>is_male</th>\n      <th>is_black</th>\n      <th>is_hispanic</th>\n      <th>is_mixed</th>\n      <th>is_married</th>\n      <th>is_cohab</th>\n      <th>is_metro</th>\n      <th>is_central</th>\n    </tr>\n  </thead>\n  <tbody>\n    <tr>\n      <th>3</th>\n      <td>4</td>\n      <td>2</td>\n      <td>1981</td>\n      <td>1</td>\n      <td>2</td>\n      <td>179.0</td>\n      <td>2.0</td>\n      <td>3.0</td>\n      <td>1.0</td>\n      <td>1.0</td>\n      <td>...</td>\n      <td>NaN</td>\n      <td>0</td>\n      <td>0.0</td>\n      <td>0.0</td>\n      <td>1.0</td>\n      <td>0.0</td>\n      <td>0</td>\n      <td>0</td>\n      <td>1</td>\n      <td>1</td>\n    </tr>\n    <tr>\n      <th>4</th>\n      <td>5</td>\n      <td>1</td>\n      <td>1982</td>\n      <td>1</td>\n      <td>2</td>\n      <td>871.0</td>\n      <td>3.0</td>\n      <td>3.0</td>\n      <td>2.0</td>\n      <td>1.0</td>\n      <td>...</td>\n      <td>NaN</td>\n      <td>1</td>\n      <td>1.0</td>\n      <td>0.0</td>\n      <td>1.0</td>\n      <td>0.0</td>\n      <td>1</td>\n      <td>1</td>\n      <td>1</td>\n      <td>1</td>\n    </tr>\n    <tr>\n      <th>5</th>\n      <td>6</td>\n      <td>2</td>\n      <td>1982</td>\n      <td>1</td>\n      <td>2</td>\n      <td>226.0</td>\n      <td>3.0</td>\n      <td>3.0</td>\n      <td>2.0</td>\n      <td>1.0</td>\n      <td>...</td>\n      <td>NaN</td>\n      <td>0</td>\n      <td>0.0</td>\n      <td>0.0</td>\n      <td>1.0</td>\n      <td>0.0</td>\n      <td>1</td>\n      <td>1</td>\n      <td>1</td>\n      <td>1</td>\n    </tr>\n    <tr>\n      <th>8</th>\n      <td>9</td>\n      <td>1</td>\n      <td>1982</td>\n      <td>1</td>\n      <td>4</td>\n      <td>989.0</td>\n      <td>3.0</td>\n      <td>3.0</td>\n      <td>NaN</td>\n      <td>1.0</td>\n      <td>...</td>\n      <td>NaN</td>\n      <td>0</td>\n      <td>1.0</td>\n      <td>0.0</td>\n      <td>0.0</td>\n      <td>0.0</td>\n      <td>1</td>\n      <td>1</td>\n      <td>1</td>\n      <td>1</td>\n    </tr>\n    <tr>\n      <th>9</th>\n      <td>10</td>\n      <td>1</td>\n      <td>1984</td>\n      <td>1</td>\n      <td>4</td>\n      <td>906.0</td>\n      <td>3.0</td>\n      <td>3.0</td>\n      <td>1.0</td>\n      <td>1.0</td>\n      <td>...</td>\n      <td>NaN</td>\n      <td>0</td>\n      <td>1.0</td>\n      <td>0.0</td>\n      <td>0.0</td>\n      <td>0.0</td>\n      <td>1</td>\n      <td>1</td>\n      <td>1</td>\n      <td>1</td>\n    </tr>\n    <tr>\n      <th>...</th>\n      <td>...</td>\n      <td>...</td>\n      <td>...</td>\n      <td>...</td>\n      <td>...</td>\n      <td>...</td>\n      <td>...</td>\n      <td>...</td>\n      <td>...</td>\n      <td>...</td>\n      <td>...</td>\n      <td>...</td>\n      <td>...</td>\n      <td>...</td>\n      <td>...</td>\n      <td>...</td>\n      <td>...</td>\n      <td>...</td>\n      <td>...</td>\n      <td>...</td>\n      <td>...</td>\n    </tr>\n    <tr>\n      <th>7680</th>\n      <td>9009</td>\n      <td>1</td>\n      <td>1980</td>\n      <td>1</td>\n      <td>4</td>\n      <td>624.0</td>\n      <td>3.0</td>\n      <td>3.0</td>\n      <td>4.0</td>\n      <td>1.0</td>\n      <td>...</td>\n      <td>NaN</td>\n      <td>1</td>\n      <td>1.0</td>\n      <td>0.0</td>\n      <td>0.0</td>\n      <td>0.0</td>\n      <td>1</td>\n      <td>1</td>\n      <td>1</td>\n      <td>1</td>\n    </tr>\n    <tr>\n      <th>7684</th>\n      <td>9013</td>\n      <td>1</td>\n      <td>1982</td>\n      <td>0</td>\n      <td>1</td>\n      <td>140.0</td>\n      <td>2.0</td>\n      <td>3.0</td>\n      <td>0.0</td>\n      <td>1.0</td>\n      <td>...</td>\n      <td>NaN</td>\n      <td>0</td>\n      <td>1.0</td>\n      <td>1.0</td>\n      <td>0.0</td>\n      <td>0.0</td>\n      <td>0</td>\n      <td>0</td>\n      <td>1</td>\n      <td>1</td>\n    </tr>\n    <tr>\n      <th>7685</th>\n      <td>9014</td>\n      <td>2</td>\n      <td>1984</td>\n      <td>0</td>\n      <td>1</td>\n      <td>55.0</td>\n      <td>2.0</td>\n      <td>3.0</td>\n      <td>2.0</td>\n      <td>1.0</td>\n      <td>...</td>\n      <td>NaN</td>\n      <td>0</td>\n      <td>0.0</td>\n      <td>1.0</td>\n      <td>0.0</td>\n      <td>0.0</td>\n      <td>0</td>\n      <td>0</td>\n      <td>1</td>\n      <td>1</td>\n    </tr>\n    <tr>\n      <th>7687</th>\n      <td>9016</td>\n      <td>2</td>\n      <td>1982</td>\n      <td>0</td>\n      <td>1</td>\n      <td>223.0</td>\n      <td>2.0</td>\n      <td>3.0</td>\n      <td>NaN</td>\n      <td>1.0</td>\n      <td>...</td>\n      <td>NaN</td>\n      <td>1</td>\n      <td>0.0</td>\n      <td>1.0</td>\n      <td>0.0</td>\n      <td>0.0</td>\n      <td>0</td>\n      <td>0</td>\n      <td>1</td>\n      <td>1</td>\n    </tr>\n    <tr>\n      <th>7689</th>\n      <td>9019</td>\n      <td>1</td>\n      <td>1984</td>\n      <td>0</td>\n      <td>2</td>\n      <td>498.0</td>\n      <td>2.0</td>\n      <td>3.0</td>\n      <td>0.0</td>\n      <td>1.0</td>\n      <td>...</td>\n      <td>NaN</td>\n      <td>0</td>\n      <td>1.0</td>\n      <td>0.0</td>\n      <td>1.0</td>\n      <td>0.0</td>\n      <td>0</td>\n      <td>0</td>\n      <td>1</td>\n      <td>1</td>\n    </tr>\n  </tbody>\n</table>\n<p>2693 rows × 29 columns</p>\n</div>"
     },
     "metadata": {},
     "execution_count": 192
    }
   ],
   "source": []
  },
  {
   "source": [
    "Now let's look at childhood homes. We're interested in those whose childhood homes were owned homes, in order to explore whether a subject's family's home ownership during their childhood has an impact on their own home ownership in adulthood."
   ],
   "cell_type": "markdown",
   "metadata": {}
  },
  {
   "source": [
    "Childhood home variable key: <br/>\n",
    "  1='OWNS OR IS BUYING; LAND CONTRACT' <br/>\n",
    "  2='PAYS RENT' <br/>\n",
    "  3='NEITHER OWNS NOR RENTS' <br/>"
   ],
   "cell_type": "markdown",
   "metadata": {}
  },
  {
   "cell_type": "code",
   "execution_count": 204,
   "metadata": {},
   "outputs": [],
   "source": [
    "#let's create a new column to signify childhood (family) home ownership.\n",
    "joined_filled['childhood_owned'] = joined_filled.apply(lambda x: childhood_owned(x['childhood_home']),axis=1)"
   ]
  },
  {
   "source": [
    "Our last categorical variable is education level: <br/>\n",
    "Highest degree achieved key: </br>\n",
    "  0='None' <br/>\n",
    "  1='GED' <br/>\n",
    "  2='High school diploma (Regular 12 year program)' <br/>\n",
    "  3='Associate/Junior college (AA)' <br/>\n",
    "  4='Bachelor''s degree (BA, BS)' <br/>\n",
    "  5='Master''s degree (MA, MS)' <br/>\n",
    "  6='PhD' <br/>\n",
    "  7='Professional degree (DDS, JD, MD)' <br/>\n"
   ],
   "cell_type": "markdown",
   "metadata": {}
  },
  {
   "cell_type": "code",
   "execution_count": 215,
   "metadata": {},
   "outputs": [
    {
     "output_type": "execute_result",
     "data": {
      "text/plain": [
       "30"
      ]
     },
     "metadata": {},
     "execution_count": 215
    }
   ],
   "source": [
    "#let's look at the number of nulls\n",
    "joined_filled.degree_other.isnull().sum()"
   ]
  },
  {
   "source": [
    "The number of non-responses for the highest degree achieved question in the study is only 3% of our entire sample. Since education is not continuous and varies significantly depending on individual circumstances, imputation may not be the best idea. According to research, 10% of the U.S. does not finish high school, which is the lowest category available here, so these 30 subjects may fall into that category. Either way, we will assign them 0, as we cannot assume that they fall into the other education categories without further evidence of their childhoods, which our model features are not focused on."
   ],
   "cell_type": "markdown",
   "metadata": {}
  },
  {
   "cell_type": "code",
   "execution_count": 5,
   "metadata": {},
   "outputs": [
    {
     "output_type": "execute_result",
     "data": {
      "text/plain": [
       "        id  sex  birth_year  sample_type  race  poverty  marriage  metro_area  \\\n",
       "0        1    2        1981            1     4      NaN       NaN         NaN   \n",
       "1        2    1        1982            1     2    929.0       2.0         2.0   \n",
       "2        3    2        1983            1     2      NaN       3.0         2.0   \n",
       "3        4    2        1981            1     2    179.0       2.0         3.0   \n",
       "4        5    1        1982            1     2    871.0       3.0         3.0   \n",
       "...    ...  ...         ...          ...   ...      ...       ...         ...   \n",
       "7688  9018    2        1980            1     4    327.0       3.0         2.0   \n",
       "7689  9019    1        1984            0     2    498.0       2.0         3.0   \n",
       "7690  9020    1        1980            1     4      NaN       NaN         NaN   \n",
       "7691  9021    1        1980            1     4    260.0       2.0         2.0   \n",
       "7692  9022    2        1982            1     4      NaN       8.0         2.0   \n",
       "\n",
       "      child_at_home  urban_rural  ...  homeowner_perm  is_male  is_black  \\\n",
       "0               NaN          NaN  ...               0      0.0       0.0   \n",
       "1               NaN          0.0  ...               0      1.0       0.0   \n",
       "2               2.0          2.0  ...               0      0.0       0.0   \n",
       "3               1.0          1.0  ...               0      0.0       0.0   \n",
       "4               2.0          1.0  ...               1      1.0       0.0   \n",
       "...             ...          ...  ...             ...      ...       ...   \n",
       "7688            0.0          1.0  ...               0      0.0       0.0   \n",
       "7689            0.0          1.0  ...               0      1.0       0.0   \n",
       "7690            NaN          NaN  ...               0      1.0       0.0   \n",
       "7691            1.0          1.0  ...               0      1.0       0.0   \n",
       "7692            2.0          1.0  ...               0      0.0       0.0   \n",
       "\n",
       "      is_hispanic  is_mixed  is_married  is_cohab  is_metro  is_central  \\\n",
       "0             0.0       0.0           0         0         0           0   \n",
       "1             1.0       0.0           0         0         1           0   \n",
       "2             1.0       0.0           1         1         1           0   \n",
       "3             1.0       0.0           0         0         1           1   \n",
       "4             1.0       0.0           1         1         1           1   \n",
       "...           ...       ...         ...       ...       ...         ...   \n",
       "7688          0.0       0.0           1         1         1           0   \n",
       "7689          1.0       0.0           0         0         1           1   \n",
       "7690          0.0       0.0           0         0         0           0   \n",
       "7691          0.0       0.0           0         0         1           0   \n",
       "7692          0.0       0.0           0         0         1           0   \n",
       "\n",
       "      childhood_owned  \n",
       "0                   0  \n",
       "1                   0  \n",
       "2                   0  \n",
       "3                   0  \n",
       "4                   0  \n",
       "...               ...  \n",
       "7688                0  \n",
       "7689                0  \n",
       "7690                1  \n",
       "7691                0  \n",
       "7692                0  \n",
       "\n",
       "[7693 rows x 30 columns]"
      ],
      "text/html": "<div>\n<style scoped>\n    .dataframe tbody tr th:only-of-type {\n        vertical-align: middle;\n    }\n\n    .dataframe tbody tr th {\n        vertical-align: top;\n    }\n\n    .dataframe thead th {\n        text-align: right;\n    }\n</style>\n<table border=\"1\" class=\"dataframe\">\n  <thead>\n    <tr style=\"text-align: right;\">\n      <th></th>\n      <th>id</th>\n      <th>sex</th>\n      <th>birth_year</th>\n      <th>sample_type</th>\n      <th>race</th>\n      <th>poverty</th>\n      <th>marriage</th>\n      <th>metro_area</th>\n      <th>child_at_home</th>\n      <th>urban_rural</th>\n      <th>...</th>\n      <th>homeowner_perm</th>\n      <th>is_male</th>\n      <th>is_black</th>\n      <th>is_hispanic</th>\n      <th>is_mixed</th>\n      <th>is_married</th>\n      <th>is_cohab</th>\n      <th>is_metro</th>\n      <th>is_central</th>\n      <th>childhood_owned</th>\n    </tr>\n  </thead>\n  <tbody>\n    <tr>\n      <th>0</th>\n      <td>1</td>\n      <td>2</td>\n      <td>1981</td>\n      <td>1</td>\n      <td>4</td>\n      <td>NaN</td>\n      <td>NaN</td>\n      <td>NaN</td>\n      <td>NaN</td>\n      <td>NaN</td>\n      <td>...</td>\n      <td>0</td>\n      <td>0.0</td>\n      <td>0.0</td>\n      <td>0.0</td>\n      <td>0.0</td>\n      <td>0</td>\n      <td>0</td>\n      <td>0</td>\n      <td>0</td>\n      <td>0</td>\n    </tr>\n    <tr>\n      <th>1</th>\n      <td>2</td>\n      <td>1</td>\n      <td>1982</td>\n      <td>1</td>\n      <td>2</td>\n      <td>929.0</td>\n      <td>2.0</td>\n      <td>2.0</td>\n      <td>NaN</td>\n      <td>0.0</td>\n      <td>...</td>\n      <td>0</td>\n      <td>1.0</td>\n      <td>0.0</td>\n      <td>1.0</td>\n      <td>0.0</td>\n      <td>0</td>\n      <td>0</td>\n      <td>1</td>\n      <td>0</td>\n      <td>0</td>\n    </tr>\n    <tr>\n      <th>2</th>\n      <td>3</td>\n      <td>2</td>\n      <td>1983</td>\n      <td>1</td>\n      <td>2</td>\n      <td>NaN</td>\n      <td>3.0</td>\n      <td>2.0</td>\n      <td>2.0</td>\n      <td>2.0</td>\n      <td>...</td>\n      <td>0</td>\n      <td>0.0</td>\n      <td>0.0</td>\n      <td>1.0</td>\n      <td>0.0</td>\n      <td>1</td>\n      <td>1</td>\n      <td>1</td>\n      <td>0</td>\n      <td>0</td>\n    </tr>\n    <tr>\n      <th>3</th>\n      <td>4</td>\n      <td>2</td>\n      <td>1981</td>\n      <td>1</td>\n      <td>2</td>\n      <td>179.0</td>\n      <td>2.0</td>\n      <td>3.0</td>\n      <td>1.0</td>\n      <td>1.0</td>\n      <td>...</td>\n      <td>0</td>\n      <td>0.0</td>\n      <td>0.0</td>\n      <td>1.0</td>\n      <td>0.0</td>\n      <td>0</td>\n      <td>0</td>\n      <td>1</td>\n      <td>1</td>\n      <td>0</td>\n    </tr>\n    <tr>\n      <th>4</th>\n      <td>5</td>\n      <td>1</td>\n      <td>1982</td>\n      <td>1</td>\n      <td>2</td>\n      <td>871.0</td>\n      <td>3.0</td>\n      <td>3.0</td>\n      <td>2.0</td>\n      <td>1.0</td>\n      <td>...</td>\n      <td>1</td>\n      <td>1.0</td>\n      <td>0.0</td>\n      <td>1.0</td>\n      <td>0.0</td>\n      <td>1</td>\n      <td>1</td>\n      <td>1</td>\n      <td>1</td>\n      <td>0</td>\n    </tr>\n    <tr>\n      <th>...</th>\n      <td>...</td>\n      <td>...</td>\n      <td>...</td>\n      <td>...</td>\n      <td>...</td>\n      <td>...</td>\n      <td>...</td>\n      <td>...</td>\n      <td>...</td>\n      <td>...</td>\n      <td>...</td>\n      <td>...</td>\n      <td>...</td>\n      <td>...</td>\n      <td>...</td>\n      <td>...</td>\n      <td>...</td>\n      <td>...</td>\n      <td>...</td>\n      <td>...</td>\n      <td>...</td>\n    </tr>\n    <tr>\n      <th>7688</th>\n      <td>9018</td>\n      <td>2</td>\n      <td>1980</td>\n      <td>1</td>\n      <td>4</td>\n      <td>327.0</td>\n      <td>3.0</td>\n      <td>2.0</td>\n      <td>0.0</td>\n      <td>1.0</td>\n      <td>...</td>\n      <td>0</td>\n      <td>0.0</td>\n      <td>0.0</td>\n      <td>0.0</td>\n      <td>0.0</td>\n      <td>1</td>\n      <td>1</td>\n      <td>1</td>\n      <td>0</td>\n      <td>0</td>\n    </tr>\n    <tr>\n      <th>7689</th>\n      <td>9019</td>\n      <td>1</td>\n      <td>1984</td>\n      <td>0</td>\n      <td>2</td>\n      <td>498.0</td>\n      <td>2.0</td>\n      <td>3.0</td>\n      <td>0.0</td>\n      <td>1.0</td>\n      <td>...</td>\n      <td>0</td>\n      <td>1.0</td>\n      <td>0.0</td>\n      <td>1.0</td>\n      <td>0.0</td>\n      <td>0</td>\n      <td>0</td>\n      <td>1</td>\n      <td>1</td>\n      <td>0</td>\n    </tr>\n    <tr>\n      <th>7690</th>\n      <td>9020</td>\n      <td>1</td>\n      <td>1980</td>\n      <td>1</td>\n      <td>4</td>\n      <td>NaN</td>\n      <td>NaN</td>\n      <td>NaN</td>\n      <td>NaN</td>\n      <td>NaN</td>\n      <td>...</td>\n      <td>0</td>\n      <td>1.0</td>\n      <td>0.0</td>\n      <td>0.0</td>\n      <td>0.0</td>\n      <td>0</td>\n      <td>0</td>\n      <td>0</td>\n      <td>0</td>\n      <td>1</td>\n    </tr>\n    <tr>\n      <th>7691</th>\n      <td>9021</td>\n      <td>1</td>\n      <td>1980</td>\n      <td>1</td>\n      <td>4</td>\n      <td>260.0</td>\n      <td>2.0</td>\n      <td>2.0</td>\n      <td>1.0</td>\n      <td>1.0</td>\n      <td>...</td>\n      <td>0</td>\n      <td>1.0</td>\n      <td>0.0</td>\n      <td>0.0</td>\n      <td>0.0</td>\n      <td>0</td>\n      <td>0</td>\n      <td>1</td>\n      <td>0</td>\n      <td>0</td>\n    </tr>\n    <tr>\n      <th>7692</th>\n      <td>9022</td>\n      <td>2</td>\n      <td>1982</td>\n      <td>1</td>\n      <td>4</td>\n      <td>NaN</td>\n      <td>8.0</td>\n      <td>2.0</td>\n      <td>2.0</td>\n      <td>1.0</td>\n      <td>...</td>\n      <td>0</td>\n      <td>0.0</td>\n      <td>0.0</td>\n      <td>0.0</td>\n      <td>0.0</td>\n      <td>0</td>\n      <td>0</td>\n      <td>1</td>\n      <td>0</td>\n      <td>0</td>\n    </tr>\n  </tbody>\n</table>\n<p>7693 rows × 30 columns</p>\n</div>"
     },
     "metadata": {},
     "execution_count": 5
    }
   ],
   "source": [
    "#let's pickle our current data frame in case we get more information and can fill NA another way in the future\n",
    "joined_filled.to_pickle('joined_filled_cleaned_before_filling_NaN.pickle')\n",
    "#joined_filled = pd.read_pickle('joined_filled_cleaned_before_filling_NaN.pickle')\n",
    "joined_filled\n",
    "\n"
   ]
  },
  {
   "cell_type": "code",
   "execution_count": 6,
   "metadata": {},
   "outputs": [],
   "source": [
    "#fill Na values for degree_other feature\n",
    "joined_filled.degree_other.fillna(0, inplace = True)"
   ]
  },
  {
   "cell_type": "code",
   "execution_count": 7,
   "metadata": {},
   "outputs": [
    {
     "output_type": "execute_result",
     "data": {
      "text/plain": [
       "0       4\n",
       "1       2\n",
       "2       4\n",
       "3       2\n",
       "4       2\n",
       "       ..\n",
       "7688    1\n",
       "7689    3\n",
       "7690    2\n",
       "7691    4\n",
       "7692    5\n",
       "Name: degree_other, Length: 7693, dtype: int64"
      ]
     },
     "metadata": {},
     "execution_count": 7
    }
   ],
   "source": [
    "#int(joined_filled.degree_other)\n",
    "joined_filled['degree_other'] = joined_filled.apply(lambda x: int(x['degree_other']),axis=1)\n",
    "\n",
    "joined_filled['degree_other']"
   ]
  },
  {
   "cell_type": "code",
   "execution_count": 35,
   "metadata": {},
   "outputs": [
    {
     "output_type": "execute_result",
     "data": {
      "text/plain": [
       "      1  2  3  4  5  6  7\n",
       "0     0  0  0  1  0  0  0\n",
       "1     0  1  0  0  0  0  0\n",
       "2     0  0  0  1  0  0  0\n",
       "3     0  1  0  0  0  0  0\n",
       "4     0  1  0  0  0  0  0\n",
       "...  .. .. .. .. .. .. ..\n",
       "7688  1  0  0  0  0  0  0\n",
       "7689  0  0  1  0  0  0  0\n",
       "7690  0  1  0  0  0  0  0\n",
       "7691  0  0  0  1  0  0  0\n",
       "7692  0  0  0  0  1  0  0\n",
       "\n",
       "[7693 rows x 7 columns]"
      ],
      "text/html": "<div>\n<style scoped>\n    .dataframe tbody tr th:only-of-type {\n        vertical-align: middle;\n    }\n\n    .dataframe tbody tr th {\n        vertical-align: top;\n    }\n\n    .dataframe thead th {\n        text-align: right;\n    }\n</style>\n<table border=\"1\" class=\"dataframe\">\n  <thead>\n    <tr style=\"text-align: right;\">\n      <th></th>\n      <th>1</th>\n      <th>2</th>\n      <th>3</th>\n      <th>4</th>\n      <th>5</th>\n      <th>6</th>\n      <th>7</th>\n    </tr>\n  </thead>\n  <tbody>\n    <tr>\n      <th>0</th>\n      <td>0</td>\n      <td>0</td>\n      <td>0</td>\n      <td>1</td>\n      <td>0</td>\n      <td>0</td>\n      <td>0</td>\n    </tr>\n    <tr>\n      <th>1</th>\n      <td>0</td>\n      <td>1</td>\n      <td>0</td>\n      <td>0</td>\n      <td>0</td>\n      <td>0</td>\n      <td>0</td>\n    </tr>\n    <tr>\n      <th>2</th>\n      <td>0</td>\n      <td>0</td>\n      <td>0</td>\n      <td>1</td>\n      <td>0</td>\n      <td>0</td>\n      <td>0</td>\n    </tr>\n    <tr>\n      <th>3</th>\n      <td>0</td>\n      <td>1</td>\n      <td>0</td>\n      <td>0</td>\n      <td>0</td>\n      <td>0</td>\n      <td>0</td>\n    </tr>\n    <tr>\n      <th>4</th>\n      <td>0</td>\n      <td>1</td>\n      <td>0</td>\n      <td>0</td>\n      <td>0</td>\n      <td>0</td>\n      <td>0</td>\n    </tr>\n    <tr>\n      <th>...</th>\n      <td>...</td>\n      <td>...</td>\n      <td>...</td>\n      <td>...</td>\n      <td>...</td>\n      <td>...</td>\n      <td>...</td>\n    </tr>\n    <tr>\n      <th>7688</th>\n      <td>1</td>\n      <td>0</td>\n      <td>0</td>\n      <td>0</td>\n      <td>0</td>\n      <td>0</td>\n      <td>0</td>\n    </tr>\n    <tr>\n      <th>7689</th>\n      <td>0</td>\n      <td>0</td>\n      <td>1</td>\n      <td>0</td>\n      <td>0</td>\n      <td>0</td>\n      <td>0</td>\n    </tr>\n    <tr>\n      <th>7690</th>\n      <td>0</td>\n      <td>1</td>\n      <td>0</td>\n      <td>0</td>\n      <td>0</td>\n      <td>0</td>\n      <td>0</td>\n    </tr>\n    <tr>\n      <th>7691</th>\n      <td>0</td>\n      <td>0</td>\n      <td>0</td>\n      <td>1</td>\n      <td>0</td>\n      <td>0</td>\n      <td>0</td>\n    </tr>\n    <tr>\n      <th>7692</th>\n      <td>0</td>\n      <td>0</td>\n      <td>0</td>\n      <td>0</td>\n      <td>1</td>\n      <td>0</td>\n      <td>0</td>\n    </tr>\n  </tbody>\n</table>\n<p>7693 rows × 7 columns</p>\n</div>"
     },
     "metadata": {},
     "execution_count": 35
    }
   ],
   "source": [
    "#get dummies for degree_other, dropping first dummy column (0--no degree)\n",
    "degree_cat = pd.get_dummies(joined_filled['degree_other'], drop_first = True)\n",
    "degree_cat"
   ]
  },
  {
   "cell_type": "code",
   "execution_count": 38,
   "metadata": {},
   "outputs": [],
   "source": [
    "degree_cat.columns = ['GED','High_School','Assc_College', 'Bachelors','Masters', 'PhD', 'Med_Law']"
   ]
  },
  {
   "cell_type": "code",
   "execution_count": 39,
   "metadata": {},
   "outputs": [
    {
     "output_type": "execute_result",
     "data": {
      "text/plain": [
       "      GED  High_School  Assc_College  Bachelors  Masters  PhD  Med_Law\n",
       "0       0            0             0          1        0    0        0\n",
       "1       0            1             0          0        0    0        0\n",
       "2       0            0             0          1        0    0        0\n",
       "3       0            1             0          0        0    0        0\n",
       "4       0            1             0          0        0    0        0\n",
       "...   ...          ...           ...        ...      ...  ...      ...\n",
       "7688    1            0             0          0        0    0        0\n",
       "7689    0            0             1          0        0    0        0\n",
       "7690    0            1             0          0        0    0        0\n",
       "7691    0            0             0          1        0    0        0\n",
       "7692    0            0             0          0        1    0        0\n",
       "\n",
       "[7693 rows x 7 columns]"
      ],
      "text/html": "<div>\n<style scoped>\n    .dataframe tbody tr th:only-of-type {\n        vertical-align: middle;\n    }\n\n    .dataframe tbody tr th {\n        vertical-align: top;\n    }\n\n    .dataframe thead th {\n        text-align: right;\n    }\n</style>\n<table border=\"1\" class=\"dataframe\">\n  <thead>\n    <tr style=\"text-align: right;\">\n      <th></th>\n      <th>GED</th>\n      <th>High_School</th>\n      <th>Assc_College</th>\n      <th>Bachelors</th>\n      <th>Masters</th>\n      <th>PhD</th>\n      <th>Med_Law</th>\n    </tr>\n  </thead>\n  <tbody>\n    <tr>\n      <th>0</th>\n      <td>0</td>\n      <td>0</td>\n      <td>0</td>\n      <td>1</td>\n      <td>0</td>\n      <td>0</td>\n      <td>0</td>\n    </tr>\n    <tr>\n      <th>1</th>\n      <td>0</td>\n      <td>1</td>\n      <td>0</td>\n      <td>0</td>\n      <td>0</td>\n      <td>0</td>\n      <td>0</td>\n    </tr>\n    <tr>\n      <th>2</th>\n      <td>0</td>\n      <td>0</td>\n      <td>0</td>\n      <td>1</td>\n      <td>0</td>\n      <td>0</td>\n      <td>0</td>\n    </tr>\n    <tr>\n      <th>3</th>\n      <td>0</td>\n      <td>1</td>\n      <td>0</td>\n      <td>0</td>\n      <td>0</td>\n      <td>0</td>\n      <td>0</td>\n    </tr>\n    <tr>\n      <th>4</th>\n      <td>0</td>\n      <td>1</td>\n      <td>0</td>\n      <td>0</td>\n      <td>0</td>\n      <td>0</td>\n      <td>0</td>\n    </tr>\n    <tr>\n      <th>...</th>\n      <td>...</td>\n      <td>...</td>\n      <td>...</td>\n      <td>...</td>\n      <td>...</td>\n      <td>...</td>\n      <td>...</td>\n    </tr>\n    <tr>\n      <th>7688</th>\n      <td>1</td>\n      <td>0</td>\n      <td>0</td>\n      <td>0</td>\n      <td>0</td>\n      <td>0</td>\n      <td>0</td>\n    </tr>\n    <tr>\n      <th>7689</th>\n      <td>0</td>\n      <td>0</td>\n      <td>1</td>\n      <td>0</td>\n      <td>0</td>\n      <td>0</td>\n      <td>0</td>\n    </tr>\n    <tr>\n      <th>7690</th>\n      <td>0</td>\n      <td>1</td>\n      <td>0</td>\n      <td>0</td>\n      <td>0</td>\n      <td>0</td>\n      <td>0</td>\n    </tr>\n    <tr>\n      <th>7691</th>\n      <td>0</td>\n      <td>0</td>\n      <td>0</td>\n      <td>1</td>\n      <td>0</td>\n      <td>0</td>\n      <td>0</td>\n    </tr>\n    <tr>\n      <th>7692</th>\n      <td>0</td>\n      <td>0</td>\n      <td>0</td>\n      <td>0</td>\n      <td>1</td>\n      <td>0</td>\n      <td>0</td>\n    </tr>\n  </tbody>\n</table>\n<p>7693 rows × 7 columns</p>\n</div>"
     },
     "metadata": {},
     "execution_count": 39
    }
   ],
   "source": [
    "degree_cat"
   ]
  },
  {
   "cell_type": "code",
   "execution_count": 44,
   "metadata": {},
   "outputs": [],
   "source": [
    "#join with original dataframe\n",
    "joined_filled= joined_filled.join(degree_cat)\n"
   ]
  },
  {
   "cell_type": "code",
   "execution_count": 45,
   "metadata": {},
   "outputs": [
    {
     "output_type": "execute_result",
     "data": {
      "text/plain": [
       "        id  sex  birth_year  sample_type  race  poverty  marriage  metro_area  \\\n",
       "0        1    2        1981            1     4      NaN       NaN         NaN   \n",
       "1        2    1        1982            1     2    929.0       2.0         2.0   \n",
       "2        3    2        1983            1     2      NaN       3.0         2.0   \n",
       "3        4    2        1981            1     2    179.0       2.0         3.0   \n",
       "4        5    1        1982            1     2    871.0       3.0         3.0   \n",
       "...    ...  ...         ...          ...   ...      ...       ...         ...   \n",
       "7688  9018    2        1980            1     4    327.0       3.0         2.0   \n",
       "7689  9019    1        1984            0     2    498.0       2.0         3.0   \n",
       "7690  9020    1        1980            1     4      NaN       NaN         NaN   \n",
       "7691  9021    1        1980            1     4    260.0       2.0         2.0   \n",
       "7692  9022    2        1982            1     4      NaN       8.0         2.0   \n",
       "\n",
       "      child_at_home  urban_rural  ...  is_metro  is_central  childhood_owned  \\\n",
       "0               NaN          NaN  ...         0           0                0   \n",
       "1               NaN          0.0  ...         1           0                0   \n",
       "2               2.0          2.0  ...         1           0                0   \n",
       "3               1.0          1.0  ...         1           1                0   \n",
       "4               2.0          1.0  ...         1           1                0   \n",
       "...             ...          ...  ...       ...         ...              ...   \n",
       "7688            0.0          1.0  ...         1           0                0   \n",
       "7689            0.0          1.0  ...         1           1                0   \n",
       "7690            NaN          NaN  ...         0           0                1   \n",
       "7691            1.0          1.0  ...         1           0                0   \n",
       "7692            2.0          1.0  ...         1           0                0   \n",
       "\n",
       "      GED  High_School  Assc_College  Bachelors  Masters  PhD  Med_Law  \n",
       "0       0            0             0          1        0    0        0  \n",
       "1       0            1             0          0        0    0        0  \n",
       "2       0            0             0          1        0    0        0  \n",
       "3       0            1             0          0        0    0        0  \n",
       "4       0            1             0          0        0    0        0  \n",
       "...   ...          ...           ...        ...      ...  ...      ...  \n",
       "7688    1            0             0          0        0    0        0  \n",
       "7689    0            0             1          0        0    0        0  \n",
       "7690    0            1             0          0        0    0        0  \n",
       "7691    0            0             0          1        0    0        0  \n",
       "7692    0            0             0          0        1    0        0  \n",
       "\n",
       "[7693 rows x 37 columns]"
      ],
      "text/html": "<div>\n<style scoped>\n    .dataframe tbody tr th:only-of-type {\n        vertical-align: middle;\n    }\n\n    .dataframe tbody tr th {\n        vertical-align: top;\n    }\n\n    .dataframe thead th {\n        text-align: right;\n    }\n</style>\n<table border=\"1\" class=\"dataframe\">\n  <thead>\n    <tr style=\"text-align: right;\">\n      <th></th>\n      <th>id</th>\n      <th>sex</th>\n      <th>birth_year</th>\n      <th>sample_type</th>\n      <th>race</th>\n      <th>poverty</th>\n      <th>marriage</th>\n      <th>metro_area</th>\n      <th>child_at_home</th>\n      <th>urban_rural</th>\n      <th>...</th>\n      <th>is_metro</th>\n      <th>is_central</th>\n      <th>childhood_owned</th>\n      <th>GED</th>\n      <th>High_School</th>\n      <th>Assc_College</th>\n      <th>Bachelors</th>\n      <th>Masters</th>\n      <th>PhD</th>\n      <th>Med_Law</th>\n    </tr>\n  </thead>\n  <tbody>\n    <tr>\n      <th>0</th>\n      <td>1</td>\n      <td>2</td>\n      <td>1981</td>\n      <td>1</td>\n      <td>4</td>\n      <td>NaN</td>\n      <td>NaN</td>\n      <td>NaN</td>\n      <td>NaN</td>\n      <td>NaN</td>\n      <td>...</td>\n      <td>0</td>\n      <td>0</td>\n      <td>0</td>\n      <td>0</td>\n      <td>0</td>\n      <td>0</td>\n      <td>1</td>\n      <td>0</td>\n      <td>0</td>\n      <td>0</td>\n    </tr>\n    <tr>\n      <th>1</th>\n      <td>2</td>\n      <td>1</td>\n      <td>1982</td>\n      <td>1</td>\n      <td>2</td>\n      <td>929.0</td>\n      <td>2.0</td>\n      <td>2.0</td>\n      <td>NaN</td>\n      <td>0.0</td>\n      <td>...</td>\n      <td>1</td>\n      <td>0</td>\n      <td>0</td>\n      <td>0</td>\n      <td>1</td>\n      <td>0</td>\n      <td>0</td>\n      <td>0</td>\n      <td>0</td>\n      <td>0</td>\n    </tr>\n    <tr>\n      <th>2</th>\n      <td>3</td>\n      <td>2</td>\n      <td>1983</td>\n      <td>1</td>\n      <td>2</td>\n      <td>NaN</td>\n      <td>3.0</td>\n      <td>2.0</td>\n      <td>2.0</td>\n      <td>2.0</td>\n      <td>...</td>\n      <td>1</td>\n      <td>0</td>\n      <td>0</td>\n      <td>0</td>\n      <td>0</td>\n      <td>0</td>\n      <td>1</td>\n      <td>0</td>\n      <td>0</td>\n      <td>0</td>\n    </tr>\n    <tr>\n      <th>3</th>\n      <td>4</td>\n      <td>2</td>\n      <td>1981</td>\n      <td>1</td>\n      <td>2</td>\n      <td>179.0</td>\n      <td>2.0</td>\n      <td>3.0</td>\n      <td>1.0</td>\n      <td>1.0</td>\n      <td>...</td>\n      <td>1</td>\n      <td>1</td>\n      <td>0</td>\n      <td>0</td>\n      <td>1</td>\n      <td>0</td>\n      <td>0</td>\n      <td>0</td>\n      <td>0</td>\n      <td>0</td>\n    </tr>\n    <tr>\n      <th>4</th>\n      <td>5</td>\n      <td>1</td>\n      <td>1982</td>\n      <td>1</td>\n      <td>2</td>\n      <td>871.0</td>\n      <td>3.0</td>\n      <td>3.0</td>\n      <td>2.0</td>\n      <td>1.0</td>\n      <td>...</td>\n      <td>1</td>\n      <td>1</td>\n      <td>0</td>\n      <td>0</td>\n      <td>1</td>\n      <td>0</td>\n      <td>0</td>\n      <td>0</td>\n      <td>0</td>\n      <td>0</td>\n    </tr>\n    <tr>\n      <th>...</th>\n      <td>...</td>\n      <td>...</td>\n      <td>...</td>\n      <td>...</td>\n      <td>...</td>\n      <td>...</td>\n      <td>...</td>\n      <td>...</td>\n      <td>...</td>\n      <td>...</td>\n      <td>...</td>\n      <td>...</td>\n      <td>...</td>\n      <td>...</td>\n      <td>...</td>\n      <td>...</td>\n      <td>...</td>\n      <td>...</td>\n      <td>...</td>\n      <td>...</td>\n      <td>...</td>\n    </tr>\n    <tr>\n      <th>7688</th>\n      <td>9018</td>\n      <td>2</td>\n      <td>1980</td>\n      <td>1</td>\n      <td>4</td>\n      <td>327.0</td>\n      <td>3.0</td>\n      <td>2.0</td>\n      <td>0.0</td>\n      <td>1.0</td>\n      <td>...</td>\n      <td>1</td>\n      <td>0</td>\n      <td>0</td>\n      <td>1</td>\n      <td>0</td>\n      <td>0</td>\n      <td>0</td>\n      <td>0</td>\n      <td>0</td>\n      <td>0</td>\n    </tr>\n    <tr>\n      <th>7689</th>\n      <td>9019</td>\n      <td>1</td>\n      <td>1984</td>\n      <td>0</td>\n      <td>2</td>\n      <td>498.0</td>\n      <td>2.0</td>\n      <td>3.0</td>\n      <td>0.0</td>\n      <td>1.0</td>\n      <td>...</td>\n      <td>1</td>\n      <td>1</td>\n      <td>0</td>\n      <td>0</td>\n      <td>0</td>\n      <td>1</td>\n      <td>0</td>\n      <td>0</td>\n      <td>0</td>\n      <td>0</td>\n    </tr>\n    <tr>\n      <th>7690</th>\n      <td>9020</td>\n      <td>1</td>\n      <td>1980</td>\n      <td>1</td>\n      <td>4</td>\n      <td>NaN</td>\n      <td>NaN</td>\n      <td>NaN</td>\n      <td>NaN</td>\n      <td>NaN</td>\n      <td>...</td>\n      <td>0</td>\n      <td>0</td>\n      <td>1</td>\n      <td>0</td>\n      <td>1</td>\n      <td>0</td>\n      <td>0</td>\n      <td>0</td>\n      <td>0</td>\n      <td>0</td>\n    </tr>\n    <tr>\n      <th>7691</th>\n      <td>9021</td>\n      <td>1</td>\n      <td>1980</td>\n      <td>1</td>\n      <td>4</td>\n      <td>260.0</td>\n      <td>2.0</td>\n      <td>2.0</td>\n      <td>1.0</td>\n      <td>1.0</td>\n      <td>...</td>\n      <td>1</td>\n      <td>0</td>\n      <td>0</td>\n      <td>0</td>\n      <td>0</td>\n      <td>0</td>\n      <td>1</td>\n      <td>0</td>\n      <td>0</td>\n      <td>0</td>\n    </tr>\n    <tr>\n      <th>7692</th>\n      <td>9022</td>\n      <td>2</td>\n      <td>1982</td>\n      <td>1</td>\n      <td>4</td>\n      <td>NaN</td>\n      <td>8.0</td>\n      <td>2.0</td>\n      <td>2.0</td>\n      <td>1.0</td>\n      <td>...</td>\n      <td>1</td>\n      <td>0</td>\n      <td>0</td>\n      <td>0</td>\n      <td>0</td>\n      <td>0</td>\n      <td>0</td>\n      <td>1</td>\n      <td>0</td>\n      <td>0</td>\n    </tr>\n  </tbody>\n</table>\n<p>7693 rows × 37 columns</p>\n</div>"
     },
     "metadata": {},
     "execution_count": 45
    }
   ],
   "source": [
    "\n",
    "joined_filled"
   ]
  },
  {
   "source": [
    "### Null values"
   ],
   "cell_type": "markdown",
   "metadata": {}
  },
  {
   "source": [
    "Now that we have decoded all of our variables and created dummy columns for our categorical variables, we need to take a look at all of the null values in our columns and fill them in to the best of our ability."
   ],
   "cell_type": "markdown",
   "metadata": {}
  },
  {
   "source": [
    "#First, lets make a new df with only the features that we will be using in our modeling, including most of the categorical variables we now have dummys for.\n",
    "joined_filled.columns"
   ],
   "cell_type": "code",
   "metadata": {},
   "execution_count": 70,
   "outputs": [
    {
     "output_type": "execute_result",
     "data": {
      "text/plain": [
       "Index(['id', 'sex', 'birth_year', 'sample_type', 'race', 'poverty', 'marriage',\n",
       "       'metro_area', 'child_at_home', 'urban_rural', 'degree_other',\n",
       "       'house_type_30', 'fin_assets_30', 'debts_30', 'childhood_home',\n",
       "       'childhood_poverty', 'moves_since_12', 'homeowner',\n",
       "       'income_wage_compiled', 'income_bus_compiled', 'homeowner_perm',\n",
       "       'is_male', 'is_black', 'is_hispanic', 'is_mixed', 'is_married',\n",
       "       'is_cohab', 'is_metro', 'is_central', 'childhood_owned', 'GED',\n",
       "       'High_School', 'Assc_College', 'Bachelors', 'Masters', 'PhD',\n",
       "       'Med_Law'],\n",
       "      dtype='object')"
      ]
     },
     "metadata": {},
     "execution_count": 70
    }
   ]
  },
  {
   "cell_type": "code",
   "execution_count": 71,
   "metadata": {},
   "outputs": [],
   "source": [
    "model_df = joined_filled.drop(columns = ['race', 'marriage',\n",
    "       'metro_area', 'urban_rural', 'degree_other',\n",
    "       'house_type_30', 'childhood_home'])"
   ]
  },
  {
   "cell_type": "code",
   "execution_count": 75,
   "metadata": {},
   "outputs": [],
   "source": [
    "#pickle for later\n",
    "model_df.to_pickle('model_df.pickle')"
   ]
  },
  {
   "cell_type": "code",
   "execution_count": 72,
   "metadata": {},
   "outputs": [
    {
     "output_type": "stream",
     "name": "stdout",
     "text": [
      "poverty : 1731\nchild_at_home : 2972\nfin_assets_30 : 684\ndebts_30 : 245\nchildhood_poverty : 2026\nmoves_since_12 : 1092\nincome_wage_compiled : 2313\nincome_bus_compiled : 7461\n"
     ]
    }
   ],
   "source": [
    "#list out our columns with null values\n",
    "for column in model_df.columns:\n",
    "    nulls = model_df[str(column)].isnull().sum()\n",
    "    if nulls > 0:\n",
    "        print (\"{} : {}\".format(column, nulls))"
   ]
  },
  {
   "source": [
    "Now let's see, out of these nulls indicating nonresponses, from our original dataframe, which ones are noninterviews (defined by the study as those unable to be located, refusal, deceased), valid skips (which are due to subjects not eligible for that question), or which ones are invalid skips(due to survey flow error on the part of the researchers causing subjects to accidentally skip a question), and 'don't know/refusal to answer' (which we can impute with an average if possible)."
   ],
   "cell_type": "markdown",
   "metadata": {}
  },
  {
   "source": [
    "Interview Skip Key (from the nls_key_decoder_sas): <br/>\n",
    "Noninterview -5 <br/>\n",
    "Valid Skip -4 <br/>\n",
    "Invalid Skip -3 <br/>\n",
    "Don't Know -2 <br/>\n",
    "Refusal -1 <br/>"
   ],
   "cell_type": "markdown",
   "metadata": {}
  },
  {
   "cell_type": "code",
   "execution_count": 97,
   "metadata": {},
   "outputs": [
    {
     "output_type": "execute_result",
     "data": {
      "text/plain": [
       "        id  sex  birth_year  sample_type  race  poverty  degree_2017  \\\n",
       "0        1    2        1981            1     4       -5           -5   \n",
       "1        2    1        1982            1     2      929            2   \n",
       "2        3    2        1983            1     2       -3            4   \n",
       "3        4    2        1981            1     2      179            2   \n",
       "4        5    1        1982            1     2      871            2   \n",
       "...    ...  ...         ...          ...   ...      ...          ...   \n",
       "7688  9018    2        1980            1     4      327            1   \n",
       "7689  9019    1        1984            0     2      498            3   \n",
       "7690  9020    1        1980            1     4       -5           -5   \n",
       "7691  9021    1        1980            1     4      260            4   \n",
       "7692  9022    2        1982            1     4       -3            5   \n",
       "\n",
       "      marriage  metro_area  child_at_home  ...  debts_30  house_type_35  \\\n",
       "0           -5          -5             -5  ...     18000             -4   \n",
       "1            2           2             -4  ...     35000              1   \n",
       "2            3           2              2  ...     19300             -4   \n",
       "3            2           3              1  ...         0              6   \n",
       "4            3           3              2  ...      9000              1   \n",
       "...        ...         ...            ...  ...       ...            ...   \n",
       "7688         3           2              0  ...      1200              1   \n",
       "7689         2           3              0  ...     17000             -4   \n",
       "7690        -5          -5             -5  ...         0              6   \n",
       "7691         2           2              1  ...         0              6   \n",
       "7692         8           2              2  ...     60000              1   \n",
       "\n",
       "      fin_assets_35  debts_35    id  childhood_home  childhood_poverty  \\\n",
       "0                -4        -4     1               2                 -3   \n",
       "1              2000     62500     2              -4                 -4   \n",
       "2                -4        -4     3               2                583   \n",
       "3              7050      1300     4               2                108   \n",
       "4            300000      3000     5               2                 -3   \n",
       "...             ...       ...   ...             ...                ...   \n",
       "7688           4000     19000  9018              -4                 -3   \n",
       "7689             -4        -4  9019               2                 -3   \n",
       "7690          78750         0  9020               1                663   \n",
       "7691           9000         0  9021               2                144   \n",
       "7692          23000     60000  9022               2                144   \n",
       "\n",
       "      own_or_rent  home_situation  moves_since_12  \n",
       "0               5               1               1  \n",
       "1               4              -4              -4  \n",
       "2               4              -4              13  \n",
       "3               4              -4               5  \n",
       "4               1              -4               9  \n",
       "...           ...             ...             ...  \n",
       "7688            4              -4              -4  \n",
       "7689            5               1               5  \n",
       "7690            5               8               9  \n",
       "7691            4              -4              13  \n",
       "7692            4              -4              18  \n",
       "\n",
       "[7693 rows x 28 columns]"
      ],
      "text/html": "<div>\n<style scoped>\n    .dataframe tbody tr th:only-of-type {\n        vertical-align: middle;\n    }\n\n    .dataframe tbody tr th {\n        vertical-align: top;\n    }\n\n    .dataframe thead th {\n        text-align: right;\n    }\n</style>\n<table border=\"1\" class=\"dataframe\">\n  <thead>\n    <tr style=\"text-align: right;\">\n      <th></th>\n      <th>id</th>\n      <th>sex</th>\n      <th>birth_year</th>\n      <th>sample_type</th>\n      <th>race</th>\n      <th>poverty</th>\n      <th>degree_2017</th>\n      <th>marriage</th>\n      <th>metro_area</th>\n      <th>child_at_home</th>\n      <th>...</th>\n      <th>debts_30</th>\n      <th>house_type_35</th>\n      <th>fin_assets_35</th>\n      <th>debts_35</th>\n      <th>id</th>\n      <th>childhood_home</th>\n      <th>childhood_poverty</th>\n      <th>own_or_rent</th>\n      <th>home_situation</th>\n      <th>moves_since_12</th>\n    </tr>\n  </thead>\n  <tbody>\n    <tr>\n      <th>0</th>\n      <td>1</td>\n      <td>2</td>\n      <td>1981</td>\n      <td>1</td>\n      <td>4</td>\n      <td>-5</td>\n      <td>-5</td>\n      <td>-5</td>\n      <td>-5</td>\n      <td>-5</td>\n      <td>...</td>\n      <td>18000</td>\n      <td>-4</td>\n      <td>-4</td>\n      <td>-4</td>\n      <td>1</td>\n      <td>2</td>\n      <td>-3</td>\n      <td>5</td>\n      <td>1</td>\n      <td>1</td>\n    </tr>\n    <tr>\n      <th>1</th>\n      <td>2</td>\n      <td>1</td>\n      <td>1982</td>\n      <td>1</td>\n      <td>2</td>\n      <td>929</td>\n      <td>2</td>\n      <td>2</td>\n      <td>2</td>\n      <td>-4</td>\n      <td>...</td>\n      <td>35000</td>\n      <td>1</td>\n      <td>2000</td>\n      <td>62500</td>\n      <td>2</td>\n      <td>-4</td>\n      <td>-4</td>\n      <td>4</td>\n      <td>-4</td>\n      <td>-4</td>\n    </tr>\n    <tr>\n      <th>2</th>\n      <td>3</td>\n      <td>2</td>\n      <td>1983</td>\n      <td>1</td>\n      <td>2</td>\n      <td>-3</td>\n      <td>4</td>\n      <td>3</td>\n      <td>2</td>\n      <td>2</td>\n      <td>...</td>\n      <td>19300</td>\n      <td>-4</td>\n      <td>-4</td>\n      <td>-4</td>\n      <td>3</td>\n      <td>2</td>\n      <td>583</td>\n      <td>4</td>\n      <td>-4</td>\n      <td>13</td>\n    </tr>\n    <tr>\n      <th>3</th>\n      <td>4</td>\n      <td>2</td>\n      <td>1981</td>\n      <td>1</td>\n      <td>2</td>\n      <td>179</td>\n      <td>2</td>\n      <td>2</td>\n      <td>3</td>\n      <td>1</td>\n      <td>...</td>\n      <td>0</td>\n      <td>6</td>\n      <td>7050</td>\n      <td>1300</td>\n      <td>4</td>\n      <td>2</td>\n      <td>108</td>\n      <td>4</td>\n      <td>-4</td>\n      <td>5</td>\n    </tr>\n    <tr>\n      <th>4</th>\n      <td>5</td>\n      <td>1</td>\n      <td>1982</td>\n      <td>1</td>\n      <td>2</td>\n      <td>871</td>\n      <td>2</td>\n      <td>3</td>\n      <td>3</td>\n      <td>2</td>\n      <td>...</td>\n      <td>9000</td>\n      <td>1</td>\n      <td>300000</td>\n      <td>3000</td>\n      <td>5</td>\n      <td>2</td>\n      <td>-3</td>\n      <td>1</td>\n      <td>-4</td>\n      <td>9</td>\n    </tr>\n    <tr>\n      <th>...</th>\n      <td>...</td>\n      <td>...</td>\n      <td>...</td>\n      <td>...</td>\n      <td>...</td>\n      <td>...</td>\n      <td>...</td>\n      <td>...</td>\n      <td>...</td>\n      <td>...</td>\n      <td>...</td>\n      <td>...</td>\n      <td>...</td>\n      <td>...</td>\n      <td>...</td>\n      <td>...</td>\n      <td>...</td>\n      <td>...</td>\n      <td>...</td>\n      <td>...</td>\n      <td>...</td>\n    </tr>\n    <tr>\n      <th>7688</th>\n      <td>9018</td>\n      <td>2</td>\n      <td>1980</td>\n      <td>1</td>\n      <td>4</td>\n      <td>327</td>\n      <td>1</td>\n      <td>3</td>\n      <td>2</td>\n      <td>0</td>\n      <td>...</td>\n      <td>1200</td>\n      <td>1</td>\n      <td>4000</td>\n      <td>19000</td>\n      <td>9018</td>\n      <td>-4</td>\n      <td>-3</td>\n      <td>4</td>\n      <td>-4</td>\n      <td>-4</td>\n    </tr>\n    <tr>\n      <th>7689</th>\n      <td>9019</td>\n      <td>1</td>\n      <td>1984</td>\n      <td>0</td>\n      <td>2</td>\n      <td>498</td>\n      <td>3</td>\n      <td>2</td>\n      <td>3</td>\n      <td>0</td>\n      <td>...</td>\n      <td>17000</td>\n      <td>-4</td>\n      <td>-4</td>\n      <td>-4</td>\n      <td>9019</td>\n      <td>2</td>\n      <td>-3</td>\n      <td>5</td>\n      <td>1</td>\n      <td>5</td>\n    </tr>\n    <tr>\n      <th>7690</th>\n      <td>9020</td>\n      <td>1</td>\n      <td>1980</td>\n      <td>1</td>\n      <td>4</td>\n      <td>-5</td>\n      <td>-5</td>\n      <td>-5</td>\n      <td>-5</td>\n      <td>-5</td>\n      <td>...</td>\n      <td>0</td>\n      <td>6</td>\n      <td>78750</td>\n      <td>0</td>\n      <td>9020</td>\n      <td>1</td>\n      <td>663</td>\n      <td>5</td>\n      <td>8</td>\n      <td>9</td>\n    </tr>\n    <tr>\n      <th>7691</th>\n      <td>9021</td>\n      <td>1</td>\n      <td>1980</td>\n      <td>1</td>\n      <td>4</td>\n      <td>260</td>\n      <td>4</td>\n      <td>2</td>\n      <td>2</td>\n      <td>1</td>\n      <td>...</td>\n      <td>0</td>\n      <td>6</td>\n      <td>9000</td>\n      <td>0</td>\n      <td>9021</td>\n      <td>2</td>\n      <td>144</td>\n      <td>4</td>\n      <td>-4</td>\n      <td>13</td>\n    </tr>\n    <tr>\n      <th>7692</th>\n      <td>9022</td>\n      <td>2</td>\n      <td>1982</td>\n      <td>1</td>\n      <td>4</td>\n      <td>-3</td>\n      <td>5</td>\n      <td>8</td>\n      <td>2</td>\n      <td>2</td>\n      <td>...</td>\n      <td>60000</td>\n      <td>1</td>\n      <td>23000</td>\n      <td>60000</td>\n      <td>9022</td>\n      <td>2</td>\n      <td>144</td>\n      <td>4</td>\n      <td>-4</td>\n      <td>18</td>\n    </tr>\n  </tbody>\n</table>\n<p>7693 rows × 28 columns</p>\n</div>"
     },
     "metadata": {},
     "execution_count": 97
    }
   ],
   "source": [
    "#read in our original df with the interview skip keys for each column (before we filled those in with NaN)\n",
    "original_df = pd.read_pickle('joined_df.pickle')\n",
    "original_df"
   ]
  },
  {
   "source": [
    "Let's tackle noninterviews first, coded by -5, and defined as those unable to be located, refusal, deceased by the study. The logitutional study occured over the course of 20 years, when subjects were 14-17 in 1997, participating under as teenagers at the time, under the supervision of their guardians.  We are looking at a snapshot from their most recent interviews in 2017. It is not surprising that a portion of thse subjects dropped off the study over the course of a decade. Noninterviews thus impact every feature, so we will need to drop them. "
   ],
   "cell_type": "markdown",
   "metadata": {}
  },
  {
   "cell_type": "code",
   "execution_count": 197,
   "metadata": {},
   "outputs": [],
   "source": [
    "#create a new df with only the variables we need to impute from the original df.\n",
    "\n",
    "skips_df= original_df[['id', 'poverty', 'child_at_home', 'fin_assets_30', 'debts_30', 'childhood_poverty', 'moves_since_12']]"
   ]
  },
  {
   "cell_type": "code",
   "execution_count": 126,
   "metadata": {},
   "outputs": [
    {
     "output_type": "execute_result",
     "data": {
      "text/plain": [
       "        id    id  poverty  child_at_home  fin_assets_30  debts_30  \\\n",
       "0        1     1       -5             -5          30000     18000   \n",
       "1        2     2      929             -4          45000     35000   \n",
       "2        3     3       -3              2             -3     19300   \n",
       "3        4     4      179              1              0         0   \n",
       "4        5     5      871              2         144000      9000   \n",
       "...    ...   ...      ...            ...            ...       ...   \n",
       "7688  9018  9018      327              0            100      1200   \n",
       "7689  9019  9019      498              0            400     17000   \n",
       "7690  9020  9020       -5             -5           6000         0   \n",
       "7691  9021  9021      260              1           5000         0   \n",
       "7692  9022  9022       -3              2           2400     60000   \n",
       "\n",
       "      childhood_poverty  moves_since_12  \n",
       "0                    -3               1  \n",
       "1                    -4              -4  \n",
       "2                   583              13  \n",
       "3                   108               5  \n",
       "4                    -3               9  \n",
       "...                 ...             ...  \n",
       "7688                 -3              -4  \n",
       "7689                 -3               5  \n",
       "7690                663               9  \n",
       "7691                144              13  \n",
       "7692                144              18  \n",
       "\n",
       "[7693 rows x 8 columns]"
      ],
      "text/html": "<div>\n<style scoped>\n    .dataframe tbody tr th:only-of-type {\n        vertical-align: middle;\n    }\n\n    .dataframe tbody tr th {\n        vertical-align: top;\n    }\n\n    .dataframe thead th {\n        text-align: right;\n    }\n</style>\n<table border=\"1\" class=\"dataframe\">\n  <thead>\n    <tr style=\"text-align: right;\">\n      <th></th>\n      <th>id</th>\n      <th>id</th>\n      <th>poverty</th>\n      <th>child_at_home</th>\n      <th>fin_assets_30</th>\n      <th>debts_30</th>\n      <th>childhood_poverty</th>\n      <th>moves_since_12</th>\n    </tr>\n  </thead>\n  <tbody>\n    <tr>\n      <th>0</th>\n      <td>1</td>\n      <td>1</td>\n      <td>-5</td>\n      <td>-5</td>\n      <td>30000</td>\n      <td>18000</td>\n      <td>-3</td>\n      <td>1</td>\n    </tr>\n    <tr>\n      <th>1</th>\n      <td>2</td>\n      <td>2</td>\n      <td>929</td>\n      <td>-4</td>\n      <td>45000</td>\n      <td>35000</td>\n      <td>-4</td>\n      <td>-4</td>\n    </tr>\n    <tr>\n      <th>2</th>\n      <td>3</td>\n      <td>3</td>\n      <td>-3</td>\n      <td>2</td>\n      <td>-3</td>\n      <td>19300</td>\n      <td>583</td>\n      <td>13</td>\n    </tr>\n    <tr>\n      <th>3</th>\n      <td>4</td>\n      <td>4</td>\n      <td>179</td>\n      <td>1</td>\n      <td>0</td>\n      <td>0</td>\n      <td>108</td>\n      <td>5</td>\n    </tr>\n    <tr>\n      <th>4</th>\n      <td>5</td>\n      <td>5</td>\n      <td>871</td>\n      <td>2</td>\n      <td>144000</td>\n      <td>9000</td>\n      <td>-3</td>\n      <td>9</td>\n    </tr>\n    <tr>\n      <th>...</th>\n      <td>...</td>\n      <td>...</td>\n      <td>...</td>\n      <td>...</td>\n      <td>...</td>\n      <td>...</td>\n      <td>...</td>\n      <td>...</td>\n    </tr>\n    <tr>\n      <th>7688</th>\n      <td>9018</td>\n      <td>9018</td>\n      <td>327</td>\n      <td>0</td>\n      <td>100</td>\n      <td>1200</td>\n      <td>-3</td>\n      <td>-4</td>\n    </tr>\n    <tr>\n      <th>7689</th>\n      <td>9019</td>\n      <td>9019</td>\n      <td>498</td>\n      <td>0</td>\n      <td>400</td>\n      <td>17000</td>\n      <td>-3</td>\n      <td>5</td>\n    </tr>\n    <tr>\n      <th>7690</th>\n      <td>9020</td>\n      <td>9020</td>\n      <td>-5</td>\n      <td>-5</td>\n      <td>6000</td>\n      <td>0</td>\n      <td>663</td>\n      <td>9</td>\n    </tr>\n    <tr>\n      <th>7691</th>\n      <td>9021</td>\n      <td>9021</td>\n      <td>260</td>\n      <td>1</td>\n      <td>5000</td>\n      <td>0</td>\n      <td>144</td>\n      <td>13</td>\n    </tr>\n    <tr>\n      <th>7692</th>\n      <td>9022</td>\n      <td>9022</td>\n      <td>-3</td>\n      <td>2</td>\n      <td>2400</td>\n      <td>60000</td>\n      <td>144</td>\n      <td>18</td>\n    </tr>\n  </tbody>\n</table>\n<p>7693 rows × 8 columns</p>\n</div>"
     },
     "metadata": {},
     "execution_count": 126
    }
   ],
   "source": [
    "skips_df"
   ]
  },
  {
   "cell_type": "code",
   "execution_count": 198,
   "metadata": {},
   "outputs": [],
   "source": [
    "#drop all rows with noninterview key in any column\n",
    "skips_df=skips_df.replace(-5,np.nan).dropna(axis = 0, how = 'any')"
   ]
  },
  {
   "cell_type": "code",
   "execution_count": 199,
   "metadata": {},
   "outputs": [
    {
     "output_type": "execute_result",
     "data": {
      "text/plain": [
       "        id    id  poverty  child_at_home  fin_assets_30  debts_30  \\\n",
       "1        2     2    929.0           -4.0          45000     35000   \n",
       "2        3     3     -3.0            2.0             -3     19300   \n",
       "3        4     4    179.0            1.0              0         0   \n",
       "4        5     5    871.0            2.0         144000      9000   \n",
       "5        6     6    226.0            2.0           3500      1000   \n",
       "...    ...   ...      ...            ...            ...       ...   \n",
       "7687  9016  9016    223.0           -4.0            530     42400   \n",
       "7688  9018  9018    327.0            0.0            100      1200   \n",
       "7689  9019  9019    498.0            0.0            400     17000   \n",
       "7691  9021  9021    260.0            1.0           5000         0   \n",
       "7692  9022  9022     -3.0            2.0           2400     60000   \n",
       "\n",
       "      childhood_poverty  moves_since_12  \n",
       "1                    -4              -4  \n",
       "2                   583              13  \n",
       "3                   108               5  \n",
       "4                    -3               9  \n",
       "5                    -3               9  \n",
       "...                 ...             ...  \n",
       "7687                194               6  \n",
       "7688                 -3              -4  \n",
       "7689                 -3               5  \n",
       "7691                144              13  \n",
       "7692                144              18  \n",
       "\n",
       "[6629 rows x 8 columns]"
      ],
      "text/html": "<div>\n<style scoped>\n    .dataframe tbody tr th:only-of-type {\n        vertical-align: middle;\n    }\n\n    .dataframe tbody tr th {\n        vertical-align: top;\n    }\n\n    .dataframe thead th {\n        text-align: right;\n    }\n</style>\n<table border=\"1\" class=\"dataframe\">\n  <thead>\n    <tr style=\"text-align: right;\">\n      <th></th>\n      <th>id</th>\n      <th>id</th>\n      <th>poverty</th>\n      <th>child_at_home</th>\n      <th>fin_assets_30</th>\n      <th>debts_30</th>\n      <th>childhood_poverty</th>\n      <th>moves_since_12</th>\n    </tr>\n  </thead>\n  <tbody>\n    <tr>\n      <th>1</th>\n      <td>2</td>\n      <td>2</td>\n      <td>929.0</td>\n      <td>-4.0</td>\n      <td>45000</td>\n      <td>35000</td>\n      <td>-4</td>\n      <td>-4</td>\n    </tr>\n    <tr>\n      <th>2</th>\n      <td>3</td>\n      <td>3</td>\n      <td>-3.0</td>\n      <td>2.0</td>\n      <td>-3</td>\n      <td>19300</td>\n      <td>583</td>\n      <td>13</td>\n    </tr>\n    <tr>\n      <th>3</th>\n      <td>4</td>\n      <td>4</td>\n      <td>179.0</td>\n      <td>1.0</td>\n      <td>0</td>\n      <td>0</td>\n      <td>108</td>\n      <td>5</td>\n    </tr>\n    <tr>\n      <th>4</th>\n      <td>5</td>\n      <td>5</td>\n      <td>871.0</td>\n      <td>2.0</td>\n      <td>144000</td>\n      <td>9000</td>\n      <td>-3</td>\n      <td>9</td>\n    </tr>\n    <tr>\n      <th>5</th>\n      <td>6</td>\n      <td>6</td>\n      <td>226.0</td>\n      <td>2.0</td>\n      <td>3500</td>\n      <td>1000</td>\n      <td>-3</td>\n      <td>9</td>\n    </tr>\n    <tr>\n      <th>...</th>\n      <td>...</td>\n      <td>...</td>\n      <td>...</td>\n      <td>...</td>\n      <td>...</td>\n      <td>...</td>\n      <td>...</td>\n      <td>...</td>\n    </tr>\n    <tr>\n      <th>7687</th>\n      <td>9016</td>\n      <td>9016</td>\n      <td>223.0</td>\n      <td>-4.0</td>\n      <td>530</td>\n      <td>42400</td>\n      <td>194</td>\n      <td>6</td>\n    </tr>\n    <tr>\n      <th>7688</th>\n      <td>9018</td>\n      <td>9018</td>\n      <td>327.0</td>\n      <td>0.0</td>\n      <td>100</td>\n      <td>1200</td>\n      <td>-3</td>\n      <td>-4</td>\n    </tr>\n    <tr>\n      <th>7689</th>\n      <td>9019</td>\n      <td>9019</td>\n      <td>498.0</td>\n      <td>0.0</td>\n      <td>400</td>\n      <td>17000</td>\n      <td>-3</td>\n      <td>5</td>\n    </tr>\n    <tr>\n      <th>7691</th>\n      <td>9021</td>\n      <td>9021</td>\n      <td>260.0</td>\n      <td>1.0</td>\n      <td>5000</td>\n      <td>0</td>\n      <td>144</td>\n      <td>13</td>\n    </tr>\n    <tr>\n      <th>7692</th>\n      <td>9022</td>\n      <td>9022</td>\n      <td>-3.0</td>\n      <td>2.0</td>\n      <td>2400</td>\n      <td>60000</td>\n      <td>144</td>\n      <td>18</td>\n    </tr>\n  </tbody>\n</table>\n<p>6629 rows × 8 columns</p>\n</div>"
     },
     "metadata": {},
     "execution_count": 199
    }
   ],
   "source": [
    "skips_df"
   ]
  },
  {
   "source": [
    "Now let's look at the other skip breakdowns for each column:"
   ],
   "cell_type": "markdown",
   "metadata": {}
  },
  {
   "source": [
    "Keep in mind, according to the study, here are the best practices for dealing with refusals, don't knows, or invalid skips:\n",
    "\"Samples Generated by Dropping Observations with Item Nonresponses: Often users confine their analysis to subsamples of respondents who provided valid answers to certain questions... Item nonresponse due to refusals, don't knows, or invalid skips is usually quite small, so the degree to which the weights are incorrect is probably quite small. In the event that item nonresponse constitutes a small proportion of the variables under analysis, population estimates (i.e., weighted sample means, medians, and proportions) are reasonably accurate. However, population estimates based on data items that have relatively high nonresponse rates--such as family income--may not necessarily be representative of the underlying population of the cohort under analysis.\""
   ],
   "cell_type": "markdown",
   "metadata": {}
  },
  {
   "source": [
    "It's up to our judgement to drop any \"refusals\", \"don't knows\", \"invalid skips\" or to keep inpute them with an average of the sample population. As the study has said--because these skips are quite small, dropping them would not negatively impact the degree to which our sample is reflective of the overall population. Furthermore, imputation for variables with high nonresponsive rates (many of which are financial based on my eda), may not be representative. Since financial variables are 4 out of 6 of the variables we're currently looking to clean, imputation would not be a good strategy."
   ],
   "cell_type": "markdown",
   "metadata": {}
  },
  {
   "source": [
    "**Our action plan: drop \"refusals\", \"don't knows\", \"invalid skips\" and dig deeper into the \"valid skips\" for each variable.**\n",
    "\n",
    "Interview Skip Key (from the nls_key_decoder_sas): <br/>\n",
    "Noninterview -5 <br/>\n",
    "Valid Skip -4 <br/>\n",
    "Invalid Skip -3 <br/>\n",
    "Don't Know -2 <br/>\n",
    "Refusal -1 <br/>"
   ],
   "cell_type": "markdown",
   "metadata": {}
  },
  {
   "source": [
    "Let's start with non-financial features"
   ],
   "cell_type": "markdown",
   "metadata": {}
  },
  {
   "cell_type": "code",
   "execution_count": 200,
   "metadata": {},
   "outputs": [
    {
     "output_type": "stream",
     "name": "stdout",
     "text": [
      "Valid_skips : 1889\nInvalid_skips : 19\nDon't Know : 0\nRefusal : 0\n"
     ]
    }
   ],
   "source": [
    "interview_skips(skips_df['child_at_home'])"
   ]
  },
  {
   "source": [
    "For child_at_home (defined as number of the subject's biological children living in the subject's household), we have a large number of valid skips--the valid skips are from those who aren't qualified for this question, so we can assume that they have 0 biological children at home and impute as such. We also have a very small number of invalid skips and we will drop those after we look at every feature, together."
   ],
   "cell_type": "markdown",
   "metadata": {}
  },
  {
   "cell_type": "code",
   "execution_count": 201,
   "metadata": {},
   "outputs": [],
   "source": [
    "#imput all valid skips (-4) with 0.\n",
    "skips_df.loc[skips_df.child_at_home == -4, 'child_at_home'] = 0"
   ]
  },
  {
   "cell_type": "code",
   "execution_count": 202,
   "metadata": {},
   "outputs": [
    {
     "output_type": "stream",
     "name": "stdout",
     "text": [
      "Valid_skips : 740\nInvalid_skips : 175\nDon't Know : 0\nRefusal : 0\n"
     ]
    }
   ],
   "source": [
    "interview_skips(skips_df['moves_since_12'])"
   ]
  },
  {
   "source": [
    "For moves_since_12 (defined as the number of different residences the subject has had since they were 12),we have a number of valid skips--the valid skips are from those who aren't qualified for this question, so we can assume that they have experienced 0 moves and impute as such. We also have a (smaller) number of invalid skips, and we will drop those after we look at every feature, together."
   ],
   "cell_type": "markdown",
   "metadata": {}
  },
  {
   "cell_type": "code",
   "execution_count": 203,
   "metadata": {},
   "outputs": [],
   "source": [
    "skips_df.loc[skips_df.moves_since_12 == -4, 'moves_since_12'] = 0"
   ]
  },
  {
   "cell_type": "code",
   "execution_count": 204,
   "metadata": {},
   "outputs": [
    {
     "output_type": "stream",
     "name": "stdout",
     "text": [
      "Valid_skips : 0\nInvalid_skips : 667\nDon't Know : 0\nRefusal : 0\n"
     ]
    }
   ],
   "source": [
    "interview_skips(skips_df['poverty'])"
   ]
  },
  {
   "source": [
    "For poverty and childhood poverty, these are ratios that indicate the \"RATIO OF HOUSEHOLD INCOME TO POVERTY LEVEL.\" We have a number invalid skips for poverty, and we will drop those after we look at every feature, together."
   ],
   "cell_type": "markdown",
   "metadata": {}
  },
  {
   "cell_type": "code",
   "execution_count": 205,
   "metadata": {},
   "outputs": [
    {
     "output_type": "stream",
     "name": "stdout",
     "text": [
      "Valid_skips : 0\nInvalid_skips : 561\nDon't Know : 0\nRefusal : 0\n"
     ]
    }
   ],
   "source": [
    "interview_skips(skips_df['fin_assets_30'])"
   ]
  },
  {
   "source": [
    "We have a number invalid skips for fin_assets_30. We will drop those after we look at every feature, together."
   ],
   "cell_type": "markdown",
   "metadata": {}
  },
  {
   "cell_type": "code",
   "execution_count": 206,
   "metadata": {},
   "outputs": [
    {
     "output_type": "stream",
     "name": "stdout",
     "text": [
      "Valid_skips : 0\nInvalid_skips : 194\nDon't Know : 0\nRefusal : 0\n"
     ]
    }
   ],
   "source": [
    "interview_skips(skips_df['debts_30'])"
   ]
  },
  {
   "source": [
    "We have a number invalid skips for debts_30. We will drop those after we look at every feature, together."
   ],
   "cell_type": "markdown",
   "metadata": {}
  },
  {
   "cell_type": "code",
   "execution_count": 207,
   "metadata": {},
   "outputs": [
    {
     "output_type": "stream",
     "name": "stdout",
     "text": [
      "Valid_skips : 647\nInvalid_skips : 1067\nDon't Know : 0\nRefusal : 0\n"
     ]
    }
   ],
   "source": [
    "interview_skips(skips_df['childhood_poverty'])"
   ]
  },
  {
   "source": [
    "We have a number of valid skips. This indicates subjects who did not qualify for this question on childhood household poverty level. Unfortunately, since this is not a categorical variable nor a variable where lack of qualification indicates 0 (ie. has children, has moved since 12), and we see a high number of invalid skips, we can't imput with 0, nor can we assumed that imputation with median would lead to a reasonable estimate.\n",
    "\n",
    "Thankfully, our purpose for this feature is to engineer it into a adulthood/childhood poverty ratio--to represent financial mobility in a subject's life from in the 20 years of formative maturity. We don't need this feature on its own. Therefore, we can leave the valid skips as is for now and deal with them when we feature engineer our childhood/adulthood poverty ratio, in just a second."
   ],
   "cell_type": "markdown",
   "metadata": {}
  },
  {
   "source": [
    "Now let's drop all of our invalid skips from all the columns, in one go."
   ],
   "cell_type": "markdown",
   "metadata": {}
  },
  {
   "cell_type": "code",
   "execution_count": 208,
   "metadata": {},
   "outputs": [],
   "source": [
    "#drop all rows with invalid keys in any column\n",
    "skips_df=skips_df.replace(-3,np.nan).dropna(axis = 0, how = 'any')"
   ]
  },
  {
   "source": [
    "Now that we've taken a closer look at all the feature skip keys, dropped noninterviews, imputed valid skips as best we can, based on context, let's feature engineer our adulthood/childhood poverty ratio before joining this dataframe with our original dataframe."
   ],
   "cell_type": "markdown",
   "metadata": {}
  },
  {
   "source": [
    "### Feature Engineering"
   ],
   "cell_type": "markdown",
   "metadata": {}
  },
  {
   "source": [
    "Poverty and childhood poverty are variables calculated by the study as the ratio of household income (taking number of houshold members into acount) to the federal poverty level. Thus, the greater the ratio, the less impoverished the household is. This ratio should be between 0 and 1, but the study has multiplied the ratio by 100 in order to turn the number into an integer. I personally feel that this makes it hard to interpret, so let's change it back. "
   ],
   "cell_type": "markdown",
   "metadata": {}
  },
  {
   "cell_type": "code",
   "execution_count": 209,
   "metadata": {},
   "outputs": [],
   "source": [
    "#transform poverty features back into original float ratios\n",
    "skips_df['poverty'] = skips_df.apply(lambda x: x['poverty']/100 ,axis=1)\n",
    "skips_df['childhood_poverty'] = skips_df.apply(lambda x: x['childhood_poverty']/100 ,axis=1)"
   ]
  },
  {
   "source": [
    "We want to create a feature that indicates the relationship between adulthood and childhood poverty rates, in order to measure the subject's financial mobility. \n",
    "To do this, we will take the adulthood poverty/childhood poverty ratio (named financial mobility) to understand how poverty ratio changes throughout the subject's life.\n",
    "A financial mobility ratio greater than 1 would mean that the subject is **more** financially well off in adulthood than in childhood.\n",
    "A financial mobility ratio less than 1 would mean that the subject is **less** financially well off in adulthood than in childhood."
   ],
   "cell_type": "markdown",
   "metadata": {}
  },
  {
   "cell_type": "code",
   "execution_count": 210,
   "metadata": {},
   "outputs": [],
   "source": [
    "#Create a new column to for financial mobility based off our poverty and childhood_poverty columns.\n",
    "skips_df['fin_mobility'] = skips_df.apply(lambda x: adult_child_pov_ratio(x['poverty'], x['childhood_poverty']),axis=1)"
   ]
  },
  {
   "source": [
    "skips_df.fin_mobility.isnull().sum()"
   ],
   "cell_type": "code",
   "metadata": {},
   "execution_count": 211,
   "outputs": [
    {
     "output_type": "execute_result",
     "data": {
      "text/plain": [
       "746"
      ]
     },
     "metadata": {},
     "execution_count": 211
    }
   ]
  },
  {
   "source": [
    "Our fin_mobility ratio does have a number of nulls. Let's append this with default value 1--signifying that the subject's poverty level has not increased nor decreased throughout their life. "
   ],
   "cell_type": "markdown",
   "metadata": {}
  },
  {
   "cell_type": "code",
   "execution_count": 212,
   "metadata": {},
   "outputs": [],
   "source": [
    "skips_df.loc[skips_df.fin_mobility.isnull(), 'fin_mobility'] = 1"
   ]
  },
  {
   "cell_type": "code",
   "execution_count": 213,
   "metadata": {},
   "outputs": [
    {
     "output_type": "execute_result",
     "data": {
      "text/plain": [
       "id                   0\n",
       "id                   0\n",
       "poverty              0\n",
       "child_at_home        0\n",
       "fin_assets_30        0\n",
       "debts_30             0\n",
       "childhood_poverty    0\n",
       "moves_since_12       0\n",
       "fin_mobility         0\n",
       "dtype: int64"
      ]
     },
     "metadata": {},
     "execution_count": 213
    }
   ],
   "source": [
    "#check for any other nulls we haven't filled in\n",
    "skips_df.isnull().sum()"
   ]
  },
  {
   "cell_type": "code",
   "execution_count": 214,
   "metadata": {},
   "outputs": [
    {
     "output_type": "execute_result",
     "data": {
      "text/plain": [
       "id                     0\n",
       "id                     0\n",
       "poverty                0\n",
       "child_at_home          0\n",
       "fin_assets_30          0\n",
       "debts_30               0\n",
       "childhood_poverty    499\n",
       "moves_since_12         0\n",
       "fin_mobility           0\n",
       "dtype: int64"
      ]
     },
     "metadata": {},
     "execution_count": 214
    }
   ],
   "source": [
    "#check for negative values--any leftover interview skip keys\n",
    "skips_df.agg(lambda x: sum(x < 0))"
   ]
  },
  {
   "cell_type": "code",
   "execution_count": 219,
   "metadata": {},
   "outputs": [
    {
     "output_type": "execute_result",
     "data": {
      "text/plain": [
       "        id  poverty  child_at_home  fin_assets_30  debts_30  moves_since_12  \\\n",
       "1        2     9.29            0.0        45000.0   35000.0             0.0   \n",
       "3        4     1.79            1.0            0.0       0.0             5.0   \n",
       "10      11     3.99            1.0         3000.0   62500.0             8.0   \n",
       "11      12     5.67            1.0        20000.0   15200.0             5.0   \n",
       "13      14     2.05            0.0            0.0       0.0             3.0   \n",
       "...    ...      ...            ...            ...       ...             ...   \n",
       "7683  9012     5.57            0.0       200000.0       0.0            14.0   \n",
       "7684  9013     1.40            0.0         1750.0       0.0             8.0   \n",
       "7686  9015     3.25            3.0        88176.0   55464.0            11.0   \n",
       "7687  9016     2.23            0.0          530.0   42400.0             6.0   \n",
       "7691  9021     2.60            1.0         5000.0       0.0            13.0   \n",
       "\n",
       "      fin_mobility  \n",
       "1         1.000000  \n",
       "3         1.657407  \n",
       "10        2.015152  \n",
       "11        1.000000  \n",
       "13        1.000000  \n",
       "...            ...  \n",
       "7683      2.886010  \n",
       "7684      5.833333  \n",
       "7686      1.124567  \n",
       "7687      1.149485  \n",
       "7691      1.805556  \n",
       "\n",
       "[4467 rows x 7 columns]"
      ],
      "text/html": "<div>\n<style scoped>\n    .dataframe tbody tr th:only-of-type {\n        vertical-align: middle;\n    }\n\n    .dataframe tbody tr th {\n        vertical-align: top;\n    }\n\n    .dataframe thead th {\n        text-align: right;\n    }\n</style>\n<table border=\"1\" class=\"dataframe\">\n  <thead>\n    <tr style=\"text-align: right;\">\n      <th></th>\n      <th>id</th>\n      <th>poverty</th>\n      <th>child_at_home</th>\n      <th>fin_assets_30</th>\n      <th>debts_30</th>\n      <th>moves_since_12</th>\n      <th>fin_mobility</th>\n    </tr>\n  </thead>\n  <tbody>\n    <tr>\n      <th>1</th>\n      <td>2</td>\n      <td>9.29</td>\n      <td>0.0</td>\n      <td>45000.0</td>\n      <td>35000.0</td>\n      <td>0.0</td>\n      <td>1.000000</td>\n    </tr>\n    <tr>\n      <th>3</th>\n      <td>4</td>\n      <td>1.79</td>\n      <td>1.0</td>\n      <td>0.0</td>\n      <td>0.0</td>\n      <td>5.0</td>\n      <td>1.657407</td>\n    </tr>\n    <tr>\n      <th>10</th>\n      <td>11</td>\n      <td>3.99</td>\n      <td>1.0</td>\n      <td>3000.0</td>\n      <td>62500.0</td>\n      <td>8.0</td>\n      <td>2.015152</td>\n    </tr>\n    <tr>\n      <th>11</th>\n      <td>12</td>\n      <td>5.67</td>\n      <td>1.0</td>\n      <td>20000.0</td>\n      <td>15200.0</td>\n      <td>5.0</td>\n      <td>1.000000</td>\n    </tr>\n    <tr>\n      <th>13</th>\n      <td>14</td>\n      <td>2.05</td>\n      <td>0.0</td>\n      <td>0.0</td>\n      <td>0.0</td>\n      <td>3.0</td>\n      <td>1.000000</td>\n    </tr>\n    <tr>\n      <th>...</th>\n      <td>...</td>\n      <td>...</td>\n      <td>...</td>\n      <td>...</td>\n      <td>...</td>\n      <td>...</td>\n      <td>...</td>\n    </tr>\n    <tr>\n      <th>7683</th>\n      <td>9012</td>\n      <td>5.57</td>\n      <td>0.0</td>\n      <td>200000.0</td>\n      <td>0.0</td>\n      <td>14.0</td>\n      <td>2.886010</td>\n    </tr>\n    <tr>\n      <th>7684</th>\n      <td>9013</td>\n      <td>1.40</td>\n      <td>0.0</td>\n      <td>1750.0</td>\n      <td>0.0</td>\n      <td>8.0</td>\n      <td>5.833333</td>\n    </tr>\n    <tr>\n      <th>7686</th>\n      <td>9015</td>\n      <td>3.25</td>\n      <td>3.0</td>\n      <td>88176.0</td>\n      <td>55464.0</td>\n      <td>11.0</td>\n      <td>1.124567</td>\n    </tr>\n    <tr>\n      <th>7687</th>\n      <td>9016</td>\n      <td>2.23</td>\n      <td>0.0</td>\n      <td>530.0</td>\n      <td>42400.0</td>\n      <td>6.0</td>\n      <td>1.149485</td>\n    </tr>\n    <tr>\n      <th>7691</th>\n      <td>9021</td>\n      <td>2.60</td>\n      <td>1.0</td>\n      <td>5000.0</td>\n      <td>0.0</td>\n      <td>13.0</td>\n      <td>1.805556</td>\n    </tr>\n  </tbody>\n</table>\n<p>4467 rows × 7 columns</p>\n</div>"
     },
     "metadata": {},
     "execution_count": 219
    }
   ],
   "source": [
    "#drop the childhood_poverty column which we no longer need\n",
    "skips_df.drop(columns = ['childhood_poverty'], axis = 1, inplace = True)\n",
    "#drop the duplicate id column\n",
    "skips_df = skips_df.iloc[:,1: ]\n",
    "skips_df\n"
   ]
  },
  {
   "source": [
    "Now we are ready to merge this dataframe--cleaned of skip keys- with our other, main dataframe (model_df)"
   ],
   "cell_type": "markdown",
   "metadata": {}
  },
  {
   "cell_type": "code",
   "execution_count": 223,
   "metadata": {},
   "outputs": [],
   "source": [
    "#rename our skip_df columns to avoid overlap\n",
    "skips_df.columns = ['id_', 'poverty_new', 'child_at_home_new', 'fin_assets_30_new', 'debts_30_new', 'moves_since_12_new',\t'fin_mobility']"
   ]
  },
  {
   "cell_type": "code",
   "execution_count": 226,
   "metadata": {},
   "outputs": [],
   "source": [
    "#join on index, keeping only the rows that have information in skips_df\n",
    "final_df = skips_df.join(model_df)"
   ]
  },
  {
   "cell_type": "code",
   "execution_count": 228,
   "metadata": {},
   "outputs": [
    {
     "output_type": "execute_result",
     "data": {
      "text/plain": [
       "Index(['id_', 'poverty_new', 'child_at_home_new', 'fin_assets_30_new',\n",
       "       'debts_30_new', 'moves_since_12_new', 'fin_mobility', 'id', 'sex',\n",
       "       'birth_year', 'sample_type', 'poverty', 'child_at_home',\n",
       "       'fin_assets_30', 'debts_30', 'childhood_poverty', 'moves_since_12',\n",
       "       'homeowner', 'income_wage_compiled', 'income_bus_compiled',\n",
       "       'homeowner_perm', 'is_male', 'is_black', 'is_hispanic', 'is_mixed',\n",
       "       'is_married', 'is_cohab', 'is_metro', 'is_central', 'childhood_owned',\n",
       "       'GED', 'High_School', 'Assc_College', 'Bachelors', 'Masters', 'PhD',\n",
       "       'Med_Law'],\n",
       "      dtype='object')"
      ]
     },
     "metadata": {},
     "execution_count": 228
    }
   ],
   "source": [
    "final_df.columns"
   ]
  },
  {
   "cell_type": "code",
   "execution_count": 230,
   "metadata": {},
   "outputs": [],
   "source": [
    "#drop duplicate columns and/or ones we used in feature engineering but won't be using in our final model\n",
    "final_df.drop(columns=['id', 'poverty', 'child_at_home',\n",
    "       'fin_assets_30', 'debts_30', 'childhood_poverty', 'moves_since_12'], inplace = True)"
   ]
  },
  {
   "cell_type": "code",
   "execution_count": 234,
   "metadata": {},
   "outputs": [
    {
     "output_type": "execute_result",
     "data": {
      "text/plain": [
       "id_                     0\n",
       "poverty_new             0\n",
       "child_at_home_new       0\n",
       "fin_assets_30_new       0\n",
       "debts_30_new            0\n",
       "moves_since_12_new      0\n",
       "fin_mobility            0\n",
       "sex                     0\n",
       "birth_year              0\n",
       "sample_type             0\n",
       "homeowner               0\n",
       "income_wage_compiled    0\n",
       "income_bus_compiled     1\n",
       "homeowner_perm          0\n",
       "is_male                 0\n",
       "is_black                0\n",
       "is_hispanic             0\n",
       "is_mixed                0\n",
       "is_married              0\n",
       "is_cohab                0\n",
       "is_metro                0\n",
       "is_central              0\n",
       "childhood_owned         0\n",
       "GED                     0\n",
       "High_School             0\n",
       "Assc_College            0\n",
       "Bachelors               0\n",
       "Masters                 0\n",
       "PhD                     0\n",
       "Med_Law                 0\n",
       "dtype: int64"
      ]
     },
     "metadata": {},
     "execution_count": 234
    }
   ],
   "source": [
    "#check for any negative skip keys that might've fallen through the cracks in our final_df\n",
    "final_df.agg(lambda x: sum(x < 0))"
   ]
  },
  {
   "cell_type": "code",
   "execution_count": 245,
   "metadata": {},
   "outputs": [
    {
     "output_type": "execute_result",
     "data": {
      "text/plain": [
       "-600.0"
      ]
     },
     "metadata": {},
     "execution_count": 245
    }
   ],
   "source": [
    "#looks like an anomoly--potetially answer key that wasn't fully cleaned\n",
    "final_df[final_df['income_bus_compiled']<0]\n",
    "final_df.income_bus_compiled[3714]"
   ]
  },
  {
   "cell_type": "code",
   "execution_count": 246,
   "metadata": {},
   "outputs": [],
   "source": [
    "#change that value to 0\n",
    "final_df.income_bus_compiled[3714] = 0"
   ]
  },
  {
   "cell_type": "code",
   "execution_count": 247,
   "metadata": {},
   "outputs": [
    {
     "output_type": "execute_result",
     "data": {
      "text/plain": [
       "id_                        0\n",
       "poverty_new                0\n",
       "child_at_home_new          0\n",
       "fin_assets_30_new          0\n",
       "debts_30_new               0\n",
       "moves_since_12_new         0\n",
       "fin_mobility               0\n",
       "sex                        0\n",
       "birth_year                 0\n",
       "sample_type                0\n",
       "homeowner                  0\n",
       "income_wage_compiled     741\n",
       "income_bus_compiled     4309\n",
       "homeowner_perm             0\n",
       "is_male                    0\n",
       "is_black                   0\n",
       "is_hispanic                0\n",
       "is_mixed                   0\n",
       "is_married                 0\n",
       "is_cohab                   0\n",
       "is_metro                   0\n",
       "is_central                 0\n",
       "childhood_owned            0\n",
       "GED                        0\n",
       "High_School                0\n",
       "Assc_College               0\n",
       "Bachelors                  0\n",
       "Masters                    0\n",
       "PhD                        0\n",
       "Med_Law                    0\n",
       "dtype: int64"
      ]
     },
     "metadata": {},
     "execution_count": 247
    }
   ],
   "source": [
    "final_df.isnull().sum()"
   ]
  },
  {
   "source": [
    "### Final Cleaning"
   ],
   "cell_type": "markdown",
   "metadata": {}
  },
  {
   "source": [
    "We still have a number of nulls in the income_wage_compiled and income_bus_compiled columns. Let's see what the skip key situation is for any of the original columns we based these feature engineered columns off of. This makes sense, because both of these columns make up total subject income (should they have chosen to report). Ie. null in income_wage_compiled means the subject does not make money through wages, because they may make money through a business/farm and thus the income_bus_compiled column would have a value."
   ],
   "cell_type": "markdown",
   "metadata": {}
  },
  {
   "source": [
    "However, if both of these columns are null, then we likely have any form of skip/nonanswer on our hands and need to drop the rows. As discussed earlier, we will not be appending values for financial features."
   ],
   "cell_type": "markdown",
   "metadata": {}
  },
  {
   "cell_type": "code",
   "execution_count": 269,
   "metadata": {},
   "outputs": [
    {
     "output_type": "execute_result",
     "data": {
      "text/plain": [
       "       id_  poverty_new  child_at_home_new  fin_assets_30_new  debts_30_new  \\\n",
       "13      14         2.05                0.0                0.0           0.0   \n",
       "16      19         0.00                0.0                0.0           0.0   \n",
       "22      25         1.31                3.0                0.0           0.0   \n",
       "31      36         1.04                2.0             5100.0       28570.0   \n",
       "37      44         0.81                0.0                0.0        1750.0   \n",
       "...    ...          ...                ...                ...           ...   \n",
       "7618  8939         3.33                0.0              250.0           0.0   \n",
       "7625  8946         0.96                6.0                0.0           0.0   \n",
       "7627  8948         0.00                0.0                0.0           0.0   \n",
       "7661  8988         0.16                3.0                0.0           0.0   \n",
       "7675  9004         0.00                3.0                0.0           0.0   \n",
       "\n",
       "      moves_since_12_new  fin_mobility  sex  birth_year  sample_type  ...  \\\n",
       "13                   3.0      1.000000    1        1980            1  ...   \n",
       "16                   9.0      1.000000    1        1984            1  ...   \n",
       "22                   5.0      1.000000    2        1983            1  ...   \n",
       "31                  14.0      0.407843    2        1980            1  ...   \n",
       "37                   1.0      1.000000    1        1981            1  ...   \n",
       "...                  ...           ...  ...         ...          ...  ...   \n",
       "7618                 3.0      5.285714    1        1982            0  ...   \n",
       "7625                 0.0      1.000000    2        1984            1  ...   \n",
       "7627                 8.0      1.000000    1        1981            1  ...   \n",
       "7661                19.0      0.210526    2        1980            0  ...   \n",
       "7675                 0.0      1.000000    2        1981            0  ...   \n",
       "\n",
       "      is_metro  is_central  childhood_owned  GED  High_School  Assc_College  \\\n",
       "13           1           1                0    1            0             0   \n",
       "16           1           1                0    0            0             0   \n",
       "22           1           1                0    1            0             0   \n",
       "31           1           0                0    0            0             1   \n",
       "37           1           1                0    0            1             0   \n",
       "...        ...         ...              ...  ...          ...           ...   \n",
       "7618         1           0                1    0            1             0   \n",
       "7625         1           0                0    0            1             0   \n",
       "7627         1           1                0    1            0             0   \n",
       "7661         1           0                0    1            0             0   \n",
       "7675         1           1                0    0            1             0   \n",
       "\n",
       "      Bachelors  Masters  PhD  Med_Law  \n",
       "13            0        0    0        0  \n",
       "16            0        0    0        0  \n",
       "22            0        0    0        0  \n",
       "31            0        0    0        0  \n",
       "37            0        0    0        0  \n",
       "...         ...      ...  ...      ...  \n",
       "7618          0        0    0        0  \n",
       "7625          0        0    0        0  \n",
       "7627          0        0    0        0  \n",
       "7661          0        0    0        0  \n",
       "7675          0        0    0        0  \n",
       "\n",
       "[714 rows x 30 columns]"
      ],
      "text/html": "<div>\n<style scoped>\n    .dataframe tbody tr th:only-of-type {\n        vertical-align: middle;\n    }\n\n    .dataframe tbody tr th {\n        vertical-align: top;\n    }\n\n    .dataframe thead th {\n        text-align: right;\n    }\n</style>\n<table border=\"1\" class=\"dataframe\">\n  <thead>\n    <tr style=\"text-align: right;\">\n      <th></th>\n      <th>id_</th>\n      <th>poverty_new</th>\n      <th>child_at_home_new</th>\n      <th>fin_assets_30_new</th>\n      <th>debts_30_new</th>\n      <th>moves_since_12_new</th>\n      <th>fin_mobility</th>\n      <th>sex</th>\n      <th>birth_year</th>\n      <th>sample_type</th>\n      <th>...</th>\n      <th>is_metro</th>\n      <th>is_central</th>\n      <th>childhood_owned</th>\n      <th>GED</th>\n      <th>High_School</th>\n      <th>Assc_College</th>\n      <th>Bachelors</th>\n      <th>Masters</th>\n      <th>PhD</th>\n      <th>Med_Law</th>\n    </tr>\n  </thead>\n  <tbody>\n    <tr>\n      <th>13</th>\n      <td>14</td>\n      <td>2.05</td>\n      <td>0.0</td>\n      <td>0.0</td>\n      <td>0.0</td>\n      <td>3.0</td>\n      <td>1.000000</td>\n      <td>1</td>\n      <td>1980</td>\n      <td>1</td>\n      <td>...</td>\n      <td>1</td>\n      <td>1</td>\n      <td>0</td>\n      <td>1</td>\n      <td>0</td>\n      <td>0</td>\n      <td>0</td>\n      <td>0</td>\n      <td>0</td>\n      <td>0</td>\n    </tr>\n    <tr>\n      <th>16</th>\n      <td>19</td>\n      <td>0.00</td>\n      <td>0.0</td>\n      <td>0.0</td>\n      <td>0.0</td>\n      <td>9.0</td>\n      <td>1.000000</td>\n      <td>1</td>\n      <td>1984</td>\n      <td>1</td>\n      <td>...</td>\n      <td>1</td>\n      <td>1</td>\n      <td>0</td>\n      <td>0</td>\n      <td>0</td>\n      <td>0</td>\n      <td>0</td>\n      <td>0</td>\n      <td>0</td>\n      <td>0</td>\n    </tr>\n    <tr>\n      <th>22</th>\n      <td>25</td>\n      <td>1.31</td>\n      <td>3.0</td>\n      <td>0.0</td>\n      <td>0.0</td>\n      <td>5.0</td>\n      <td>1.000000</td>\n      <td>2</td>\n      <td>1983</td>\n      <td>1</td>\n      <td>...</td>\n      <td>1</td>\n      <td>1</td>\n      <td>0</td>\n      <td>1</td>\n      <td>0</td>\n      <td>0</td>\n      <td>0</td>\n      <td>0</td>\n      <td>0</td>\n      <td>0</td>\n    </tr>\n    <tr>\n      <th>31</th>\n      <td>36</td>\n      <td>1.04</td>\n      <td>2.0</td>\n      <td>5100.0</td>\n      <td>28570.0</td>\n      <td>14.0</td>\n      <td>0.407843</td>\n      <td>2</td>\n      <td>1980</td>\n      <td>1</td>\n      <td>...</td>\n      <td>1</td>\n      <td>0</td>\n      <td>0</td>\n      <td>0</td>\n      <td>0</td>\n      <td>1</td>\n      <td>0</td>\n      <td>0</td>\n      <td>0</td>\n      <td>0</td>\n    </tr>\n    <tr>\n      <th>37</th>\n      <td>44</td>\n      <td>0.81</td>\n      <td>0.0</td>\n      <td>0.0</td>\n      <td>1750.0</td>\n      <td>1.0</td>\n      <td>1.000000</td>\n      <td>1</td>\n      <td>1981</td>\n      <td>1</td>\n      <td>...</td>\n      <td>1</td>\n      <td>1</td>\n      <td>0</td>\n      <td>0</td>\n      <td>1</td>\n      <td>0</td>\n      <td>0</td>\n      <td>0</td>\n      <td>0</td>\n      <td>0</td>\n    </tr>\n    <tr>\n      <th>...</th>\n      <td>...</td>\n      <td>...</td>\n      <td>...</td>\n      <td>...</td>\n      <td>...</td>\n      <td>...</td>\n      <td>...</td>\n      <td>...</td>\n      <td>...</td>\n      <td>...</td>\n      <td>...</td>\n      <td>...</td>\n      <td>...</td>\n      <td>...</td>\n      <td>...</td>\n      <td>...</td>\n      <td>...</td>\n      <td>...</td>\n      <td>...</td>\n      <td>...</td>\n      <td>...</td>\n    </tr>\n    <tr>\n      <th>7618</th>\n      <td>8939</td>\n      <td>3.33</td>\n      <td>0.0</td>\n      <td>250.0</td>\n      <td>0.0</td>\n      <td>3.0</td>\n      <td>5.285714</td>\n      <td>1</td>\n      <td>1982</td>\n      <td>0</td>\n      <td>...</td>\n      <td>1</td>\n      <td>0</td>\n      <td>1</td>\n      <td>0</td>\n      <td>1</td>\n      <td>0</td>\n      <td>0</td>\n      <td>0</td>\n      <td>0</td>\n      <td>0</td>\n    </tr>\n    <tr>\n      <th>7625</th>\n      <td>8946</td>\n      <td>0.96</td>\n      <td>6.0</td>\n      <td>0.0</td>\n      <td>0.0</td>\n      <td>0.0</td>\n      <td>1.000000</td>\n      <td>2</td>\n      <td>1984</td>\n      <td>1</td>\n      <td>...</td>\n      <td>1</td>\n      <td>0</td>\n      <td>0</td>\n      <td>0</td>\n      <td>1</td>\n      <td>0</td>\n      <td>0</td>\n      <td>0</td>\n      <td>0</td>\n      <td>0</td>\n    </tr>\n    <tr>\n      <th>7627</th>\n      <td>8948</td>\n      <td>0.00</td>\n      <td>0.0</td>\n      <td>0.0</td>\n      <td>0.0</td>\n      <td>8.0</td>\n      <td>1.000000</td>\n      <td>1</td>\n      <td>1981</td>\n      <td>1</td>\n      <td>...</td>\n      <td>1</td>\n      <td>1</td>\n      <td>0</td>\n      <td>1</td>\n      <td>0</td>\n      <td>0</td>\n      <td>0</td>\n      <td>0</td>\n      <td>0</td>\n      <td>0</td>\n    </tr>\n    <tr>\n      <th>7661</th>\n      <td>8988</td>\n      <td>0.16</td>\n      <td>3.0</td>\n      <td>0.0</td>\n      <td>0.0</td>\n      <td>19.0</td>\n      <td>0.210526</td>\n      <td>2</td>\n      <td>1980</td>\n      <td>0</td>\n      <td>...</td>\n      <td>1</td>\n      <td>0</td>\n      <td>0</td>\n      <td>1</td>\n      <td>0</td>\n      <td>0</td>\n      <td>0</td>\n      <td>0</td>\n      <td>0</td>\n      <td>0</td>\n    </tr>\n    <tr>\n      <th>7675</th>\n      <td>9004</td>\n      <td>0.00</td>\n      <td>3.0</td>\n      <td>0.0</td>\n      <td>0.0</td>\n      <td>0.0</td>\n      <td>1.000000</td>\n      <td>2</td>\n      <td>1981</td>\n      <td>0</td>\n      <td>...</td>\n      <td>1</td>\n      <td>1</td>\n      <td>0</td>\n      <td>0</td>\n      <td>1</td>\n      <td>0</td>\n      <td>0</td>\n      <td>0</td>\n      <td>0</td>\n      <td>0</td>\n    </tr>\n  </tbody>\n</table>\n<p>714 rows × 30 columns</p>\n</div>"
     },
     "metadata": {},
     "execution_count": 269
    }
   ],
   "source": [
    "#find rows where there are nulls in both income columns\n",
    "final_df[(final_df.income_wage_compiled.isnull()) & (final_df.income_bus_compiled.isnull())]"
   ]
  },
  {
   "cell_type": "code",
   "execution_count": 273,
   "metadata": {},
   "outputs": [],
   "source": [
    "#drop the above rows (with nulls in both income columns) by setting df to the inverse of those conditions\n",
    "final_df = final_df[~((final_df.income_wage_compiled.isnull()) & (final_df.income_bus_compiled.isnull()))]"
   ]
  },
  {
   "source": [
    "Now we can fill in the remaining nulls with 0."
   ],
   "cell_type": "markdown",
   "metadata": {}
  },
  {
   "cell_type": "code",
   "execution_count": 275,
   "metadata": {},
   "outputs": [],
   "source": [
    "final_df.fillna(0, inplace = True)"
   ]
  },
  {
   "source": [
    "What about rows in which subjects answered 0 for both income and business/farm wages? Do we have any subjects who didn't report an income left in our dataframe?"
   ],
   "cell_type": "markdown",
   "metadata": {}
  },
  {
   "cell_type": "code",
   "execution_count": 277,
   "metadata": {},
   "outputs": [
    {
     "output_type": "execute_result",
     "data": {
      "text/plain": [
       "       id_  poverty_new  child_at_home_new  fin_assets_30_new  debts_30_new  \\\n",
       "1538  1872         1.56                0.0            19523.0        3500.0   \n",
       "4245  5055         4.98                0.0               40.0           0.0   \n",
       "4698  5585         0.00                1.0                0.0           0.0   \n",
       "5191  6150         2.49                0.0              100.0          53.0   \n",
       "6760  7972         0.00                0.0                0.0         400.0   \n",
       "7187  8445         0.00                0.0              600.0         325.0   \n",
       "7260  8524         0.15                1.0                0.0           0.0   \n",
       "\n",
       "      moves_since_12_new  fin_mobility  sex  birth_year  sample_type  ...  \\\n",
       "1538                 6.0      1.950000    1        1981            1  ...   \n",
       "4245                17.0      2.465347    1        1983            1  ...   \n",
       "4698                10.0      1.000000    2        1981            1  ...   \n",
       "5191                 4.0      1.012195    2        1981            1  ...   \n",
       "6760                 3.0      1.000000    1        1980            0  ...   \n",
       "7187                 0.0      1.000000    1        1981            0  ...   \n",
       "7260                 3.0      0.144231    2        1983            0  ...   \n",
       "\n",
       "      is_metro  is_central  childhood_owned  GED  High_School  Assc_College  \\\n",
       "1538         1           1                1    1            0             0   \n",
       "4245         1           1                1    0            1             0   \n",
       "4698         0           0                0    0            1             0   \n",
       "5191         1           0                0    0            1             0   \n",
       "6760         1           1                0    0            1             0   \n",
       "7187         1           0                0    0            1             0   \n",
       "7260         1           1                0    0            0             0   \n",
       "\n",
       "      Bachelors  Masters  PhD  Med_Law  \n",
       "1538          0        0    0        0  \n",
       "4245          0        0    0        0  \n",
       "4698          0        0    0        0  \n",
       "5191          0        0    0        0  \n",
       "6760          0        0    0        0  \n",
       "7187          0        0    0        0  \n",
       "7260          1        0    0        0  \n",
       "\n",
       "[7 rows x 30 columns]"
      ],
      "text/html": "<div>\n<style scoped>\n    .dataframe tbody tr th:only-of-type {\n        vertical-align: middle;\n    }\n\n    .dataframe tbody tr th {\n        vertical-align: top;\n    }\n\n    .dataframe thead th {\n        text-align: right;\n    }\n</style>\n<table border=\"1\" class=\"dataframe\">\n  <thead>\n    <tr style=\"text-align: right;\">\n      <th></th>\n      <th>id_</th>\n      <th>poverty_new</th>\n      <th>child_at_home_new</th>\n      <th>fin_assets_30_new</th>\n      <th>debts_30_new</th>\n      <th>moves_since_12_new</th>\n      <th>fin_mobility</th>\n      <th>sex</th>\n      <th>birth_year</th>\n      <th>sample_type</th>\n      <th>...</th>\n      <th>is_metro</th>\n      <th>is_central</th>\n      <th>childhood_owned</th>\n      <th>GED</th>\n      <th>High_School</th>\n      <th>Assc_College</th>\n      <th>Bachelors</th>\n      <th>Masters</th>\n      <th>PhD</th>\n      <th>Med_Law</th>\n    </tr>\n  </thead>\n  <tbody>\n    <tr>\n      <th>1538</th>\n      <td>1872</td>\n      <td>1.56</td>\n      <td>0.0</td>\n      <td>19523.0</td>\n      <td>3500.0</td>\n      <td>6.0</td>\n      <td>1.950000</td>\n      <td>1</td>\n      <td>1981</td>\n      <td>1</td>\n      <td>...</td>\n      <td>1</td>\n      <td>1</td>\n      <td>1</td>\n      <td>1</td>\n      <td>0</td>\n      <td>0</td>\n      <td>0</td>\n      <td>0</td>\n      <td>0</td>\n      <td>0</td>\n    </tr>\n    <tr>\n      <th>4245</th>\n      <td>5055</td>\n      <td>4.98</td>\n      <td>0.0</td>\n      <td>40.0</td>\n      <td>0.0</td>\n      <td>17.0</td>\n      <td>2.465347</td>\n      <td>1</td>\n      <td>1983</td>\n      <td>1</td>\n      <td>...</td>\n      <td>1</td>\n      <td>1</td>\n      <td>1</td>\n      <td>0</td>\n      <td>1</td>\n      <td>0</td>\n      <td>0</td>\n      <td>0</td>\n      <td>0</td>\n      <td>0</td>\n    </tr>\n    <tr>\n      <th>4698</th>\n      <td>5585</td>\n      <td>0.00</td>\n      <td>1.0</td>\n      <td>0.0</td>\n      <td>0.0</td>\n      <td>10.0</td>\n      <td>1.000000</td>\n      <td>2</td>\n      <td>1981</td>\n      <td>1</td>\n      <td>...</td>\n      <td>0</td>\n      <td>0</td>\n      <td>0</td>\n      <td>0</td>\n      <td>1</td>\n      <td>0</td>\n      <td>0</td>\n      <td>0</td>\n      <td>0</td>\n      <td>0</td>\n    </tr>\n    <tr>\n      <th>5191</th>\n      <td>6150</td>\n      <td>2.49</td>\n      <td>0.0</td>\n      <td>100.0</td>\n      <td>53.0</td>\n      <td>4.0</td>\n      <td>1.012195</td>\n      <td>2</td>\n      <td>1981</td>\n      <td>1</td>\n      <td>...</td>\n      <td>1</td>\n      <td>0</td>\n      <td>0</td>\n      <td>0</td>\n      <td>1</td>\n      <td>0</td>\n      <td>0</td>\n      <td>0</td>\n      <td>0</td>\n      <td>0</td>\n    </tr>\n    <tr>\n      <th>6760</th>\n      <td>7972</td>\n      <td>0.00</td>\n      <td>0.0</td>\n      <td>0.0</td>\n      <td>400.0</td>\n      <td>3.0</td>\n      <td>1.000000</td>\n      <td>1</td>\n      <td>1980</td>\n      <td>0</td>\n      <td>...</td>\n      <td>1</td>\n      <td>1</td>\n      <td>0</td>\n      <td>0</td>\n      <td>1</td>\n      <td>0</td>\n      <td>0</td>\n      <td>0</td>\n      <td>0</td>\n      <td>0</td>\n    </tr>\n    <tr>\n      <th>7187</th>\n      <td>8445</td>\n      <td>0.00</td>\n      <td>0.0</td>\n      <td>600.0</td>\n      <td>325.0</td>\n      <td>0.0</td>\n      <td>1.000000</td>\n      <td>1</td>\n      <td>1981</td>\n      <td>0</td>\n      <td>...</td>\n      <td>1</td>\n      <td>0</td>\n      <td>0</td>\n      <td>0</td>\n      <td>1</td>\n      <td>0</td>\n      <td>0</td>\n      <td>0</td>\n      <td>0</td>\n      <td>0</td>\n    </tr>\n    <tr>\n      <th>7260</th>\n      <td>8524</td>\n      <td>0.15</td>\n      <td>1.0</td>\n      <td>0.0</td>\n      <td>0.0</td>\n      <td>3.0</td>\n      <td>0.144231</td>\n      <td>2</td>\n      <td>1983</td>\n      <td>0</td>\n      <td>...</td>\n      <td>1</td>\n      <td>1</td>\n      <td>0</td>\n      <td>0</td>\n      <td>0</td>\n      <td>0</td>\n      <td>1</td>\n      <td>0</td>\n      <td>0</td>\n      <td>0</td>\n    </tr>\n  </tbody>\n</table>\n<p>7 rows × 30 columns</p>\n</div>"
     },
     "metadata": {},
     "execution_count": 277
    }
   ],
   "source": [
    "\n",
    "final_df[(final_df['income_wage_compiled']==0) & (final_df['income_bus_compiled']==0)]"
   ]
  },
  {
   "source": [
    "Only 7 subjects, which makes sense--some individuals may not have reported any income during the last fiscal year (ie. unemployeement, business loss (if they're an independent business owner), sabbatical, taking time off after birth of a child or starting a life as a stay at home parent) But as one last check, let's look at their reasons for skips in the original dataframe."
   ],
   "cell_type": "markdown",
   "metadata": {}
  },
  {
   "cell_type": "code",
   "execution_count": 249,
   "metadata": {},
   "outputs": [
    {
     "output_type": "execute_result",
     "data": {
      "text/plain": [
       "Index(['id', 'sex', 'birth_year', 'sample_type', 'race', 'poverty',\n",
       "       'degree_2017', 'marriage', 'metro_area', 'child_at_home', 'urban_rural',\n",
       "       'income_wage_total', 'income_wage_est', 'income_bus_total',\n",
       "       'income_bus_est', 'degree_other', 'house_type_30', 'fin_assets_30',\n",
       "       'debts_30', 'house_type_35', 'fin_assets_35', 'debts_35', 'id',\n",
       "       'childhood_home', 'childhood_poverty', 'own_or_rent', 'home_situation',\n",
       "       'moves_since_12'],\n",
       "      dtype='object')"
      ]
     },
     "metadata": {},
     "execution_count": 249
    }
   ],
   "source": [
    "original_df.columns"
   ]
  },
  {
   "cell_type": "code",
   "execution_count": 250,
   "metadata": {},
   "outputs": [],
   "source": [
    "income_df = original_df[['income_wage_total', 'income_wage_est', 'income_bus_total',\n",
    "       'income_bus_est']]"
   ]
  },
  {
   "cell_type": "code",
   "execution_count": 282,
   "metadata": {},
   "outputs": [
    {
     "output_type": "execute_result",
     "data": {
      "text/plain": [
       "      income_wage_total  income_wage_est  income_bus_total  income_bus_est\n",
       "1538                  0               -4                -4              -4\n",
       "4245                  0               -4                -4              -4\n",
       "4698                 -4               -4                 0              -4\n",
       "5191                  0               -4                -4              -4\n",
       "6760                  0               -4                -4              -4\n",
       "7187                  0               -4                -4              -4\n",
       "7260                  0               -4                -4              -4"
      ],
      "text/html": "<div>\n<style scoped>\n    .dataframe tbody tr th:only-of-type {\n        vertical-align: middle;\n    }\n\n    .dataframe tbody tr th {\n        vertical-align: top;\n    }\n\n    .dataframe thead th {\n        text-align: right;\n    }\n</style>\n<table border=\"1\" class=\"dataframe\">\n  <thead>\n    <tr style=\"text-align: right;\">\n      <th></th>\n      <th>income_wage_total</th>\n      <th>income_wage_est</th>\n      <th>income_bus_total</th>\n      <th>income_bus_est</th>\n    </tr>\n  </thead>\n  <tbody>\n    <tr>\n      <th>1538</th>\n      <td>0</td>\n      <td>-4</td>\n      <td>-4</td>\n      <td>-4</td>\n    </tr>\n    <tr>\n      <th>4245</th>\n      <td>0</td>\n      <td>-4</td>\n      <td>-4</td>\n      <td>-4</td>\n    </tr>\n    <tr>\n      <th>4698</th>\n      <td>-4</td>\n      <td>-4</td>\n      <td>0</td>\n      <td>-4</td>\n    </tr>\n    <tr>\n      <th>5191</th>\n      <td>0</td>\n      <td>-4</td>\n      <td>-4</td>\n      <td>-4</td>\n    </tr>\n    <tr>\n      <th>6760</th>\n      <td>0</td>\n      <td>-4</td>\n      <td>-4</td>\n      <td>-4</td>\n    </tr>\n    <tr>\n      <th>7187</th>\n      <td>0</td>\n      <td>-4</td>\n      <td>-4</td>\n      <td>-4</td>\n    </tr>\n    <tr>\n      <th>7260</th>\n      <td>0</td>\n      <td>-4</td>\n      <td>-4</td>\n      <td>-4</td>\n    </tr>\n  </tbody>\n</table>\n</div>"
     },
     "metadata": {},
     "execution_count": 282
    }
   ],
   "source": [
    "#pulling the indexes of the subjects that reported 0 income in both wage and business/farm categories.\n",
    "no_income_index = [1538, 4245, 4698, 5191, 6760, 7187, 7260]\n",
    "#find rows in the income dataframe\n",
    "income_df.iloc[no_income_index]"
   ]
  },
  {
   "source": [
    "-4 signifies a valid skip, so it looks like 6 subjects reported 0 income for wage and was a valid skip for business/farm income, meaning they're reporting 0 income in total. 1 subject reported 0 income for business, and was a valid skip for wage income, meaning they are also reporting 0 income for the year. \n",
    "\n",
    "Therefore, we can confirm that 7 subjects purposefully reported 0 income in their last fiscal year and we can thus keep these values in the sample."
   ],
   "cell_type": "markdown",
   "metadata": {}
  },
  {
   "source": [
    "Let's wrap up with some column naming conventions/reordering to make our dataframe easy to read, since we have a number of features."
   ],
   "cell_type": "markdown",
   "metadata": {}
  },
  {
   "cell_type": "code",
   "execution_count": 287,
   "metadata": {},
   "outputs": [
    {
     "output_type": "execute_result",
     "data": {
      "text/plain": [
       "Index(['id_', 'poverty_new', 'child_at_home_new', 'fin_assets_30_new',\n",
       "       'debts_30_new', 'moves_since_12_new', 'fin_mobility', 'sex',\n",
       "       'birth_year', 'sample_type', 'homeowner', 'income_wage_compiled',\n",
       "       'income_bus_compiled', 'homeowner_perm', 'is_male', 'is_black',\n",
       "       'is_hispanic', 'is_mixed', 'is_married', 'is_cohab', 'is_metro',\n",
       "       'is_central', 'childhood_owned', 'GED', 'High_School', 'Assc_College',\n",
       "       'Bachelors', 'Masters', 'PhD', 'Med_Law'],\n",
       "      dtype='object')"
      ]
     },
     "metadata": {},
     "execution_count": 287
    }
   ],
   "source": [
    "final_df.columns"
   ]
  },
  {
   "cell_type": "code",
   "execution_count": 299,
   "metadata": {},
   "outputs": [],
   "source": [
    "#I spot a few columns we don't need for modeling--let's drop those.\n",
    "final_df= final_df.drop(columns = ['homeowner', 'sex', 'sample_type])\n"
   ]
  },
  {
   "cell_type": "code",
   "execution_count": 300,
   "metadata": {},
   "outputs": [],
   "source": [
    "#remame our previous duplicate \"__new\" columns for ease of reading\n",
    "#rename the columns for ease of interpretation\n",
    "final_df = final_df.rename({'id_': 'id', \n",
    "                        'poverty_new': 'poverty', \n",
    "                        'child_at_home_new': 'child_at_home', \n",
    "                        'fin_assets_30_new': 'fin_assets_30',\n",
    "                        'debts_30_new': 'debts_30',\n",
    "                        'moves_since_12_new': 'moves_since_12' }, axis=1)"
   ]
  },
  {
   "cell_type": "code",
   "execution_count": 302,
   "metadata": {},
   "outputs": [],
   "source": [
    "#reorganize the order of our columns for ease of interpretation when we get to modeling\n",
    "cols = final_df.columns.tolist()\n",
    "\n",
    "cols.insert(0, cols.pop(cols.index('id')))\n",
    "cols.insert(1, cols.pop(cols.index('homeowner_perm')))\n",
    "cols.insert(2, cols.pop(cols.index('birth_year')))\n",
    "cols.insert(3, cols.pop(cols.index('is_male')))\n",
    "\n",
    "final_df= final_df.reindex(columns= cols)\n"
   ]
  },
  {
   "cell_type": "code",
   "execution_count": 303,
   "metadata": {},
   "outputs": [
    {
     "output_type": "execute_result",
     "data": {
      "text/plain": [
       "        id  homeowner_perm  birth_year  is_male  poverty  child_at_home  \\\n",
       "1        2               0        1982      1.0     9.29            0.0   \n",
       "3        4               0        1981      0.0     1.79            1.0   \n",
       "10      11               0        1982      0.0     3.99            1.0   \n",
       "11      12               0        1981      1.0     5.67            1.0   \n",
       "14      16               0        1982      1.0     2.40            0.0   \n",
       "...    ...             ...         ...      ...      ...            ...   \n",
       "7683  9012               0        1984      0.0     5.57            0.0   \n",
       "7684  9013               0        1982      1.0     1.40            0.0   \n",
       "7686  9015               1        1980      0.0     3.25            3.0   \n",
       "7687  9016               1        1982      0.0     2.23            0.0   \n",
       "7691  9021               0        1980      1.0     2.60            1.0   \n",
       "\n",
       "      fin_assets_30  debts_30  moves_since_12  fin_mobility  ...  is_metro  \\\n",
       "1           45000.0   35000.0             0.0      1.000000  ...         1   \n",
       "3               0.0       0.0             5.0      1.657407  ...         1   \n",
       "10           3000.0   62500.0             8.0      2.015152  ...         1   \n",
       "11          20000.0   15200.0             5.0      1.000000  ...         1   \n",
       "14           3000.0    3000.0             5.0      2.000000  ...         1   \n",
       "...             ...       ...             ...           ...  ...       ...   \n",
       "7683       200000.0       0.0            14.0      2.886010  ...         1   \n",
       "7684         1750.0       0.0             8.0      5.833333  ...         1   \n",
       "7686        88176.0   55464.0            11.0      1.124567  ...         1   \n",
       "7687          530.0   42400.0             6.0      1.149485  ...         1   \n",
       "7691         5000.0       0.0            13.0      1.805556  ...         1   \n",
       "\n",
       "      is_central  childhood_owned  GED  High_School  Assc_College  Bachelors  \\\n",
       "1              0                0    0            1             0          0   \n",
       "3              1                0    0            1             0          0   \n",
       "10             1                0    0            0             0          1   \n",
       "11             1                0    1            0             0          0   \n",
       "14             1                0    0            0             1          0   \n",
       "...          ...              ...  ...          ...           ...        ...   \n",
       "7683           0                1    0            0             0          1   \n",
       "7684           1                0    1            0             0          0   \n",
       "7686           0                1    0            1             0          0   \n",
       "7687           1                1    0            0             0          1   \n",
       "7691           0                0    0            0             0          1   \n",
       "\n",
       "      Masters  PhD  Med_Law  \n",
       "1           0    0        0  \n",
       "3           0    0        0  \n",
       "10          0    0        0  \n",
       "11          0    0        0  \n",
       "14          0    0        0  \n",
       "...       ...  ...      ...  \n",
       "7683        0    0        0  \n",
       "7684        0    0        0  \n",
       "7686        0    0        0  \n",
       "7687        0    0        0  \n",
       "7691        0    0        0  \n",
       "\n",
       "[3753 rows x 27 columns]"
      ],
      "text/html": "<div>\n<style scoped>\n    .dataframe tbody tr th:only-of-type {\n        vertical-align: middle;\n    }\n\n    .dataframe tbody tr th {\n        vertical-align: top;\n    }\n\n    .dataframe thead th {\n        text-align: right;\n    }\n</style>\n<table border=\"1\" class=\"dataframe\">\n  <thead>\n    <tr style=\"text-align: right;\">\n      <th></th>\n      <th>id</th>\n      <th>homeowner_perm</th>\n      <th>birth_year</th>\n      <th>is_male</th>\n      <th>poverty</th>\n      <th>child_at_home</th>\n      <th>fin_assets_30</th>\n      <th>debts_30</th>\n      <th>moves_since_12</th>\n      <th>fin_mobility</th>\n      <th>...</th>\n      <th>is_metro</th>\n      <th>is_central</th>\n      <th>childhood_owned</th>\n      <th>GED</th>\n      <th>High_School</th>\n      <th>Assc_College</th>\n      <th>Bachelors</th>\n      <th>Masters</th>\n      <th>PhD</th>\n      <th>Med_Law</th>\n    </tr>\n  </thead>\n  <tbody>\n    <tr>\n      <th>1</th>\n      <td>2</td>\n      <td>0</td>\n      <td>1982</td>\n      <td>1.0</td>\n      <td>9.29</td>\n      <td>0.0</td>\n      <td>45000.0</td>\n      <td>35000.0</td>\n      <td>0.0</td>\n      <td>1.000000</td>\n      <td>...</td>\n      <td>1</td>\n      <td>0</td>\n      <td>0</td>\n      <td>0</td>\n      <td>1</td>\n      <td>0</td>\n      <td>0</td>\n      <td>0</td>\n      <td>0</td>\n      <td>0</td>\n    </tr>\n    <tr>\n      <th>3</th>\n      <td>4</td>\n      <td>0</td>\n      <td>1981</td>\n      <td>0.0</td>\n      <td>1.79</td>\n      <td>1.0</td>\n      <td>0.0</td>\n      <td>0.0</td>\n      <td>5.0</td>\n      <td>1.657407</td>\n      <td>...</td>\n      <td>1</td>\n      <td>1</td>\n      <td>0</td>\n      <td>0</td>\n      <td>1</td>\n      <td>0</td>\n      <td>0</td>\n      <td>0</td>\n      <td>0</td>\n      <td>0</td>\n    </tr>\n    <tr>\n      <th>10</th>\n      <td>11</td>\n      <td>0</td>\n      <td>1982</td>\n      <td>0.0</td>\n      <td>3.99</td>\n      <td>1.0</td>\n      <td>3000.0</td>\n      <td>62500.0</td>\n      <td>8.0</td>\n      <td>2.015152</td>\n      <td>...</td>\n      <td>1</td>\n      <td>1</td>\n      <td>0</td>\n      <td>0</td>\n      <td>0</td>\n      <td>0</td>\n      <td>1</td>\n      <td>0</td>\n      <td>0</td>\n      <td>0</td>\n    </tr>\n    <tr>\n      <th>11</th>\n      <td>12</td>\n      <td>0</td>\n      <td>1981</td>\n      <td>1.0</td>\n      <td>5.67</td>\n      <td>1.0</td>\n      <td>20000.0</td>\n      <td>15200.0</td>\n      <td>5.0</td>\n      <td>1.000000</td>\n      <td>...</td>\n      <td>1</td>\n      <td>1</td>\n      <td>0</td>\n      <td>1</td>\n      <td>0</td>\n      <td>0</td>\n      <td>0</td>\n      <td>0</td>\n      <td>0</td>\n      <td>0</td>\n    </tr>\n    <tr>\n      <th>14</th>\n      <td>16</td>\n      <td>0</td>\n      <td>1982</td>\n      <td>1.0</td>\n      <td>2.40</td>\n      <td>0.0</td>\n      <td>3000.0</td>\n      <td>3000.0</td>\n      <td>5.0</td>\n      <td>2.000000</td>\n      <td>...</td>\n      <td>1</td>\n      <td>1</td>\n      <td>0</td>\n      <td>0</td>\n      <td>0</td>\n      <td>1</td>\n      <td>0</td>\n      <td>0</td>\n      <td>0</td>\n      <td>0</td>\n    </tr>\n    <tr>\n      <th>...</th>\n      <td>...</td>\n      <td>...</td>\n      <td>...</td>\n      <td>...</td>\n      <td>...</td>\n      <td>...</td>\n      <td>...</td>\n      <td>...</td>\n      <td>...</td>\n      <td>...</td>\n      <td>...</td>\n      <td>...</td>\n      <td>...</td>\n      <td>...</td>\n      <td>...</td>\n      <td>...</td>\n      <td>...</td>\n      <td>...</td>\n      <td>...</td>\n      <td>...</td>\n      <td>...</td>\n    </tr>\n    <tr>\n      <th>7683</th>\n      <td>9012</td>\n      <td>0</td>\n      <td>1984</td>\n      <td>0.0</td>\n      <td>5.57</td>\n      <td>0.0</td>\n      <td>200000.0</td>\n      <td>0.0</td>\n      <td>14.0</td>\n      <td>2.886010</td>\n      <td>...</td>\n      <td>1</td>\n      <td>0</td>\n      <td>1</td>\n      <td>0</td>\n      <td>0</td>\n      <td>0</td>\n      <td>1</td>\n      <td>0</td>\n      <td>0</td>\n      <td>0</td>\n    </tr>\n    <tr>\n      <th>7684</th>\n      <td>9013</td>\n      <td>0</td>\n      <td>1982</td>\n      <td>1.0</td>\n      <td>1.40</td>\n      <td>0.0</td>\n      <td>1750.0</td>\n      <td>0.0</td>\n      <td>8.0</td>\n      <td>5.833333</td>\n      <td>...</td>\n      <td>1</td>\n      <td>1</td>\n      <td>0</td>\n      <td>1</td>\n      <td>0</td>\n      <td>0</td>\n      <td>0</td>\n      <td>0</td>\n      <td>0</td>\n      <td>0</td>\n    </tr>\n    <tr>\n      <th>7686</th>\n      <td>9015</td>\n      <td>1</td>\n      <td>1980</td>\n      <td>0.0</td>\n      <td>3.25</td>\n      <td>3.0</td>\n      <td>88176.0</td>\n      <td>55464.0</td>\n      <td>11.0</td>\n      <td>1.124567</td>\n      <td>...</td>\n      <td>1</td>\n      <td>0</td>\n      <td>1</td>\n      <td>0</td>\n      <td>1</td>\n      <td>0</td>\n      <td>0</td>\n      <td>0</td>\n      <td>0</td>\n      <td>0</td>\n    </tr>\n    <tr>\n      <th>7687</th>\n      <td>9016</td>\n      <td>1</td>\n      <td>1982</td>\n      <td>0.0</td>\n      <td>2.23</td>\n      <td>0.0</td>\n      <td>530.0</td>\n      <td>42400.0</td>\n      <td>6.0</td>\n      <td>1.149485</td>\n      <td>...</td>\n      <td>1</td>\n      <td>1</td>\n      <td>1</td>\n      <td>0</td>\n      <td>0</td>\n      <td>0</td>\n      <td>1</td>\n      <td>0</td>\n      <td>0</td>\n      <td>0</td>\n    </tr>\n    <tr>\n      <th>7691</th>\n      <td>9021</td>\n      <td>0</td>\n      <td>1980</td>\n      <td>1.0</td>\n      <td>2.60</td>\n      <td>1.0</td>\n      <td>5000.0</td>\n      <td>0.0</td>\n      <td>13.0</td>\n      <td>1.805556</td>\n      <td>...</td>\n      <td>1</td>\n      <td>0</td>\n      <td>0</td>\n      <td>0</td>\n      <td>0</td>\n      <td>0</td>\n      <td>1</td>\n      <td>0</td>\n      <td>0</td>\n      <td>0</td>\n    </tr>\n  </tbody>\n</table>\n<p>3753 rows × 27 columns</p>\n</div>"
     },
     "metadata": {},
     "execution_count": 303
    }
   ],
   "source": [
    "final_df"
   ]
  },
  {
   "cell_type": "code",
   "execution_count": 304,
   "metadata": {},
   "outputs": [],
   "source": [
    "#picking our dataframe that's ready to model\n",
    "final_df.to_pickle('final_df.pickle')"
   ]
  },
  {
   "source": [
    "Our final dataframe above looks great. We've pickled it for modeling. \n",
    "Let's head on over to our modeling notebook."
   ],
   "cell_type": "markdown",
   "metadata": {}
  },
  {
   "cell_type": "code",
   "execution_count": null,
   "metadata": {},
   "outputs": [],
   "source": []
  }
 ],
 "metadata": {
  "kernelspec": {
   "name": "Python 3.8.5 64-bit ('metis': conda)",
   "display_name": "Python 3.8.5 64-bit ('metis': conda)",
   "metadata": {
    "interpreter": {
     "hash": "1d0d04aa2644a0c780238b0ddc137c378f262d4a91aabf7e22427563e7a47ad8"
    }
   }
  },
  "language_info": {
   "codemirror_mode": {
    "name": "ipython",
    "version": 3
   },
   "file_extension": ".py",
   "mimetype": "text/x-python",
   "name": "python",
   "nbconvert_exporter": "python",
   "pygments_lexer": "ipython3",
   "version": "3.8.5-final"
  }
 },
 "nbformat": 4,
 "nbformat_minor": 4
}