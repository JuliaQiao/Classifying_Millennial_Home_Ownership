{
 "cells": [
  {
   "source": [
    "## Modeling"
   ],
   "cell_type": "markdown",
   "metadata": {}
  },
  {
   "source": [
    "In this notebook, we will be using Pandas, Numpy, and Sklearn to perform supervised machine learning and build an optimized binary classification model (millenials as home owners or non-homeowners) and Matplotlib and Seaborn to visualize our results.\n",
    "\n",
    "Note: the other functions used in the notebook will be found in the EDA_Functions.py and Modeling_Functions.py files.\n",
    "\n",
    "\n"
   ],
   "cell_type": "markdown",
   "metadata": {}
  },
  {
   "cell_type": "code",
   "execution_count": 10,
   "metadata": {},
   "outputs": [
    {
     "output_type": "stream",
     "name": "stdout",
     "text": [
      "The autoreload extension is already loaded. To reload it, use:\n  %reload_ext autoreload\n"
     ]
    }
   ],
   "source": [
    "# import necessary libraries\n",
    "import pandas as pd\n",
    "import matplotlib.pyplot as plt\n",
    "import scipy.stats as scs\n",
    "import numpy as np\n",
    "\n",
    "#import models, scoring, and visualization\n",
    "from sklearn.linear_model import LogisticRegression, LogisticRegressionCV\n",
    "from sklearn.ensemble import RandomForestClassifier, GradientBoostingClassifier\n",
    "from sklearn.neighbors import KNeighborsClassifier\n",
    "from sklearn.model_selection import train_test_split, StratifiedKFold\n",
    "from sklearn.preprocessing import OneHotEncoder, StandardScaler\n",
    "from sklearn.datasets import make_classification\n",
    "from sklearn.metrics import plot_confusion_matrix, plot_roc_curve, classification_report, roc_curve, recall_score, precision_score\n",
    "from imblearn.over_sampling import RandomOverSampler, SMOTE, ADASYN\n",
    "\n",
    "#import my own python modeling and scoring functions\n",
    "from EDA_Functions import owns_perm_home, bus_or_farm_income\n",
    "from Modeling_Functions import *\n",
    "\n",
    "#make sure we can import our .py functions and update in real time\n",
    "%load_ext autoreload\n",
    "%autoreload "
   ]
  },
  {
   "source": [
    "### Modeling with baseline data\n",
    "Our baseline dataset is very raw. No NaNs filled (ie- negative values that signify skipped questions/nonanswers), no feature engineering. Let's see how our model does with this very raw dataset.\n",
    "\n",
    "We will plug it into a random forest model for this baseline, because random forest does well with minimal data cleaning, minimal model tuning, straight out of the box.\n"
   ],
   "cell_type": "markdown",
   "metadata": {}
  },
  {
   "cell_type": "code",
   "execution_count": 71,
   "metadata": {},
   "outputs": [
    {
     "output_type": "execute_result",
     "data": {
      "text/plain": [
       "        id  sex  birth_year  sample_type  race  poverty  degree_2017  \\\n",
       "0        1    2        1981            1     4       -5           -5   \n",
       "1        2    1        1982            1     2      929            2   \n",
       "2        3    2        1983            1     2       -3            4   \n",
       "3        4    2        1981            1     2      179            2   \n",
       "4        5    1        1982            1     2      871            2   \n",
       "...    ...  ...         ...          ...   ...      ...          ...   \n",
       "7688  9018    2        1980            1     4      327            1   \n",
       "7689  9019    1        1984            0     2      498            3   \n",
       "7690  9020    1        1980            1     4       -5           -5   \n",
       "7691  9021    1        1980            1     4      260            4   \n",
       "7692  9022    2        1982            1     4       -3            5   \n",
       "\n",
       "      marriage  metro_area  child_at_home  ...  debts_30  house_type_35  \\\n",
       "0           -5          -5             -5  ...     18000             -4   \n",
       "1            2           2             -4  ...     35000              1   \n",
       "2            3           2              2  ...     19300             -4   \n",
       "3            2           3              1  ...         0              6   \n",
       "4            3           3              2  ...      9000              1   \n",
       "...        ...         ...            ...  ...       ...            ...   \n",
       "7688         3           2              0  ...      1200              1   \n",
       "7689         2           3              0  ...     17000             -4   \n",
       "7690        -5          -5             -5  ...         0              6   \n",
       "7691         2           2              1  ...         0              6   \n",
       "7692         8           2              2  ...     60000              1   \n",
       "\n",
       "      fin_assets_35  debts_35    id  childhood_home  childhood_poverty  \\\n",
       "0                -4        -4     1               2                 -3   \n",
       "1              2000     62500     2              -4                 -4   \n",
       "2                -4        -4     3               2                583   \n",
       "3              7050      1300     4               2                108   \n",
       "4            300000      3000     5               2                 -3   \n",
       "...             ...       ...   ...             ...                ...   \n",
       "7688           4000     19000  9018              -4                 -3   \n",
       "7689             -4        -4  9019               2                 -3   \n",
       "7690          78750         0  9020               1                663   \n",
       "7691           9000         0  9021               2                144   \n",
       "7692          23000     60000  9022               2                144   \n",
       "\n",
       "      own_or_rent  home_situation  moves_since_12  \n",
       "0               5               1               1  \n",
       "1               4              -4              -4  \n",
       "2               4              -4              13  \n",
       "3               4              -4               5  \n",
       "4               1              -4               9  \n",
       "...           ...             ...             ...  \n",
       "7688            4              -4              -4  \n",
       "7689            5               1               5  \n",
       "7690            5               8               9  \n",
       "7691            4              -4              13  \n",
       "7692            4              -4              18  \n",
       "\n",
       "[7693 rows x 28 columns]"
      ],
      "text/html": "<div>\n<style scoped>\n    .dataframe tbody tr th:only-of-type {\n        vertical-align: middle;\n    }\n\n    .dataframe tbody tr th {\n        vertical-align: top;\n    }\n\n    .dataframe thead th {\n        text-align: right;\n    }\n</style>\n<table border=\"1\" class=\"dataframe\">\n  <thead>\n    <tr style=\"text-align: right;\">\n      <th></th>\n      <th>id</th>\n      <th>sex</th>\n      <th>birth_year</th>\n      <th>sample_type</th>\n      <th>race</th>\n      <th>poverty</th>\n      <th>degree_2017</th>\n      <th>marriage</th>\n      <th>metro_area</th>\n      <th>child_at_home</th>\n      <th>...</th>\n      <th>debts_30</th>\n      <th>house_type_35</th>\n      <th>fin_assets_35</th>\n      <th>debts_35</th>\n      <th>id</th>\n      <th>childhood_home</th>\n      <th>childhood_poverty</th>\n      <th>own_or_rent</th>\n      <th>home_situation</th>\n      <th>moves_since_12</th>\n    </tr>\n  </thead>\n  <tbody>\n    <tr>\n      <th>0</th>\n      <td>1</td>\n      <td>2</td>\n      <td>1981</td>\n      <td>1</td>\n      <td>4</td>\n      <td>-5</td>\n      <td>-5</td>\n      <td>-5</td>\n      <td>-5</td>\n      <td>-5</td>\n      <td>...</td>\n      <td>18000</td>\n      <td>-4</td>\n      <td>-4</td>\n      <td>-4</td>\n      <td>1</td>\n      <td>2</td>\n      <td>-3</td>\n      <td>5</td>\n      <td>1</td>\n      <td>1</td>\n    </tr>\n    <tr>\n      <th>1</th>\n      <td>2</td>\n      <td>1</td>\n      <td>1982</td>\n      <td>1</td>\n      <td>2</td>\n      <td>929</td>\n      <td>2</td>\n      <td>2</td>\n      <td>2</td>\n      <td>-4</td>\n      <td>...</td>\n      <td>35000</td>\n      <td>1</td>\n      <td>2000</td>\n      <td>62500</td>\n      <td>2</td>\n      <td>-4</td>\n      <td>-4</td>\n      <td>4</td>\n      <td>-4</td>\n      <td>-4</td>\n    </tr>\n    <tr>\n      <th>2</th>\n      <td>3</td>\n      <td>2</td>\n      <td>1983</td>\n      <td>1</td>\n      <td>2</td>\n      <td>-3</td>\n      <td>4</td>\n      <td>3</td>\n      <td>2</td>\n      <td>2</td>\n      <td>...</td>\n      <td>19300</td>\n      <td>-4</td>\n      <td>-4</td>\n      <td>-4</td>\n      <td>3</td>\n      <td>2</td>\n      <td>583</td>\n      <td>4</td>\n      <td>-4</td>\n      <td>13</td>\n    </tr>\n    <tr>\n      <th>3</th>\n      <td>4</td>\n      <td>2</td>\n      <td>1981</td>\n      <td>1</td>\n      <td>2</td>\n      <td>179</td>\n      <td>2</td>\n      <td>2</td>\n      <td>3</td>\n      <td>1</td>\n      <td>...</td>\n      <td>0</td>\n      <td>6</td>\n      <td>7050</td>\n      <td>1300</td>\n      <td>4</td>\n      <td>2</td>\n      <td>108</td>\n      <td>4</td>\n      <td>-4</td>\n      <td>5</td>\n    </tr>\n    <tr>\n      <th>4</th>\n      <td>5</td>\n      <td>1</td>\n      <td>1982</td>\n      <td>1</td>\n      <td>2</td>\n      <td>871</td>\n      <td>2</td>\n      <td>3</td>\n      <td>3</td>\n      <td>2</td>\n      <td>...</td>\n      <td>9000</td>\n      <td>1</td>\n      <td>300000</td>\n      <td>3000</td>\n      <td>5</td>\n      <td>2</td>\n      <td>-3</td>\n      <td>1</td>\n      <td>-4</td>\n      <td>9</td>\n    </tr>\n    <tr>\n      <th>...</th>\n      <td>...</td>\n      <td>...</td>\n      <td>...</td>\n      <td>...</td>\n      <td>...</td>\n      <td>...</td>\n      <td>...</td>\n      <td>...</td>\n      <td>...</td>\n      <td>...</td>\n      <td>...</td>\n      <td>...</td>\n      <td>...</td>\n      <td>...</td>\n      <td>...</td>\n      <td>...</td>\n      <td>...</td>\n      <td>...</td>\n      <td>...</td>\n      <td>...</td>\n      <td>...</td>\n    </tr>\n    <tr>\n      <th>7688</th>\n      <td>9018</td>\n      <td>2</td>\n      <td>1980</td>\n      <td>1</td>\n      <td>4</td>\n      <td>327</td>\n      <td>1</td>\n      <td>3</td>\n      <td>2</td>\n      <td>0</td>\n      <td>...</td>\n      <td>1200</td>\n      <td>1</td>\n      <td>4000</td>\n      <td>19000</td>\n      <td>9018</td>\n      <td>-4</td>\n      <td>-3</td>\n      <td>4</td>\n      <td>-4</td>\n      <td>-4</td>\n    </tr>\n    <tr>\n      <th>7689</th>\n      <td>9019</td>\n      <td>1</td>\n      <td>1984</td>\n      <td>0</td>\n      <td>2</td>\n      <td>498</td>\n      <td>3</td>\n      <td>2</td>\n      <td>3</td>\n      <td>0</td>\n      <td>...</td>\n      <td>17000</td>\n      <td>-4</td>\n      <td>-4</td>\n      <td>-4</td>\n      <td>9019</td>\n      <td>2</td>\n      <td>-3</td>\n      <td>5</td>\n      <td>1</td>\n      <td>5</td>\n    </tr>\n    <tr>\n      <th>7690</th>\n      <td>9020</td>\n      <td>1</td>\n      <td>1980</td>\n      <td>1</td>\n      <td>4</td>\n      <td>-5</td>\n      <td>-5</td>\n      <td>-5</td>\n      <td>-5</td>\n      <td>-5</td>\n      <td>...</td>\n      <td>0</td>\n      <td>6</td>\n      <td>78750</td>\n      <td>0</td>\n      <td>9020</td>\n      <td>1</td>\n      <td>663</td>\n      <td>5</td>\n      <td>8</td>\n      <td>9</td>\n    </tr>\n    <tr>\n      <th>7691</th>\n      <td>9021</td>\n      <td>1</td>\n      <td>1980</td>\n      <td>1</td>\n      <td>4</td>\n      <td>260</td>\n      <td>4</td>\n      <td>2</td>\n      <td>2</td>\n      <td>1</td>\n      <td>...</td>\n      <td>0</td>\n      <td>6</td>\n      <td>9000</td>\n      <td>0</td>\n      <td>9021</td>\n      <td>2</td>\n      <td>144</td>\n      <td>4</td>\n      <td>-4</td>\n      <td>13</td>\n    </tr>\n    <tr>\n      <th>7692</th>\n      <td>9022</td>\n      <td>2</td>\n      <td>1982</td>\n      <td>1</td>\n      <td>4</td>\n      <td>-3</td>\n      <td>5</td>\n      <td>8</td>\n      <td>2</td>\n      <td>2</td>\n      <td>...</td>\n      <td>60000</td>\n      <td>1</td>\n      <td>23000</td>\n      <td>60000</td>\n      <td>9022</td>\n      <td>2</td>\n      <td>144</td>\n      <td>4</td>\n      <td>-4</td>\n      <td>18</td>\n    </tr>\n  </tbody>\n</table>\n<p>7693 rows × 28 columns</p>\n</div>"
     },
     "metadata": {},
     "execution_count": 71
    }
   ],
   "source": [
    "#load baseline model\n",
    "baseline_df = pd.read_pickle('joined_df.pickle')"
   ]
  },
  {
   "cell_type": "code",
   "execution_count": 75,
   "metadata": {},
   "outputs": [],
   "source": [
    "#create our Y variable\n",
    "baseline_df['homeowner_perm'] = baseline_df.apply(lambda x: owns_perm_home(x['house_type_30']),axis=1)"
   ]
  },
  {
   "cell_type": "code",
   "execution_count": 76,
   "metadata": {},
   "outputs": [
    {
     "output_type": "execute_result",
     "data": {
      "text/plain": [
       "Index(['id', 'sex', 'birth_year', 'sample_type', 'race', 'poverty',\n",
       "       'degree_2017', 'marriage', 'metro_area', 'child_at_home', 'urban_rural',\n",
       "       'income_wage_total', 'income_wage_est', 'income_bus_total',\n",
       "       'income_bus_est', 'degree_other', 'house_type_30', 'fin_assets_30',\n",
       "       'debts_30', 'house_type_35', 'fin_assets_35', 'debts_35', 'id',\n",
       "       'childhood_home', 'childhood_poverty', 'own_or_rent', 'home_situation',\n",
       "       'moves_since_12', 'homeowner_perm'],\n",
       "      dtype='object')"
      ]
     },
     "metadata": {},
     "execution_count": 76
    }
   ],
   "source": [
    "baseline_df.columns"
   ]
  },
  {
   "cell_type": "code",
   "execution_count": 437,
   "metadata": {},
   "outputs": [],
   "source": [
    "#set X and Y\n",
    "features = ['sex', 'birth_year', 'race', 'poverty',\n",
    "       'marriage', 'metro_area', 'child_at_home', 'urban_rural',\n",
    "       'income_wage_total', 'income_wage_est', 'income_bus_total',\n",
    "       'income_bus_est', 'degree_other', 'fin_assets_30',\n",
    "       'debts_30', 'childhood_poverty', 'moves_since_12']\n",
    "\n",
    "X = baseline_df.loc[:, features]\n",
    "y = baseline_df['homeowner_perm']"
   ]
  },
  {
   "cell_type": "code",
   "execution_count": 438,
   "metadata": {},
   "outputs": [],
   "source": [
    "#split into train-val and test, making sure to stratify y so we preserve the class balance in our sample\n",
    "X_train_val, X_test, y_train_val, y_test = train_test_split(X, y, stratify = y, test_size=0.2, random_state=7)"
   ]
  },
  {
   "cell_type": "code",
   "execution_count": 293,
   "metadata": {},
   "outputs": [
    {
     "output_type": "stream",
     "name": "stdout",
     "text": [
      "Accuracy: 0.7278\nTrain/Test ratio: 1.0598\nAUC: 0.7259\nPrecision: 0.5522\nRECALL: 0.7206\n"
     ]
    }
   ],
   "source": [
    "#testing random forest(no_scaling)\n",
    "get_score(X_train_val, y_train_val, (RandomForestClassifier(max_depth = 5, class_weight='balanced')))"
   ]
  },
  {
   "source": [
    "Our baseline model looks very good, and we've got the high recall with need. \n",
    "\n",
    "We are focusing on **recall** due to the business use case of our model--**we want to reach as many millenial homeowners as we can to cast a wider net.** Precision is important, but recall is our focus in the precision-recall tradeoff, because leaving out a millenial who is a homeowner from marketing/outreach materials (false negative) is **more costly** to us (in terms of a lost customer and the opportunity cost of their business) than reaching a millenial who is not currently a homeowner (false positive).\n",
    "\n",
    "If we were pressed for time and focused on predictive power, we could just call it a day and go with this data and model. \n",
    "\n",
    "However, the use case for our model is for interpretation, so let's see how our thoroughly cleaned and feature engineered data works with models with better interpretability--like logistic regression."
   ],
   "cell_type": "markdown",
   "metadata": {}
  },
  {
   "source": [
    "### Modeling with cleaned and feature-engineered data"
   ],
   "cell_type": "markdown",
   "metadata": {}
  },
  {
   "cell_type": "code",
   "execution_count": 2,
   "metadata": {
    "scrolled": true
   },
   "outputs": [
    {
     "output_type": "execute_result",
     "data": {
      "text/plain": [
       "        id  homeowner_perm  birth_year  is_male  poverty  child_at_home  \\\n",
       "1        2               0        1982      1.0     9.29            0.0   \n",
       "3        4               0        1981      0.0     1.79            1.0   \n",
       "10      11               0        1982      0.0     3.99            1.0   \n",
       "11      12               0        1981      1.0     5.67            1.0   \n",
       "14      16               0        1982      1.0     2.40            0.0   \n",
       "...    ...             ...         ...      ...      ...            ...   \n",
       "7683  9012               0        1984      0.0     5.57            0.0   \n",
       "7684  9013               0        1982      1.0     1.40            0.0   \n",
       "7686  9015               1        1980      0.0     3.25            3.0   \n",
       "7687  9016               1        1982      0.0     2.23            0.0   \n",
       "7691  9021               0        1980      1.0     2.60            1.0   \n",
       "\n",
       "      fin_assets_30  debts_30  moves_since_12  fin_mobility  ...  is_metro  \\\n",
       "1           45000.0   35000.0             0.0      1.000000  ...         1   \n",
       "3               0.0       0.0             5.0      1.657407  ...         1   \n",
       "10           3000.0   62500.0             8.0      2.015152  ...         1   \n",
       "11          20000.0   15200.0             5.0      1.000000  ...         1   \n",
       "14           3000.0    3000.0             5.0      2.000000  ...         1   \n",
       "...             ...       ...             ...           ...  ...       ...   \n",
       "7683       200000.0       0.0            14.0      2.886010  ...         1   \n",
       "7684         1750.0       0.0             8.0      5.833333  ...         1   \n",
       "7686        88176.0   55464.0            11.0      1.124567  ...         1   \n",
       "7687          530.0   42400.0             6.0      1.149485  ...         1   \n",
       "7691         5000.0       0.0            13.0      1.805556  ...         1   \n",
       "\n",
       "      is_central  childhood_owned  GED  High_School  Assc_College  Bachelors  \\\n",
       "1              0                0    0            1             0          0   \n",
       "3              1                0    0            1             0          0   \n",
       "10             1                0    0            0             0          1   \n",
       "11             1                0    1            0             0          0   \n",
       "14             1                0    0            0             1          0   \n",
       "...          ...              ...  ...          ...           ...        ...   \n",
       "7683           0                1    0            0             0          1   \n",
       "7684           1                0    1            0             0          0   \n",
       "7686           0                1    0            1             0          0   \n",
       "7687           1                1    0            0             0          1   \n",
       "7691           0                0    0            0             0          1   \n",
       "\n",
       "      Masters  PhD  Med_Law  \n",
       "1           0    0        0  \n",
       "3           0    0        0  \n",
       "10          0    0        0  \n",
       "11          0    0        0  \n",
       "14          0    0        0  \n",
       "...       ...  ...      ...  \n",
       "7683        0    0        0  \n",
       "7684        0    0        0  \n",
       "7686        0    0        0  \n",
       "7687        0    0        0  \n",
       "7691        0    0        0  \n",
       "\n",
       "[3753 rows x 27 columns]"
      ],
      "text/html": "<div>\n<style scoped>\n    .dataframe tbody tr th:only-of-type {\n        vertical-align: middle;\n    }\n\n    .dataframe tbody tr th {\n        vertical-align: top;\n    }\n\n    .dataframe thead th {\n        text-align: right;\n    }\n</style>\n<table border=\"1\" class=\"dataframe\">\n  <thead>\n    <tr style=\"text-align: right;\">\n      <th></th>\n      <th>id</th>\n      <th>homeowner_perm</th>\n      <th>birth_year</th>\n      <th>is_male</th>\n      <th>poverty</th>\n      <th>child_at_home</th>\n      <th>fin_assets_30</th>\n      <th>debts_30</th>\n      <th>moves_since_12</th>\n      <th>fin_mobility</th>\n      <th>...</th>\n      <th>is_metro</th>\n      <th>is_central</th>\n      <th>childhood_owned</th>\n      <th>GED</th>\n      <th>High_School</th>\n      <th>Assc_College</th>\n      <th>Bachelors</th>\n      <th>Masters</th>\n      <th>PhD</th>\n      <th>Med_Law</th>\n    </tr>\n  </thead>\n  <tbody>\n    <tr>\n      <th>1</th>\n      <td>2</td>\n      <td>0</td>\n      <td>1982</td>\n      <td>1.0</td>\n      <td>9.29</td>\n      <td>0.0</td>\n      <td>45000.0</td>\n      <td>35000.0</td>\n      <td>0.0</td>\n      <td>1.000000</td>\n      <td>...</td>\n      <td>1</td>\n      <td>0</td>\n      <td>0</td>\n      <td>0</td>\n      <td>1</td>\n      <td>0</td>\n      <td>0</td>\n      <td>0</td>\n      <td>0</td>\n      <td>0</td>\n    </tr>\n    <tr>\n      <th>3</th>\n      <td>4</td>\n      <td>0</td>\n      <td>1981</td>\n      <td>0.0</td>\n      <td>1.79</td>\n      <td>1.0</td>\n      <td>0.0</td>\n      <td>0.0</td>\n      <td>5.0</td>\n      <td>1.657407</td>\n      <td>...</td>\n      <td>1</td>\n      <td>1</td>\n      <td>0</td>\n      <td>0</td>\n      <td>1</td>\n      <td>0</td>\n      <td>0</td>\n      <td>0</td>\n      <td>0</td>\n      <td>0</td>\n    </tr>\n    <tr>\n      <th>10</th>\n      <td>11</td>\n      <td>0</td>\n      <td>1982</td>\n      <td>0.0</td>\n      <td>3.99</td>\n      <td>1.0</td>\n      <td>3000.0</td>\n      <td>62500.0</td>\n      <td>8.0</td>\n      <td>2.015152</td>\n      <td>...</td>\n      <td>1</td>\n      <td>1</td>\n      <td>0</td>\n      <td>0</td>\n      <td>0</td>\n      <td>0</td>\n      <td>1</td>\n      <td>0</td>\n      <td>0</td>\n      <td>0</td>\n    </tr>\n    <tr>\n      <th>11</th>\n      <td>12</td>\n      <td>0</td>\n      <td>1981</td>\n      <td>1.0</td>\n      <td>5.67</td>\n      <td>1.0</td>\n      <td>20000.0</td>\n      <td>15200.0</td>\n      <td>5.0</td>\n      <td>1.000000</td>\n      <td>...</td>\n      <td>1</td>\n      <td>1</td>\n      <td>0</td>\n      <td>1</td>\n      <td>0</td>\n      <td>0</td>\n      <td>0</td>\n      <td>0</td>\n      <td>0</td>\n      <td>0</td>\n    </tr>\n    <tr>\n      <th>14</th>\n      <td>16</td>\n      <td>0</td>\n      <td>1982</td>\n      <td>1.0</td>\n      <td>2.40</td>\n      <td>0.0</td>\n      <td>3000.0</td>\n      <td>3000.0</td>\n      <td>5.0</td>\n      <td>2.000000</td>\n      <td>...</td>\n      <td>1</td>\n      <td>1</td>\n      <td>0</td>\n      <td>0</td>\n      <td>0</td>\n      <td>1</td>\n      <td>0</td>\n      <td>0</td>\n      <td>0</td>\n      <td>0</td>\n    </tr>\n    <tr>\n      <th>...</th>\n      <td>...</td>\n      <td>...</td>\n      <td>...</td>\n      <td>...</td>\n      <td>...</td>\n      <td>...</td>\n      <td>...</td>\n      <td>...</td>\n      <td>...</td>\n      <td>...</td>\n      <td>...</td>\n      <td>...</td>\n      <td>...</td>\n      <td>...</td>\n      <td>...</td>\n      <td>...</td>\n      <td>...</td>\n      <td>...</td>\n      <td>...</td>\n      <td>...</td>\n      <td>...</td>\n    </tr>\n    <tr>\n      <th>7683</th>\n      <td>9012</td>\n      <td>0</td>\n      <td>1984</td>\n      <td>0.0</td>\n      <td>5.57</td>\n      <td>0.0</td>\n      <td>200000.0</td>\n      <td>0.0</td>\n      <td>14.0</td>\n      <td>2.886010</td>\n      <td>...</td>\n      <td>1</td>\n      <td>0</td>\n      <td>1</td>\n      <td>0</td>\n      <td>0</td>\n      <td>0</td>\n      <td>1</td>\n      <td>0</td>\n      <td>0</td>\n      <td>0</td>\n    </tr>\n    <tr>\n      <th>7684</th>\n      <td>9013</td>\n      <td>0</td>\n      <td>1982</td>\n      <td>1.0</td>\n      <td>1.40</td>\n      <td>0.0</td>\n      <td>1750.0</td>\n      <td>0.0</td>\n      <td>8.0</td>\n      <td>5.833333</td>\n      <td>...</td>\n      <td>1</td>\n      <td>1</td>\n      <td>0</td>\n      <td>1</td>\n      <td>0</td>\n      <td>0</td>\n      <td>0</td>\n      <td>0</td>\n      <td>0</td>\n      <td>0</td>\n    </tr>\n    <tr>\n      <th>7686</th>\n      <td>9015</td>\n      <td>1</td>\n      <td>1980</td>\n      <td>0.0</td>\n      <td>3.25</td>\n      <td>3.0</td>\n      <td>88176.0</td>\n      <td>55464.0</td>\n      <td>11.0</td>\n      <td>1.124567</td>\n      <td>...</td>\n      <td>1</td>\n      <td>0</td>\n      <td>1</td>\n      <td>0</td>\n      <td>1</td>\n      <td>0</td>\n      <td>0</td>\n      <td>0</td>\n      <td>0</td>\n      <td>0</td>\n    </tr>\n    <tr>\n      <th>7687</th>\n      <td>9016</td>\n      <td>1</td>\n      <td>1982</td>\n      <td>0.0</td>\n      <td>2.23</td>\n      <td>0.0</td>\n      <td>530.0</td>\n      <td>42400.0</td>\n      <td>6.0</td>\n      <td>1.149485</td>\n      <td>...</td>\n      <td>1</td>\n      <td>1</td>\n      <td>1</td>\n      <td>0</td>\n      <td>0</td>\n      <td>0</td>\n      <td>1</td>\n      <td>0</td>\n      <td>0</td>\n      <td>0</td>\n    </tr>\n    <tr>\n      <th>7691</th>\n      <td>9021</td>\n      <td>0</td>\n      <td>1980</td>\n      <td>1.0</td>\n      <td>2.60</td>\n      <td>1.0</td>\n      <td>5000.0</td>\n      <td>0.0</td>\n      <td>13.0</td>\n      <td>1.805556</td>\n      <td>...</td>\n      <td>1</td>\n      <td>0</td>\n      <td>0</td>\n      <td>0</td>\n      <td>0</td>\n      <td>0</td>\n      <td>1</td>\n      <td>0</td>\n      <td>0</td>\n      <td>0</td>\n    </tr>\n  </tbody>\n</table>\n<p>3753 rows × 27 columns</p>\n</div>"
     },
     "metadata": {},
     "execution_count": 2
    }
   ],
   "source": [
    "#load our cleaned dataframe with our feature engineered features\n",
    "df = pd.read_pickle('final_df.pickle')\n",
    "df"
   ]
  },
  {
   "cell_type": "code",
   "execution_count": 3,
   "metadata": {},
   "outputs": [],
   "source": [
    "#adding a total income column\n",
    "df['total_income'] = df['income_wage_compiled'] + df['income_bus_compiled']"
   ]
  },
  {
   "cell_type": "code",
   "execution_count": 4,
   "metadata": {},
   "outputs": [
    {
     "output_type": "execute_result",
     "data": {
      "text/plain": [
       "Index(['id', 'homeowner_perm', 'birth_year', 'is_male', 'poverty',\n",
       "       'child_at_home', 'fin_assets_30', 'debts_30', 'moves_since_12',\n",
       "       'fin_mobility', 'income_wage_compiled', 'income_bus_compiled',\n",
       "       'is_black', 'is_hispanic', 'is_mixed', 'is_married', 'is_cohab',\n",
       "       'is_metro', 'is_central', 'childhood_owned', 'GED', 'High_School',\n",
       "       'Assc_College', 'Bachelors', 'Masters', 'PhD', 'Med_Law',\n",
       "       'total_income'],\n",
       "      dtype='object')"
      ]
     },
     "metadata": {},
     "execution_count": 4
    }
   ],
   "source": [
    "df.columns"
   ]
  },
  {
   "cell_type": "code",
   "execution_count": 5,
   "metadata": {},
   "outputs": [],
   "source": [
    "#set X and Y\n",
    "features = ['birth_year', 'poverty',\n",
    "       'child_at_home', 'fin_assets_30', 'debts_30', 'moves_since_12',\n",
    "       'fin_mobility', 'income_bus_compiled', 'income_wage_compiled','is_male', \n",
    "       'is_black', 'is_hispanic', 'is_mixed', 'is_married', 'is_cohab', 'is_metro', \n",
    "       'is_central', 'childhood_owned', 'GED', 'High_School', 'Assc_College', \n",
    "       'Bachelors', 'Masters', 'PhD', 'Med_Law', 'total_income']\n",
    "\n",
    "X = df.loc[:, features]\n",
    "y = df['homeowner_perm']"
   ]
  },
  {
   "cell_type": "code",
   "execution_count": 6,
   "metadata": {},
   "outputs": [],
   "source": [
    "#split into train-val and test, making sure to stratify y\n",
    "X_train_val, X_test, y_train_val, y_test = train_test_split(X, y, stratify = y, test_size=0.2, random_state=7)\n"
   ]
  },
  {
   "cell_type": "code",
   "execution_count": 295,
   "metadata": {},
   "outputs": [
    {
     "output_type": "stream",
     "name": "stdout",
     "text": [
      "Accuracy: 0.7155\nTrain/Test ratio: 1.0132\nAUC: 0.7155\nPrecision: 0.5362\nRECALL: 0.7153\n"
     ]
    }
   ],
   "source": [
    "#testing logistic regression (with scaling)\n",
    "get_score_scaled(X_train_val, y_train_val, (LogisticRegression(class_weight='balanced')))"
   ]
  },
  {
   "cell_type": "code",
   "execution_count": 296,
   "metadata": {},
   "outputs": [
    {
     "output_type": "stream",
     "name": "stdout",
     "text": [
      "Accuracy: 0.7355\nTrain/Test ratio: 1.0532\nAUC: 0.7335\nPrecision: 0.5624\nRECALL: 0.7280\n"
     ]
    }
   ],
   "source": [
    "#testing random forest(no_scaling)\n",
    "get_score(X_train_val, y_train_val, (RandomForestClassifier(max_depth = 5, class_weight='balanced')))"
   ]
  },
  {
   "cell_type": "code",
   "execution_count": 297,
   "metadata": {},
   "outputs": [
    {
     "output_type": "stream",
     "name": "stdout",
     "text": [
      "Accuracy: 0.7129\nTrain/Test ratio: 1.1276\nAUC: 0.6506\nPrecision: 0.5504\nRECALL: 0.4825\n"
     ]
    }
   ],
   "source": [
    "#testing KNN (with scaling)\n",
    "get_score_scaled(X_train_val, y_train_val, (KNeighborsClassifier()))"
   ]
  },
  {
   "cell_type": "code",
   "execution_count": 298,
   "metadata": {},
   "outputs": [
    {
     "output_type": "stream",
     "name": "stdout",
     "text": [
      "Accuracy: 0.7712\nTrain/Test ratio: 1.0865\nAUC: 0.7060\nPrecision: 0.6736\nRECALL: 0.5302\n"
     ]
    }
   ],
   "source": [
    "#testing XGboost(no_scaling)\n",
    "get_score(X_train_val, y_train_val, (GradientBoostingClassifier()))"
   ]
  },
  {
   "source": [
    "Logistic Classification and Random Forest gave us very pretty good accuracy and great recall scores, however, KNN and XGboost did not give us good recall scores. We weren't able to easily balance class weights while running these models, so let's use some other techniques to do so:"
   ],
   "cell_type": "markdown",
   "metadata": {}
  },
  {
   "source": [
    "### Oversampling"
   ],
   "cell_type": "markdown",
   "metadata": {}
  },
  {
   "source": [
    "**KNN**"
   ],
   "cell_type": "markdown",
   "metadata": {}
  },
  {
   "cell_type": "code",
   "execution_count": 299,
   "metadata": {},
   "outputs": [
    {
     "output_type": "stream",
     "name": "stdout",
     "text": [
      "Accuracy: 0.6576\nTrain/Test ratio: 1.2461\nAUC: 0.6563\nPrecision: 0.4689\nRECALL: 0.6529\n"
     ]
    }
   ],
   "source": [
    "#oversampling with KNN\n",
    "get_score_scaled_oversampled(X_train_val, y_train_val, KNeighborsClassifier(), RandomOverSampler())"
   ]
  },
  {
   "cell_type": "code",
   "execution_count": 300,
   "metadata": {},
   "outputs": [
    {
     "output_type": "stream",
     "name": "stdout",
     "text": [
      "Accuracy: 0.7129\nTrain/Test ratio: 1.1276\nAUC: 0.6506\nPrecision: 0.5504\nRECALL: 0.4825\n"
     ]
    }
   ],
   "source": [
    "#withut oversampling for KNN--for comparision\n",
    "get_score_scaled(X_train_val, y_train_val, KNeighborsClassifier())"
   ]
  },
  {
   "source": [
    "Oversampling doesn't make much of a difference with KNN. It's the model that consistently does the worst for us."
   ],
   "cell_type": "markdown",
   "metadata": {}
  },
  {
   "source": [
    "**Gradient Boost**"
   ],
   "cell_type": "markdown",
   "metadata": {}
  },
  {
   "cell_type": "code",
   "execution_count": 301,
   "metadata": {},
   "outputs": [
    {
     "output_type": "stream",
     "name": "stdout",
     "text": [
      "Accuracy: 0.7405\nTrain/Test ratio: 1.1114\nAUC: 0.7337\nPrecision: 0.5701\nRECALL: 0.7153\n"
     ]
    }
   ],
   "source": [
    "#oversample with Gradient Boost\n",
    "get_score_oversampled(X_train_val, y_train_val, GradientBoostingClassifier(), RandomOverSampler())"
   ]
  },
  {
   "cell_type": "code",
   "execution_count": 302,
   "metadata": {},
   "outputs": [
    {
     "output_type": "stream",
     "name": "stdout",
     "text": [
      "Accuracy: 0.7712\nTrain/Test ratio: 1.0865\nAUC: 0.7060\nPrecision: 0.6736\nRECALL: 0.5302\n"
     ]
    }
   ],
   "source": [
    "#without oversample for comparison\n",
    "get_score(X_train_val, y_train_val, GradientBoostingClassifier())"
   ]
  },
  {
   "source": [
    "The oversampler made a huge difference for gradient boost--allowing us to have a much higher recall score."
   ],
   "cell_type": "markdown",
   "metadata": {}
  },
  {
   "source": [
    "**Logistic Regression**"
   ],
   "cell_type": "markdown",
   "metadata": {}
  },
  {
   "cell_type": "code",
   "execution_count": 303,
   "metadata": {},
   "outputs": [
    {
     "output_type": "stream",
     "name": "stdout",
     "text": [
      "Accuracy: 0.7155\nTrain/Test ratio: 1.0151\nAUC: 0.7160\nPrecision: 0.5367\nRECALL: 0.7175\n"
     ]
    }
   ],
   "source": [
    "get_score_scaled_oversampled(X_train_val, y_train_val, (LogisticRegression()), RandomOverSampler())"
   ]
  },
  {
   "cell_type": "code",
   "execution_count": 304,
   "metadata": {},
   "outputs": [
    {
     "output_type": "stream",
     "name": "stdout",
     "text": [
      "Accuracy: 0.7155\nTrain/Test ratio: 1.0132\nAUC: 0.7155\nPrecision: 0.5362\nRECALL: 0.7153\n"
     ]
    }
   ],
   "source": [
    "#testing logistic regression (with scaling)\n",
    "get_score_scaled(X_train_val, y_train_val, (LogisticRegression(class_weight='balanced')))"
   ]
  },
  {
   "source": [
    "Oversampling compared to just balancing class weights in the model for logistic regression doesn't lead us to better scores--they're more or less the same."
   ],
   "cell_type": "markdown",
   "metadata": {}
  },
  {
   "source": [
    "**Random Forest**"
   ],
   "cell_type": "markdown",
   "metadata": {}
  },
  {
   "cell_type": "code",
   "execution_count": 305,
   "metadata": {},
   "outputs": [
    {
     "output_type": "stream",
     "name": "stdout",
     "text": [
      "Accuracy: 0.7275\nTrain/Test ratio: 1.0784\nAUC: 0.7271\nPrecision: 0.5517\nRECALL: 0.7259\n"
     ]
    }
   ],
   "source": [
    "get_score_oversampled(X_train_val, y_train_val, RandomForestClassifier(max_depth = 5), RandomOverSampler())"
   ]
  },
  {
   "cell_type": "code",
   "execution_count": 306,
   "metadata": {},
   "outputs": [
    {
     "output_type": "stream",
     "name": "stdout",
     "text": [
      "Accuracy: 0.7345\nTrain/Test ratio: 1.0559\nAUC: 0.7302\nPrecision: 0.5611\nRECALL: 0.7185\n"
     ]
    }
   ],
   "source": [
    "get_score(X_train_val, y_train_val, RandomForestClassifier(max_depth = 5, class_weight= 'balanced'))"
   ]
  },
  {
   "source": [
    "Similar to logistic regression, oversampling compared to just balancing class weights in the model for random forest doesn't lead us to better scores--they're more or less the same."
   ],
   "cell_type": "markdown",
   "metadata": {}
  },
  {
   "source": [
    "Since our goal is still interpretabilty, we want to optimize logistic regression--which gives us features and their coefficients. **We wanted to match the predictive power of tree based models through logistic regression, which we have done through thorough data cleaning and feature engineering.**\n",
    "\n",
    "Logistic Regression  performed basically as well as Random Forest and is much more interpretable, which we need for the use case of our model. Since oversampling doesn't impact Logistic Regression, we won't be oversampling as we optimize the features."
   ],
   "cell_type": "markdown",
   "metadata": {}
  },
  {
   "source": [
    "### Parameter Tuning"
   ],
   "cell_type": "markdown",
   "metadata": {}
  },
  {
   "source": [
    "Let's see if we can further optimize our Logistic Regression model through parameter tuning--especially regularization."
   ],
   "cell_type": "markdown",
   "metadata": {}
  },
  {
   "source": [
    "Below are our default parameters for reference:"
   ],
   "cell_type": "markdown",
   "metadata": {}
  },
  {
   "cell_type": "code",
   "execution_count": 318,
   "metadata": {},
   "outputs": [
    {
     "output_type": "stream",
     "name": "stdout",
     "text": [
      "Accuracy: 0.7155\nTrain/Test ratio: 1.0132\nAUC: 0.7155\nPrecision: 0.5362\nRECALL: 0.7153\n"
     ]
    }
   ],
   "source": [
    "#our default\n",
    "#testing logistic regression, with scaling, balanced class weights - default = L2 Ridge\n",
    "get_score_scaled(X_train_val, y_train_val, (LogisticRegression(class_weight='balanced')))"
   ]
  },
  {
   "source": [
    "Our default uses L2 regularization--Ridge. \n",
    "\n",
    "So let's try L1 - Lasso, especially since we have many features and would welcome minimizing our number of features (data collection is time consuming and costly, so the fewer features we have, the better)."
   ],
   "cell_type": "markdown",
   "metadata": {}
  },
  {
   "cell_type": "code",
   "execution_count": 317,
   "metadata": {},
   "outputs": [
    {
     "output_type": "stream",
     "name": "stdout",
     "text": [
      "Accuracy: 0.7149\nTrain/Test ratio: 1.0128\nAUC: 0.7155\nPrecision: 0.5354\nRECALL: 0.7175\n"
     ]
    }
   ],
   "source": [
    "#testing logistic regression, with scaling, balanced class weights, and L1 regularization penalty\n",
    "get_score_scaled(X_train_val, y_train_val, (LogisticRegression(penalty='l1', solver='liblinear', class_weight='balanced')))"
   ]
  },
  {
   "source": [
    "We're not seeing a big difference, so let's try to adjusting the strength of our regularization. First, let's try a random heavier regularization strength:"
   ],
   "cell_type": "markdown",
   "metadata": {}
  },
  {
   "cell_type": "code",
   "execution_count": 324,
   "metadata": {},
   "outputs": [
    {
     "output_type": "stream",
     "name": "stdout",
     "text": [
      "Accuracy: 0.7155\nTrain/Test ratio: 1.0107\nAUC: 0.7166\nPrecision: 0.5362\nRECALL: 0.7196\n"
     ]
    }
   ],
   "source": [
    "#testing logistic regression, with scaling, balanced class weights, and L1 regularization penalty-- Lasso -- with an increased regularization strength (default is 1 and the lower teh value, the greater the regularization force)\n",
    "get_score_scaled(X_train_val, y_train_val, (LogisticRegression(penalty='l1', C=0.5,solver='liblinear', class_weight='balanced')))"
   ]
  },
  {
   "source": [
    "That improved our scores! Now let's see if we can run a loop to optimize our regularization strength:"
   ],
   "cell_type": "markdown",
   "metadata": {}
  },
  {
   "cell_type": "code",
   "execution_count": 342,
   "metadata": {},
   "outputs": [
    {
     "output_type": "stream",
     "name": "stdout",
     "text": [
      "Accuracy: 0.7115\n",
      "Train/Test ratio: 1.0097\n",
      "AUC: 0.7143\n",
      "Precision: 0.5311\n",
      "RECALL: 0.7217\n",
      "0.1\n",
      "Accuracy: 0.7125\n",
      "Train/Test ratio: 1.0110\n",
      "AUC: 0.7144\n",
      "Precision: 0.5325\n",
      "RECALL: 0.7196\n",
      "0.2\n",
      "Accuracy: 0.7149\n",
      "Train/Test ratio: 1.0096\n",
      "AUC: 0.7164\n",
      "Precision: 0.5352\n",
      "RECALL: 0.7206\n",
      "0.30000000000000004\n",
      "Accuracy: 0.7152\n",
      "Train/Test ratio: 1.0112\n",
      "AUC: 0.7172\n",
      "Precision: 0.5356\n",
      "RECALL: 0.7228\n",
      "0.4\n",
      "Accuracy: 0.7155\n",
      "Train/Test ratio: 1.0107\n",
      "AUC: 0.7166\n",
      "Precision: 0.5362\n",
      "RECALL: 0.7196\n",
      "0.5\n",
      "Accuracy: 0.7145\n",
      "Train/Test ratio: 1.0124\n",
      "AUC: 0.7153\n",
      "Precision: 0.5350\n",
      "RECALL: 0.7175\n",
      "0.6\n",
      "Accuracy: 0.7149\n",
      "Train/Test ratio: 1.0121\n",
      "AUC: 0.7155\n",
      "Precision: 0.5354\n",
      "RECALL: 0.7175\n",
      "0.7000000000000001\n",
      "Accuracy: 0.7145\n",
      "Train/Test ratio: 1.0132\n",
      "AUC: 0.7153\n",
      "Precision: 0.5350\n",
      "RECALL: 0.7175\n",
      "0.8\n",
      "Accuracy: 0.7149\n",
      "Train/Test ratio: 1.0125\n",
      "AUC: 0.7155\n",
      "Precision: 0.5354\n",
      "RECALL: 0.7175\n",
      "0.9\n"
     ]
    }
   ],
   "source": [
    "#prints each value of C, from 0 - 1, skipping by 0.1 at a time, and our model scores.\n",
    "for i in np.arange(0.1, 1, 0.1):\n",
    "    c_value = i \n",
    "    log_model = get_score_scaled(X_train_val, y_train_val, (LogisticRegression  (penalty='l1', C=c_value,solver='liblinear', class_weight='balanced')))\n",
    "    print(c_value)\n",
    "   \n",
    "    "
   ]
  },
  {
   "cell_type": "code",
   "execution_count": 7,
   "metadata": {},
   "outputs": [
    {
     "output_type": "stream",
     "name": "stdout",
     "text": [
      "Accuracy: 0.7152\nTrain/Test ratio: 1.0111\nAUC: 0.7172\nPrecision: 0.5356\nRECALL: 0.7228\n"
     ]
    }
   ],
   "source": [
    "#testing logistic regression, with scaling, balanced class weights, and L1 regularization penalty-- Lasso -- with an increased regularization strength (default is 1 and the lower teh value, the greater the regularization force)\n",
    "#optimial value 0.4\n",
    "get_score_scaled(X_train_val, y_train_val, (LogisticRegression(penalty='l1', C=0.4,solver='liblinear', class_weight='balanced')))"
   ]
  },
  {
   "cell_type": "code",
   "execution_count": 11,
   "metadata": {},
   "outputs": [
    {
     "output_type": "execute_result",
     "data": {
      "text/plain": [
       "[('moves_since_12', -0.468324521440353),\n",
       " ('is_married', 0.43897732736994044),\n",
       " ('fin_assets_30', 0.37429547192999113),\n",
       " ('Bachelors', 0.32081662353834783),\n",
       " ('is_black', -0.2893246193047619),\n",
       " ('Masters', 0.24839967222094556),\n",
       " ('total_income', 0.1982272557224623),\n",
       " ('is_hispanic', -0.18731060873758362),\n",
       " ('childhood_owned', 0.185522789685513),\n",
       " ('is_cohab', 0.17447835925540522),\n",
       " ('High_School', 0.16747317440704326),\n",
       " ('Assc_College', 0.1515278739568698),\n",
       " ('child_at_home', 0.10703035162911867),\n",
       " ('GED', 0.09485308992199018),\n",
       " ('debts_30', 0.08486118662130848),\n",
       " ('Med_Law', 0.08003774098229396),\n",
       " ('fin_mobility', 0.07568754121927182),\n",
       " ('is_male', -0.052432589192168304),\n",
       " ('poverty', -0.05199739656763574),\n",
       " ('is_mixed', -0.030280476443447894),\n",
       " ('PhD', -0.022851715022279978),\n",
       " ('is_central', 0.020608629654573395),\n",
       " ('birth_year', -0.012284418518827335),\n",
       " ('is_metro', -0.005877701293487262),\n",
       " ('income_bus_compiled', 0.005152387917908285),\n",
       " ('income_wage_compiled', 0.0)]"
      ]
     },
     "metadata": {},
     "execution_count": 11
    }
   ],
   "source": [
    "#get coefficients for this optimized model\n",
    "get_coef(X_train_val, y_train_val, (LogisticRegression(penalty='l1', C=0.4,solver='liblinear', class_weight='balanced')))"
   ]
  },
  {
   "source": [
    "This optimal regularization and coefficients tells us we can actually drop the last feature income_wage_compiled with coefficient 0, so let's do that for our final model:"
   ],
   "cell_type": "markdown",
   "metadata": {}
  },
  {
   "cell_type": "code",
   "execution_count": 374,
   "metadata": {},
   "outputs": [],
   "source": [
    "#set X and Y\n",
    "#remove income_wage_compiled from our original features\n",
    "features = ['birth_year', 'poverty',\n",
    "       'child_at_home', 'fin_assets_30', 'debts_30', 'moves_since_12',\n",
    "       'fin_mobility', 'income_bus_compiled','is_male', \n",
    "       'is_black', 'is_hispanic', 'is_mixed', 'is_married', 'is_cohab', 'is_metro', \n",
    "       'is_central', 'childhood_owned', 'GED', 'High_School', 'Assc_College', \n",
    "       'Bachelors', 'Masters', 'PhD', 'Med_Law', 'total_income']\n",
    "\n",
    "X = df.loc[:, features]\n",
    "y = df['homeowner_perm']"
   ]
  },
  {
   "cell_type": "code",
   "execution_count": 375,
   "metadata": {},
   "outputs": [],
   "source": [
    "#split into train-val and test, making sure to stratify y\n",
    "X_train_val, X_test, y_train_val, y_test = train_test_split(X, y, stratify = y, test_size=0.2, random_state=7)"
   ]
  },
  {
   "cell_type": "code",
   "execution_count": 376,
   "metadata": {},
   "outputs": [
    {
     "output_type": "stream",
     "name": "stdout",
     "text": [
      "Accuracy: 0.7152\nTrain/Test ratio: 1.0111\nAUC: 0.7172\nPrecision: 0.5356\nRECALL: 0.7228\n"
     ]
    }
   ],
   "source": [
    "get_score_scaled(X_train_val, y_train_val, (LogisticRegression(penalty='l1', C=0.4,solver='liblinear', class_weight='balanced')))"
   ]
  },
  {
   "source": [
    "Our second least important feature--income-bus_compiled--is included in total_income, so let's see if our model can be improved by us turning that into a boolean--1 for business/farm income, 0 for no business income"
   ],
   "cell_type": "markdown",
   "metadata": {}
  },
  {
   "cell_type": "code",
   "execution_count": 12,
   "metadata": {},
   "outputs": [],
   "source": [
    "#create a boolean feature for business/farm income\n",
    "df['bus_income'] = df.apply(lambda x: bus_or_farm_income(x['income_bus_compiled']),axis=1)"
   ]
  },
  {
   "source": [
    "Now let's set up our X and Y, filling in bus_income boolean for the income_bus_compiled variable."
   ],
   "cell_type": "markdown",
   "metadata": {}
  },
  {
   "cell_type": "code",
   "execution_count": 13,
   "metadata": {},
   "outputs": [],
   "source": [
    "#set X and Y\n",
    "#remove income_wage_compiled from our original features\n",
    "features = ['birth_year', 'poverty',\n",
    "       'child_at_home', 'fin_assets_30', 'debts_30', 'moves_since_12',\n",
    "       'fin_mobility', 'bus_income','is_male', \n",
    "       'is_black', 'is_hispanic', 'is_mixed', 'is_married', 'is_cohab', 'is_metro', \n",
    "       'is_central', 'childhood_owned', 'GED', 'High_School', 'Assc_College', \n",
    "       'Bachelors', 'Masters', 'PhD', 'Med_Law', 'total_income']\n",
    "\n",
    "X = df.loc[:, features]\n",
    "y = df['homeowner_perm']"
   ]
  },
  {
   "cell_type": "code",
   "execution_count": 14,
   "metadata": {},
   "outputs": [],
   "source": [
    "#split into train-val and test, making sure to stratify y\n",
    "X_train_val, X_test, y_train_val, y_test = train_test_split(X, y, stratify = y, test_size=0.2, random_state=7)"
   ]
  },
  {
   "cell_type": "code",
   "execution_count": 15,
   "metadata": {},
   "outputs": [
    {
     "output_type": "stream",
     "name": "stdout",
     "text": [
      "Accuracy: 0.7159\nTrain/Test ratio: 1.0101\nAUC: 0.7171\nPrecision: 0.5365\nRECALL: 0.7206\n"
     ]
    }
   ],
   "source": [
    "get_score_scaled(X_train_val, y_train_val, (LogisticRegression(penalty='l1', C=0.4,solver='liblinear', class_weight='balanced')))"
   ]
  },
  {
   "source": [
    "Our scores have remained the same and we our new feature allows for more ease of data collection--asking for total income and whether a part of it comes from a business/farm as opposed to asking for separate wage and business incomes. \n",
    "\n",
    "**This is our final, optimized, very interpretable model**"
   ],
   "cell_type": "markdown",
   "metadata": {}
  },
  {
   "cell_type": "code",
   "execution_count": 17,
   "metadata": {},
   "outputs": [
    {
     "output_type": "execute_result",
     "data": {
      "text/plain": [
       "[('moves_since_12', -0.4672568658726698),\n",
       " ('is_married', 0.4383645008718921),\n",
       " ('fin_assets_30', 0.37503518097211996),\n",
       " ('Bachelors', 0.3204503356666942),\n",
       " ('is_black', -0.2895226120561321),\n",
       " ('Masters', 0.2483304808981693),\n",
       " ('total_income', 0.2044354213009472),\n",
       " ('is_hispanic', -0.1885433192813819),\n",
       " ('childhood_owned', 0.18570360491483998),\n",
       " ('is_cohab', 0.17446708525386898),\n",
       " ('High_School', 0.16930428256673363),\n",
       " ('Assc_College', 0.15226453945914561),\n",
       " ('child_at_home', 0.10673763097873322),\n",
       " ('GED', 0.09763921227058167),\n",
       " ('debts_30', 0.08394221312059817),\n",
       " ('Med_Law', 0.07814939043702943),\n",
       " ('fin_mobility', 0.07573851933954495),\n",
       " ('is_male', -0.05204612908130916),\n",
       " ('poverty', -0.04913462505217771),\n",
       " ('bus_income', -0.03535907257735846),\n",
       " ('is_mixed', -0.029659311526111013),\n",
       " ('PhD', -0.023934883715443188),\n",
       " ('is_central', 0.0216580949983562),\n",
       " ('birth_year', -0.013360132776905285),\n",
       " ('is_metro', -0.00599363801918709)]"
      ]
     },
     "metadata": {},
     "execution_count": 17
    }
   ],
   "source": [
    "#get coefficients for this final model\n",
    "coef = get_coef(X_train_val, y_train_val, (LogisticRegression(penalty='l1', C=0.4,solver='liblinear', class_weight='balanced')))\n",
    "coef"
   ]
  },
  {
   "cell_type": "code",
   "execution_count": 562,
   "metadata": {},
   "outputs": [
    {
     "output_type": "execute_result",
     "data": {
      "text/plain": [
       "            Feature  Coefficient\n",
       "0    moves_since_12    -0.467258\n",
       "1        is_married     0.438365\n",
       "2     fin_assets_30     0.375036\n",
       "3         Bachelors     0.320441\n",
       "4          is_black    -0.289522\n",
       "5           Masters     0.248324\n",
       "6      total_income     0.204438\n",
       "7       is_hispanic    -0.188543\n",
       "8   childhood_owned     0.185701\n",
       "9          is_cohab     0.174468\n",
       "10      High_School     0.169296\n",
       "11     Assc_College     0.152263\n",
       "12    child_at_home     0.106737\n",
       "13              GED     0.097632\n",
       "14         debts_30     0.083945\n",
       "15          Med_Law     0.078147\n",
       "16     fin_mobility     0.075739\n",
       "17          is_male    -0.052045\n",
       "18          poverty    -0.049143\n",
       "19       bus_income    -0.035360\n",
       "20         is_mixed    -0.029659\n",
       "21              PhD    -0.023936\n",
       "22       is_central     0.021658\n",
       "23       birth_year    -0.013361\n",
       "24         is_metro    -0.005993"
      ],
      "text/html": "<div>\n<style scoped>\n    .dataframe tbody tr th:only-of-type {\n        vertical-align: middle;\n    }\n\n    .dataframe tbody tr th {\n        vertical-align: top;\n    }\n\n    .dataframe thead th {\n        text-align: right;\n    }\n</style>\n<table border=\"1\" class=\"dataframe\">\n  <thead>\n    <tr style=\"text-align: right;\">\n      <th></th>\n      <th>Feature</th>\n      <th>Coefficient</th>\n    </tr>\n  </thead>\n  <tbody>\n    <tr>\n      <th>0</th>\n      <td>moves_since_12</td>\n      <td>-0.467258</td>\n    </tr>\n    <tr>\n      <th>1</th>\n      <td>is_married</td>\n      <td>0.438365</td>\n    </tr>\n    <tr>\n      <th>2</th>\n      <td>fin_assets_30</td>\n      <td>0.375036</td>\n    </tr>\n    <tr>\n      <th>3</th>\n      <td>Bachelors</td>\n      <td>0.320441</td>\n    </tr>\n    <tr>\n      <th>4</th>\n      <td>is_black</td>\n      <td>-0.289522</td>\n    </tr>\n    <tr>\n      <th>5</th>\n      <td>Masters</td>\n      <td>0.248324</td>\n    </tr>\n    <tr>\n      <th>6</th>\n      <td>total_income</td>\n      <td>0.204438</td>\n    </tr>\n    <tr>\n      <th>7</th>\n      <td>is_hispanic</td>\n      <td>-0.188543</td>\n    </tr>\n    <tr>\n      <th>8</th>\n      <td>childhood_owned</td>\n      <td>0.185701</td>\n    </tr>\n    <tr>\n      <th>9</th>\n      <td>is_cohab</td>\n      <td>0.174468</td>\n    </tr>\n    <tr>\n      <th>10</th>\n      <td>High_School</td>\n      <td>0.169296</td>\n    </tr>\n    <tr>\n      <th>11</th>\n      <td>Assc_College</td>\n      <td>0.152263</td>\n    </tr>\n    <tr>\n      <th>12</th>\n      <td>child_at_home</td>\n      <td>0.106737</td>\n    </tr>\n    <tr>\n      <th>13</th>\n      <td>GED</td>\n      <td>0.097632</td>\n    </tr>\n    <tr>\n      <th>14</th>\n      <td>debts_30</td>\n      <td>0.083945</td>\n    </tr>\n    <tr>\n      <th>15</th>\n      <td>Med_Law</td>\n      <td>0.078147</td>\n    </tr>\n    <tr>\n      <th>16</th>\n      <td>fin_mobility</td>\n      <td>0.075739</td>\n    </tr>\n    <tr>\n      <th>17</th>\n      <td>is_male</td>\n      <td>-0.052045</td>\n    </tr>\n    <tr>\n      <th>18</th>\n      <td>poverty</td>\n      <td>-0.049143</td>\n    </tr>\n    <tr>\n      <th>19</th>\n      <td>bus_income</td>\n      <td>-0.035360</td>\n    </tr>\n    <tr>\n      <th>20</th>\n      <td>is_mixed</td>\n      <td>-0.029659</td>\n    </tr>\n    <tr>\n      <th>21</th>\n      <td>PhD</td>\n      <td>-0.023936</td>\n    </tr>\n    <tr>\n      <th>22</th>\n      <td>is_central</td>\n      <td>0.021658</td>\n    </tr>\n    <tr>\n      <th>23</th>\n      <td>birth_year</td>\n      <td>-0.013361</td>\n    </tr>\n    <tr>\n      <th>24</th>\n      <td>is_metro</td>\n      <td>-0.005993</td>\n    </tr>\n  </tbody>\n</table>\n</div>"
     },
     "metadata": {},
     "execution_count": 562
    }
   ],
   "source": [
    "turn features into a dataframe for visuals \n",
    "features = pd.DataFrame(coef)\n",
    "features.rename(columns = {0: 'Feature', 1: \"Coefficient\"}, inplace = True)\n",
    "features"
   ]
  },
  {
   "cell_type": "code",
   "execution_count": 568,
   "metadata": {},
   "outputs": [
    {
     "output_type": "display_data",
     "data": {
      "text/plain": "<Figure size 1440x432 with 1 Axes>",
      "image/svg+xml": "<?xml version=\"1.0\" encoding=\"utf-8\" standalone=\"no\"?>\n<!DOCTYPE svg PUBLIC \"-//W3C//DTD SVG 1.1//EN\"\n  \"http://www.w3.org/Graphics/SVG/1.1/DTD/svg11.dtd\">\n<!-- Created with matplotlib (https://matplotlib.org/) -->\n<svg height=\"376.915313pt\" version=\"1.1\" viewBox=\"0 0 1219.242188 376.915313\" width=\"1219.242188pt\" xmlns=\"http://www.w3.org/2000/svg\" xmlns:xlink=\"http://www.w3.org/1999/xlink\">\n <metadata>\n  <rdf:RDF xmlns:cc=\"http://creativecommons.org/ns#\" xmlns:dc=\"http://purl.org/dc/elements/1.1/\" xmlns:rdf=\"http://www.w3.org/1999/02/22-rdf-syntax-ns#\">\n   <cc:Work>\n    <dc:type rdf:resource=\"http://purl.org/dc/dcmitype/StillImage\"/>\n    <dc:date>2020-10-27T14:23:53.883402</dc:date>\n    <dc:format>image/svg+xml</dc:format>\n    <dc:creator>\n     <cc:Agent>\n      <dc:title>Matplotlib v3.3.2, https://matplotlib.org/</dc:title>\n     </cc:Agent>\n    </dc:creator>\n   </cc:Work>\n  </rdf:RDF>\n </metadata>\n <defs>\n  <style type=\"text/css\">*{stroke-linecap:butt;stroke-linejoin:round;}</style>\n </defs>\n <g id=\"figure_1\">\n  <g id=\"patch_1\">\n   <path d=\"M 0 376.915313 \nL 1219.242188 376.915313 \nL 1219.242188 0 \nL 0 0 \nz\n\" style=\"fill:none;\"/>\n  </g>\n  <g id=\"axes_1\">\n   <g id=\"patch_2\">\n    <path d=\"M 96.042188 353.037188 \nL 1212.042187 353.037188 \nL 1212.042187 26.877187 \nL 96.042188 26.877187 \nz\n\" style=\"fill:#ffffff;\"/>\n   </g>\n   <g id=\"patch_3\">\n    <path clip-path=\"url(#p175bacfb4c)\" d=\"M 670.226227 338.211733 \nL 146.76946 338.211733 \nL 146.76946 288.793551 \nL 670.226227 288.793551 \nz\n\" style=\"fill:#1f77b4;\"/>\n   </g>\n   <g id=\"patch_4\">\n    <path clip-path=\"url(#p175bacfb4c)\" d=\"M 670.226227 276.439006 \nL 1161.314915 276.439006 \nL 1161.314915 227.020824 \nL 670.226227 227.020824 \nz\n\" style=\"fill:#1f77b4;\"/>\n   </g>\n   <g id=\"patch_5\">\n    <path clip-path=\"url(#p175bacfb4c)\" d=\"M 670.226227 214.666278 \nL 1090.369205 214.666278 \nL 1090.369205 165.248097 \nL 670.226227 165.248097 \nz\n\" style=\"fill:#1f77b4;\"/>\n   </g>\n   <g id=\"patch_6\">\n    <path clip-path=\"url(#p175bacfb4c)\" d=\"M 670.226227 152.893551 \nL 1029.2078 152.893551 \nL 1029.2078 103.475369 \nL 670.226227 103.475369 \nz\n\" style=\"fill:#1f77b4;\"/>\n   </g>\n   <g id=\"patch_7\">\n    <path clip-path=\"url(#p175bacfb4c)\" d=\"M 670.226227 91.120824 \nL 345.882792 91.120824 \nL 345.882792 41.702642 \nL 670.226227 41.702642 \nz\n\" style=\"fill:#1f77b4;\"/>\n   </g>\n   <g id=\"matplotlib.axis_1\">\n    <g id=\"xtick_1\">\n     <g id=\"line2d_1\">\n      <defs>\n       <path d=\"M 0 0 \nL 0 3.5 \n\" id=\"m769d2b2169\" style=\"stroke:#000000;stroke-width:0.8;\"/>\n      </defs>\n      <g>\n       <use style=\"stroke:#000000;stroke-width:0.8;\" x=\"222.117134\" xlink:href=\"#m769d2b2169\" y=\"353.037188\"/>\n      </g>\n     </g>\n     <g id=\"text_1\">\n      <!-- −0.4 -->\n      <g transform=\"translate(209.975727 367.635625)scale(0.1 -0.1)\">\n       <defs>\n        <path d=\"M 10.59375 35.5 \nL 73.1875 35.5 \nL 73.1875 27.203125 \nL 10.59375 27.203125 \nz\n\" id=\"DejaVuSans-8722\"/>\n        <path d=\"M 31.78125 66.40625 \nQ 24.171875 66.40625 20.328125 58.90625 \nQ 16.5 51.421875 16.5 36.375 \nQ 16.5 21.390625 20.328125 13.890625 \nQ 24.171875 6.390625 31.78125 6.390625 \nQ 39.453125 6.390625 43.28125 13.890625 \nQ 47.125 21.390625 47.125 36.375 \nQ 47.125 51.421875 43.28125 58.90625 \nQ 39.453125 66.40625 31.78125 66.40625 \nz\nM 31.78125 74.21875 \nQ 44.046875 74.21875 50.515625 64.515625 \nQ 56.984375 54.828125 56.984375 36.375 \nQ 56.984375 17.96875 50.515625 8.265625 \nQ 44.046875 -1.421875 31.78125 -1.421875 \nQ 19.53125 -1.421875 13.0625 8.265625 \nQ 6.59375 17.96875 6.59375 36.375 \nQ 6.59375 54.828125 13.0625 64.515625 \nQ 19.53125 74.21875 31.78125 74.21875 \nz\n\" id=\"DejaVuSans-48\"/>\n        <path d=\"M 10.6875 12.40625 \nL 21 12.40625 \nL 21 0 \nL 10.6875 0 \nz\n\" id=\"DejaVuSans-46\"/>\n        <path d=\"M 37.796875 64.3125 \nL 12.890625 25.390625 \nL 37.796875 25.390625 \nz\nM 35.203125 72.90625 \nL 47.609375 72.90625 \nL 47.609375 25.390625 \nL 58.015625 25.390625 \nL 58.015625 17.1875 \nL 47.609375 17.1875 \nL 47.609375 0 \nL 37.796875 0 \nL 37.796875 17.1875 \nL 4.890625 17.1875 \nL 4.890625 26.703125 \nz\n\" id=\"DejaVuSans-52\"/>\n       </defs>\n       <use xlink:href=\"#DejaVuSans-8722\"/>\n       <use x=\"83.789062\" xlink:href=\"#DejaVuSans-48\"/>\n       <use x=\"147.412109\" xlink:href=\"#DejaVuSans-46\"/>\n       <use x=\"179.199219\" xlink:href=\"#DejaVuSans-52\"/>\n      </g>\n     </g>\n    </g>\n    <g id=\"xtick_2\">\n     <g id=\"line2d_2\">\n      <g>\n       <use style=\"stroke:#000000;stroke-width:0.8;\" x=\"446.17168\" xlink:href=\"#m769d2b2169\" y=\"353.037188\"/>\n      </g>\n     </g>\n     <g id=\"text_2\">\n      <!-- −0.2 -->\n      <g transform=\"translate(434.030274 367.635625)scale(0.1 -0.1)\">\n       <defs>\n        <path d=\"M 19.1875 8.296875 \nL 53.609375 8.296875 \nL 53.609375 0 \nL 7.328125 0 \nL 7.328125 8.296875 \nQ 12.9375 14.109375 22.625 23.890625 \nQ 32.328125 33.6875 34.8125 36.53125 \nQ 39.546875 41.84375 41.421875 45.53125 \nQ 43.3125 49.21875 43.3125 52.78125 \nQ 43.3125 58.59375 39.234375 62.25 \nQ 35.15625 65.921875 28.609375 65.921875 \nQ 23.96875 65.921875 18.8125 64.3125 \nQ 13.671875 62.703125 7.8125 59.421875 \nL 7.8125 69.390625 \nQ 13.765625 71.78125 18.9375 73 \nQ 24.125 74.21875 28.421875 74.21875 \nQ 39.75 74.21875 46.484375 68.546875 \nQ 53.21875 62.890625 53.21875 53.421875 \nQ 53.21875 48.921875 51.53125 44.890625 \nQ 49.859375 40.875 45.40625 35.40625 \nQ 44.1875 33.984375 37.640625 27.21875 \nQ 31.109375 20.453125 19.1875 8.296875 \nz\n\" id=\"DejaVuSans-50\"/>\n       </defs>\n       <use xlink:href=\"#DejaVuSans-8722\"/>\n       <use x=\"83.789062\" xlink:href=\"#DejaVuSans-48\"/>\n       <use x=\"147.412109\" xlink:href=\"#DejaVuSans-46\"/>\n       <use x=\"179.199219\" xlink:href=\"#DejaVuSans-50\"/>\n      </g>\n     </g>\n    </g>\n    <g id=\"xtick_3\">\n     <g id=\"line2d_3\">\n      <g>\n       <use style=\"stroke:#000000;stroke-width:0.8;\" x=\"670.226227\" xlink:href=\"#m769d2b2169\" y=\"353.037188\"/>\n      </g>\n     </g>\n     <g id=\"text_3\">\n      <!-- 0.0 -->\n      <g transform=\"translate(662.274664 367.635625)scale(0.1 -0.1)\">\n       <use xlink:href=\"#DejaVuSans-48\"/>\n       <use x=\"63.623047\" xlink:href=\"#DejaVuSans-46\"/>\n       <use x=\"95.410156\" xlink:href=\"#DejaVuSans-48\"/>\n      </g>\n     </g>\n    </g>\n    <g id=\"xtick_4\">\n     <g id=\"line2d_4\">\n      <g>\n       <use style=\"stroke:#000000;stroke-width:0.8;\" x=\"894.280773\" xlink:href=\"#m769d2b2169\" y=\"353.037188\"/>\n      </g>\n     </g>\n     <g id=\"text_4\">\n      <!-- 0.2 -->\n      <g transform=\"translate(886.329211 367.635625)scale(0.1 -0.1)\">\n       <use xlink:href=\"#DejaVuSans-48\"/>\n       <use x=\"63.623047\" xlink:href=\"#DejaVuSans-46\"/>\n       <use x=\"95.410156\" xlink:href=\"#DejaVuSans-50\"/>\n      </g>\n     </g>\n    </g>\n    <g id=\"xtick_5\">\n     <g id=\"line2d_5\">\n      <g>\n       <use style=\"stroke:#000000;stroke-width:0.8;\" x=\"1118.335319\" xlink:href=\"#m769d2b2169\" y=\"353.037188\"/>\n      </g>\n     </g>\n     <g id=\"text_5\">\n      <!-- 0.4 -->\n      <g transform=\"translate(1110.383757 367.635625)scale(0.1 -0.1)\">\n       <use xlink:href=\"#DejaVuSans-48\"/>\n       <use x=\"63.623047\" xlink:href=\"#DejaVuSans-46\"/>\n       <use x=\"95.410156\" xlink:href=\"#DejaVuSans-52\"/>\n      </g>\n     </g>\n    </g>\n   </g>\n   <g id=\"matplotlib.axis_2\">\n    <g id=\"ytick_1\">\n     <g id=\"line2d_6\">\n      <defs>\n       <path d=\"M 0 0 \nL -3.5 0 \n\" id=\"m4428ac5ffc\" style=\"stroke:#000000;stroke-width:0.8;\"/>\n      </defs>\n      <g>\n       <use style=\"stroke:#000000;stroke-width:0.8;\" x=\"96.042188\" xlink:href=\"#m4428ac5ffc\" y=\"313.502642\"/>\n      </g>\n     </g>\n     <g id=\"text_6\">\n      <!-- moves_since_12 -->\n      <g transform=\"translate(7.2 317.301861)scale(0.1 -0.1)\">\n       <defs>\n        <path d=\"M 52 44.1875 \nQ 55.375 50.25 60.0625 53.125 \nQ 64.75 56 71.09375 56 \nQ 79.640625 56 84.28125 50.015625 \nQ 88.921875 44.046875 88.921875 33.015625 \nL 88.921875 0 \nL 79.890625 0 \nL 79.890625 32.71875 \nQ 79.890625 40.578125 77.09375 44.375 \nQ 74.3125 48.1875 68.609375 48.1875 \nQ 61.625 48.1875 57.5625 43.546875 \nQ 53.515625 38.921875 53.515625 30.90625 \nL 53.515625 0 \nL 44.484375 0 \nL 44.484375 32.71875 \nQ 44.484375 40.625 41.703125 44.40625 \nQ 38.921875 48.1875 33.109375 48.1875 \nQ 26.21875 48.1875 22.15625 43.53125 \nQ 18.109375 38.875 18.109375 30.90625 \nL 18.109375 0 \nL 9.078125 0 \nL 9.078125 54.6875 \nL 18.109375 54.6875 \nL 18.109375 46.1875 \nQ 21.1875 51.21875 25.484375 53.609375 \nQ 29.78125 56 35.6875 56 \nQ 41.65625 56 45.828125 52.96875 \nQ 50 49.953125 52 44.1875 \nz\n\" id=\"DejaVuSans-109\"/>\n        <path d=\"M 30.609375 48.390625 \nQ 23.390625 48.390625 19.1875 42.75 \nQ 14.984375 37.109375 14.984375 27.296875 \nQ 14.984375 17.484375 19.15625 11.84375 \nQ 23.34375 6.203125 30.609375 6.203125 \nQ 37.796875 6.203125 41.984375 11.859375 \nQ 46.1875 17.53125 46.1875 27.296875 \nQ 46.1875 37.015625 41.984375 42.703125 \nQ 37.796875 48.390625 30.609375 48.390625 \nz\nM 30.609375 56 \nQ 42.328125 56 49.015625 48.375 \nQ 55.71875 40.765625 55.71875 27.296875 \nQ 55.71875 13.875 49.015625 6.21875 \nQ 42.328125 -1.421875 30.609375 -1.421875 \nQ 18.84375 -1.421875 12.171875 6.21875 \nQ 5.515625 13.875 5.515625 27.296875 \nQ 5.515625 40.765625 12.171875 48.375 \nQ 18.84375 56 30.609375 56 \nz\n\" id=\"DejaVuSans-111\"/>\n        <path d=\"M 2.984375 54.6875 \nL 12.5 54.6875 \nL 29.59375 8.796875 \nL 46.6875 54.6875 \nL 56.203125 54.6875 \nL 35.6875 0 \nL 23.484375 0 \nz\n\" id=\"DejaVuSans-118\"/>\n        <path d=\"M 56.203125 29.59375 \nL 56.203125 25.203125 \nL 14.890625 25.203125 \nQ 15.484375 15.921875 20.484375 11.0625 \nQ 25.484375 6.203125 34.421875 6.203125 \nQ 39.59375 6.203125 44.453125 7.46875 \nQ 49.3125 8.734375 54.109375 11.28125 \nL 54.109375 2.78125 \nQ 49.265625 0.734375 44.1875 -0.34375 \nQ 39.109375 -1.421875 33.890625 -1.421875 \nQ 20.796875 -1.421875 13.15625 6.1875 \nQ 5.515625 13.8125 5.515625 26.8125 \nQ 5.515625 40.234375 12.765625 48.109375 \nQ 20.015625 56 32.328125 56 \nQ 43.359375 56 49.78125 48.890625 \nQ 56.203125 41.796875 56.203125 29.59375 \nz\nM 47.21875 32.234375 \nQ 47.125 39.59375 43.09375 43.984375 \nQ 39.0625 48.390625 32.421875 48.390625 \nQ 24.90625 48.390625 20.390625 44.140625 \nQ 15.875 39.890625 15.1875 32.171875 \nz\n\" id=\"DejaVuSans-101\"/>\n        <path d=\"M 44.28125 53.078125 \nL 44.28125 44.578125 \nQ 40.484375 46.53125 36.375 47.5 \nQ 32.28125 48.484375 27.875 48.484375 \nQ 21.1875 48.484375 17.84375 46.4375 \nQ 14.5 44.390625 14.5 40.28125 \nQ 14.5 37.15625 16.890625 35.375 \nQ 19.28125 33.59375 26.515625 31.984375 \nL 29.59375 31.296875 \nQ 39.15625 29.25 43.1875 25.515625 \nQ 47.21875 21.78125 47.21875 15.09375 \nQ 47.21875 7.46875 41.1875 3.015625 \nQ 35.15625 -1.421875 24.609375 -1.421875 \nQ 20.21875 -1.421875 15.453125 -0.5625 \nQ 10.6875 0.296875 5.421875 2 \nL 5.421875 11.28125 \nQ 10.40625 8.6875 15.234375 7.390625 \nQ 20.0625 6.109375 24.8125 6.109375 \nQ 31.15625 6.109375 34.5625 8.28125 \nQ 37.984375 10.453125 37.984375 14.40625 \nQ 37.984375 18.0625 35.515625 20.015625 \nQ 33.0625 21.96875 24.703125 23.78125 \nL 21.578125 24.515625 \nQ 13.234375 26.265625 9.515625 29.90625 \nQ 5.8125 33.546875 5.8125 39.890625 \nQ 5.8125 47.609375 11.28125 51.796875 \nQ 16.75 56 26.8125 56 \nQ 31.78125 56 36.171875 55.265625 \nQ 40.578125 54.546875 44.28125 53.078125 \nz\n\" id=\"DejaVuSans-115\"/>\n        <path d=\"M 50.984375 -16.609375 \nL 50.984375 -23.578125 \nL -0.984375 -23.578125 \nL -0.984375 -16.609375 \nz\n\" id=\"DejaVuSans-95\"/>\n        <path d=\"M 9.421875 54.6875 \nL 18.40625 54.6875 \nL 18.40625 0 \nL 9.421875 0 \nz\nM 9.421875 75.984375 \nL 18.40625 75.984375 \nL 18.40625 64.59375 \nL 9.421875 64.59375 \nz\n\" id=\"DejaVuSans-105\"/>\n        <path d=\"M 54.890625 33.015625 \nL 54.890625 0 \nL 45.90625 0 \nL 45.90625 32.71875 \nQ 45.90625 40.484375 42.875 44.328125 \nQ 39.84375 48.1875 33.796875 48.1875 \nQ 26.515625 48.1875 22.3125 43.546875 \nQ 18.109375 38.921875 18.109375 30.90625 \nL 18.109375 0 \nL 9.078125 0 \nL 9.078125 54.6875 \nL 18.109375 54.6875 \nL 18.109375 46.1875 \nQ 21.34375 51.125 25.703125 53.5625 \nQ 30.078125 56 35.796875 56 \nQ 45.21875 56 50.046875 50.171875 \nQ 54.890625 44.34375 54.890625 33.015625 \nz\n\" id=\"DejaVuSans-110\"/>\n        <path d=\"M 48.78125 52.59375 \nL 48.78125 44.1875 \nQ 44.96875 46.296875 41.140625 47.34375 \nQ 37.3125 48.390625 33.40625 48.390625 \nQ 24.65625 48.390625 19.8125 42.84375 \nQ 14.984375 37.3125 14.984375 27.296875 \nQ 14.984375 17.28125 19.8125 11.734375 \nQ 24.65625 6.203125 33.40625 6.203125 \nQ 37.3125 6.203125 41.140625 7.25 \nQ 44.96875 8.296875 48.78125 10.40625 \nL 48.78125 2.09375 \nQ 45.015625 0.34375 40.984375 -0.53125 \nQ 36.96875 -1.421875 32.421875 -1.421875 \nQ 20.0625 -1.421875 12.78125 6.34375 \nQ 5.515625 14.109375 5.515625 27.296875 \nQ 5.515625 40.671875 12.859375 48.328125 \nQ 20.21875 56 33.015625 56 \nQ 37.15625 56 41.109375 55.140625 \nQ 45.0625 54.296875 48.78125 52.59375 \nz\n\" id=\"DejaVuSans-99\"/>\n        <path d=\"M 12.40625 8.296875 \nL 28.515625 8.296875 \nL 28.515625 63.921875 \nL 10.984375 60.40625 \nL 10.984375 69.390625 \nL 28.421875 72.90625 \nL 38.28125 72.90625 \nL 38.28125 8.296875 \nL 54.390625 8.296875 \nL 54.390625 0 \nL 12.40625 0 \nz\n\" id=\"DejaVuSans-49\"/>\n       </defs>\n       <use xlink:href=\"#DejaVuSans-109\"/>\n       <use x=\"97.412109\" xlink:href=\"#DejaVuSans-111\"/>\n       <use x=\"158.59375\" xlink:href=\"#DejaVuSans-118\"/>\n       <use x=\"217.773438\" xlink:href=\"#DejaVuSans-101\"/>\n       <use x=\"279.296875\" xlink:href=\"#DejaVuSans-115\"/>\n       <use x=\"331.396484\" xlink:href=\"#DejaVuSans-95\"/>\n       <use x=\"381.396484\" xlink:href=\"#DejaVuSans-115\"/>\n       <use x=\"433.496094\" xlink:href=\"#DejaVuSans-105\"/>\n       <use x=\"461.279297\" xlink:href=\"#DejaVuSans-110\"/>\n       <use x=\"524.658203\" xlink:href=\"#DejaVuSans-99\"/>\n       <use x=\"579.638672\" xlink:href=\"#DejaVuSans-101\"/>\n       <use x=\"641.162109\" xlink:href=\"#DejaVuSans-95\"/>\n       <use x=\"691.162109\" xlink:href=\"#DejaVuSans-49\"/>\n       <use x=\"754.785156\" xlink:href=\"#DejaVuSans-50\"/>\n      </g>\n     </g>\n    </g>\n    <g id=\"ytick_2\">\n     <g id=\"line2d_7\">\n      <g>\n       <use style=\"stroke:#000000;stroke-width:0.8;\" x=\"96.042188\" xlink:href=\"#m4428ac5ffc\" y=\"251.729915\"/>\n      </g>\n     </g>\n     <g id=\"text_7\">\n      <!-- is_married -->\n      <g transform=\"translate(36.859375 255.529134)scale(0.1 -0.1)\">\n       <defs>\n        <path d=\"M 34.28125 27.484375 \nQ 23.390625 27.484375 19.1875 25 \nQ 14.984375 22.515625 14.984375 16.5 \nQ 14.984375 11.71875 18.140625 8.90625 \nQ 21.296875 6.109375 26.703125 6.109375 \nQ 34.1875 6.109375 38.703125 11.40625 \nQ 43.21875 16.703125 43.21875 25.484375 \nL 43.21875 27.484375 \nz\nM 52.203125 31.203125 \nL 52.203125 0 \nL 43.21875 0 \nL 43.21875 8.296875 \nQ 40.140625 3.328125 35.546875 0.953125 \nQ 30.953125 -1.421875 24.3125 -1.421875 \nQ 15.921875 -1.421875 10.953125 3.296875 \nQ 6 8.015625 6 15.921875 \nQ 6 25.140625 12.171875 29.828125 \nQ 18.359375 34.515625 30.609375 34.515625 \nL 43.21875 34.515625 \nL 43.21875 35.40625 \nQ 43.21875 41.609375 39.140625 45 \nQ 35.0625 48.390625 27.6875 48.390625 \nQ 23 48.390625 18.546875 47.265625 \nQ 14.109375 46.140625 10.015625 43.890625 \nL 10.015625 52.203125 \nQ 14.9375 54.109375 19.578125 55.046875 \nQ 24.21875 56 28.609375 56 \nQ 40.484375 56 46.34375 49.84375 \nQ 52.203125 43.703125 52.203125 31.203125 \nz\n\" id=\"DejaVuSans-97\"/>\n        <path d=\"M 41.109375 46.296875 \nQ 39.59375 47.171875 37.8125 47.578125 \nQ 36.03125 48 33.890625 48 \nQ 26.265625 48 22.1875 43.046875 \nQ 18.109375 38.09375 18.109375 28.8125 \nL 18.109375 0 \nL 9.078125 0 \nL 9.078125 54.6875 \nL 18.109375 54.6875 \nL 18.109375 46.1875 \nQ 20.953125 51.171875 25.484375 53.578125 \nQ 30.03125 56 36.53125 56 \nQ 37.453125 56 38.578125 55.875 \nQ 39.703125 55.765625 41.0625 55.515625 \nz\n\" id=\"DejaVuSans-114\"/>\n        <path d=\"M 45.40625 46.390625 \nL 45.40625 75.984375 \nL 54.390625 75.984375 \nL 54.390625 0 \nL 45.40625 0 \nL 45.40625 8.203125 \nQ 42.578125 3.328125 38.25 0.953125 \nQ 33.9375 -1.421875 27.875 -1.421875 \nQ 17.96875 -1.421875 11.734375 6.484375 \nQ 5.515625 14.40625 5.515625 27.296875 \nQ 5.515625 40.1875 11.734375 48.09375 \nQ 17.96875 56 27.875 56 \nQ 33.9375 56 38.25 53.625 \nQ 42.578125 51.265625 45.40625 46.390625 \nz\nM 14.796875 27.296875 \nQ 14.796875 17.390625 18.875 11.75 \nQ 22.953125 6.109375 30.078125 6.109375 \nQ 37.203125 6.109375 41.296875 11.75 \nQ 45.40625 17.390625 45.40625 27.296875 \nQ 45.40625 37.203125 41.296875 42.84375 \nQ 37.203125 48.484375 30.078125 48.484375 \nQ 22.953125 48.484375 18.875 42.84375 \nQ 14.796875 37.203125 14.796875 27.296875 \nz\n\" id=\"DejaVuSans-100\"/>\n       </defs>\n       <use xlink:href=\"#DejaVuSans-105\"/>\n       <use x=\"27.783203\" xlink:href=\"#DejaVuSans-115\"/>\n       <use x=\"79.882812\" xlink:href=\"#DejaVuSans-95\"/>\n       <use x=\"129.882812\" xlink:href=\"#DejaVuSans-109\"/>\n       <use x=\"227.294922\" xlink:href=\"#DejaVuSans-97\"/>\n       <use x=\"288.574219\" xlink:href=\"#DejaVuSans-114\"/>\n       <use x=\"327.9375\" xlink:href=\"#DejaVuSans-114\"/>\n       <use x=\"369.050781\" xlink:href=\"#DejaVuSans-105\"/>\n       <use x=\"396.833984\" xlink:href=\"#DejaVuSans-101\"/>\n       <use x=\"458.357422\" xlink:href=\"#DejaVuSans-100\"/>\n      </g>\n     </g>\n    </g>\n    <g id=\"ytick_3\">\n     <g id=\"line2d_8\">\n      <g>\n       <use style=\"stroke:#000000;stroke-width:0.8;\" x=\"96.042188\" xlink:href=\"#m4428ac5ffc\" y=\"189.957188\"/>\n      </g>\n     </g>\n     <g id=\"text_8\">\n      <!-- fin_assets_30 -->\n      <g transform=\"translate(21.851563 193.756406)scale(0.1 -0.1)\">\n       <defs>\n        <path d=\"M 37.109375 75.984375 \nL 37.109375 68.5 \nL 28.515625 68.5 \nQ 23.6875 68.5 21.796875 66.546875 \nQ 19.921875 64.59375 19.921875 59.515625 \nL 19.921875 54.6875 \nL 34.71875 54.6875 \nL 34.71875 47.703125 \nL 19.921875 47.703125 \nL 19.921875 0 \nL 10.890625 0 \nL 10.890625 47.703125 \nL 2.296875 47.703125 \nL 2.296875 54.6875 \nL 10.890625 54.6875 \nL 10.890625 58.5 \nQ 10.890625 67.625 15.140625 71.796875 \nQ 19.390625 75.984375 28.609375 75.984375 \nz\n\" id=\"DejaVuSans-102\"/>\n        <path d=\"M 18.3125 70.21875 \nL 18.3125 54.6875 \nL 36.8125 54.6875 \nL 36.8125 47.703125 \nL 18.3125 47.703125 \nL 18.3125 18.015625 \nQ 18.3125 11.328125 20.140625 9.421875 \nQ 21.96875 7.515625 27.59375 7.515625 \nL 36.8125 7.515625 \nL 36.8125 0 \nL 27.59375 0 \nQ 17.1875 0 13.234375 3.875 \nQ 9.28125 7.765625 9.28125 18.015625 \nL 9.28125 47.703125 \nL 2.6875 47.703125 \nL 2.6875 54.6875 \nL 9.28125 54.6875 \nL 9.28125 70.21875 \nz\n\" id=\"DejaVuSans-116\"/>\n        <path d=\"M 40.578125 39.3125 \nQ 47.65625 37.796875 51.625 33 \nQ 55.609375 28.21875 55.609375 21.1875 \nQ 55.609375 10.40625 48.1875 4.484375 \nQ 40.765625 -1.421875 27.09375 -1.421875 \nQ 22.515625 -1.421875 17.65625 -0.515625 \nQ 12.796875 0.390625 7.625 2.203125 \nL 7.625 11.71875 \nQ 11.71875 9.328125 16.59375 8.109375 \nQ 21.484375 6.890625 26.8125 6.890625 \nQ 36.078125 6.890625 40.9375 10.546875 \nQ 45.796875 14.203125 45.796875 21.1875 \nQ 45.796875 27.640625 41.28125 31.265625 \nQ 36.765625 34.90625 28.71875 34.90625 \nL 20.21875 34.90625 \nL 20.21875 43.015625 \nL 29.109375 43.015625 \nQ 36.375 43.015625 40.234375 45.921875 \nQ 44.09375 48.828125 44.09375 54.296875 \nQ 44.09375 59.90625 40.109375 62.90625 \nQ 36.140625 65.921875 28.71875 65.921875 \nQ 24.65625 65.921875 20.015625 65.03125 \nQ 15.375 64.15625 9.8125 62.3125 \nL 9.8125 71.09375 \nQ 15.4375 72.65625 20.34375 73.4375 \nQ 25.25 74.21875 29.59375 74.21875 \nQ 40.828125 74.21875 47.359375 69.109375 \nQ 53.90625 64.015625 53.90625 55.328125 \nQ 53.90625 49.265625 50.4375 45.09375 \nQ 46.96875 40.921875 40.578125 39.3125 \nz\n\" id=\"DejaVuSans-51\"/>\n       </defs>\n       <use xlink:href=\"#DejaVuSans-102\"/>\n       <use x=\"35.205078\" xlink:href=\"#DejaVuSans-105\"/>\n       <use x=\"62.988281\" xlink:href=\"#DejaVuSans-110\"/>\n       <use x=\"126.367188\" xlink:href=\"#DejaVuSans-95\"/>\n       <use x=\"176.367188\" xlink:href=\"#DejaVuSans-97\"/>\n       <use x=\"237.646484\" xlink:href=\"#DejaVuSans-115\"/>\n       <use x=\"289.746094\" xlink:href=\"#DejaVuSans-115\"/>\n       <use x=\"341.845703\" xlink:href=\"#DejaVuSans-101\"/>\n       <use x=\"403.369141\" xlink:href=\"#DejaVuSans-116\"/>\n       <use x=\"442.578125\" xlink:href=\"#DejaVuSans-115\"/>\n       <use x=\"494.677734\" xlink:href=\"#DejaVuSans-95\"/>\n       <use x=\"544.677734\" xlink:href=\"#DejaVuSans-51\"/>\n       <use x=\"608.300781\" xlink:href=\"#DejaVuSans-48\"/>\n      </g>\n     </g>\n    </g>\n    <g id=\"ytick_4\">\n     <g id=\"line2d_9\">\n      <g>\n       <use style=\"stroke:#000000;stroke-width:0.8;\" x=\"96.042188\" xlink:href=\"#m4428ac5ffc\" y=\"128.18446\"/>\n      </g>\n     </g>\n     <g id=\"text_9\">\n      <!-- Bachelors -->\n      <g transform=\"translate(39.846875 131.983679)scale(0.1 -0.1)\">\n       <defs>\n        <path d=\"M 19.671875 34.8125 \nL 19.671875 8.109375 \nL 35.5 8.109375 \nQ 43.453125 8.109375 47.28125 11.40625 \nQ 51.125 14.703125 51.125 21.484375 \nQ 51.125 28.328125 47.28125 31.5625 \nQ 43.453125 34.8125 35.5 34.8125 \nz\nM 19.671875 64.796875 \nL 19.671875 42.828125 \nL 34.28125 42.828125 \nQ 41.5 42.828125 45.03125 45.53125 \nQ 48.578125 48.25 48.578125 53.8125 \nQ 48.578125 59.328125 45.03125 62.0625 \nQ 41.5 64.796875 34.28125 64.796875 \nz\nM 9.8125 72.90625 \nL 35.015625 72.90625 \nQ 46.296875 72.90625 52.390625 68.21875 \nQ 58.5 63.53125 58.5 54.890625 \nQ 58.5 48.1875 55.375 44.234375 \nQ 52.25 40.28125 46.1875 39.3125 \nQ 53.46875 37.75 57.5 32.78125 \nQ 61.53125 27.828125 61.53125 20.40625 \nQ 61.53125 10.640625 54.890625 5.3125 \nQ 48.25 0 35.984375 0 \nL 9.8125 0 \nz\n\" id=\"DejaVuSans-66\"/>\n        <path d=\"M 54.890625 33.015625 \nL 54.890625 0 \nL 45.90625 0 \nL 45.90625 32.71875 \nQ 45.90625 40.484375 42.875 44.328125 \nQ 39.84375 48.1875 33.796875 48.1875 \nQ 26.515625 48.1875 22.3125 43.546875 \nQ 18.109375 38.921875 18.109375 30.90625 \nL 18.109375 0 \nL 9.078125 0 \nL 9.078125 75.984375 \nL 18.109375 75.984375 \nL 18.109375 46.1875 \nQ 21.34375 51.125 25.703125 53.5625 \nQ 30.078125 56 35.796875 56 \nQ 45.21875 56 50.046875 50.171875 \nQ 54.890625 44.34375 54.890625 33.015625 \nz\n\" id=\"DejaVuSans-104\"/>\n        <path d=\"M 9.421875 75.984375 \nL 18.40625 75.984375 \nL 18.40625 0 \nL 9.421875 0 \nz\n\" id=\"DejaVuSans-108\"/>\n       </defs>\n       <use xlink:href=\"#DejaVuSans-66\"/>\n       <use x=\"68.603516\" xlink:href=\"#DejaVuSans-97\"/>\n       <use x=\"129.882812\" xlink:href=\"#DejaVuSans-99\"/>\n       <use x=\"184.863281\" xlink:href=\"#DejaVuSans-104\"/>\n       <use x=\"248.242188\" xlink:href=\"#DejaVuSans-101\"/>\n       <use x=\"309.765625\" xlink:href=\"#DejaVuSans-108\"/>\n       <use x=\"337.548828\" xlink:href=\"#DejaVuSans-111\"/>\n       <use x=\"398.730469\" xlink:href=\"#DejaVuSans-114\"/>\n       <use x=\"439.84375\" xlink:href=\"#DejaVuSans-115\"/>\n      </g>\n     </g>\n    </g>\n    <g id=\"ytick_5\">\n     <g id=\"line2d_10\">\n      <g>\n       <use style=\"stroke:#000000;stroke-width:0.8;\" x=\"96.042188\" xlink:href=\"#m4428ac5ffc\" y=\"66.411733\"/>\n      </g>\n     </g>\n     <g id=\"text_10\">\n      <!-- is_black -->\n      <g transform=\"translate(49.510938 70.210952)scale(0.1 -0.1)\">\n       <defs>\n        <path d=\"M 48.6875 27.296875 \nQ 48.6875 37.203125 44.609375 42.84375 \nQ 40.53125 48.484375 33.40625 48.484375 \nQ 26.265625 48.484375 22.1875 42.84375 \nQ 18.109375 37.203125 18.109375 27.296875 \nQ 18.109375 17.390625 22.1875 11.75 \nQ 26.265625 6.109375 33.40625 6.109375 \nQ 40.53125 6.109375 44.609375 11.75 \nQ 48.6875 17.390625 48.6875 27.296875 \nz\nM 18.109375 46.390625 \nQ 20.953125 51.265625 25.265625 53.625 \nQ 29.59375 56 35.59375 56 \nQ 45.5625 56 51.78125 48.09375 \nQ 58.015625 40.1875 58.015625 27.296875 \nQ 58.015625 14.40625 51.78125 6.484375 \nQ 45.5625 -1.421875 35.59375 -1.421875 \nQ 29.59375 -1.421875 25.265625 0.953125 \nQ 20.953125 3.328125 18.109375 8.203125 \nL 18.109375 0 \nL 9.078125 0 \nL 9.078125 75.984375 \nL 18.109375 75.984375 \nz\n\" id=\"DejaVuSans-98\"/>\n        <path d=\"M 9.078125 75.984375 \nL 18.109375 75.984375 \nL 18.109375 31.109375 \nL 44.921875 54.6875 \nL 56.390625 54.6875 \nL 27.390625 29.109375 \nL 57.625 0 \nL 45.90625 0 \nL 18.109375 26.703125 \nL 18.109375 0 \nL 9.078125 0 \nz\n\" id=\"DejaVuSans-107\"/>\n       </defs>\n       <use xlink:href=\"#DejaVuSans-105\"/>\n       <use x=\"27.783203\" xlink:href=\"#DejaVuSans-115\"/>\n       <use x=\"79.882812\" xlink:href=\"#DejaVuSans-95\"/>\n       <use x=\"129.882812\" xlink:href=\"#DejaVuSans-98\"/>\n       <use x=\"193.359375\" xlink:href=\"#DejaVuSans-108\"/>\n       <use x=\"221.142578\" xlink:href=\"#DejaVuSans-97\"/>\n       <use x=\"282.421875\" xlink:href=\"#DejaVuSans-99\"/>\n       <use x=\"337.402344\" xlink:href=\"#DejaVuSans-107\"/>\n      </g>\n     </g>\n    </g>\n   </g>\n   <g id=\"patch_8\">\n    <path d=\"M 96.042188 353.037188 \nL 96.042188 26.877187 \n\" style=\"fill:none;stroke:#000000;stroke-linecap:square;stroke-linejoin:miter;stroke-width:0.8;\"/>\n   </g>\n   <g id=\"patch_9\">\n    <path d=\"M 1212.042187 353.037188 \nL 1212.042187 26.877187 \n\" style=\"fill:none;stroke:#000000;stroke-linecap:square;stroke-linejoin:miter;stroke-width:0.8;\"/>\n   </g>\n   <g id=\"patch_10\">\n    <path d=\"M 96.042188 353.037188 \nL 1212.042188 353.037188 \n\" style=\"fill:none;stroke:#000000;stroke-linecap:square;stroke-linejoin:miter;stroke-width:0.8;\"/>\n   </g>\n   <g id=\"patch_11\">\n    <path d=\"M 96.042188 26.877187 \nL 1212.042188 26.877187 \n\" style=\"fill:none;stroke:#000000;stroke-linecap:square;stroke-linejoin:miter;stroke-width:0.8;\"/>\n   </g>\n   <g id=\"text_11\">\n    <!-- Top 5 Coefficients -->\n    <g transform=\"translate(574.334531 20.877187)scale(0.18 -0.18)\">\n     <defs>\n      <path d=\"M -0.296875 72.90625 \nL 61.375 72.90625 \nL 61.375 64.59375 \nL 35.5 64.59375 \nL 35.5 0 \nL 25.59375 0 \nL 25.59375 64.59375 \nL -0.296875 64.59375 \nz\n\" id=\"DejaVuSans-84\"/>\n      <path d=\"M 18.109375 8.203125 \nL 18.109375 -20.796875 \nL 9.078125 -20.796875 \nL 9.078125 54.6875 \nL 18.109375 54.6875 \nL 18.109375 46.390625 \nQ 20.953125 51.265625 25.265625 53.625 \nQ 29.59375 56 35.59375 56 \nQ 45.5625 56 51.78125 48.09375 \nQ 58.015625 40.1875 58.015625 27.296875 \nQ 58.015625 14.40625 51.78125 6.484375 \nQ 45.5625 -1.421875 35.59375 -1.421875 \nQ 29.59375 -1.421875 25.265625 0.953125 \nQ 20.953125 3.328125 18.109375 8.203125 \nz\nM 48.6875 27.296875 \nQ 48.6875 37.203125 44.609375 42.84375 \nQ 40.53125 48.484375 33.40625 48.484375 \nQ 26.265625 48.484375 22.1875 42.84375 \nQ 18.109375 37.203125 18.109375 27.296875 \nQ 18.109375 17.390625 22.1875 11.75 \nQ 26.265625 6.109375 33.40625 6.109375 \nQ 40.53125 6.109375 44.609375 11.75 \nQ 48.6875 17.390625 48.6875 27.296875 \nz\n\" id=\"DejaVuSans-112\"/>\n      <path id=\"DejaVuSans-32\"/>\n      <path d=\"M 10.796875 72.90625 \nL 49.515625 72.90625 \nL 49.515625 64.59375 \nL 19.828125 64.59375 \nL 19.828125 46.734375 \nQ 21.96875 47.46875 24.109375 47.828125 \nQ 26.265625 48.1875 28.421875 48.1875 \nQ 40.625 48.1875 47.75 41.5 \nQ 54.890625 34.8125 54.890625 23.390625 \nQ 54.890625 11.625 47.5625 5.09375 \nQ 40.234375 -1.421875 26.90625 -1.421875 \nQ 22.3125 -1.421875 17.546875 -0.640625 \nQ 12.796875 0.140625 7.71875 1.703125 \nL 7.71875 11.625 \nQ 12.109375 9.234375 16.796875 8.0625 \nQ 21.484375 6.890625 26.703125 6.890625 \nQ 35.15625 6.890625 40.078125 11.328125 \nQ 45.015625 15.765625 45.015625 23.390625 \nQ 45.015625 31 40.078125 35.4375 \nQ 35.15625 39.890625 26.703125 39.890625 \nQ 22.75 39.890625 18.8125 39.015625 \nQ 14.890625 38.140625 10.796875 36.28125 \nz\n\" id=\"DejaVuSans-53\"/>\n      <path d=\"M 64.40625 67.28125 \nL 64.40625 56.890625 \nQ 59.421875 61.53125 53.78125 63.8125 \nQ 48.140625 66.109375 41.796875 66.109375 \nQ 29.296875 66.109375 22.65625 58.46875 \nQ 16.015625 50.828125 16.015625 36.375 \nQ 16.015625 21.96875 22.65625 14.328125 \nQ 29.296875 6.6875 41.796875 6.6875 \nQ 48.140625 6.6875 53.78125 8.984375 \nQ 59.421875 11.28125 64.40625 15.921875 \nL 64.40625 5.609375 \nQ 59.234375 2.09375 53.4375 0.328125 \nQ 47.65625 -1.421875 41.21875 -1.421875 \nQ 24.65625 -1.421875 15.125 8.703125 \nQ 5.609375 18.84375 5.609375 36.375 \nQ 5.609375 53.953125 15.125 64.078125 \nQ 24.65625 74.21875 41.21875 74.21875 \nQ 47.75 74.21875 53.53125 72.484375 \nQ 59.328125 70.75 64.40625 67.28125 \nz\n\" id=\"DejaVuSans-67\"/>\n     </defs>\n     <use xlink:href=\"#DejaVuSans-84\"/>\n     <use x=\"44.083984\" xlink:href=\"#DejaVuSans-111\"/>\n     <use x=\"105.265625\" xlink:href=\"#DejaVuSans-112\"/>\n     <use x=\"168.742188\" xlink:href=\"#DejaVuSans-32\"/>\n     <use x=\"200.529297\" xlink:href=\"#DejaVuSans-53\"/>\n     <use x=\"264.152344\" xlink:href=\"#DejaVuSans-32\"/>\n     <use x=\"295.939453\" xlink:href=\"#DejaVuSans-67\"/>\n     <use x=\"365.763672\" xlink:href=\"#DejaVuSans-111\"/>\n     <use x=\"426.945312\" xlink:href=\"#DejaVuSans-101\"/>\n     <use x=\"488.46875\" xlink:href=\"#DejaVuSans-102\"/>\n     <use x=\"523.673828\" xlink:href=\"#DejaVuSans-102\"/>\n     <use x=\"558.878906\" xlink:href=\"#DejaVuSans-105\"/>\n     <use x=\"586.662109\" xlink:href=\"#DejaVuSans-99\"/>\n     <use x=\"641.642578\" xlink:href=\"#DejaVuSans-105\"/>\n     <use x=\"669.425781\" xlink:href=\"#DejaVuSans-101\"/>\n     <use x=\"730.949219\" xlink:href=\"#DejaVuSans-110\"/>\n     <use x=\"794.328125\" xlink:href=\"#DejaVuSans-116\"/>\n     <use x=\"833.537109\" xlink:href=\"#DejaVuSans-115\"/>\n    </g>\n   </g>\n  </g>\n </g>\n <defs>\n  <clipPath id=\"p175bacfb4c\">\n   <rect height=\"326.16\" width=\"1116\" x=\"96.042188\" y=\"26.877187\"/>\n  </clipPath>\n </defs>\n</svg>\n",
      "image/png": "[encoded data removed]"
     },
     "metadata": {
      "needs_background": "light"
     }
    }
   ],
   "source": [
    "plt.figure(figsize = (20,6))\n",
    "plt.barh(features['Feature'][0:5], width = features['Coefficient'][0:5], align = 'center')\n",
    "plt.title('Top 5 Coefficients', fontsize = 18);"
   ]
  },
  {
   "source": [
    "### Testing and visualization"
   ],
   "cell_type": "markdown",
   "metadata": {}
  },
  {
   "cell_type": "code",
   "execution_count": 582,
   "metadata": {},
   "outputs": [],
   "source": [
    "#set X and Y\n",
    "#final dataframe and features\n",
    "features = ['birth_year', 'poverty',\n",
    "       'child_at_home', 'fin_assets_30', 'debts_30', 'moves_since_12',\n",
    "       'fin_mobility', 'bus_income','is_male', \n",
    "       'is_black', 'is_hispanic', 'is_mixed', 'is_married', 'is_cohab', 'is_metro', \n",
    "       'is_central', 'childhood_owned', 'GED', 'High_School', 'Assc_College', \n",
    "       'Bachelors', 'Masters', 'PhD', 'Med_Law', 'total_income']\n",
    "\n",
    "X = df.loc[:, features]\n",
    "y = df['homeowner_perm']"
   ]
  },
  {
   "cell_type": "code",
   "execution_count": 583,
   "metadata": {},
   "outputs": [],
   "source": [
    "#split into train-val and test, making sure to stratify y\n",
    "X_train_val, X_test, y_train_val, y_test = train_test_split(X, y, stratify = y, test_size=0.2, random_state=7)"
   ]
  },
  {
   "cell_type": "code",
   "execution_count": 584,
   "metadata": {},
   "outputs": [
    {
     "output_type": "stream",
     "name": "stdout",
     "text": [
      "Accuracy: 0.7137\nTrain/Test ratio: 1.0119\nAUC: 0.7771\nPrecision: 0.5342\nRECALL: 0.7257\n"
     ]
    }
   ],
   "source": [
    "final_model = LogisticRegression(penalty='l1', C=0.4,solver='liblinear', class_weight='balanced')\n",
    "\n",
    "#Scale data\n",
    "ss = StandardScaler()\n",
    "#fit transform X train_val\n",
    "X_train_val_scaled = ss.fit_transform(X_train_val)\n",
    "#transform X test\n",
    "X_test_scaled = ss.transform(X_test)\n",
    "#fit model\n",
    "final_model.fit(X_train_val_scaled, y_train_val)\n",
    "#make prediction \n",
    "y_pred = final_model.predict(X_test_scaled)\n",
    "y_pred_prob = final_model.predict_proba(X_test_scaled)[:,1]\n",
    "\n",
    "#get accuracy scores for train_val and test\n",
    "acc_train = final_model.score(X_train_val_scaled, y_train_val)\n",
    "acc_test = final_model.score(X_test_scaled, y_test)\n",
    "\n",
    "#get scores on precision, recall, and auc\n",
    "auc_score = roc_auc_score(y_test, y_pred_prob)\n",
    "precision = precision_score(y_test, y_pred)\n",
    "recall = recall_score(y_test, y_pred)\n",
    "\n",
    "\n",
    "#print our accuracy score, our train/test ratio precision, and recall, and auc score\n",
    "print(f'Accuracy: {acc_test:.4f}')\n",
    "print(f'Train/Test ratio: {(acc_train)/(acc_test):.4f}')\n",
    "\n",
    "print(f'AUC: {auc_score:.4f}')\n",
    "print(f'Precision: {precision:.4f}')\n",
    "print(f'RECALL: {recall:.4f}')\n",
    "\n",
    "\n"
   ]
  },
  {
   "source": [
    "Our final test scores look great! <br/>  Let's plot out our confusion matrix:"
   ],
   "cell_type": "markdown",
   "metadata": {}
  },
  {
   "cell_type": "code",
   "execution_count": 601,
   "metadata": {},
   "outputs": [
    {
     "output_type": "execute_result",
     "data": {
      "text/plain": [
       "array([[367, 147],\n",
       "       [ 65, 172]])"
      ]
     },
     "metadata": {},
     "execution_count": 601
    }
   ],
   "source": [
    "from sklearn.metrics import confusion_matrix\n",
    "cf_matrix = confusion_matrix(y_test, y_pred)\n",
    "cf_matrix"
   ]
  },
  {
   "cell_type": "code",
   "execution_count": 607,
   "metadata": {},
   "outputs": [
    {
     "output_type": "display_data",
     "data": {
      "text/plain": "<Figure size 504x504 with 2 Axes>",
      "image/svg+xml": "<?xml version=\"1.0\" encoding=\"utf-8\" standalone=\"no\"?>\n<!DOCTYPE svg PUBLIC \"-//W3C//DTD SVG 1.1//EN\"\n  \"http://www.w3.org/Graphics/SVG/1.1/DTD/svg11.dtd\">\n<!-- Created with matplotlib (https://matplotlib.org/) -->\n<svg height=\"496.8pt\" version=\"1.1\" viewBox=\"0 0 478.419375 496.8\" width=\"478.419375pt\" xmlns=\"http://www.w3.org/2000/svg\" xmlns:xlink=\"http://www.w3.org/1999/xlink\">\n <metadata>\n  <rdf:RDF xmlns:cc=\"http://creativecommons.org/ns#\" xmlns:dc=\"http://purl.org/dc/elements/1.1/\" xmlns:rdf=\"http://www.w3.org/1999/02/22-rdf-syntax-ns#\">\n   <cc:Work>\n    <dc:type rdf:resource=\"http://purl.org/dc/dcmitype/StillImage\"/>\n    <dc:date>2020-10-27T22:24:01.809455</dc:date>\n    <dc:format>image/svg+xml</dc:format>\n    <dc:creator>\n     <cc:Agent>\n      <dc:title>Matplotlib v3.3.2, https://matplotlib.org/</dc:title>\n     </cc:Agent>\n    </dc:creator>\n   </cc:Work>\n  </rdf:RDF>\n </metadata>\n <defs>\n  <style type=\"text/css\">*{stroke-linecap:butt;stroke-linejoin:round;}</style>\n </defs>\n <g id=\"figure_1\">\n  <g id=\"patch_1\">\n   <path d=\"M 0 496.8 \nL 478.419375 496.8 \nL 478.419375 0 \nL 0 0 \nz\n\" style=\"fill:none;\"/>\n  </g>\n  <g id=\"axes_1\">\n   <g id=\"patch_2\">\n    <path d=\"M 34.240625 430.41 \nL 398.260625 430.41 \nL 398.260625 66.39 \nL 34.240625 66.39 \nz\n\" style=\"fill:#ffffff;\"/>\n   </g>\n   <g clip-path=\"url(#p01d9fe484e)\">\n    <image height=\"365\" id=\"image3b4ca947c3\" transform=\"scale(1 -1)translate(0 -365)\" width=\"365\" x=\"34.240625\" xlink:href=\"data:image/png;base64,\niVBORw0KGgoAAAANSUhEUgAAAW0AAAFtCAYAAADMATsiAAAFQUlEQVR4nO3WMRHCUAAFQUKFHHyhAjdUafGBBjxQUPxYoEjmzzG7Cl5185bPd4wT/Jn19Z49AQ5xnj0AgN+JNkCIaAOEiDZAiGgDhIg2QIhoA4SINkCIaAOEiDZAiGgDhIg2QIhoA4SINkCIaAOEiDZAiGgDhIg2QIhoA4SINkCIaAOEiDZAiGgDhIg2QIhoA4SINkCIaAOEiDZAiGgDhIg2QIhoA4SINkCIaAOEiDZAiGgDhIg2QIhoA4SINkCIaAOEiDZAiGgDhIg2QIhoA4SINkCIaAOEiDZAiGgDhIg2QIhoA4SINkCIaAOEiDZAiGgDhIg2QIhoA4SINkCIaAOEiDZAiGgDhIg2QIhoA4SINkCIaAOEiDZAiGgDhIg2QIhoA4SINkCIaAOEiDZAiGgDhIg2QIhoA4SINkCIaAOEiDZAiGgDhIg2QIhoA4SINkCIaAOEiDZAiGgDhIg2QIhoA4SINkCIaAOEiDZAiGgDhIg2QIhoA4SINkCIaAOEiDZAiGgDhIg2QIhoA4SINkCIaAOEiDZAiGgDhIg2QIhoA4SINkCIaAOEiDZAiGgDhIg2QIhoA4SINkCIaAOEiDZAiGgDhIg2QIhoA4SINkCIaAOEiDZAiGgDhIg2QIhoA4SINkCIaAOEiDZAiGgDhIg2QIhoA4SINkCIaAOEiDZAiGgDhIg2QIhoA4SINkCIaAOEiDZAiGgDhIg2QIhoA4SINkCIaAOEiDZAiGgDhIg2QIhoA4SINkCIaAOEiDZAiGgDhIg2QIhoA4SINkCIaAOEiDZAiGgDhIg2QIhoA4SINkCIaAOEiDZAiGgDhIg2QIhoA4SINkCIaAOEiDZAiGgDhIg2QIhoA4SINkCIaAOEiDZAiGgDhIg2QIhoA4SINkCIaAOEiDZAiGgDhIg2QIhoA4SINkDIcrnexuwRsLfn4z57AhzC0wYIEW2AENEGCBFtgBDRBggRbYAQ0QYIEW2AENEGCBFtgBDRBggRbYAQ0QYIEW2AENEGCBFtgBDRBggRbYAQ0QYIEW2AENEGCBFtgBDRBggRbYAQ0QYIEW2AENEGCBFtgBDRBggRbYAQ0QYIEW2AENEGCBFtgBDRBggRbYAQ0QYIEW2AENEGCBFtgBDRBggRbYAQ0QYIEW2AENEGCBFtgBDRBggRbYAQ0QYIEW2AENEGCBFtgBDRBggRbYAQ0QYIEW2AENEGCBFtgBDRBggRbYAQ0QYIEW2AENEGCBFtgBDRBggRbYAQ0QYIEW2AENEGCBFtgBDRBggRbYAQ0QYIEW2AENEGCBFtgBDRBggRbYAQ0QYIEW2AENEGCBFtgBDRBggRbYAQ0QYIEW2AENEGCBFtgBDRBggRbYAQ0QYIEW2AENEGCBFtgBDRBggRbYAQ0QYIEW2AENEGCBFtgBDRBggRbYAQ0QYIEW2AENEGCBFtgBDRBggRbYAQ0QYIEW2AENEGCBFtgBDRBggRbYAQ0QYIEW2AENEGCBFtgBDRBggRbYAQ0QYIEW2AENEGCBFtgBDRBggRbYAQ0QYIEW2AENEGCBFtgBDRBggRbYAQ0QYIEW2AENEGCBFtgBDRBggRbYAQ0QYIEW2AENEGCBFtgBDRBggRbYAQ0QYIEW2AENEGCBFtgBDRBggRbYAQ0QYIEW2AENEGCBFtgBDRBggRbYAQ0QYIEW2AENEGCBFtgBDRBggRbYAQ0QYIEW2AENEGCBFtgBDRBggRbYAQ0QYIEW2AENEGCBFtgBDRBggRbYAQ0QYIEW2AENEGCBFtgBDRBggRbYAQ0QYI2QDHvgyv6S156QAAAABJRU5ErkJggg==\" y=\"-65.41\"/>\n   </g>\n   <g id=\"matplotlib.axis_1\">\n    <g id=\"xtick_1\">\n     <g id=\"line2d_1\">\n      <defs>\n       <path d=\"M 0 0 \nL 0 3.5 \n\" id=\"ma450806604\" style=\"stroke:#000000;stroke-width:0.8;\"/>\n      </defs>\n      <g>\n       <use style=\"stroke:#000000;stroke-width:0.8;\" x=\"125.245625\" xlink:href=\"#ma450806604\" y=\"430.41\"/>\n      </g>\n     </g>\n     <g id=\"text_1\">\n      <!-- 0 -->\n      <g transform=\"translate(122.064375 445.008438)scale(0.1 -0.1)\">\n       <defs>\n        <path d=\"M 31.78125 66.40625 \nQ 24.171875 66.40625 20.328125 58.90625 \nQ 16.5 51.421875 16.5 36.375 \nQ 16.5 21.390625 20.328125 13.890625 \nQ 24.171875 6.390625 31.78125 6.390625 \nQ 39.453125 6.390625 43.28125 13.890625 \nQ 47.125 21.390625 47.125 36.375 \nQ 47.125 51.421875 43.28125 58.90625 \nQ 39.453125 66.40625 31.78125 66.40625 \nz\nM 31.78125 74.21875 \nQ 44.046875 74.21875 50.515625 64.515625 \nQ 56.984375 54.828125 56.984375 36.375 \nQ 56.984375 17.96875 50.515625 8.265625 \nQ 44.046875 -1.421875 31.78125 -1.421875 \nQ 19.53125 -1.421875 13.0625 8.265625 \nQ 6.59375 17.96875 6.59375 36.375 \nQ 6.59375 54.828125 13.0625 64.515625 \nQ 19.53125 74.21875 31.78125 74.21875 \nz\n\" id=\"DejaVuSans-48\"/>\n       </defs>\n       <use xlink:href=\"#DejaVuSans-48\"/>\n      </g>\n     </g>\n    </g>\n    <g id=\"xtick_2\">\n     <g id=\"line2d_2\">\n      <g>\n       <use style=\"stroke:#000000;stroke-width:0.8;\" x=\"307.255625\" xlink:href=\"#ma450806604\" y=\"430.41\"/>\n      </g>\n     </g>\n     <g id=\"text_2\">\n      <!-- 1 -->\n      <g transform=\"translate(304.074375 445.008438)scale(0.1 -0.1)\">\n       <defs>\n        <path d=\"M 12.40625 8.296875 \nL 28.515625 8.296875 \nL 28.515625 63.921875 \nL 10.984375 60.40625 \nL 10.984375 69.390625 \nL 28.421875 72.90625 \nL 38.28125 72.90625 \nL 38.28125 8.296875 \nL 54.390625 8.296875 \nL 54.390625 0 \nL 12.40625 0 \nz\n\" id=\"DejaVuSans-49\"/>\n       </defs>\n       <use xlink:href=\"#DejaVuSans-49\"/>\n      </g>\n     </g>\n    </g>\n    <g id=\"text_3\">\n     <!-- Predicted label -->\n     <g transform=\"translate(179.098281 458.686563)scale(0.1 -0.1)\">\n      <defs>\n       <path d=\"M 19.671875 64.796875 \nL 19.671875 37.40625 \nL 32.078125 37.40625 \nQ 38.96875 37.40625 42.71875 40.96875 \nQ 46.484375 44.53125 46.484375 51.125 \nQ 46.484375 57.671875 42.71875 61.234375 \nQ 38.96875 64.796875 32.078125 64.796875 \nz\nM 9.8125 72.90625 \nL 32.078125 72.90625 \nQ 44.34375 72.90625 50.609375 67.359375 \nQ 56.890625 61.8125 56.890625 51.125 \nQ 56.890625 40.328125 50.609375 34.8125 \nQ 44.34375 29.296875 32.078125 29.296875 \nL 19.671875 29.296875 \nL 19.671875 0 \nL 9.8125 0 \nz\n\" id=\"DejaVuSans-80\"/>\n       <path d=\"M 41.109375 46.296875 \nQ 39.59375 47.171875 37.8125 47.578125 \nQ 36.03125 48 33.890625 48 \nQ 26.265625 48 22.1875 43.046875 \nQ 18.109375 38.09375 18.109375 28.8125 \nL 18.109375 0 \nL 9.078125 0 \nL 9.078125 54.6875 \nL 18.109375 54.6875 \nL 18.109375 46.1875 \nQ 20.953125 51.171875 25.484375 53.578125 \nQ 30.03125 56 36.53125 56 \nQ 37.453125 56 38.578125 55.875 \nQ 39.703125 55.765625 41.0625 55.515625 \nz\n\" id=\"DejaVuSans-114\"/>\n       <path d=\"M 56.203125 29.59375 \nL 56.203125 25.203125 \nL 14.890625 25.203125 \nQ 15.484375 15.921875 20.484375 11.0625 \nQ 25.484375 6.203125 34.421875 6.203125 \nQ 39.59375 6.203125 44.453125 7.46875 \nQ 49.3125 8.734375 54.109375 11.28125 \nL 54.109375 2.78125 \nQ 49.265625 0.734375 44.1875 -0.34375 \nQ 39.109375 -1.421875 33.890625 -1.421875 \nQ 20.796875 -1.421875 13.15625 6.1875 \nQ 5.515625 13.8125 5.515625 26.8125 \nQ 5.515625 40.234375 12.765625 48.109375 \nQ 20.015625 56 32.328125 56 \nQ 43.359375 56 49.78125 48.890625 \nQ 56.203125 41.796875 56.203125 29.59375 \nz\nM 47.21875 32.234375 \nQ 47.125 39.59375 43.09375 43.984375 \nQ 39.0625 48.390625 32.421875 48.390625 \nQ 24.90625 48.390625 20.390625 44.140625 \nQ 15.875 39.890625 15.1875 32.171875 \nz\n\" id=\"DejaVuSans-101\"/>\n       <path d=\"M 45.40625 46.390625 \nL 45.40625 75.984375 \nL 54.390625 75.984375 \nL 54.390625 0 \nL 45.40625 0 \nL 45.40625 8.203125 \nQ 42.578125 3.328125 38.25 0.953125 \nQ 33.9375 -1.421875 27.875 -1.421875 \nQ 17.96875 -1.421875 11.734375 6.484375 \nQ 5.515625 14.40625 5.515625 27.296875 \nQ 5.515625 40.1875 11.734375 48.09375 \nQ 17.96875 56 27.875 56 \nQ 33.9375 56 38.25 53.625 \nQ 42.578125 51.265625 45.40625 46.390625 \nz\nM 14.796875 27.296875 \nQ 14.796875 17.390625 18.875 11.75 \nQ 22.953125 6.109375 30.078125 6.109375 \nQ 37.203125 6.109375 41.296875 11.75 \nQ 45.40625 17.390625 45.40625 27.296875 \nQ 45.40625 37.203125 41.296875 42.84375 \nQ 37.203125 48.484375 30.078125 48.484375 \nQ 22.953125 48.484375 18.875 42.84375 \nQ 14.796875 37.203125 14.796875 27.296875 \nz\n\" id=\"DejaVuSans-100\"/>\n       <path d=\"M 9.421875 54.6875 \nL 18.40625 54.6875 \nL 18.40625 0 \nL 9.421875 0 \nz\nM 9.421875 75.984375 \nL 18.40625 75.984375 \nL 18.40625 64.59375 \nL 9.421875 64.59375 \nz\n\" id=\"DejaVuSans-105\"/>\n       <path d=\"M 48.78125 52.59375 \nL 48.78125 44.1875 \nQ 44.96875 46.296875 41.140625 47.34375 \nQ 37.3125 48.390625 33.40625 48.390625 \nQ 24.65625 48.390625 19.8125 42.84375 \nQ 14.984375 37.3125 14.984375 27.296875 \nQ 14.984375 17.28125 19.8125 11.734375 \nQ 24.65625 6.203125 33.40625 6.203125 \nQ 37.3125 6.203125 41.140625 7.25 \nQ 44.96875 8.296875 48.78125 10.40625 \nL 48.78125 2.09375 \nQ 45.015625 0.34375 40.984375 -0.53125 \nQ 36.96875 -1.421875 32.421875 -1.421875 \nQ 20.0625 -1.421875 12.78125 6.34375 \nQ 5.515625 14.109375 5.515625 27.296875 \nQ 5.515625 40.671875 12.859375 48.328125 \nQ 20.21875 56 33.015625 56 \nQ 37.15625 56 41.109375 55.140625 \nQ 45.0625 54.296875 48.78125 52.59375 \nz\n\" id=\"DejaVuSans-99\"/>\n       <path d=\"M 18.3125 70.21875 \nL 18.3125 54.6875 \nL 36.8125 54.6875 \nL 36.8125 47.703125 \nL 18.3125 47.703125 \nL 18.3125 18.015625 \nQ 18.3125 11.328125 20.140625 9.421875 \nQ 21.96875 7.515625 27.59375 7.515625 \nL 36.8125 7.515625 \nL 36.8125 0 \nL 27.59375 0 \nQ 17.1875 0 13.234375 3.875 \nQ 9.28125 7.765625 9.28125 18.015625 \nL 9.28125 47.703125 \nL 2.6875 47.703125 \nL 2.6875 54.6875 \nL 9.28125 54.6875 \nL 9.28125 70.21875 \nz\n\" id=\"DejaVuSans-116\"/>\n       <path id=\"DejaVuSans-32\"/>\n       <path d=\"M 9.421875 75.984375 \nL 18.40625 75.984375 \nL 18.40625 0 \nL 9.421875 0 \nz\n\" id=\"DejaVuSans-108\"/>\n       <path d=\"M 34.28125 27.484375 \nQ 23.390625 27.484375 19.1875 25 \nQ 14.984375 22.515625 14.984375 16.5 \nQ 14.984375 11.71875 18.140625 8.90625 \nQ 21.296875 6.109375 26.703125 6.109375 \nQ 34.1875 6.109375 38.703125 11.40625 \nQ 43.21875 16.703125 43.21875 25.484375 \nL 43.21875 27.484375 \nz\nM 52.203125 31.203125 \nL 52.203125 0 \nL 43.21875 0 \nL 43.21875 8.296875 \nQ 40.140625 3.328125 35.546875 0.953125 \nQ 30.953125 -1.421875 24.3125 -1.421875 \nQ 15.921875 -1.421875 10.953125 3.296875 \nQ 6 8.015625 6 15.921875 \nQ 6 25.140625 12.171875 29.828125 \nQ 18.359375 34.515625 30.609375 34.515625 \nL 43.21875 34.515625 \nL 43.21875 35.40625 \nQ 43.21875 41.609375 39.140625 45 \nQ 35.0625 48.390625 27.6875 48.390625 \nQ 23 48.390625 18.546875 47.265625 \nQ 14.109375 46.140625 10.015625 43.890625 \nL 10.015625 52.203125 \nQ 14.9375 54.109375 19.578125 55.046875 \nQ 24.21875 56 28.609375 56 \nQ 40.484375 56 46.34375 49.84375 \nQ 52.203125 43.703125 52.203125 31.203125 \nz\n\" id=\"DejaVuSans-97\"/>\n       <path d=\"M 48.6875 27.296875 \nQ 48.6875 37.203125 44.609375 42.84375 \nQ 40.53125 48.484375 33.40625 48.484375 \nQ 26.265625 48.484375 22.1875 42.84375 \nQ 18.109375 37.203125 18.109375 27.296875 \nQ 18.109375 17.390625 22.1875 11.75 \nQ 26.265625 6.109375 33.40625 6.109375 \nQ 40.53125 6.109375 44.609375 11.75 \nQ 48.6875 17.390625 48.6875 27.296875 \nz\nM 18.109375 46.390625 \nQ 20.953125 51.265625 25.265625 53.625 \nQ 29.59375 56 35.59375 56 \nQ 45.5625 56 51.78125 48.09375 \nQ 58.015625 40.1875 58.015625 27.296875 \nQ 58.015625 14.40625 51.78125 6.484375 \nQ 45.5625 -1.421875 35.59375 -1.421875 \nQ 29.59375 -1.421875 25.265625 0.953125 \nQ 20.953125 3.328125 18.109375 8.203125 \nL 18.109375 0 \nL 9.078125 0 \nL 9.078125 75.984375 \nL 18.109375 75.984375 \nz\n\" id=\"DejaVuSans-98\"/>\n      </defs>\n      <use xlink:href=\"#DejaVuSans-80\"/>\n      <use x=\"58.552734\" xlink:href=\"#DejaVuSans-114\"/>\n      <use x=\"97.416016\" xlink:href=\"#DejaVuSans-101\"/>\n      <use x=\"158.939453\" xlink:href=\"#DejaVuSans-100\"/>\n      <use x=\"222.416016\" xlink:href=\"#DejaVuSans-105\"/>\n      <use x=\"250.199219\" xlink:href=\"#DejaVuSans-99\"/>\n      <use x=\"305.179688\" xlink:href=\"#DejaVuSans-116\"/>\n      <use x=\"344.388672\" xlink:href=\"#DejaVuSans-101\"/>\n      <use x=\"405.912109\" xlink:href=\"#DejaVuSans-100\"/>\n      <use x=\"469.388672\" xlink:href=\"#DejaVuSans-32\"/>\n      <use x=\"501.175781\" xlink:href=\"#DejaVuSans-108\"/>\n      <use x=\"528.958984\" xlink:href=\"#DejaVuSans-97\"/>\n      <use x=\"590.238281\" xlink:href=\"#DejaVuSans-98\"/>\n      <use x=\"653.714844\" xlink:href=\"#DejaVuSans-101\"/>\n      <use x=\"715.238281\" xlink:href=\"#DejaVuSans-108\"/>\n     </g>\n    </g>\n   </g>\n   <g id=\"matplotlib.axis_2\">\n    <g id=\"ytick_1\">\n     <g id=\"line2d_3\">\n      <defs>\n       <path d=\"M 0 0 \nL -3.5 0 \n\" id=\"m00aec3c987\" style=\"stroke:#000000;stroke-width:0.8;\"/>\n      </defs>\n      <g>\n       <use style=\"stroke:#000000;stroke-width:0.8;\" x=\"34.240625\" xlink:href=\"#m00aec3c987\" y=\"157.395\"/>\n      </g>\n     </g>\n     <g id=\"text_4\">\n      <!-- 0 -->\n      <g transform=\"translate(20.878125 161.194219)scale(0.1 -0.1)\">\n       <use xlink:href=\"#DejaVuSans-48\"/>\n      </g>\n     </g>\n    </g>\n    <g id=\"ytick_2\">\n     <g id=\"line2d_4\">\n      <g>\n       <use style=\"stroke:#000000;stroke-width:0.8;\" x=\"34.240625\" xlink:href=\"#m00aec3c987\" y=\"339.405\"/>\n      </g>\n     </g>\n     <g id=\"text_5\">\n      <!-- 1 -->\n      <g transform=\"translate(20.878125 343.204219)scale(0.1 -0.1)\">\n       <use xlink:href=\"#DejaVuSans-49\"/>\n      </g>\n     </g>\n    </g>\n    <g id=\"text_6\">\n     <!-- True label -->\n     <g transform=\"translate(14.798438 272.699219)rotate(-90)scale(0.1 -0.1)\">\n      <defs>\n       <path d=\"M -0.296875 72.90625 \nL 61.375 72.90625 \nL 61.375 64.59375 \nL 35.5 64.59375 \nL 35.5 0 \nL 25.59375 0 \nL 25.59375 64.59375 \nL -0.296875 64.59375 \nz\n\" id=\"DejaVuSans-84\"/>\n       <path d=\"M 8.5 21.578125 \nL 8.5 54.6875 \nL 17.484375 54.6875 \nL 17.484375 21.921875 \nQ 17.484375 14.15625 20.5 10.265625 \nQ 23.53125 6.390625 29.59375 6.390625 \nQ 36.859375 6.390625 41.078125 11.03125 \nQ 45.3125 15.671875 45.3125 23.6875 \nL 45.3125 54.6875 \nL 54.296875 54.6875 \nL 54.296875 0 \nL 45.3125 0 \nL 45.3125 8.40625 \nQ 42.046875 3.421875 37.71875 1 \nQ 33.40625 -1.421875 27.6875 -1.421875 \nQ 18.265625 -1.421875 13.375 4.4375 \nQ 8.5 10.296875 8.5 21.578125 \nz\nM 31.109375 56 \nz\n\" id=\"DejaVuSans-117\"/>\n      </defs>\n      <use xlink:href=\"#DejaVuSans-84\"/>\n      <use x=\"46.333984\" xlink:href=\"#DejaVuSans-114\"/>\n      <use x=\"87.447266\" xlink:href=\"#DejaVuSans-117\"/>\n      <use x=\"150.826172\" xlink:href=\"#DejaVuSans-101\"/>\n      <use x=\"212.349609\" xlink:href=\"#DejaVuSans-32\"/>\n      <use x=\"244.136719\" xlink:href=\"#DejaVuSans-108\"/>\n      <use x=\"271.919922\" xlink:href=\"#DejaVuSans-97\"/>\n      <use x=\"333.199219\" xlink:href=\"#DejaVuSans-98\"/>\n      <use x=\"396.675781\" xlink:href=\"#DejaVuSans-101\"/>\n      <use x=\"458.199219\" xlink:href=\"#DejaVuSans-108\"/>\n     </g>\n    </g>\n   </g>\n   <g id=\"patch_3\">\n    <path d=\"M 34.240625 430.41 \nL 34.240625 66.39 \n\" style=\"fill:none;stroke:#000000;stroke-linecap:square;stroke-linejoin:miter;stroke-width:0.8;\"/>\n   </g>\n   <g id=\"patch_4\">\n    <path d=\"M 398.260625 430.41 \nL 398.260625 66.39 \n\" style=\"fill:none;stroke:#000000;stroke-linecap:square;stroke-linejoin:miter;stroke-width:0.8;\"/>\n   </g>\n   <g id=\"patch_5\">\n    <path d=\"M 34.240625 430.41 \nL 398.260625 430.41 \n\" style=\"fill:none;stroke:#000000;stroke-linecap:square;stroke-linejoin:miter;stroke-width:0.8;\"/>\n   </g>\n   <g id=\"patch_6\">\n    <path d=\"M 34.240625 66.39 \nL 398.260625 66.39 \n\" style=\"fill:none;stroke:#000000;stroke-linecap:square;stroke-linejoin:miter;stroke-width:0.8;\"/>\n   </g>\n   <g id=\"text_7\">\n    <!-- 367 -->\n    <g style=\"fill:#f7fbff;\" transform=\"translate(115.701875 160.154375)scale(0.1 -0.1)\">\n     <defs>\n      <path d=\"M 40.578125 39.3125 \nQ 47.65625 37.796875 51.625 33 \nQ 55.609375 28.21875 55.609375 21.1875 \nQ 55.609375 10.40625 48.1875 4.484375 \nQ 40.765625 -1.421875 27.09375 -1.421875 \nQ 22.515625 -1.421875 17.65625 -0.515625 \nQ 12.796875 0.390625 7.625 2.203125 \nL 7.625 11.71875 \nQ 11.71875 9.328125 16.59375 8.109375 \nQ 21.484375 6.890625 26.8125 6.890625 \nQ 36.078125 6.890625 40.9375 10.546875 \nQ 45.796875 14.203125 45.796875 21.1875 \nQ 45.796875 27.640625 41.28125 31.265625 \nQ 36.765625 34.90625 28.71875 34.90625 \nL 20.21875 34.90625 \nL 20.21875 43.015625 \nL 29.109375 43.015625 \nQ 36.375 43.015625 40.234375 45.921875 \nQ 44.09375 48.828125 44.09375 54.296875 \nQ 44.09375 59.90625 40.109375 62.90625 \nQ 36.140625 65.921875 28.71875 65.921875 \nQ 24.65625 65.921875 20.015625 65.03125 \nQ 15.375 64.15625 9.8125 62.3125 \nL 9.8125 71.09375 \nQ 15.4375 72.65625 20.34375 73.4375 \nQ 25.25 74.21875 29.59375 74.21875 \nQ 40.828125 74.21875 47.359375 69.109375 \nQ 53.90625 64.015625 53.90625 55.328125 \nQ 53.90625 49.265625 50.4375 45.09375 \nQ 46.96875 40.921875 40.578125 39.3125 \nz\n\" id=\"DejaVuSans-51\"/>\n      <path d=\"M 33.015625 40.375 \nQ 26.375 40.375 22.484375 35.828125 \nQ 18.609375 31.296875 18.609375 23.390625 \nQ 18.609375 15.53125 22.484375 10.953125 \nQ 26.375 6.390625 33.015625 6.390625 \nQ 39.65625 6.390625 43.53125 10.953125 \nQ 47.40625 15.53125 47.40625 23.390625 \nQ 47.40625 31.296875 43.53125 35.828125 \nQ 39.65625 40.375 33.015625 40.375 \nz\nM 52.59375 71.296875 \nL 52.59375 62.3125 \nQ 48.875 64.0625 45.09375 64.984375 \nQ 41.3125 65.921875 37.59375 65.921875 \nQ 27.828125 65.921875 22.671875 59.328125 \nQ 17.53125 52.734375 16.796875 39.40625 \nQ 19.671875 43.65625 24.015625 45.921875 \nQ 28.375 48.1875 33.59375 48.1875 \nQ 44.578125 48.1875 50.953125 41.515625 \nQ 57.328125 34.859375 57.328125 23.390625 \nQ 57.328125 12.15625 50.6875 5.359375 \nQ 44.046875 -1.421875 33.015625 -1.421875 \nQ 20.359375 -1.421875 13.671875 8.265625 \nQ 6.984375 17.96875 6.984375 36.375 \nQ 6.984375 53.65625 15.1875 63.9375 \nQ 23.390625 74.21875 37.203125 74.21875 \nQ 40.921875 74.21875 44.703125 73.484375 \nQ 48.484375 72.75 52.59375 71.296875 \nz\n\" id=\"DejaVuSans-54\"/>\n      <path d=\"M 8.203125 72.90625 \nL 55.078125 72.90625 \nL 55.078125 68.703125 \nL 28.609375 0 \nL 18.3125 0 \nL 43.21875 64.59375 \nL 8.203125 64.59375 \nz\n\" id=\"DejaVuSans-55\"/>\n     </defs>\n     <use xlink:href=\"#DejaVuSans-51\"/>\n     <use x=\"63.623047\" xlink:href=\"#DejaVuSans-54\"/>\n     <use x=\"127.246094\" xlink:href=\"#DejaVuSans-55\"/>\n    </g>\n   </g>\n   <g id=\"text_8\">\n    <!-- 147 -->\n    <g style=\"fill:#08306b;\" transform=\"translate(297.711875 160.154375)scale(0.1 -0.1)\">\n     <defs>\n      <path d=\"M 37.796875 64.3125 \nL 12.890625 25.390625 \nL 37.796875 25.390625 \nz\nM 35.203125 72.90625 \nL 47.609375 72.90625 \nL 47.609375 25.390625 \nL 58.015625 25.390625 \nL 58.015625 17.1875 \nL 47.609375 17.1875 \nL 47.609375 0 \nL 37.796875 0 \nL 37.796875 17.1875 \nL 4.890625 17.1875 \nL 4.890625 26.703125 \nz\n\" id=\"DejaVuSans-52\"/>\n     </defs>\n     <use xlink:href=\"#DejaVuSans-49\"/>\n     <use x=\"63.623047\" xlink:href=\"#DejaVuSans-52\"/>\n     <use x=\"127.246094\" xlink:href=\"#DejaVuSans-55\"/>\n    </g>\n   </g>\n   <g id=\"text_9\">\n    <!-- 65 -->\n    <g style=\"fill:#08306b;\" transform=\"translate(118.883125 342.164375)scale(0.1 -0.1)\">\n     <defs>\n      <path d=\"M 10.796875 72.90625 \nL 49.515625 72.90625 \nL 49.515625 64.59375 \nL 19.828125 64.59375 \nL 19.828125 46.734375 \nQ 21.96875 47.46875 24.109375 47.828125 \nQ 26.265625 48.1875 28.421875 48.1875 \nQ 40.625 48.1875 47.75 41.5 \nQ 54.890625 34.8125 54.890625 23.390625 \nQ 54.890625 11.625 47.5625 5.09375 \nQ 40.234375 -1.421875 26.90625 -1.421875 \nQ 22.3125 -1.421875 17.546875 -0.640625 \nQ 12.796875 0.140625 7.71875 1.703125 \nL 7.71875 11.625 \nQ 12.109375 9.234375 16.796875 8.0625 \nQ 21.484375 6.890625 26.703125 6.890625 \nQ 35.15625 6.890625 40.078125 11.328125 \nQ 45.015625 15.765625 45.015625 23.390625 \nQ 45.015625 31 40.078125 35.4375 \nQ 35.15625 39.890625 26.703125 39.890625 \nQ 22.75 39.890625 18.8125 39.015625 \nQ 14.890625 38.140625 10.796875 36.28125 \nz\n\" id=\"DejaVuSans-53\"/>\n     </defs>\n     <use xlink:href=\"#DejaVuSans-54\"/>\n     <use x=\"63.623047\" xlink:href=\"#DejaVuSans-53\"/>\n    </g>\n   </g>\n   <g id=\"text_10\">\n    <!-- 172 -->\n    <g style=\"fill:#08306b;\" transform=\"translate(297.711875 342.164375)scale(0.1 -0.1)\">\n     <defs>\n      <path d=\"M 19.1875 8.296875 \nL 53.609375 8.296875 \nL 53.609375 0 \nL 7.328125 0 \nL 7.328125 8.296875 \nQ 12.9375 14.109375 22.625 23.890625 \nQ 32.328125 33.6875 34.8125 36.53125 \nQ 39.546875 41.84375 41.421875 45.53125 \nQ 43.3125 49.21875 43.3125 52.78125 \nQ 43.3125 58.59375 39.234375 62.25 \nQ 35.15625 65.921875 28.609375 65.921875 \nQ 23.96875 65.921875 18.8125 64.3125 \nQ 13.671875 62.703125 7.8125 59.421875 \nL 7.8125 69.390625 \nQ 13.765625 71.78125 18.9375 73 \nQ 24.125 74.21875 28.421875 74.21875 \nQ 39.75 74.21875 46.484375 68.546875 \nQ 53.21875 62.890625 53.21875 53.421875 \nQ 53.21875 48.921875 51.53125 44.890625 \nQ 49.859375 40.875 45.40625 35.40625 \nQ 44.1875 33.984375 37.640625 27.21875 \nQ 31.109375 20.453125 19.1875 8.296875 \nz\n\" id=\"DejaVuSans-50\"/>\n     </defs>\n     <use xlink:href=\"#DejaVuSans-49\"/>\n     <use x=\"63.623047\" xlink:href=\"#DejaVuSans-55\"/>\n     <use x=\"127.246094\" xlink:href=\"#DejaVuSans-50\"/>\n    </g>\n   </g>\n  </g>\n  <g id=\"axes_2\">\n   <g id=\"patch_7\">\n    <path clip-path=\"url(#paa78eef12d)\" d=\"M 421.011875 489.6 \nL 421.011875 487.715625 \nL 421.011875 9.084375 \nL 421.011875 7.2 \nL 445.131875 7.2 \nL 445.131875 9.084375 \nL 445.131875 487.715625 \nL 445.131875 489.6 \nz\n\" style=\"fill:#ffffff;stroke:#ffffff;stroke-linejoin:miter;stroke-width:0.01;\"/>\n   </g>\n   <image height=\"483\" id=\"image4e349cfbfd\" transform=\"scale(1 -1)translate(0 -483)\" width=\"24\" x=\"421\" xlink:href=\"data:image/png;base64,\niVBORw0KGgoAAAANSUhEUgAAABgAAAHjCAYAAAA5Vd+WAAACM0lEQVR4nO2cQW7DQAwDt0X+/90eCsT9QcYXuiAx8wCrEkltbKf5+vm9rhPkO3nxc855Zf/+c17XyVbIjyjcwBMihwv02/QJDczBZ8wBYg5uFGgfUX+Bfg0G1vWCBlk8MhFzcKNA9vralNGmiOsaGdDgmAMskL3+wIhc18jEkZnFHCDmAOnPgTZFtCniukbMAWIObhQYGJE2/Uy/TV3XiDlAzAHiN6QQbYr029R1jZgDxBwg+W9IaVMi38E77FM1QFwVyBM5yBbo10CbItoUGdBgIAf1Hbx1EdCf5IERaVPC+wPkddXfo73DBdQAMQdcQJsSHjjIQNB8KEiYZCS+TQdWxUDQ1ADwoSCy4CLv9IH+HAysCkUm/GSHDGjQ30H/e7QBDTxwAEVGvMNBFjQIF9BFyBPrOlvAz6bIgAb9HQy4KFxADZCFQz/9wrp/RNqU6Lepr3uRgRz4sYXo30UDI9KmhOsaWTgyzQHQr4E2RbQpsnBk1r8sNQeEOUDy/0HRb1OPTKLfpmqAqAGiBogHDjIhcraAGiBqgKgB4rpGtCmiBogaIHaA6KI7BaLXf+KBVPixozZFXBWIGiBqgPR3sPCj5ooM2AEy0IFJJvo7GBiRNiXsALEDxCQjAxp44BDaFLEDxA4Qk4y4rhE7QAwaMqBBfwdnoIPsD6v0a+CIEG2KTHSgiz6jBoga3CngiD6jTRE1QB7ooP6bggMahDswaIjLDlEDRA0QNUD6NXBEiDb9/wJ/xLwcgvG0O6kAAAAASUVORK5CYII=\" y=\"-6\"/>\n   <g id=\"matplotlib.axis_3\"/>\n   <g id=\"matplotlib.axis_4\">\n    <g id=\"ytick_3\">\n     <g id=\"line2d_5\">\n      <defs>\n       <path d=\"M 0 0 \nL 3.5 0 \n\" id=\"m03f8e21f73\" style=\"stroke:#000000;stroke-width:0.8;\"/>\n      </defs>\n      <g>\n       <use style=\"stroke:#000000;stroke-width:0.8;\" x=\"445.131875\" xlink:href=\"#m03f8e21f73\" y=\"433.692715\"/>\n      </g>\n     </g>\n     <g id=\"text_11\">\n      <!-- 100 -->\n      <g transform=\"translate(452.131875 437.491934)scale(0.1 -0.1)\">\n       <use xlink:href=\"#DejaVuSans-49\"/>\n       <use x=\"63.623047\" xlink:href=\"#DejaVuSans-48\"/>\n       <use x=\"127.246094\" xlink:href=\"#DejaVuSans-48\"/>\n      </g>\n     </g>\n    </g>\n    <g id=\"ytick_4\">\n     <g id=\"line2d_6\">\n      <g>\n       <use style=\"stroke:#000000;stroke-width:0.8;\" x=\"445.131875\" xlink:href=\"#m03f8e21f73\" y=\"353.825166\"/>\n      </g>\n     </g>\n     <g id=\"text_12\">\n      <!-- 150 -->\n      <g transform=\"translate(452.131875 357.624384)scale(0.1 -0.1)\">\n       <use xlink:href=\"#DejaVuSans-49\"/>\n       <use x=\"63.623047\" xlink:href=\"#DejaVuSans-53\"/>\n       <use x=\"127.246094\" xlink:href=\"#DejaVuSans-48\"/>\n      </g>\n     </g>\n    </g>\n    <g id=\"ytick_5\">\n     <g id=\"line2d_7\">\n      <g>\n       <use style=\"stroke:#000000;stroke-width:0.8;\" x=\"445.131875\" xlink:href=\"#m03f8e21f73\" y=\"273.957616\"/>\n      </g>\n     </g>\n     <g id=\"text_13\">\n      <!-- 200 -->\n      <g transform=\"translate(452.131875 277.756835)scale(0.1 -0.1)\">\n       <use xlink:href=\"#DejaVuSans-50\"/>\n       <use x=\"63.623047\" xlink:href=\"#DejaVuSans-48\"/>\n       <use x=\"127.246094\" xlink:href=\"#DejaVuSans-48\"/>\n      </g>\n     </g>\n    </g>\n    <g id=\"ytick_6\">\n     <g id=\"line2d_8\">\n      <g>\n       <use style=\"stroke:#000000;stroke-width:0.8;\" x=\"445.131875\" xlink:href=\"#m03f8e21f73\" y=\"194.090066\"/>\n      </g>\n     </g>\n     <g id=\"text_14\">\n      <!-- 250 -->\n      <g transform=\"translate(452.131875 197.889285)scale(0.1 -0.1)\">\n       <use xlink:href=\"#DejaVuSans-50\"/>\n       <use x=\"63.623047\" xlink:href=\"#DejaVuSans-53\"/>\n       <use x=\"127.246094\" xlink:href=\"#DejaVuSans-48\"/>\n      </g>\n     </g>\n    </g>\n    <g id=\"ytick_7\">\n     <g id=\"line2d_9\">\n      <g>\n       <use style=\"stroke:#000000;stroke-width:0.8;\" x=\"445.131875\" xlink:href=\"#m03f8e21f73\" y=\"114.222517\"/>\n      </g>\n     </g>\n     <g id=\"text_15\">\n      <!-- 300 -->\n      <g transform=\"translate(452.131875 118.021735)scale(0.1 -0.1)\">\n       <use xlink:href=\"#DejaVuSans-51\"/>\n       <use x=\"63.623047\" xlink:href=\"#DejaVuSans-48\"/>\n       <use x=\"127.246094\" xlink:href=\"#DejaVuSans-48\"/>\n      </g>\n     </g>\n    </g>\n    <g id=\"ytick_8\">\n     <g id=\"line2d_10\">\n      <g>\n       <use style=\"stroke:#000000;stroke-width:0.8;\" x=\"445.131875\" xlink:href=\"#m03f8e21f73\" y=\"34.354967\"/>\n      </g>\n     </g>\n     <g id=\"text_16\">\n      <!-- 350 -->\n      <g transform=\"translate(452.131875 38.154186)scale(0.1 -0.1)\">\n       <use xlink:href=\"#DejaVuSans-51\"/>\n       <use x=\"63.623047\" xlink:href=\"#DejaVuSans-53\"/>\n       <use x=\"127.246094\" xlink:href=\"#DejaVuSans-48\"/>\n      </g>\n     </g>\n    </g>\n   </g>\n   <g id=\"patch_8\">\n    <path d=\"M 421.011875 489.6 \nL 421.011875 487.715625 \nL 421.011875 9.084375 \nL 421.011875 7.2 \nL 445.131875 7.2 \nL 445.131875 9.084375 \nL 445.131875 487.715625 \nL 445.131875 489.6 \nz\n\" style=\"fill:none;stroke:#000000;stroke-linejoin:miter;stroke-width:0.8;\"/>\n   </g>\n  </g>\n </g>\n <defs>\n  <clipPath id=\"p01d9fe484e\">\n   <rect height=\"364.02\" width=\"364.02\" x=\"34.240625\" y=\"66.39\"/>\n  </clipPath>\n  <clipPath id=\"paa78eef12d\">\n   <rect height=\"482.4\" width=\"24.12\" x=\"421.011875\" y=\"7.2\"/>\n  </clipPath>\n </defs>\n</svg>\n",
      "image/png": "[encoded data removed]"
     },
     "metadata": {
      "needs_background": "light"
     }
    }
   ],
   "source": [
    "fig, ax = plt.subplots(figsize=(7, 7))\n",
    "plot_confusion_matrix(final_model, X_test_scaled, y_test, ax=ax, cmap = 'Blues')\n",
    "plt.tight_layout()\n",
    "plt.savefig('confusion matrix.png', dpi=300);"
   ]
  },
  {
   "cell_type": "code",
   "execution_count": null,
   "metadata": {},
   "outputs": [],
   "source": []
  },
  {
   "source": [
    "### Precision v Recall"
   ],
   "cell_type": "markdown",
   "metadata": {}
  },
  {
   "source": [
    "Now let's plot our ROC curve:"
   ],
   "cell_type": "markdown",
   "metadata": {}
  },
  {
   "cell_type": "code",
   "execution_count": 585,
   "metadata": {},
   "outputs": [
    {
     "output_type": "display_data",
     "data": {
      "text/plain": "<Figure size 1080x1080 with 0 Axes>"
     },
     "metadata": {}
    },
    {
     "output_type": "display_data",
     "data": {
      "text/plain": "<Figure size 432x288 with 1 Axes>",
      "image/svg+xml": "<?xml version=\"1.0\" encoding=\"utf-8\" standalone=\"no\"?>\n<!DOCTYPE svg PUBLIC \"-//W3C//DTD SVG 1.1//EN\"\n  \"http://www.w3.org/Graphics/SVG/1.1/DTD/svg11.dtd\">\n<!-- Created with matplotlib (https://matplotlib.org/) -->\n<svg height=\"262.19625pt\" version=\"1.1\" viewBox=\"0 0 385.78125 262.19625\" width=\"385.78125pt\" xmlns=\"http://www.w3.org/2000/svg\" xmlns:xlink=\"http://www.w3.org/1999/xlink\">\n <metadata>\n  <rdf:RDF xmlns:cc=\"http://creativecommons.org/ns#\" xmlns:dc=\"http://purl.org/dc/elements/1.1/\" xmlns:rdf=\"http://www.w3.org/1999/02/22-rdf-syntax-ns#\">\n   <cc:Work>\n    <dc:type rdf:resource=\"http://purl.org/dc/dcmitype/StillImage\"/>\n    <dc:date>2020-10-27T19:13:54.738547</dc:date>\n    <dc:format>image/svg+xml</dc:format>\n    <dc:creator>\n     <cc:Agent>\n      <dc:title>Matplotlib v3.3.2, https://matplotlib.org/</dc:title>\n     </cc:Agent>\n    </dc:creator>\n   </cc:Work>\n  </rdf:RDF>\n </metadata>\n <defs>\n  <style type=\"text/css\">*{stroke-linecap:butt;stroke-linejoin:round;}</style>\n </defs>\n <g id=\"figure_1\">\n  <g id=\"patch_1\">\n   <path d=\"M 0 262.19625 \nL 385.78125 262.19625 \nL 385.78125 0 \nL 0 0 \nz\n\" style=\"fill:none;\"/>\n  </g>\n  <g id=\"axes_1\">\n   <g id=\"patch_2\">\n    <path d=\"M 43.78125 224.64 \nL 378.58125 224.64 \nL 378.58125 7.2 \nL 43.78125 7.2 \nz\n\" style=\"fill:#ffffff;\"/>\n   </g>\n   <g id=\"matplotlib.axis_1\">\n    <g id=\"xtick_1\">\n     <g id=\"line2d_1\">\n      <defs>\n       <path d=\"M 0 0 \nL 0 3.5 \n\" id=\"mfbdaa69987\" style=\"stroke:#000000;stroke-width:0.8;\"/>\n      </defs>\n      <g>\n       <use style=\"stroke:#000000;stroke-width:0.8;\" x=\"58.999432\" xlink:href=\"#mfbdaa69987\" y=\"224.64\"/>\n      </g>\n     </g>\n     <g id=\"text_1\">\n      <!-- 0.0 -->\n      <g transform=\"translate(51.047869 239.238437)scale(0.1 -0.1)\">\n       <defs>\n        <path d=\"M 31.78125 66.40625 \nQ 24.171875 66.40625 20.328125 58.90625 \nQ 16.5 51.421875 16.5 36.375 \nQ 16.5 21.390625 20.328125 13.890625 \nQ 24.171875 6.390625 31.78125 6.390625 \nQ 39.453125 6.390625 43.28125 13.890625 \nQ 47.125 21.390625 47.125 36.375 \nQ 47.125 51.421875 43.28125 58.90625 \nQ 39.453125 66.40625 31.78125 66.40625 \nz\nM 31.78125 74.21875 \nQ 44.046875 74.21875 50.515625 64.515625 \nQ 56.984375 54.828125 56.984375 36.375 \nQ 56.984375 17.96875 50.515625 8.265625 \nQ 44.046875 -1.421875 31.78125 -1.421875 \nQ 19.53125 -1.421875 13.0625 8.265625 \nQ 6.59375 17.96875 6.59375 36.375 \nQ 6.59375 54.828125 13.0625 64.515625 \nQ 19.53125 74.21875 31.78125 74.21875 \nz\n\" id=\"DejaVuSans-48\"/>\n        <path d=\"M 10.6875 12.40625 \nL 21 12.40625 \nL 21 0 \nL 10.6875 0 \nz\n\" id=\"DejaVuSans-46\"/>\n       </defs>\n       <use xlink:href=\"#DejaVuSans-48\"/>\n       <use x=\"63.623047\" xlink:href=\"#DejaVuSans-46\"/>\n       <use x=\"95.410156\" xlink:href=\"#DejaVuSans-48\"/>\n      </g>\n     </g>\n    </g>\n    <g id=\"xtick_2\">\n     <g id=\"line2d_2\">\n      <g>\n       <use style=\"stroke:#000000;stroke-width:0.8;\" x=\"119.872159\" xlink:href=\"#mfbdaa69987\" y=\"224.64\"/>\n      </g>\n     </g>\n     <g id=\"text_2\">\n      <!-- 0.2 -->\n      <g transform=\"translate(111.920597 239.238437)scale(0.1 -0.1)\">\n       <defs>\n        <path d=\"M 19.1875 8.296875 \nL 53.609375 8.296875 \nL 53.609375 0 \nL 7.328125 0 \nL 7.328125 8.296875 \nQ 12.9375 14.109375 22.625 23.890625 \nQ 32.328125 33.6875 34.8125 36.53125 \nQ 39.546875 41.84375 41.421875 45.53125 \nQ 43.3125 49.21875 43.3125 52.78125 \nQ 43.3125 58.59375 39.234375 62.25 \nQ 35.15625 65.921875 28.609375 65.921875 \nQ 23.96875 65.921875 18.8125 64.3125 \nQ 13.671875 62.703125 7.8125 59.421875 \nL 7.8125 69.390625 \nQ 13.765625 71.78125 18.9375 73 \nQ 24.125 74.21875 28.421875 74.21875 \nQ 39.75 74.21875 46.484375 68.546875 \nQ 53.21875 62.890625 53.21875 53.421875 \nQ 53.21875 48.921875 51.53125 44.890625 \nQ 49.859375 40.875 45.40625 35.40625 \nQ 44.1875 33.984375 37.640625 27.21875 \nQ 31.109375 20.453125 19.1875 8.296875 \nz\n\" id=\"DejaVuSans-50\"/>\n       </defs>\n       <use xlink:href=\"#DejaVuSans-48\"/>\n       <use x=\"63.623047\" xlink:href=\"#DejaVuSans-46\"/>\n       <use x=\"95.410156\" xlink:href=\"#DejaVuSans-50\"/>\n      </g>\n     </g>\n    </g>\n    <g id=\"xtick_3\">\n     <g id=\"line2d_3\">\n      <g>\n       <use style=\"stroke:#000000;stroke-width:0.8;\" x=\"180.744886\" xlink:href=\"#mfbdaa69987\" y=\"224.64\"/>\n      </g>\n     </g>\n     <g id=\"text_3\">\n      <!-- 0.4 -->\n      <g transform=\"translate(172.793324 239.238437)scale(0.1 -0.1)\">\n       <defs>\n        <path d=\"M 37.796875 64.3125 \nL 12.890625 25.390625 \nL 37.796875 25.390625 \nz\nM 35.203125 72.90625 \nL 47.609375 72.90625 \nL 47.609375 25.390625 \nL 58.015625 25.390625 \nL 58.015625 17.1875 \nL 47.609375 17.1875 \nL 47.609375 0 \nL 37.796875 0 \nL 37.796875 17.1875 \nL 4.890625 17.1875 \nL 4.890625 26.703125 \nz\n\" id=\"DejaVuSans-52\"/>\n       </defs>\n       <use xlink:href=\"#DejaVuSans-48\"/>\n       <use x=\"63.623047\" xlink:href=\"#DejaVuSans-46\"/>\n       <use x=\"95.410156\" xlink:href=\"#DejaVuSans-52\"/>\n      </g>\n     </g>\n    </g>\n    <g id=\"xtick_4\">\n     <g id=\"line2d_4\">\n      <g>\n       <use style=\"stroke:#000000;stroke-width:0.8;\" x=\"241.617614\" xlink:href=\"#mfbdaa69987\" y=\"224.64\"/>\n      </g>\n     </g>\n     <g id=\"text_4\">\n      <!-- 0.6 -->\n      <g transform=\"translate(233.666051 239.238437)scale(0.1 -0.1)\">\n       <defs>\n        <path d=\"M 33.015625 40.375 \nQ 26.375 40.375 22.484375 35.828125 \nQ 18.609375 31.296875 18.609375 23.390625 \nQ 18.609375 15.53125 22.484375 10.953125 \nQ 26.375 6.390625 33.015625 6.390625 \nQ 39.65625 6.390625 43.53125 10.953125 \nQ 47.40625 15.53125 47.40625 23.390625 \nQ 47.40625 31.296875 43.53125 35.828125 \nQ 39.65625 40.375 33.015625 40.375 \nz\nM 52.59375 71.296875 \nL 52.59375 62.3125 \nQ 48.875 64.0625 45.09375 64.984375 \nQ 41.3125 65.921875 37.59375 65.921875 \nQ 27.828125 65.921875 22.671875 59.328125 \nQ 17.53125 52.734375 16.796875 39.40625 \nQ 19.671875 43.65625 24.015625 45.921875 \nQ 28.375 48.1875 33.59375 48.1875 \nQ 44.578125 48.1875 50.953125 41.515625 \nQ 57.328125 34.859375 57.328125 23.390625 \nQ 57.328125 12.15625 50.6875 5.359375 \nQ 44.046875 -1.421875 33.015625 -1.421875 \nQ 20.359375 -1.421875 13.671875 8.265625 \nQ 6.984375 17.96875 6.984375 36.375 \nQ 6.984375 53.65625 15.1875 63.9375 \nQ 23.390625 74.21875 37.203125 74.21875 \nQ 40.921875 74.21875 44.703125 73.484375 \nQ 48.484375 72.75 52.59375 71.296875 \nz\n\" id=\"DejaVuSans-54\"/>\n       </defs>\n       <use xlink:href=\"#DejaVuSans-48\"/>\n       <use x=\"63.623047\" xlink:href=\"#DejaVuSans-46\"/>\n       <use x=\"95.410156\" xlink:href=\"#DejaVuSans-54\"/>\n      </g>\n     </g>\n    </g>\n    <g id=\"xtick_5\">\n     <g id=\"line2d_5\">\n      <g>\n       <use style=\"stroke:#000000;stroke-width:0.8;\" x=\"302.490341\" xlink:href=\"#mfbdaa69987\" y=\"224.64\"/>\n      </g>\n     </g>\n     <g id=\"text_5\">\n      <!-- 0.8 -->\n      <g transform=\"translate(294.538778 239.238437)scale(0.1 -0.1)\">\n       <defs>\n        <path d=\"M 31.78125 34.625 \nQ 24.75 34.625 20.71875 30.859375 \nQ 16.703125 27.09375 16.703125 20.515625 \nQ 16.703125 13.921875 20.71875 10.15625 \nQ 24.75 6.390625 31.78125 6.390625 \nQ 38.8125 6.390625 42.859375 10.171875 \nQ 46.921875 13.96875 46.921875 20.515625 \nQ 46.921875 27.09375 42.890625 30.859375 \nQ 38.875 34.625 31.78125 34.625 \nz\nM 21.921875 38.8125 \nQ 15.578125 40.375 12.03125 44.71875 \nQ 8.5 49.078125 8.5 55.328125 \nQ 8.5 64.0625 14.71875 69.140625 \nQ 20.953125 74.21875 31.78125 74.21875 \nQ 42.671875 74.21875 48.875 69.140625 \nQ 55.078125 64.0625 55.078125 55.328125 \nQ 55.078125 49.078125 51.53125 44.71875 \nQ 48 40.375 41.703125 38.8125 \nQ 48.828125 37.15625 52.796875 32.3125 \nQ 56.78125 27.484375 56.78125 20.515625 \nQ 56.78125 9.90625 50.3125 4.234375 \nQ 43.84375 -1.421875 31.78125 -1.421875 \nQ 19.734375 -1.421875 13.25 4.234375 \nQ 6.78125 9.90625 6.78125 20.515625 \nQ 6.78125 27.484375 10.78125 32.3125 \nQ 14.796875 37.15625 21.921875 38.8125 \nz\nM 18.3125 54.390625 \nQ 18.3125 48.734375 21.84375 45.5625 \nQ 25.390625 42.390625 31.78125 42.390625 \nQ 38.140625 42.390625 41.71875 45.5625 \nQ 45.3125 48.734375 45.3125 54.390625 \nQ 45.3125 60.0625 41.71875 63.234375 \nQ 38.140625 66.40625 31.78125 66.40625 \nQ 25.390625 66.40625 21.84375 63.234375 \nQ 18.3125 60.0625 18.3125 54.390625 \nz\n\" id=\"DejaVuSans-56\"/>\n       </defs>\n       <use xlink:href=\"#DejaVuSans-48\"/>\n       <use x=\"63.623047\" xlink:href=\"#DejaVuSans-46\"/>\n       <use x=\"95.410156\" xlink:href=\"#DejaVuSans-56\"/>\n      </g>\n     </g>\n    </g>\n    <g id=\"xtick_6\">\n     <g id=\"line2d_6\">\n      <g>\n       <use style=\"stroke:#000000;stroke-width:0.8;\" x=\"363.363068\" xlink:href=\"#mfbdaa69987\" y=\"224.64\"/>\n      </g>\n     </g>\n     <g id=\"text_6\">\n      <!-- 1.0 -->\n      <g transform=\"translate(355.411506 239.238437)scale(0.1 -0.1)\">\n       <defs>\n        <path d=\"M 12.40625 8.296875 \nL 28.515625 8.296875 \nL 28.515625 63.921875 \nL 10.984375 60.40625 \nL 10.984375 69.390625 \nL 28.421875 72.90625 \nL 38.28125 72.90625 \nL 38.28125 8.296875 \nL 54.390625 8.296875 \nL 54.390625 0 \nL 12.40625 0 \nz\n\" id=\"DejaVuSans-49\"/>\n       </defs>\n       <use xlink:href=\"#DejaVuSans-49\"/>\n       <use x=\"63.623047\" xlink:href=\"#DejaVuSans-46\"/>\n       <use x=\"95.410156\" xlink:href=\"#DejaVuSans-48\"/>\n      </g>\n     </g>\n    </g>\n    <g id=\"text_7\">\n     <!-- False Positive Rate -->\n     <g transform=\"translate(164.714844 252.916562)scale(0.1 -0.1)\">\n      <defs>\n       <path d=\"M 9.8125 72.90625 \nL 51.703125 72.90625 \nL 51.703125 64.59375 \nL 19.671875 64.59375 \nL 19.671875 43.109375 \nL 48.578125 43.109375 \nL 48.578125 34.8125 \nL 19.671875 34.8125 \nL 19.671875 0 \nL 9.8125 0 \nz\n\" id=\"DejaVuSans-70\"/>\n       <path d=\"M 34.28125 27.484375 \nQ 23.390625 27.484375 19.1875 25 \nQ 14.984375 22.515625 14.984375 16.5 \nQ 14.984375 11.71875 18.140625 8.90625 \nQ 21.296875 6.109375 26.703125 6.109375 \nQ 34.1875 6.109375 38.703125 11.40625 \nQ 43.21875 16.703125 43.21875 25.484375 \nL 43.21875 27.484375 \nz\nM 52.203125 31.203125 \nL 52.203125 0 \nL 43.21875 0 \nL 43.21875 8.296875 \nQ 40.140625 3.328125 35.546875 0.953125 \nQ 30.953125 -1.421875 24.3125 -1.421875 \nQ 15.921875 -1.421875 10.953125 3.296875 \nQ 6 8.015625 6 15.921875 \nQ 6 25.140625 12.171875 29.828125 \nQ 18.359375 34.515625 30.609375 34.515625 \nL 43.21875 34.515625 \nL 43.21875 35.40625 \nQ 43.21875 41.609375 39.140625 45 \nQ 35.0625 48.390625 27.6875 48.390625 \nQ 23 48.390625 18.546875 47.265625 \nQ 14.109375 46.140625 10.015625 43.890625 \nL 10.015625 52.203125 \nQ 14.9375 54.109375 19.578125 55.046875 \nQ 24.21875 56 28.609375 56 \nQ 40.484375 56 46.34375 49.84375 \nQ 52.203125 43.703125 52.203125 31.203125 \nz\n\" id=\"DejaVuSans-97\"/>\n       <path d=\"M 9.421875 75.984375 \nL 18.40625 75.984375 \nL 18.40625 0 \nL 9.421875 0 \nz\n\" id=\"DejaVuSans-108\"/>\n       <path d=\"M 44.28125 53.078125 \nL 44.28125 44.578125 \nQ 40.484375 46.53125 36.375 47.5 \nQ 32.28125 48.484375 27.875 48.484375 \nQ 21.1875 48.484375 17.84375 46.4375 \nQ 14.5 44.390625 14.5 40.28125 \nQ 14.5 37.15625 16.890625 35.375 \nQ 19.28125 33.59375 26.515625 31.984375 \nL 29.59375 31.296875 \nQ 39.15625 29.25 43.1875 25.515625 \nQ 47.21875 21.78125 47.21875 15.09375 \nQ 47.21875 7.46875 41.1875 3.015625 \nQ 35.15625 -1.421875 24.609375 -1.421875 \nQ 20.21875 -1.421875 15.453125 -0.5625 \nQ 10.6875 0.296875 5.421875 2 \nL 5.421875 11.28125 \nQ 10.40625 8.6875 15.234375 7.390625 \nQ 20.0625 6.109375 24.8125 6.109375 \nQ 31.15625 6.109375 34.5625 8.28125 \nQ 37.984375 10.453125 37.984375 14.40625 \nQ 37.984375 18.0625 35.515625 20.015625 \nQ 33.0625 21.96875 24.703125 23.78125 \nL 21.578125 24.515625 \nQ 13.234375 26.265625 9.515625 29.90625 \nQ 5.8125 33.546875 5.8125 39.890625 \nQ 5.8125 47.609375 11.28125 51.796875 \nQ 16.75 56 26.8125 56 \nQ 31.78125 56 36.171875 55.265625 \nQ 40.578125 54.546875 44.28125 53.078125 \nz\n\" id=\"DejaVuSans-115\"/>\n       <path d=\"M 56.203125 29.59375 \nL 56.203125 25.203125 \nL 14.890625 25.203125 \nQ 15.484375 15.921875 20.484375 11.0625 \nQ 25.484375 6.203125 34.421875 6.203125 \nQ 39.59375 6.203125 44.453125 7.46875 \nQ 49.3125 8.734375 54.109375 11.28125 \nL 54.109375 2.78125 \nQ 49.265625 0.734375 44.1875 -0.34375 \nQ 39.109375 -1.421875 33.890625 -1.421875 \nQ 20.796875 -1.421875 13.15625 6.1875 \nQ 5.515625 13.8125 5.515625 26.8125 \nQ 5.515625 40.234375 12.765625 48.109375 \nQ 20.015625 56 32.328125 56 \nQ 43.359375 56 49.78125 48.890625 \nQ 56.203125 41.796875 56.203125 29.59375 \nz\nM 47.21875 32.234375 \nQ 47.125 39.59375 43.09375 43.984375 \nQ 39.0625 48.390625 32.421875 48.390625 \nQ 24.90625 48.390625 20.390625 44.140625 \nQ 15.875 39.890625 15.1875 32.171875 \nz\n\" id=\"DejaVuSans-101\"/>\n       <path id=\"DejaVuSans-32\"/>\n       <path d=\"M 19.671875 64.796875 \nL 19.671875 37.40625 \nL 32.078125 37.40625 \nQ 38.96875 37.40625 42.71875 40.96875 \nQ 46.484375 44.53125 46.484375 51.125 \nQ 46.484375 57.671875 42.71875 61.234375 \nQ 38.96875 64.796875 32.078125 64.796875 \nz\nM 9.8125 72.90625 \nL 32.078125 72.90625 \nQ 44.34375 72.90625 50.609375 67.359375 \nQ 56.890625 61.8125 56.890625 51.125 \nQ 56.890625 40.328125 50.609375 34.8125 \nQ 44.34375 29.296875 32.078125 29.296875 \nL 19.671875 29.296875 \nL 19.671875 0 \nL 9.8125 0 \nz\n\" id=\"DejaVuSans-80\"/>\n       <path d=\"M 30.609375 48.390625 \nQ 23.390625 48.390625 19.1875 42.75 \nQ 14.984375 37.109375 14.984375 27.296875 \nQ 14.984375 17.484375 19.15625 11.84375 \nQ 23.34375 6.203125 30.609375 6.203125 \nQ 37.796875 6.203125 41.984375 11.859375 \nQ 46.1875 17.53125 46.1875 27.296875 \nQ 46.1875 37.015625 41.984375 42.703125 \nQ 37.796875 48.390625 30.609375 48.390625 \nz\nM 30.609375 56 \nQ 42.328125 56 49.015625 48.375 \nQ 55.71875 40.765625 55.71875 27.296875 \nQ 55.71875 13.875 49.015625 6.21875 \nQ 42.328125 -1.421875 30.609375 -1.421875 \nQ 18.84375 -1.421875 12.171875 6.21875 \nQ 5.515625 13.875 5.515625 27.296875 \nQ 5.515625 40.765625 12.171875 48.375 \nQ 18.84375 56 30.609375 56 \nz\n\" id=\"DejaVuSans-111\"/>\n       <path d=\"M 9.421875 54.6875 \nL 18.40625 54.6875 \nL 18.40625 0 \nL 9.421875 0 \nz\nM 9.421875 75.984375 \nL 18.40625 75.984375 \nL 18.40625 64.59375 \nL 9.421875 64.59375 \nz\n\" id=\"DejaVuSans-105\"/>\n       <path d=\"M 18.3125 70.21875 \nL 18.3125 54.6875 \nL 36.8125 54.6875 \nL 36.8125 47.703125 \nL 18.3125 47.703125 \nL 18.3125 18.015625 \nQ 18.3125 11.328125 20.140625 9.421875 \nQ 21.96875 7.515625 27.59375 7.515625 \nL 36.8125 7.515625 \nL 36.8125 0 \nL 27.59375 0 \nQ 17.1875 0 13.234375 3.875 \nQ 9.28125 7.765625 9.28125 18.015625 \nL 9.28125 47.703125 \nL 2.6875 47.703125 \nL 2.6875 54.6875 \nL 9.28125 54.6875 \nL 9.28125 70.21875 \nz\n\" id=\"DejaVuSans-116\"/>\n       <path d=\"M 2.984375 54.6875 \nL 12.5 54.6875 \nL 29.59375 8.796875 \nL 46.6875 54.6875 \nL 56.203125 54.6875 \nL 35.6875 0 \nL 23.484375 0 \nz\n\" id=\"DejaVuSans-118\"/>\n       <path d=\"M 44.390625 34.1875 \nQ 47.5625 33.109375 50.5625 29.59375 \nQ 53.5625 26.078125 56.59375 19.921875 \nL 66.609375 0 \nL 56 0 \nL 46.6875 18.703125 \nQ 43.0625 26.03125 39.671875 28.421875 \nQ 36.28125 30.8125 30.421875 30.8125 \nL 19.671875 30.8125 \nL 19.671875 0 \nL 9.8125 0 \nL 9.8125 72.90625 \nL 32.078125 72.90625 \nQ 44.578125 72.90625 50.734375 67.671875 \nQ 56.890625 62.453125 56.890625 51.90625 \nQ 56.890625 45.015625 53.6875 40.46875 \nQ 50.484375 35.9375 44.390625 34.1875 \nz\nM 19.671875 64.796875 \nL 19.671875 38.921875 \nL 32.078125 38.921875 \nQ 39.203125 38.921875 42.84375 42.21875 \nQ 46.484375 45.515625 46.484375 51.90625 \nQ 46.484375 58.296875 42.84375 61.546875 \nQ 39.203125 64.796875 32.078125 64.796875 \nz\n\" id=\"DejaVuSans-82\"/>\n      </defs>\n      <use xlink:href=\"#DejaVuSans-70\"/>\n      <use x=\"48.394531\" xlink:href=\"#DejaVuSans-97\"/>\n      <use x=\"109.673828\" xlink:href=\"#DejaVuSans-108\"/>\n      <use x=\"137.457031\" xlink:href=\"#DejaVuSans-115\"/>\n      <use x=\"189.556641\" xlink:href=\"#DejaVuSans-101\"/>\n      <use x=\"251.080078\" xlink:href=\"#DejaVuSans-32\"/>\n      <use x=\"282.867188\" xlink:href=\"#DejaVuSans-80\"/>\n      <use x=\"339.544922\" xlink:href=\"#DejaVuSans-111\"/>\n      <use x=\"400.726562\" xlink:href=\"#DejaVuSans-115\"/>\n      <use x=\"452.826172\" xlink:href=\"#DejaVuSans-105\"/>\n      <use x=\"480.609375\" xlink:href=\"#DejaVuSans-116\"/>\n      <use x=\"519.818359\" xlink:href=\"#DejaVuSans-105\"/>\n      <use x=\"547.601562\" xlink:href=\"#DejaVuSans-118\"/>\n      <use x=\"606.78125\" xlink:href=\"#DejaVuSans-101\"/>\n      <use x=\"668.304688\" xlink:href=\"#DejaVuSans-32\"/>\n      <use x=\"700.091797\" xlink:href=\"#DejaVuSans-82\"/>\n      <use x=\"767.324219\" xlink:href=\"#DejaVuSans-97\"/>\n      <use x=\"828.603516\" xlink:href=\"#DejaVuSans-116\"/>\n      <use x=\"867.8125\" xlink:href=\"#DejaVuSans-101\"/>\n     </g>\n    </g>\n   </g>\n   <g id=\"matplotlib.axis_2\">\n    <g id=\"ytick_1\">\n     <g id=\"line2d_7\">\n      <defs>\n       <path d=\"M 0 0 \nL -3.5 0 \n\" id=\"m77d9c8908a\" style=\"stroke:#000000;stroke-width:0.8;\"/>\n      </defs>\n      <g>\n       <use style=\"stroke:#000000;stroke-width:0.8;\" x=\"43.78125\" xlink:href=\"#m77d9c8908a\" y=\"214.756364\"/>\n      </g>\n     </g>\n     <g id=\"text_8\">\n      <!-- 0.0 -->\n      <g transform=\"translate(20.878125 218.555582)scale(0.1 -0.1)\">\n       <use xlink:href=\"#DejaVuSans-48\"/>\n       <use x=\"63.623047\" xlink:href=\"#DejaVuSans-46\"/>\n       <use x=\"95.410156\" xlink:href=\"#DejaVuSans-48\"/>\n      </g>\n     </g>\n    </g>\n    <g id=\"ytick_2\">\n     <g id=\"line2d_8\">\n      <g>\n       <use style=\"stroke:#000000;stroke-width:0.8;\" x=\"43.78125\" xlink:href=\"#m77d9c8908a\" y=\"175.221818\"/>\n      </g>\n     </g>\n     <g id=\"text_9\">\n      <!-- 0.2 -->\n      <g transform=\"translate(20.878125 179.021037)scale(0.1 -0.1)\">\n       <use xlink:href=\"#DejaVuSans-48\"/>\n       <use x=\"63.623047\" xlink:href=\"#DejaVuSans-46\"/>\n       <use x=\"95.410156\" xlink:href=\"#DejaVuSans-50\"/>\n      </g>\n     </g>\n    </g>\n    <g id=\"ytick_3\">\n     <g id=\"line2d_9\">\n      <g>\n       <use style=\"stroke:#000000;stroke-width:0.8;\" x=\"43.78125\" xlink:href=\"#m77d9c8908a\" y=\"135.687273\"/>\n      </g>\n     </g>\n     <g id=\"text_10\">\n      <!-- 0.4 -->\n      <g transform=\"translate(20.878125 139.486491)scale(0.1 -0.1)\">\n       <use xlink:href=\"#DejaVuSans-48\"/>\n       <use x=\"63.623047\" xlink:href=\"#DejaVuSans-46\"/>\n       <use x=\"95.410156\" xlink:href=\"#DejaVuSans-52\"/>\n      </g>\n     </g>\n    </g>\n    <g id=\"ytick_4\">\n     <g id=\"line2d_10\">\n      <g>\n       <use style=\"stroke:#000000;stroke-width:0.8;\" x=\"43.78125\" xlink:href=\"#m77d9c8908a\" y=\"96.152727\"/>\n      </g>\n     </g>\n     <g id=\"text_11\">\n      <!-- 0.6 -->\n      <g transform=\"translate(20.878125 99.951946)scale(0.1 -0.1)\">\n       <use xlink:href=\"#DejaVuSans-48\"/>\n       <use x=\"63.623047\" xlink:href=\"#DejaVuSans-46\"/>\n       <use x=\"95.410156\" xlink:href=\"#DejaVuSans-54\"/>\n      </g>\n     </g>\n    </g>\n    <g id=\"ytick_5\">\n     <g id=\"line2d_11\">\n      <g>\n       <use style=\"stroke:#000000;stroke-width:0.8;\" x=\"43.78125\" xlink:href=\"#m77d9c8908a\" y=\"56.618182\"/>\n      </g>\n     </g>\n     <g id=\"text_12\">\n      <!-- 0.8 -->\n      <g transform=\"translate(20.878125 60.417401)scale(0.1 -0.1)\">\n       <use xlink:href=\"#DejaVuSans-48\"/>\n       <use x=\"63.623047\" xlink:href=\"#DejaVuSans-46\"/>\n       <use x=\"95.410156\" xlink:href=\"#DejaVuSans-56\"/>\n      </g>\n     </g>\n    </g>\n    <g id=\"ytick_6\">\n     <g id=\"line2d_12\">\n      <g>\n       <use style=\"stroke:#000000;stroke-width:0.8;\" x=\"43.78125\" xlink:href=\"#m77d9c8908a\" y=\"17.083636\"/>\n      </g>\n     </g>\n     <g id=\"text_13\">\n      <!-- 1.0 -->\n      <g transform=\"translate(20.878125 20.882855)scale(0.1 -0.1)\">\n       <use xlink:href=\"#DejaVuSans-49\"/>\n       <use x=\"63.623047\" xlink:href=\"#DejaVuSans-46\"/>\n       <use x=\"95.410156\" xlink:href=\"#DejaVuSans-48\"/>\n      </g>\n     </g>\n    </g>\n    <g id=\"text_14\">\n     <!-- True Positive Rate -->\n     <g transform=\"translate(14.798438 160.449687)rotate(-90)scale(0.1 -0.1)\">\n      <defs>\n       <path d=\"M -0.296875 72.90625 \nL 61.375 72.90625 \nL 61.375 64.59375 \nL 35.5 64.59375 \nL 35.5 0 \nL 25.59375 0 \nL 25.59375 64.59375 \nL -0.296875 64.59375 \nz\n\" id=\"DejaVuSans-84\"/>\n       <path d=\"M 41.109375 46.296875 \nQ 39.59375 47.171875 37.8125 47.578125 \nQ 36.03125 48 33.890625 48 \nQ 26.265625 48 22.1875 43.046875 \nQ 18.109375 38.09375 18.109375 28.8125 \nL 18.109375 0 \nL 9.078125 0 \nL 9.078125 54.6875 \nL 18.109375 54.6875 \nL 18.109375 46.1875 \nQ 20.953125 51.171875 25.484375 53.578125 \nQ 30.03125 56 36.53125 56 \nQ 37.453125 56 38.578125 55.875 \nQ 39.703125 55.765625 41.0625 55.515625 \nz\n\" id=\"DejaVuSans-114\"/>\n       <path d=\"M 8.5 21.578125 \nL 8.5 54.6875 \nL 17.484375 54.6875 \nL 17.484375 21.921875 \nQ 17.484375 14.15625 20.5 10.265625 \nQ 23.53125 6.390625 29.59375 6.390625 \nQ 36.859375 6.390625 41.078125 11.03125 \nQ 45.3125 15.671875 45.3125 23.6875 \nL 45.3125 54.6875 \nL 54.296875 54.6875 \nL 54.296875 0 \nL 45.3125 0 \nL 45.3125 8.40625 \nQ 42.046875 3.421875 37.71875 1 \nQ 33.40625 -1.421875 27.6875 -1.421875 \nQ 18.265625 -1.421875 13.375 4.4375 \nQ 8.5 10.296875 8.5 21.578125 \nz\nM 31.109375 56 \nz\n\" id=\"DejaVuSans-117\"/>\n      </defs>\n      <use xlink:href=\"#DejaVuSans-84\"/>\n      <use x=\"46.333984\" xlink:href=\"#DejaVuSans-114\"/>\n      <use x=\"87.447266\" xlink:href=\"#DejaVuSans-117\"/>\n      <use x=\"150.826172\" xlink:href=\"#DejaVuSans-101\"/>\n      <use x=\"212.349609\" xlink:href=\"#DejaVuSans-32\"/>\n      <use x=\"244.136719\" xlink:href=\"#DejaVuSans-80\"/>\n      <use x=\"300.814453\" xlink:href=\"#DejaVuSans-111\"/>\n      <use x=\"361.996094\" xlink:href=\"#DejaVuSans-115\"/>\n      <use x=\"414.095703\" xlink:href=\"#DejaVuSans-105\"/>\n      <use x=\"441.878906\" xlink:href=\"#DejaVuSans-116\"/>\n      <use x=\"481.087891\" xlink:href=\"#DejaVuSans-105\"/>\n      <use x=\"508.871094\" xlink:href=\"#DejaVuSans-118\"/>\n      <use x=\"568.050781\" xlink:href=\"#DejaVuSans-101\"/>\n      <use x=\"629.574219\" xlink:href=\"#DejaVuSans-32\"/>\n      <use x=\"661.361328\" xlink:href=\"#DejaVuSans-82\"/>\n      <use x=\"728.59375\" xlink:href=\"#DejaVuSans-97\"/>\n      <use x=\"789.873047\" xlink:href=\"#DejaVuSans-116\"/>\n      <use x=\"829.082031\" xlink:href=\"#DejaVuSans-101\"/>\n     </g>\n    </g>\n   </g>\n   <g id=\"line2d_13\">\n    <path clip-path=\"url(#p4c43e9d5fe)\" d=\"M 58.999432 214.756364 \nL 58.999432 213.088239 \nL 59.591579 213.088239 \nL 59.591579 209.751991 \nL 60.183726 209.751991 \nL 60.183726 208.917929 \nL 61.36802 208.917929 \nL 61.36802 208.083867 \nL 61.960168 208.083867 \nL 61.960168 207.249804 \nL 62.552315 207.249804 \nL 62.552315 203.913556 \nL 63.144462 203.913556 \nL 63.144462 203.079494 \nL 63.736609 203.079494 \nL 63.736609 198.909183 \nL 64.920903 198.909183 \nL 64.920903 196.406997 \nL 65.51305 196.406997 \nL 65.51305 188.066375 \nL 66.105198 188.066375 \nL 66.105198 181.393878 \nL 66.697345 181.393878 \nL 66.697345 173.053257 \nL 67.289492 173.053257 \nL 67.289492 171.385132 \nL 67.881639 171.385132 \nL 67.881639 168.048884 \nL 69.658081 168.048884 \nL 69.658081 167.214822 \nL 70.842375 167.214822 \nL 70.842375 166.380759 \nL 71.434522 166.380759 \nL 71.434522 162.210449 \nL 72.026669 162.210449 \nL 72.026669 159.708262 \nL 72.618816 159.708262 \nL 72.618816 158.8742 \nL 73.210963 158.8742 \nL 73.210963 153.869827 \nL 74.987405 153.869827 \nL 74.987405 152.201703 \nL 75.579552 152.201703 \nL 75.579552 150.533579 \nL 76.763846 150.533579 \nL 76.763846 148.031392 \nL 77.948141 148.031392 \nL 77.948141 145.529206 \nL 78.540288 145.529206 \nL 78.540288 143.861082 \nL 79.724582 143.861082 \nL 79.724582 143.02702 \nL 80.908876 143.02702 \nL 80.908876 142.192957 \nL 81.501024 142.192957 \nL 81.501024 140.524833 \nL 82.093171 140.524833 \nL 82.093171 138.022647 \nL 83.277465 138.022647 \nL 83.277465 136.354522 \nL 86.830348 136.354522 \nL 86.830348 133.852336 \nL 88.014642 133.852336 \nL 88.014642 131.35015 \nL 89.198937 131.35015 \nL 89.198937 130.516087 \nL 89.791084 130.516087 \nL 89.791084 129.682025 \nL 90.383231 129.682025 \nL 90.383231 128.013901 \nL 91.567525 128.013901 \nL 91.567525 126.345777 \nL 92.75182 126.345777 \nL 92.75182 124.677652 \nL 93.343967 124.677652 \nL 93.343967 122.175466 \nL 93.936114 122.175466 \nL 93.936114 120.507342 \nL 94.528261 120.507342 \nL 94.528261 119.67328 \nL 96.89685 119.67328 \nL 96.89685 118.839217 \nL 97.488997 118.839217 \nL 97.488997 116.337031 \nL 101.04188 116.337031 \nL 101.04188 115.502969 \nL 101.634027 115.502969 \nL 101.634027 114.668907 \nL 102.226174 114.668907 \nL 102.226174 113.834845 \nL 103.410468 113.834845 \nL 103.410468 112.16672 \nL 104.594763 112.16672 \nL 104.594763 110.498596 \nL 105.18691 110.498596 \nL 105.18691 108.830472 \nL 106.371204 108.830472 \nL 106.371204 106.328285 \nL 106.963351 106.328285 \nL 106.963351 105.494223 \nL 109.33194 105.494223 \nL 109.33194 103.826099 \nL 109.924087 103.826099 \nL 109.924087 102.992037 \nL 110.516234 102.992037 \nL 110.516234 100.48985 \nL 111.700528 100.48985 \nL 111.700528 97.987664 \nL 112.292676 97.987664 \nL 112.292676 96.31954 \nL 114.069117 96.31954 \nL 114.069117 95.485478 \nL 115.253411 95.485478 \nL 115.253411 94.651415 \nL 117.029853 94.651415 \nL 117.029853 93.817353 \nL 117.622 93.817353 \nL 117.622 92.149229 \nL 119.990589 92.149229 \nL 119.990589 90.481105 \nL 121.76703 90.481105 \nL 121.76703 89.647043 \nL 123.543471 89.647043 \nL 123.543471 87.978918 \nL 125.319913 87.978918 \nL 125.319913 86.310794 \nL 125.91206 86.310794 \nL 125.91206 84.64267 \nL 126.504207 84.64267 \nL 126.504207 83.808608 \nL 130.05709 83.808608 \nL 130.05709 82.974545 \nL 133.017826 82.974545 \nL 133.017826 82.140483 \nL 133.609973 82.140483 \nL 133.609973 81.306421 \nL 134.20212 81.306421 \nL 134.20212 79.638297 \nL 134.794267 79.638297 \nL 134.794267 78.804235 \nL 135.978562 78.804235 \nL 135.978562 77.970173 \nL 137.162856 77.970173 \nL 137.162856 77.13611 \nL 144.268622 77.13611 \nL 144.268622 74.633924 \nL 145.452916 74.633924 \nL 145.452916 72.131738 \nL 147.821505 72.131738 \nL 147.821505 71.297675 \nL 149.597946 71.297675 \nL 149.597946 70.463613 \nL 150.190093 70.463613 \nL 150.190093 69.629551 \nL 151.966535 69.629551 \nL 151.966535 68.795489 \nL 155.519418 68.795489 \nL 155.519418 67.961427 \nL 157.888006 67.961427 \nL 157.888006 67.127365 \nL 164.401625 67.127365 \nL 164.401625 66.293303 \nL 168.546655 66.293303 \nL 168.546655 65.459241 \nL 172.099538 65.459241 \nL 172.099538 64.625178 \nL 173.283832 64.625178 \nL 173.283832 62.122992 \nL 174.468127 62.122992 \nL 174.468127 61.28893 \nL 175.652421 61.28893 \nL 175.652421 59.620806 \nL 177.428862 59.620806 \nL 177.428862 58.786743 \nL 179.205304 58.786743 \nL 179.205304 57.952681 \nL 180.981745 57.952681 \nL 180.981745 57.118619 \nL 182.758187 57.118619 \nL 182.758187 55.450495 \nL 183.942481 55.450495 \nL 183.942481 54.616433 \nL 185.718922 54.616433 \nL 185.718922 53.782371 \nL 186.31107 53.782371 \nL 186.31107 52.948308 \nL 190.4561 52.948308 \nL 190.4561 52.114246 \nL 196.377571 52.114246 \nL 196.377571 50.446122 \nL 199.338307 50.446122 \nL 199.338307 49.61206 \nL 201.706896 49.61206 \nL 201.706896 48.777998 \nL 208.812661 48.777998 \nL 208.812661 47.943936 \nL 212.365544 47.943936 \nL 212.365544 47.109873 \nL 212.957691 47.109873 \nL 212.957691 46.275811 \nL 214.141986 46.275811 \nL 214.141986 45.441749 \nL 218.879163 45.441749 \nL 218.879163 44.607687 \nL 219.47131 44.607687 \nL 219.47131 43.773625 \nL 226.577076 43.773625 \nL 226.577076 42.939563 \nL 228.945665 42.939563 \nL 228.945665 41.271438 \nL 230.722106 41.271438 \nL 230.722106 40.437376 \nL 237.827872 40.437376 \nL 237.827872 39.603314 \nL 238.420019 39.603314 \nL 238.420019 38.769252 \nL 239.604313 38.769252 \nL 239.604313 37.93519 \nL 242.565049 37.93519 \nL 242.565049 36.267066 \nL 246.117932 36.267066 \nL 246.117932 34.598941 \nL 255.000139 34.598941 \nL 255.000139 33.764879 \nL 255.592286 33.764879 \nL 255.592286 32.930817 \nL 260.329464 32.930817 \nL 260.329464 32.096755 \nL 264.474494 32.096755 \nL 264.474494 31.262693 \nL 265.066641 31.262693 \nL 265.066641 30.428631 \nL 268.027377 30.428631 \nL 268.027377 28.760506 \nL 289.344674 28.760506 \nL 289.344674 27.926444 \nL 295.858293 27.926444 \nL 295.858293 25.424258 \nL 300.59547 25.424258 \nL 300.59547 24.590196 \nL 303.556206 24.590196 \nL 303.556206 22.088009 \nL 305.924794 22.088009 \nL 305.924794 21.253947 \nL 311.254119 21.253947 \nL 311.254119 20.419885 \nL 312.438413 20.419885 \nL 312.438413 19.585823 \nL 339.677182 19.585823 \nL 339.677182 18.751761 \nL 348.559389 18.751761 \nL 348.559389 17.917699 \nL 362.178774 17.917699 \nL 362.178774 17.083636 \nL 363.363068 17.083636 \nL 363.363068 17.083636 \n\" style=\"fill:none;stroke:#1f77b4;stroke-linecap:square;stroke-width:1.5;\"/>\n   </g>\n   <g id=\"patch_3\">\n    <path d=\"M 43.78125 224.64 \nL 43.78125 7.2 \n\" style=\"fill:none;stroke:#000000;stroke-linecap:square;stroke-linejoin:miter;stroke-width:0.8;\"/>\n   </g>\n   <g id=\"patch_4\">\n    <path d=\"M 378.58125 224.64 \nL 378.58125 7.2 \n\" style=\"fill:none;stroke:#000000;stroke-linecap:square;stroke-linejoin:miter;stroke-width:0.8;\"/>\n   </g>\n   <g id=\"patch_5\">\n    <path d=\"M 43.78125 224.64 \nL 378.58125 224.64 \n\" style=\"fill:none;stroke:#000000;stroke-linecap:square;stroke-linejoin:miter;stroke-width:0.8;\"/>\n   </g>\n   <g id=\"patch_6\">\n    <path d=\"M 43.78125 7.2 \nL 378.58125 7.2 \n\" style=\"fill:none;stroke:#000000;stroke-linecap:square;stroke-linejoin:miter;stroke-width:0.8;\"/>\n   </g>\n   <g id=\"legend_1\">\n    <g id=\"patch_7\">\n     <path d=\"M 177.715625 219.64 \nL 371.58125 219.64 \nQ 373.58125 219.64 373.58125 217.64 \nL 373.58125 203.961875 \nQ 373.58125 201.961875 371.58125 201.961875 \nL 177.715625 201.961875 \nQ 175.715625 201.961875 175.715625 203.961875 \nL 175.715625 217.64 \nQ 175.715625 219.64 177.715625 219.64 \nz\n\" style=\"fill:#ffffff;opacity:0.8;stroke:#cccccc;stroke-linejoin:miter;\"/>\n    </g>\n    <g id=\"line2d_14\">\n     <path d=\"M 179.715625 210.060312 \nL 199.715625 210.060312 \n\" style=\"fill:none;stroke:#1f77b4;stroke-linecap:square;stroke-width:1.5;\"/>\n    </g>\n    <g id=\"line2d_15\"/>\n    <g id=\"text_15\">\n     <!-- LogisticRegression (AUC = 0.78) -->\n     <g transform=\"translate(207.715625 213.560312)scale(0.1 -0.1)\">\n      <defs>\n       <path d=\"M 9.8125 72.90625 \nL 19.671875 72.90625 \nL 19.671875 8.296875 \nL 55.171875 8.296875 \nL 55.171875 0 \nL 9.8125 0 \nz\n\" id=\"DejaVuSans-76\"/>\n       <path d=\"M 45.40625 27.984375 \nQ 45.40625 37.75 41.375 43.109375 \nQ 37.359375 48.484375 30.078125 48.484375 \nQ 22.859375 48.484375 18.828125 43.109375 \nQ 14.796875 37.75 14.796875 27.984375 \nQ 14.796875 18.265625 18.828125 12.890625 \nQ 22.859375 7.515625 30.078125 7.515625 \nQ 37.359375 7.515625 41.375 12.890625 \nQ 45.40625 18.265625 45.40625 27.984375 \nz\nM 54.390625 6.78125 \nQ 54.390625 -7.171875 48.1875 -13.984375 \nQ 42 -20.796875 29.203125 -20.796875 \nQ 24.46875 -20.796875 20.265625 -20.09375 \nQ 16.0625 -19.390625 12.109375 -17.921875 \nL 12.109375 -9.1875 \nQ 16.0625 -11.328125 19.921875 -12.34375 \nQ 23.78125 -13.375 27.78125 -13.375 \nQ 36.625 -13.375 41.015625 -8.765625 \nQ 45.40625 -4.15625 45.40625 5.171875 \nL 45.40625 9.625 \nQ 42.625 4.78125 38.28125 2.390625 \nQ 33.9375 0 27.875 0 \nQ 17.828125 0 11.671875 7.65625 \nQ 5.515625 15.328125 5.515625 27.984375 \nQ 5.515625 40.671875 11.671875 48.328125 \nQ 17.828125 56 27.875 56 \nQ 33.9375 56 38.28125 53.609375 \nQ 42.625 51.21875 45.40625 46.390625 \nL 45.40625 54.6875 \nL 54.390625 54.6875 \nz\n\" id=\"DejaVuSans-103\"/>\n       <path d=\"M 48.78125 52.59375 \nL 48.78125 44.1875 \nQ 44.96875 46.296875 41.140625 47.34375 \nQ 37.3125 48.390625 33.40625 48.390625 \nQ 24.65625 48.390625 19.8125 42.84375 \nQ 14.984375 37.3125 14.984375 27.296875 \nQ 14.984375 17.28125 19.8125 11.734375 \nQ 24.65625 6.203125 33.40625 6.203125 \nQ 37.3125 6.203125 41.140625 7.25 \nQ 44.96875 8.296875 48.78125 10.40625 \nL 48.78125 2.09375 \nQ 45.015625 0.34375 40.984375 -0.53125 \nQ 36.96875 -1.421875 32.421875 -1.421875 \nQ 20.0625 -1.421875 12.78125 6.34375 \nQ 5.515625 14.109375 5.515625 27.296875 \nQ 5.515625 40.671875 12.859375 48.328125 \nQ 20.21875 56 33.015625 56 \nQ 37.15625 56 41.109375 55.140625 \nQ 45.0625 54.296875 48.78125 52.59375 \nz\n\" id=\"DejaVuSans-99\"/>\n       <path d=\"M 54.890625 33.015625 \nL 54.890625 0 \nL 45.90625 0 \nL 45.90625 32.71875 \nQ 45.90625 40.484375 42.875 44.328125 \nQ 39.84375 48.1875 33.796875 48.1875 \nQ 26.515625 48.1875 22.3125 43.546875 \nQ 18.109375 38.921875 18.109375 30.90625 \nL 18.109375 0 \nL 9.078125 0 \nL 9.078125 54.6875 \nL 18.109375 54.6875 \nL 18.109375 46.1875 \nQ 21.34375 51.125 25.703125 53.5625 \nQ 30.078125 56 35.796875 56 \nQ 45.21875 56 50.046875 50.171875 \nQ 54.890625 44.34375 54.890625 33.015625 \nz\n\" id=\"DejaVuSans-110\"/>\n       <path d=\"M 31 75.875 \nQ 24.46875 64.65625 21.28125 53.65625 \nQ 18.109375 42.671875 18.109375 31.390625 \nQ 18.109375 20.125 21.3125 9.0625 \nQ 24.515625 -2 31 -13.1875 \nL 23.1875 -13.1875 \nQ 15.875 -1.703125 12.234375 9.375 \nQ 8.59375 20.453125 8.59375 31.390625 \nQ 8.59375 42.28125 12.203125 53.3125 \nQ 15.828125 64.359375 23.1875 75.875 \nz\n\" id=\"DejaVuSans-40\"/>\n       <path d=\"M 34.1875 63.1875 \nL 20.796875 26.90625 \nL 47.609375 26.90625 \nz\nM 28.609375 72.90625 \nL 39.796875 72.90625 \nL 67.578125 0 \nL 57.328125 0 \nL 50.6875 18.703125 \nL 17.828125 18.703125 \nL 11.1875 0 \nL 0.78125 0 \nz\n\" id=\"DejaVuSans-65\"/>\n       <path d=\"M 8.6875 72.90625 \nL 18.609375 72.90625 \nL 18.609375 28.609375 \nQ 18.609375 16.890625 22.84375 11.734375 \nQ 27.09375 6.59375 36.625 6.59375 \nQ 46.09375 6.59375 50.34375 11.734375 \nQ 54.59375 16.890625 54.59375 28.609375 \nL 54.59375 72.90625 \nL 64.5 72.90625 \nL 64.5 27.390625 \nQ 64.5 13.140625 57.4375 5.859375 \nQ 50.390625 -1.421875 36.625 -1.421875 \nQ 22.796875 -1.421875 15.734375 5.859375 \nQ 8.6875 13.140625 8.6875 27.390625 \nz\n\" id=\"DejaVuSans-85\"/>\n       <path d=\"M 64.40625 67.28125 \nL 64.40625 56.890625 \nQ 59.421875 61.53125 53.78125 63.8125 \nQ 48.140625 66.109375 41.796875 66.109375 \nQ 29.296875 66.109375 22.65625 58.46875 \nQ 16.015625 50.828125 16.015625 36.375 \nQ 16.015625 21.96875 22.65625 14.328125 \nQ 29.296875 6.6875 41.796875 6.6875 \nQ 48.140625 6.6875 53.78125 8.984375 \nQ 59.421875 11.28125 64.40625 15.921875 \nL 64.40625 5.609375 \nQ 59.234375 2.09375 53.4375 0.328125 \nQ 47.65625 -1.421875 41.21875 -1.421875 \nQ 24.65625 -1.421875 15.125 8.703125 \nQ 5.609375 18.84375 5.609375 36.375 \nQ 5.609375 53.953125 15.125 64.078125 \nQ 24.65625 74.21875 41.21875 74.21875 \nQ 47.75 74.21875 53.53125 72.484375 \nQ 59.328125 70.75 64.40625 67.28125 \nz\n\" id=\"DejaVuSans-67\"/>\n       <path d=\"M 10.59375 45.40625 \nL 73.1875 45.40625 \nL 73.1875 37.203125 \nL 10.59375 37.203125 \nz\nM 10.59375 25.484375 \nL 73.1875 25.484375 \nL 73.1875 17.1875 \nL 10.59375 17.1875 \nz\n\" id=\"DejaVuSans-61\"/>\n       <path d=\"M 8.203125 72.90625 \nL 55.078125 72.90625 \nL 55.078125 68.703125 \nL 28.609375 0 \nL 18.3125 0 \nL 43.21875 64.59375 \nL 8.203125 64.59375 \nz\n\" id=\"DejaVuSans-55\"/>\n       <path d=\"M 8.015625 75.875 \nL 15.828125 75.875 \nQ 23.140625 64.359375 26.78125 53.3125 \nQ 30.421875 42.28125 30.421875 31.390625 \nQ 30.421875 20.453125 26.78125 9.375 \nQ 23.140625 -1.703125 15.828125 -13.1875 \nL 8.015625 -13.1875 \nQ 14.5 -2 17.703125 9.0625 \nQ 20.90625 20.125 20.90625 31.390625 \nQ 20.90625 42.671875 17.703125 53.65625 \nQ 14.5 64.65625 8.015625 75.875 \nz\n\" id=\"DejaVuSans-41\"/>\n      </defs>\n      <use xlink:href=\"#DejaVuSans-76\"/>\n      <use x=\"53.962891\" xlink:href=\"#DejaVuSans-111\"/>\n      <use x=\"115.144531\" xlink:href=\"#DejaVuSans-103\"/>\n      <use x=\"178.621094\" xlink:href=\"#DejaVuSans-105\"/>\n      <use x=\"206.404297\" xlink:href=\"#DejaVuSans-115\"/>\n      <use x=\"258.503906\" xlink:href=\"#DejaVuSans-116\"/>\n      <use x=\"297.712891\" xlink:href=\"#DejaVuSans-105\"/>\n      <use x=\"325.496094\" xlink:href=\"#DejaVuSans-99\"/>\n      <use x=\"380.476562\" xlink:href=\"#DejaVuSans-82\"/>\n      <use x=\"445.458984\" xlink:href=\"#DejaVuSans-101\"/>\n      <use x=\"506.982422\" xlink:href=\"#DejaVuSans-103\"/>\n      <use x=\"570.458984\" xlink:href=\"#DejaVuSans-114\"/>\n      <use x=\"609.322266\" xlink:href=\"#DejaVuSans-101\"/>\n      <use x=\"670.845703\" xlink:href=\"#DejaVuSans-115\"/>\n      <use x=\"722.945312\" xlink:href=\"#DejaVuSans-115\"/>\n      <use x=\"775.044922\" xlink:href=\"#DejaVuSans-105\"/>\n      <use x=\"802.828125\" xlink:href=\"#DejaVuSans-111\"/>\n      <use x=\"864.009766\" xlink:href=\"#DejaVuSans-110\"/>\n      <use x=\"927.388672\" xlink:href=\"#DejaVuSans-32\"/>\n      <use x=\"959.175781\" xlink:href=\"#DejaVuSans-40\"/>\n      <use x=\"998.189453\" xlink:href=\"#DejaVuSans-65\"/>\n      <use x=\"1066.597656\" xlink:href=\"#DejaVuSans-85\"/>\n      <use x=\"1139.791016\" xlink:href=\"#DejaVuSans-67\"/>\n      <use x=\"1209.615234\" xlink:href=\"#DejaVuSans-32\"/>\n      <use x=\"1241.402344\" xlink:href=\"#DejaVuSans-61\"/>\n      <use x=\"1325.191406\" xlink:href=\"#DejaVuSans-32\"/>\n      <use x=\"1356.978516\" xlink:href=\"#DejaVuSans-48\"/>\n      <use x=\"1420.601562\" xlink:href=\"#DejaVuSans-46\"/>\n      <use x=\"1452.388672\" xlink:href=\"#DejaVuSans-55\"/>\n      <use x=\"1516.011719\" xlink:href=\"#DejaVuSans-56\"/>\n      <use x=\"1579.634766\" xlink:href=\"#DejaVuSans-41\"/>\n     </g>\n    </g>\n   </g>\n  </g>\n </g>\n <defs>\n  <clipPath id=\"p4c43e9d5fe\">\n   <rect height=\"217.44\" width=\"334.8\" x=\"43.78125\" y=\"7.2\"/>\n  </clipPath>\n </defs>\n</svg>\n",
      "image/png": "[encoded data removed]"
     },
     "metadata": {
      "needs_background": "light"
     }
    }
   ],
   "source": [
    "plt.figure(figsize=(15, 15))\n",
    "plot_roc_curve(final_model, X_test_scaled, y_test)\n",
    "plt.show();"
   ]
  },
  {
   "source": [
    "Let's plot our precision recall curves to think about the optimial convergence point and how that relates to trade off. Even though they opimial for both is around 0.6 for threshold, we are trying to prioritize recall, so our default threshold (0.5) works for our model."
   ],
   "cell_type": "markdown",
   "metadata": {}
  },
  {
   "cell_type": "code",
   "execution_count": 581,
   "metadata": {},
   "outputs": [
    {
     "output_type": "execute_result",
     "data": {
      "text/plain": [
       "(0.0, 1.0)"
      ]
     },
     "metadata": {},
     "execution_count": 581
    },
    {
     "output_type": "display_data",
     "data": {
      "text/plain": "<Figure size 432x288 with 1 Axes>",
      "image/svg+xml": "<?xml version=\"1.0\" encoding=\"utf-8\" standalone=\"no\"?>\n<!DOCTYPE svg PUBLIC \"-//W3C//DTD SVG 1.1//EN\"\n  \"http://www.w3.org/Graphics/SVG/1.1/DTD/svg11.dtd\">\n<!-- Created with matplotlib (https://matplotlib.org/) -->\n<svg height=\"277.314375pt\" version=\"1.1\" viewBox=\"0 0 387.012862 277.314375\" width=\"387.012862pt\" xmlns=\"http://www.w3.org/2000/svg\" xmlns:xlink=\"http://www.w3.org/1999/xlink\">\n <metadata>\n  <rdf:RDF xmlns:cc=\"http://creativecommons.org/ns#\" xmlns:dc=\"http://purl.org/dc/elements/1.1/\" xmlns:rdf=\"http://www.w3.org/1999/02/22-rdf-syntax-ns#\">\n   <cc:Work>\n    <dc:type rdf:resource=\"http://purl.org/dc/dcmitype/StillImage\"/>\n    <dc:date>2020-10-27T14:32:24.498821</dc:date>\n    <dc:format>image/svg+xml</dc:format>\n    <dc:creator>\n     <cc:Agent>\n      <dc:title>Matplotlib v3.3.2, https://matplotlib.org/</dc:title>\n     </cc:Agent>\n    </dc:creator>\n   </cc:Work>\n  </rdf:RDF>\n </metadata>\n <defs>\n  <style type=\"text/css\">*{stroke-linecap:butt;stroke-linejoin:round;}</style>\n </defs>\n <g id=\"figure_1\">\n  <g id=\"patch_1\">\n   <path d=\"M 0 277.314375 \nL 387.012862 277.314375 \nL 387.012862 0 \nL 0 0 \nz\n\" style=\"fill:none;\"/>\n  </g>\n  <g id=\"axes_1\">\n   <g id=\"patch_2\">\n    <path d=\"M 43.78125 239.758125 \nL 378.58125 239.758125 \nL 378.58125 22.318125 \nL 43.78125 22.318125 \nz\n\" style=\"fill:#ffffff;\"/>\n   </g>\n   <g id=\"matplotlib.axis_1\">\n    <g id=\"xtick_1\">\n     <g id=\"line2d_1\">\n      <defs>\n       <path d=\"M 0 0 \nL 0 3.5 \n\" id=\"mcab2734786\" style=\"stroke:#000000;stroke-width:0.8;\"/>\n      </defs>\n      <g>\n       <use style=\"stroke:#000000;stroke-width:0.8;\" x=\"108.865943\" xlink:href=\"#mcab2734786\" y=\"239.758125\"/>\n      </g>\n     </g>\n     <g id=\"text_1\">\n      <!-- 0.2 -->\n      <g transform=\"translate(100.914381 254.356562)scale(0.1 -0.1)\">\n       <defs>\n        <path d=\"M 31.78125 66.40625 \nQ 24.171875 66.40625 20.328125 58.90625 \nQ 16.5 51.421875 16.5 36.375 \nQ 16.5 21.390625 20.328125 13.890625 \nQ 24.171875 6.390625 31.78125 6.390625 \nQ 39.453125 6.390625 43.28125 13.890625 \nQ 47.125 21.390625 47.125 36.375 \nQ 47.125 51.421875 43.28125 58.90625 \nQ 39.453125 66.40625 31.78125 66.40625 \nz\nM 31.78125 74.21875 \nQ 44.046875 74.21875 50.515625 64.515625 \nQ 56.984375 54.828125 56.984375 36.375 \nQ 56.984375 17.96875 50.515625 8.265625 \nQ 44.046875 -1.421875 31.78125 -1.421875 \nQ 19.53125 -1.421875 13.0625 8.265625 \nQ 6.59375 17.96875 6.59375 36.375 \nQ 6.59375 54.828125 13.0625 64.515625 \nQ 19.53125 74.21875 31.78125 74.21875 \nz\n\" id=\"DejaVuSans-48\"/>\n        <path d=\"M 10.6875 12.40625 \nL 21 12.40625 \nL 21 0 \nL 10.6875 0 \nz\n\" id=\"DejaVuSans-46\"/>\n        <path d=\"M 19.1875 8.296875 \nL 53.609375 8.296875 \nL 53.609375 0 \nL 7.328125 0 \nL 7.328125 8.296875 \nQ 12.9375 14.109375 22.625 23.890625 \nQ 32.328125 33.6875 34.8125 36.53125 \nQ 39.546875 41.84375 41.421875 45.53125 \nQ 43.3125 49.21875 43.3125 52.78125 \nQ 43.3125 58.59375 39.234375 62.25 \nQ 35.15625 65.921875 28.609375 65.921875 \nQ 23.96875 65.921875 18.8125 64.3125 \nQ 13.671875 62.703125 7.8125 59.421875 \nL 7.8125 69.390625 \nQ 13.765625 71.78125 18.9375 73 \nQ 24.125 74.21875 28.421875 74.21875 \nQ 39.75 74.21875 46.484375 68.546875 \nQ 53.21875 62.890625 53.21875 53.421875 \nQ 53.21875 48.921875 51.53125 44.890625 \nQ 49.859375 40.875 45.40625 35.40625 \nQ 44.1875 33.984375 37.640625 27.21875 \nQ 31.109375 20.453125 19.1875 8.296875 \nz\n\" id=\"DejaVuSans-50\"/>\n       </defs>\n       <use xlink:href=\"#DejaVuSans-48\"/>\n       <use x=\"63.623047\" xlink:href=\"#DejaVuSans-46\"/>\n       <use x=\"95.410156\" xlink:href=\"#DejaVuSans-50\"/>\n      </g>\n     </g>\n    </g>\n    <g id=\"xtick_2\">\n     <g id=\"line2d_2\">\n      <g>\n       <use style=\"stroke:#000000;stroke-width:0.8;\" x=\"174.614783\" xlink:href=\"#mcab2734786\" y=\"239.758125\"/>\n      </g>\n     </g>\n     <g id=\"text_2\">\n      <!-- 0.4 -->\n      <g transform=\"translate(166.66322 254.356562)scale(0.1 -0.1)\">\n       <defs>\n        <path d=\"M 37.796875 64.3125 \nL 12.890625 25.390625 \nL 37.796875 25.390625 \nz\nM 35.203125 72.90625 \nL 47.609375 72.90625 \nL 47.609375 25.390625 \nL 58.015625 25.390625 \nL 58.015625 17.1875 \nL 47.609375 17.1875 \nL 47.609375 0 \nL 37.796875 0 \nL 37.796875 17.1875 \nL 4.890625 17.1875 \nL 4.890625 26.703125 \nz\n\" id=\"DejaVuSans-52\"/>\n       </defs>\n       <use xlink:href=\"#DejaVuSans-48\"/>\n       <use x=\"63.623047\" xlink:href=\"#DejaVuSans-46\"/>\n       <use x=\"95.410156\" xlink:href=\"#DejaVuSans-52\"/>\n      </g>\n     </g>\n    </g>\n    <g id=\"xtick_3\">\n     <g id=\"line2d_3\">\n      <g>\n       <use style=\"stroke:#000000;stroke-width:0.8;\" x=\"240.363622\" xlink:href=\"#mcab2734786\" y=\"239.758125\"/>\n      </g>\n     </g>\n     <g id=\"text_3\">\n      <!-- 0.6 -->\n      <g transform=\"translate(232.412059 254.356562)scale(0.1 -0.1)\">\n       <defs>\n        <path d=\"M 33.015625 40.375 \nQ 26.375 40.375 22.484375 35.828125 \nQ 18.609375 31.296875 18.609375 23.390625 \nQ 18.609375 15.53125 22.484375 10.953125 \nQ 26.375 6.390625 33.015625 6.390625 \nQ 39.65625 6.390625 43.53125 10.953125 \nQ 47.40625 15.53125 47.40625 23.390625 \nQ 47.40625 31.296875 43.53125 35.828125 \nQ 39.65625 40.375 33.015625 40.375 \nz\nM 52.59375 71.296875 \nL 52.59375 62.3125 \nQ 48.875 64.0625 45.09375 64.984375 \nQ 41.3125 65.921875 37.59375 65.921875 \nQ 27.828125 65.921875 22.671875 59.328125 \nQ 17.53125 52.734375 16.796875 39.40625 \nQ 19.671875 43.65625 24.015625 45.921875 \nQ 28.375 48.1875 33.59375 48.1875 \nQ 44.578125 48.1875 50.953125 41.515625 \nQ 57.328125 34.859375 57.328125 23.390625 \nQ 57.328125 12.15625 50.6875 5.359375 \nQ 44.046875 -1.421875 33.015625 -1.421875 \nQ 20.359375 -1.421875 13.671875 8.265625 \nQ 6.984375 17.96875 6.984375 36.375 \nQ 6.984375 53.65625 15.1875 63.9375 \nQ 23.390625 74.21875 37.203125 74.21875 \nQ 40.921875 74.21875 44.703125 73.484375 \nQ 48.484375 72.75 52.59375 71.296875 \nz\n\" id=\"DejaVuSans-54\"/>\n       </defs>\n       <use xlink:href=\"#DejaVuSans-48\"/>\n       <use x=\"63.623047\" xlink:href=\"#DejaVuSans-46\"/>\n       <use x=\"95.410156\" xlink:href=\"#DejaVuSans-54\"/>\n      </g>\n     </g>\n    </g>\n    <g id=\"xtick_4\">\n     <g id=\"line2d_4\">\n      <g>\n       <use style=\"stroke:#000000;stroke-width:0.8;\" x=\"306.112461\" xlink:href=\"#mcab2734786\" y=\"239.758125\"/>\n      </g>\n     </g>\n     <g id=\"text_4\">\n      <!-- 0.8 -->\n      <g transform=\"translate(298.160898 254.356562)scale(0.1 -0.1)\">\n       <defs>\n        <path d=\"M 31.78125 34.625 \nQ 24.75 34.625 20.71875 30.859375 \nQ 16.703125 27.09375 16.703125 20.515625 \nQ 16.703125 13.921875 20.71875 10.15625 \nQ 24.75 6.390625 31.78125 6.390625 \nQ 38.8125 6.390625 42.859375 10.171875 \nQ 46.921875 13.96875 46.921875 20.515625 \nQ 46.921875 27.09375 42.890625 30.859375 \nQ 38.875 34.625 31.78125 34.625 \nz\nM 21.921875 38.8125 \nQ 15.578125 40.375 12.03125 44.71875 \nQ 8.5 49.078125 8.5 55.328125 \nQ 8.5 64.0625 14.71875 69.140625 \nQ 20.953125 74.21875 31.78125 74.21875 \nQ 42.671875 74.21875 48.875 69.140625 \nQ 55.078125 64.0625 55.078125 55.328125 \nQ 55.078125 49.078125 51.53125 44.71875 \nQ 48 40.375 41.703125 38.8125 \nQ 48.828125 37.15625 52.796875 32.3125 \nQ 56.78125 27.484375 56.78125 20.515625 \nQ 56.78125 9.90625 50.3125 4.234375 \nQ 43.84375 -1.421875 31.78125 -1.421875 \nQ 19.734375 -1.421875 13.25 4.234375 \nQ 6.78125 9.90625 6.78125 20.515625 \nQ 6.78125 27.484375 10.78125 32.3125 \nQ 14.796875 37.15625 21.921875 38.8125 \nz\nM 18.3125 54.390625 \nQ 18.3125 48.734375 21.84375 45.5625 \nQ 25.390625 42.390625 31.78125 42.390625 \nQ 38.140625 42.390625 41.71875 45.5625 \nQ 45.3125 48.734375 45.3125 54.390625 \nQ 45.3125 60.0625 41.71875 63.234375 \nQ 38.140625 66.40625 31.78125 66.40625 \nQ 25.390625 66.40625 21.84375 63.234375 \nQ 18.3125 60.0625 18.3125 54.390625 \nz\n\" id=\"DejaVuSans-56\"/>\n       </defs>\n       <use xlink:href=\"#DejaVuSans-48\"/>\n       <use x=\"63.623047\" xlink:href=\"#DejaVuSans-46\"/>\n       <use x=\"95.410156\" xlink:href=\"#DejaVuSans-56\"/>\n      </g>\n     </g>\n    </g>\n    <g id=\"xtick_5\">\n     <g id=\"line2d_5\">\n      <g>\n       <use style=\"stroke:#000000;stroke-width:0.8;\" x=\"371.8613\" xlink:href=\"#mcab2734786\" y=\"239.758125\"/>\n      </g>\n     </g>\n     <g id=\"text_5\">\n      <!-- 1.0 -->\n      <g transform=\"translate(363.909737 254.356562)scale(0.1 -0.1)\">\n       <defs>\n        <path d=\"M 12.40625 8.296875 \nL 28.515625 8.296875 \nL 28.515625 63.921875 \nL 10.984375 60.40625 \nL 10.984375 69.390625 \nL 28.421875 72.90625 \nL 38.28125 72.90625 \nL 38.28125 8.296875 \nL 54.390625 8.296875 \nL 54.390625 0 \nL 12.40625 0 \nz\n\" id=\"DejaVuSans-49\"/>\n       </defs>\n       <use xlink:href=\"#DejaVuSans-49\"/>\n       <use x=\"63.623047\" xlink:href=\"#DejaVuSans-46\"/>\n       <use x=\"95.410156\" xlink:href=\"#DejaVuSans-48\"/>\n      </g>\n     </g>\n    </g>\n    <g id=\"text_6\">\n     <!-- Threshold -->\n     <g transform=\"translate(186.542969 268.034687)scale(0.1 -0.1)\">\n      <defs>\n       <path d=\"M -0.296875 72.90625 \nL 61.375 72.90625 \nL 61.375 64.59375 \nL 35.5 64.59375 \nL 35.5 0 \nL 25.59375 0 \nL 25.59375 64.59375 \nL -0.296875 64.59375 \nz\n\" id=\"DejaVuSans-84\"/>\n       <path d=\"M 54.890625 33.015625 \nL 54.890625 0 \nL 45.90625 0 \nL 45.90625 32.71875 \nQ 45.90625 40.484375 42.875 44.328125 \nQ 39.84375 48.1875 33.796875 48.1875 \nQ 26.515625 48.1875 22.3125 43.546875 \nQ 18.109375 38.921875 18.109375 30.90625 \nL 18.109375 0 \nL 9.078125 0 \nL 9.078125 75.984375 \nL 18.109375 75.984375 \nL 18.109375 46.1875 \nQ 21.34375 51.125 25.703125 53.5625 \nQ 30.078125 56 35.796875 56 \nQ 45.21875 56 50.046875 50.171875 \nQ 54.890625 44.34375 54.890625 33.015625 \nz\n\" id=\"DejaVuSans-104\"/>\n       <path d=\"M 41.109375 46.296875 \nQ 39.59375 47.171875 37.8125 47.578125 \nQ 36.03125 48 33.890625 48 \nQ 26.265625 48 22.1875 43.046875 \nQ 18.109375 38.09375 18.109375 28.8125 \nL 18.109375 0 \nL 9.078125 0 \nL 9.078125 54.6875 \nL 18.109375 54.6875 \nL 18.109375 46.1875 \nQ 20.953125 51.171875 25.484375 53.578125 \nQ 30.03125 56 36.53125 56 \nQ 37.453125 56 38.578125 55.875 \nQ 39.703125 55.765625 41.0625 55.515625 \nz\n\" id=\"DejaVuSans-114\"/>\n       <path d=\"M 56.203125 29.59375 \nL 56.203125 25.203125 \nL 14.890625 25.203125 \nQ 15.484375 15.921875 20.484375 11.0625 \nQ 25.484375 6.203125 34.421875 6.203125 \nQ 39.59375 6.203125 44.453125 7.46875 \nQ 49.3125 8.734375 54.109375 11.28125 \nL 54.109375 2.78125 \nQ 49.265625 0.734375 44.1875 -0.34375 \nQ 39.109375 -1.421875 33.890625 -1.421875 \nQ 20.796875 -1.421875 13.15625 6.1875 \nQ 5.515625 13.8125 5.515625 26.8125 \nQ 5.515625 40.234375 12.765625 48.109375 \nQ 20.015625 56 32.328125 56 \nQ 43.359375 56 49.78125 48.890625 \nQ 56.203125 41.796875 56.203125 29.59375 \nz\nM 47.21875 32.234375 \nQ 47.125 39.59375 43.09375 43.984375 \nQ 39.0625 48.390625 32.421875 48.390625 \nQ 24.90625 48.390625 20.390625 44.140625 \nQ 15.875 39.890625 15.1875 32.171875 \nz\n\" id=\"DejaVuSans-101\"/>\n       <path d=\"M 44.28125 53.078125 \nL 44.28125 44.578125 \nQ 40.484375 46.53125 36.375 47.5 \nQ 32.28125 48.484375 27.875 48.484375 \nQ 21.1875 48.484375 17.84375 46.4375 \nQ 14.5 44.390625 14.5 40.28125 \nQ 14.5 37.15625 16.890625 35.375 \nQ 19.28125 33.59375 26.515625 31.984375 \nL 29.59375 31.296875 \nQ 39.15625 29.25 43.1875 25.515625 \nQ 47.21875 21.78125 47.21875 15.09375 \nQ 47.21875 7.46875 41.1875 3.015625 \nQ 35.15625 -1.421875 24.609375 -1.421875 \nQ 20.21875 -1.421875 15.453125 -0.5625 \nQ 10.6875 0.296875 5.421875 2 \nL 5.421875 11.28125 \nQ 10.40625 8.6875 15.234375 7.390625 \nQ 20.0625 6.109375 24.8125 6.109375 \nQ 31.15625 6.109375 34.5625 8.28125 \nQ 37.984375 10.453125 37.984375 14.40625 \nQ 37.984375 18.0625 35.515625 20.015625 \nQ 33.0625 21.96875 24.703125 23.78125 \nL 21.578125 24.515625 \nQ 13.234375 26.265625 9.515625 29.90625 \nQ 5.8125 33.546875 5.8125 39.890625 \nQ 5.8125 47.609375 11.28125 51.796875 \nQ 16.75 56 26.8125 56 \nQ 31.78125 56 36.171875 55.265625 \nQ 40.578125 54.546875 44.28125 53.078125 \nz\n\" id=\"DejaVuSans-115\"/>\n       <path d=\"M 30.609375 48.390625 \nQ 23.390625 48.390625 19.1875 42.75 \nQ 14.984375 37.109375 14.984375 27.296875 \nQ 14.984375 17.484375 19.15625 11.84375 \nQ 23.34375 6.203125 30.609375 6.203125 \nQ 37.796875 6.203125 41.984375 11.859375 \nQ 46.1875 17.53125 46.1875 27.296875 \nQ 46.1875 37.015625 41.984375 42.703125 \nQ 37.796875 48.390625 30.609375 48.390625 \nz\nM 30.609375 56 \nQ 42.328125 56 49.015625 48.375 \nQ 55.71875 40.765625 55.71875 27.296875 \nQ 55.71875 13.875 49.015625 6.21875 \nQ 42.328125 -1.421875 30.609375 -1.421875 \nQ 18.84375 -1.421875 12.171875 6.21875 \nQ 5.515625 13.875 5.515625 27.296875 \nQ 5.515625 40.765625 12.171875 48.375 \nQ 18.84375 56 30.609375 56 \nz\n\" id=\"DejaVuSans-111\"/>\n       <path d=\"M 9.421875 75.984375 \nL 18.40625 75.984375 \nL 18.40625 0 \nL 9.421875 0 \nz\n\" id=\"DejaVuSans-108\"/>\n       <path d=\"M 45.40625 46.390625 \nL 45.40625 75.984375 \nL 54.390625 75.984375 \nL 54.390625 0 \nL 45.40625 0 \nL 45.40625 8.203125 \nQ 42.578125 3.328125 38.25 0.953125 \nQ 33.9375 -1.421875 27.875 -1.421875 \nQ 17.96875 -1.421875 11.734375 6.484375 \nQ 5.515625 14.40625 5.515625 27.296875 \nQ 5.515625 40.1875 11.734375 48.09375 \nQ 17.96875 56 27.875 56 \nQ 33.9375 56 38.25 53.625 \nQ 42.578125 51.265625 45.40625 46.390625 \nz\nM 14.796875 27.296875 \nQ 14.796875 17.390625 18.875 11.75 \nQ 22.953125 6.109375 30.078125 6.109375 \nQ 37.203125 6.109375 41.296875 11.75 \nQ 45.40625 17.390625 45.40625 27.296875 \nQ 45.40625 37.203125 41.296875 42.84375 \nQ 37.203125 48.484375 30.078125 48.484375 \nQ 22.953125 48.484375 18.875 42.84375 \nQ 14.796875 37.203125 14.796875 27.296875 \nz\n\" id=\"DejaVuSans-100\"/>\n      </defs>\n      <use xlink:href=\"#DejaVuSans-84\"/>\n      <use x=\"61.083984\" xlink:href=\"#DejaVuSans-104\"/>\n      <use x=\"124.462891\" xlink:href=\"#DejaVuSans-114\"/>\n      <use x=\"163.326172\" xlink:href=\"#DejaVuSans-101\"/>\n      <use x=\"224.849609\" xlink:href=\"#DejaVuSans-115\"/>\n      <use x=\"276.949219\" xlink:href=\"#DejaVuSans-104\"/>\n      <use x=\"340.328125\" xlink:href=\"#DejaVuSans-111\"/>\n      <use x=\"401.509766\" xlink:href=\"#DejaVuSans-108\"/>\n      <use x=\"429.292969\" xlink:href=\"#DejaVuSans-100\"/>\n     </g>\n    </g>\n   </g>\n   <g id=\"matplotlib.axis_2\">\n    <g id=\"ytick_1\">\n     <g id=\"line2d_6\">\n      <defs>\n       <path d=\"M 0 0 \nL -3.5 0 \n\" id=\"m06e228d583\" style=\"stroke:#000000;stroke-width:0.8;\"/>\n      </defs>\n      <g>\n       <use style=\"stroke:#000000;stroke-width:0.8;\" x=\"43.78125\" xlink:href=\"#m06e228d583\" y=\"239.758125\"/>\n      </g>\n     </g>\n     <g id=\"text_7\">\n      <!-- 0.0 -->\n      <g transform=\"translate(20.878125 243.557344)scale(0.1 -0.1)\">\n       <use xlink:href=\"#DejaVuSans-48\"/>\n       <use x=\"63.623047\" xlink:href=\"#DejaVuSans-46\"/>\n       <use x=\"95.410156\" xlink:href=\"#DejaVuSans-48\"/>\n      </g>\n     </g>\n    </g>\n    <g id=\"ytick_2\">\n     <g id=\"line2d_7\">\n      <g>\n       <use style=\"stroke:#000000;stroke-width:0.8;\" x=\"43.78125\" xlink:href=\"#m06e228d583\" y=\"196.270125\"/>\n      </g>\n     </g>\n     <g id=\"text_8\">\n      <!-- 0.2 -->\n      <g transform=\"translate(20.878125 200.069344)scale(0.1 -0.1)\">\n       <use xlink:href=\"#DejaVuSans-48\"/>\n       <use x=\"63.623047\" xlink:href=\"#DejaVuSans-46\"/>\n       <use x=\"95.410156\" xlink:href=\"#DejaVuSans-50\"/>\n      </g>\n     </g>\n    </g>\n    <g id=\"ytick_3\">\n     <g id=\"line2d_8\">\n      <g>\n       <use style=\"stroke:#000000;stroke-width:0.8;\" x=\"43.78125\" xlink:href=\"#m06e228d583\" y=\"152.782125\"/>\n      </g>\n     </g>\n     <g id=\"text_9\">\n      <!-- 0.4 -->\n      <g transform=\"translate(20.878125 156.581344)scale(0.1 -0.1)\">\n       <use xlink:href=\"#DejaVuSans-48\"/>\n       <use x=\"63.623047\" xlink:href=\"#DejaVuSans-46\"/>\n       <use x=\"95.410156\" xlink:href=\"#DejaVuSans-52\"/>\n      </g>\n     </g>\n    </g>\n    <g id=\"ytick_4\">\n     <g id=\"line2d_9\">\n      <g>\n       <use style=\"stroke:#000000;stroke-width:0.8;\" x=\"43.78125\" xlink:href=\"#m06e228d583\" y=\"109.294125\"/>\n      </g>\n     </g>\n     <g id=\"text_10\">\n      <!-- 0.6 -->\n      <g transform=\"translate(20.878125 113.093344)scale(0.1 -0.1)\">\n       <use xlink:href=\"#DejaVuSans-48\"/>\n       <use x=\"63.623047\" xlink:href=\"#DejaVuSans-46\"/>\n       <use x=\"95.410156\" xlink:href=\"#DejaVuSans-54\"/>\n      </g>\n     </g>\n    </g>\n    <g id=\"ytick_5\">\n     <g id=\"line2d_10\">\n      <g>\n       <use style=\"stroke:#000000;stroke-width:0.8;\" x=\"43.78125\" xlink:href=\"#m06e228d583\" y=\"65.806125\"/>\n      </g>\n     </g>\n     <g id=\"text_11\">\n      <!-- 0.8 -->\n      <g transform=\"translate(20.878125 69.605344)scale(0.1 -0.1)\">\n       <use xlink:href=\"#DejaVuSans-48\"/>\n       <use x=\"63.623047\" xlink:href=\"#DejaVuSans-46\"/>\n       <use x=\"95.410156\" xlink:href=\"#DejaVuSans-56\"/>\n      </g>\n     </g>\n    </g>\n    <g id=\"ytick_6\">\n     <g id=\"line2d_11\">\n      <g>\n       <use style=\"stroke:#000000;stroke-width:0.8;\" x=\"43.78125\" xlink:href=\"#m06e228d583\" y=\"22.318125\"/>\n      </g>\n     </g>\n     <g id=\"text_12\">\n      <!-- 1.0 -->\n      <g transform=\"translate(20.878125 26.117344)scale(0.1 -0.1)\">\n       <use xlink:href=\"#DejaVuSans-49\"/>\n       <use x=\"63.623047\" xlink:href=\"#DejaVuSans-46\"/>\n       <use x=\"95.410156\" xlink:href=\"#DejaVuSans-48\"/>\n      </g>\n     </g>\n    </g>\n    <g id=\"text_13\">\n     <!-- Precision, Recall -->\n     <g transform=\"translate(14.798438 171.440469)rotate(-90)scale(0.1 -0.1)\">\n      <defs>\n       <path d=\"M 19.671875 64.796875 \nL 19.671875 37.40625 \nL 32.078125 37.40625 \nQ 38.96875 37.40625 42.71875 40.96875 \nQ 46.484375 44.53125 46.484375 51.125 \nQ 46.484375 57.671875 42.71875 61.234375 \nQ 38.96875 64.796875 32.078125 64.796875 \nz\nM 9.8125 72.90625 \nL 32.078125 72.90625 \nQ 44.34375 72.90625 50.609375 67.359375 \nQ 56.890625 61.8125 56.890625 51.125 \nQ 56.890625 40.328125 50.609375 34.8125 \nQ 44.34375 29.296875 32.078125 29.296875 \nL 19.671875 29.296875 \nL 19.671875 0 \nL 9.8125 0 \nz\n\" id=\"DejaVuSans-80\"/>\n       <path d=\"M 48.78125 52.59375 \nL 48.78125 44.1875 \nQ 44.96875 46.296875 41.140625 47.34375 \nQ 37.3125 48.390625 33.40625 48.390625 \nQ 24.65625 48.390625 19.8125 42.84375 \nQ 14.984375 37.3125 14.984375 27.296875 \nQ 14.984375 17.28125 19.8125 11.734375 \nQ 24.65625 6.203125 33.40625 6.203125 \nQ 37.3125 6.203125 41.140625 7.25 \nQ 44.96875 8.296875 48.78125 10.40625 \nL 48.78125 2.09375 \nQ 45.015625 0.34375 40.984375 -0.53125 \nQ 36.96875 -1.421875 32.421875 -1.421875 \nQ 20.0625 -1.421875 12.78125 6.34375 \nQ 5.515625 14.109375 5.515625 27.296875 \nQ 5.515625 40.671875 12.859375 48.328125 \nQ 20.21875 56 33.015625 56 \nQ 37.15625 56 41.109375 55.140625 \nQ 45.0625 54.296875 48.78125 52.59375 \nz\n\" id=\"DejaVuSans-99\"/>\n       <path d=\"M 9.421875 54.6875 \nL 18.40625 54.6875 \nL 18.40625 0 \nL 9.421875 0 \nz\nM 9.421875 75.984375 \nL 18.40625 75.984375 \nL 18.40625 64.59375 \nL 9.421875 64.59375 \nz\n\" id=\"DejaVuSans-105\"/>\n       <path d=\"M 54.890625 33.015625 \nL 54.890625 0 \nL 45.90625 0 \nL 45.90625 32.71875 \nQ 45.90625 40.484375 42.875 44.328125 \nQ 39.84375 48.1875 33.796875 48.1875 \nQ 26.515625 48.1875 22.3125 43.546875 \nQ 18.109375 38.921875 18.109375 30.90625 \nL 18.109375 0 \nL 9.078125 0 \nL 9.078125 54.6875 \nL 18.109375 54.6875 \nL 18.109375 46.1875 \nQ 21.34375 51.125 25.703125 53.5625 \nQ 30.078125 56 35.796875 56 \nQ 45.21875 56 50.046875 50.171875 \nQ 54.890625 44.34375 54.890625 33.015625 \nz\n\" id=\"DejaVuSans-110\"/>\n       <path d=\"M 11.71875 12.40625 \nL 22.015625 12.40625 \nL 22.015625 4 \nL 14.015625 -11.625 \nL 7.71875 -11.625 \nL 11.71875 4 \nz\n\" id=\"DejaVuSans-44\"/>\n       <path id=\"DejaVuSans-32\"/>\n       <path d=\"M 44.390625 34.1875 \nQ 47.5625 33.109375 50.5625 29.59375 \nQ 53.5625 26.078125 56.59375 19.921875 \nL 66.609375 0 \nL 56 0 \nL 46.6875 18.703125 \nQ 43.0625 26.03125 39.671875 28.421875 \nQ 36.28125 30.8125 30.421875 30.8125 \nL 19.671875 30.8125 \nL 19.671875 0 \nL 9.8125 0 \nL 9.8125 72.90625 \nL 32.078125 72.90625 \nQ 44.578125 72.90625 50.734375 67.671875 \nQ 56.890625 62.453125 56.890625 51.90625 \nQ 56.890625 45.015625 53.6875 40.46875 \nQ 50.484375 35.9375 44.390625 34.1875 \nz\nM 19.671875 64.796875 \nL 19.671875 38.921875 \nL 32.078125 38.921875 \nQ 39.203125 38.921875 42.84375 42.21875 \nQ 46.484375 45.515625 46.484375 51.90625 \nQ 46.484375 58.296875 42.84375 61.546875 \nQ 39.203125 64.796875 32.078125 64.796875 \nz\n\" id=\"DejaVuSans-82\"/>\n       <path d=\"M 34.28125 27.484375 \nQ 23.390625 27.484375 19.1875 25 \nQ 14.984375 22.515625 14.984375 16.5 \nQ 14.984375 11.71875 18.140625 8.90625 \nQ 21.296875 6.109375 26.703125 6.109375 \nQ 34.1875 6.109375 38.703125 11.40625 \nQ 43.21875 16.703125 43.21875 25.484375 \nL 43.21875 27.484375 \nz\nM 52.203125 31.203125 \nL 52.203125 0 \nL 43.21875 0 \nL 43.21875 8.296875 \nQ 40.140625 3.328125 35.546875 0.953125 \nQ 30.953125 -1.421875 24.3125 -1.421875 \nQ 15.921875 -1.421875 10.953125 3.296875 \nQ 6 8.015625 6 15.921875 \nQ 6 25.140625 12.171875 29.828125 \nQ 18.359375 34.515625 30.609375 34.515625 \nL 43.21875 34.515625 \nL 43.21875 35.40625 \nQ 43.21875 41.609375 39.140625 45 \nQ 35.0625 48.390625 27.6875 48.390625 \nQ 23 48.390625 18.546875 47.265625 \nQ 14.109375 46.140625 10.015625 43.890625 \nL 10.015625 52.203125 \nQ 14.9375 54.109375 19.578125 55.046875 \nQ 24.21875 56 28.609375 56 \nQ 40.484375 56 46.34375 49.84375 \nQ 52.203125 43.703125 52.203125 31.203125 \nz\n\" id=\"DejaVuSans-97\"/>\n      </defs>\n      <use xlink:href=\"#DejaVuSans-80\"/>\n      <use x=\"58.552734\" xlink:href=\"#DejaVuSans-114\"/>\n      <use x=\"97.416016\" xlink:href=\"#DejaVuSans-101\"/>\n      <use x=\"158.939453\" xlink:href=\"#DejaVuSans-99\"/>\n      <use x=\"213.919922\" xlink:href=\"#DejaVuSans-105\"/>\n      <use x=\"241.703125\" xlink:href=\"#DejaVuSans-115\"/>\n      <use x=\"293.802734\" xlink:href=\"#DejaVuSans-105\"/>\n      <use x=\"321.585938\" xlink:href=\"#DejaVuSans-111\"/>\n      <use x=\"382.767578\" xlink:href=\"#DejaVuSans-110\"/>\n      <use x=\"446.146484\" xlink:href=\"#DejaVuSans-44\"/>\n      <use x=\"477.933594\" xlink:href=\"#DejaVuSans-32\"/>\n      <use x=\"509.720703\" xlink:href=\"#DejaVuSans-82\"/>\n      <use x=\"574.703125\" xlink:href=\"#DejaVuSans-101\"/>\n      <use x=\"636.226562\" xlink:href=\"#DejaVuSans-99\"/>\n      <use x=\"691.207031\" xlink:href=\"#DejaVuSans-97\"/>\n      <use x=\"752.486328\" xlink:href=\"#DejaVuSans-108\"/>\n      <use x=\"780.269531\" xlink:href=\"#DejaVuSans-108\"/>\n     </g>\n    </g>\n   </g>\n   <g id=\"line2d_12\">\n    <path clip-path=\"url(#p7acaa9a3be)\" d=\"M 58.999432 170.955348 \nL 59.247942 171.154061 \nL 59.452173 171.062221 \nL 65.418417 170.785222 \nL 68.162636 170.599311 \nL 70.48781 170.318558 \nL 70.576612 170.224466 \nL 71.045449 170.035516 \nL 71.681455 169.654518 \nL 75.648853 169.462454 \nL 76.28569 169.172375 \nL 76.853688 168.977656 \nL 76.915349 169.180224 \nL 77.241111 168.886558 \nL 77.314727 168.788125 \nL 79.626283 168.191738 \nL 79.660537 168.091365 \nL 81.48311 167.687039 \nL 81.576027 167.892362 \nL 82.399926 167.484034 \nL 82.723051 167.071039 \nL 85.230185 165.910578 \nL 85.350497 165.695592 \nL 87.356934 165.479351 \nL 87.548277 165.370757 \nL 88.537331 165.152612 \nL 89.770927 164.601611 \nL 89.887621 164.378925 \nL 90.58035 164.154915 \nL 91.592443 163.929571 \nL 91.715388 163.702878 \nL 92.862914 163.245403 \nL 93.009401 163.014596 \nL 93.190895 162.898669 \nL 93.278879 163.111347 \nL 93.332314 162.995216 \nL 93.717273 162.878732 \nL 93.901427 163.09235 \nL 94.419256 162.741209 \nL 94.976525 162.505323 \nL 95.447292 162.267987 \nL 95.776188 162.029188 \nL 95.785511 162.244792 \nL 96.241916 162.004812 \nL 96.829256 161.763342 \nL 96.897785 161.980209 \nL 97.626501 162.197751 \nL 97.67365 162.415972 \nL 98.07469 162.052294 \nL 98.850681 161.930307 \nL 98.890034 161.807936 \nL 99.210586 162.027605 \nL 99.214507 161.905002 \nL 99.326306 161.782011 \nL 101.108369 161.658631 \nL 101.131417 161.53486 \nL 101.897942 161.286138 \nL 101.925724 161.161182 \nL 102.145648 161.035828 \nL 103.076705 161.257422 \nL 103.148103 161.70274 \nL 103.281888 161.577451 \nL 104.142229 161.199157 \nL 104.309037 161.072245 \nL 105.365223 160.817185 \nL 105.452861 160.560466 \nL 105.518999 160.43148 \nL 105.871077 160.302073 \nL 106.439454 160.527537 \nL 106.471387 160.397863 \nL 107.445048 160.137238 \nL 107.551385 160.006283 \nL 109.959138 159.610819 \nL 109.986826 159.478125 \nL 111.47184 159.211414 \nL 111.568331 159.077393 \nL 113.376049 158.67264 \nL 113.689608 158.400541 \nL 115.53615 158.12661 \nL 116.293666 157.573176 \nL 117.029531 157.433643 \nL 117.155466 157.293635 \nL 117.956285 157.153151 \nL 118.307292 156.87074 \nL 118.574388 156.586393 \nL 118.857432 156.156194 \nL 119.075452 156.011804 \nL 119.66652 155.721522 \nL 119.897952 155.575625 \nL 120.285333 155.807377 \nL 120.293011 156.039937 \nL 120.343811 155.893832 \nL 121.493187 155.600086 \nL 121.685092 155.304276 \nL 121.781766 155.538407 \nL 121.906167 155.389871 \nL 121.943261 155.62498 \nL 122.467876 155.326636 \nL 123.323702 155.026168 \nL 123.585841 154.87513 \nL 123.641247 154.571434 \nL 123.823265 154.808448 \nL 124.082384 154.655935 \nL 124.085919 154.502873 \nL 124.700066 153.885082 \nL 125.947482 153.572816 \nL 126.300829 153.811895 \nL 126.923033 153.655059 \nL 127.264219 153.895163 \nL 127.395191 153.58007 \nL 127.599056 153.262655 \nL 129.673507 152.942894 \nL 130.423284 152.782125 \nL 130.490633 152.62076 \nL 131.352697 152.458794 \nL 131.445835 152.296226 \nL 133.289828 151.474215 \nL 133.523911 151.717447 \nL 133.529407 151.961597 \nL 133.562214 151.79563 \nL 134.220443 151.461806 \nL 134.269978 151.293942 \nL 135.208826 150.956293 \nL 135.298713 151.202255 \nL 135.561064 151.449159 \nL 136.491774 151.279661 \nL 136.505573 151.10951 \nL 137.43534 150.938703 \nL 137.589784 150.595108 \nL 137.703816 150.843706 \nL 138.276981 150.671057 \nL 138.394 150.497736 \nL 138.394613 150.747599 \nL 138.423045 150.57375 \nL 138.566458 150.824739 \nL 138.8093 150.123095 \nL 140.852475 149.230316 \nL 140.929752 148.868205 \nL 141.508479 148.686061 \nL 141.922966 148.939812 \nL 143.745202 148.573609 \nL 144.022079 148.389398 \nL 144.424926 148.644603 \nL 144.514125 148.900843 \nL 144.575265 148.716174 \nL 144.830888 148.530752 \nL 145.535773 148.344574 \nL 145.70333 148.157634 \nL 145.772544 148.415502 \nL 145.938038 148.22794 \nL 146.934256 147.660604 \nL 147.695985 147.469926 \nL 147.943985 147.086192 \nL 148.365333 146.699252 \nL 148.452969 146.309068 \nL 149.011944 146.112747 \nL 149.347518 146.373367 \nL 149.58825 146.176353 \nL 149.593821 146.43821 \nL 150.112054 146.240498 \nL 150.123656 146.041947 \nL 150.505281 145.842551 \nL 150.784105 145.441202 \nL 151.55291 145.036408 \nL 152.209508 144.832706 \nL 152.21607 145.096746 \nL 152.245078 144.892293 \nL 152.472428 144.686956 \nL 152.833367 144.952398 \nL 154.373402 144.746299 \nL 154.510641 145.013027 \nL 155.25555 144.598388 \nL 155.88612 143.969579 \nL 155.975462 143.758125 \nL 156.125641 144.026798 \nL 156.380997 143.814533 \nL 157.623773 143.387167 \nL 160.405715 142.738932 \nL 160.455194 142.520912 \nL 161.145718 141.86093 \nL 162.567755 141.638941 \nL 162.948862 141.415943 \nL 163.082411 141.687237 \nL 163.252923 141.46333 \nL 164.080693 141.012437 \nL 164.09636 140.785435 \nL 164.155957 141.058401 \nL 165.324623 140.601458 \nL 165.480979 140.371396 \nL 166.248368 140.140265 \nL 166.367848 139.908055 \nL 166.479019 140.182798 \nL 168.395803 140.458828 \nL 168.765216 140.225731 \nL 169.53729 139.991537 \nL 170.822788 138.803839 \nL 170.996759 138.077549 \nL 171.362511 138.355817 \nL 171.427471 137.865951 \nL 171.687727 137.619239 \nL 173.282279 136.871881 \nL 173.404167 136.620325 \nL 173.459189 136.900478 \nL 174.156366 136.647756 \nL 174.36131 136.929357 \nL 174.428013 136.675458 \nL 174.686443 136.420303 \nL 174.736295 136.163882 \nL 175.250049 136.44708 \nL 175.305382 136.189447 \nL 175.626387 135.930525 \nL 175.869111 136.501442 \nL 176.127989 136.241349 \nL 177.536995 135.717214 \nL 178.229154 136.005029 \nL 178.580009 135.741026 \nL 178.668508 135.475676 \nL 179.055332 135.208969 \nL 179.126677 135.498433 \nL 179.850867 135.230413 \nL 180.235104 134.690218 \nL 180.810004 134.981337 \nL 181.430244 134.160632 \nL 181.570991 134.747731 \nL 182.021326 134.471388 \nL 182.205849 134.193587 \nL 182.277118 134.489554 \nL 182.890022 133.929614 \nL 183.143963 134.227245 \nL 184.242229 134.526467 \nL 184.421475 134.827294 \nL 184.43352 134.545222 \nL 185.314453 134.261629 \nL 187.086846 134.564179 \nL 187.464207 134.279101 \nL 187.585322 133.704283 \nL 188.430146 133.414518 \nL 188.610371 133.123166 \nL 189.063163 132.830213 \nL 189.432444 133.134654 \nL 189.617366 132.840114 \nL 190.341955 132.246125 \nL 190.428732 131.645499 \nL 191.869269 131.038125 \nL 193.634492 131.344379 \nL 195.040627 130.420398 \nL 196.253056 129.163642 \nL 196.482479 128.844926 \nL 197.671418 128.524368 \nL 197.984006 128.201951 \nL 198.456202 127.87766 \nL 199.48558 128.185414 \nL 199.579757 127.859178 \nL 200.306417 127.531028 \nL 200.440695 127.200949 \nL 200.440782 127.510337 \nL 200.618545 127.178243 \nL 200.942096 126.844178 \nL 201.068984 126.508125 \nL 201.35853 126.170065 \nL 202.547708 125.829981 \nL 202.777983 125.487855 \nL 202.863889 125.143667 \nL 202.962278 125.454318 \nL 203.575879 125.107943 \nL 203.577142 124.759462 \nL 205.096147 124.408857 \nL 205.579099 124.721061 \nL 205.84126 124.368186 \nL 205.980874 124.682187 \nL 207.625359 123.61005 \nL 207.735787 123.925602 \nL 207.996885 123.563625 \nL 208.443642 123.199379 \nL 208.682926 122.463993 \nL 210.223104 122.78091 \nL 210.30394 123.4208 \nL 211.499402 122.675048 \nL 211.992015 123.322512 \nL 212.065249 123.649387 \nL 212.604252 122.892978 \nL 213.147813 122.12665 \nL 213.277527 121.350204 \nL 214.541263 120.958125 \nL 215.644712 120.166125 \nL 215.85042 119.766152 \nL 216.709167 119.363494 \nL 217.982407 118.958125 \nL 218.139774 119.284611 \nL 219.719068 118.876227 \nL 219.834977 118.465064 \nL 220.745241 118.79321 \nL 221.166791 117.961836 \nL 221.389094 118.291642 \nL 222.112108 117.871343 \nL 222.188531 118.203125 \nL 222.396526 118.537219 \nL 222.670808 118.11337 \nL 223.237064 118.449493 \nL 223.564876 118.02235 \nL 224.789176 118.360528 \nL 225.201224 117.93004 \nL 225.27578 117.059839 \nL 225.637898 116.62006 \nL 225.780028 116.177118 \nL 226.048029 116.515959 \nL 226.24877 116.069429 \nL 226.882254 115.619652 \nL 227.112701 114.710213 \nL 227.434668 114.250478 \nL 228.598893 113.78735 \nL 228.944987 114.126125 \nL 229.147508 113.659092 \nL 230.096575 113.999916 \nL 230.291203 114.343294 \nL 230.414701 113.871809 \nL 230.981891 114.217295 \nL 231.046365 114.565398 \nL 231.400107 113.609728 \nL 231.436989 113.126401 \nL 231.772852 113.827623 \nL 232.262018 113.33952 \nL 233.045828 112.847619 \nL 233.381925 112.351875 \nL 233.68531 112.704949 \nL 234.165615 112.204739 \nL 234.499293 111.192411 \nL 235.054408 111.546492 \nL 235.239775 111.903405 \nL 235.475836 111.389932 \nL 235.690244 110.350514 \nL 236.015071 109.824466 \nL 236.087678 110.181635 \nL 237.741259 110.541732 \nL 237.829457 110.009977 \nL 238.028353 110.37234 \nL 238.329996 109.835469 \nL 238.420262 108.748251 \nL 238.762224 109.111402 \nL 239.143862 108.56015 \nL 239.291522 108.004227 \nL 239.328795 108.368848 \nL 239.667215 107.807356 \nL 239.834232 107.241043 \nL 240.339249 106.669849 \nL 240.822391 107.035008 \nL 240.961637 107.403342 \nL 241.112475 106.825374 \nL 241.658997 107.947152 \nL 242.74203 107.361325 \nL 242.944699 106.770268 \nL 244.211152 107.148977 \nL 245.080963 107.531098 \nL 245.082252 107.916677 \nL 245.320959 107.317398 \nL 245.65926 107.705522 \nL 245.797417 107.099776 \nL 246.277222 107.884792 \nL 246.723013 107.271427 \nL 246.801763 106.652331 \nL 247.468543 105.396616 \nL 247.476718 105.790352 \nL 247.916526 105.152411 \nL 249.434483 106.352908 \nL 250.080087 105.705309 \nL 250.138637 105.051393 \nL 250.819173 105.866499 \nL 251.4961 105.20367 \nL 253.147436 105.616035 \nL 253.182317 106.032525 \nL 253.467952 105.360537 \nL 255.640719 104.681761 \nL 255.927141 105.522207 \nL 256.987015 104.833817 \nL 257.206429 104.138331 \nL 257.536356 104.56227 \nL 257.634275 103.858125 \nL 257.878869 104.285036 \nL 257.942253 103.57202 \nL 258.037952 104.001935 \nL 258.07649 102.549997 \nL 258.313783 101.812319 \nL 258.391662 101.066666 \nL 258.620517 100.312908 \nL 258.690602 99.550912 \nL 259.69787 99.975268 \nL 259.7184 100.404313 \nL 260.341035 100.838125 \nL 260.984595 100.062036 \nL 261.516464 100.498799 \nL 261.807341 98.916307 \nL 262.345445 98.111496 \nL 262.345594 97.297435 \nL 262.376186 97.730842 \nL 262.738527 96.905102 \nL 263.008364 97.341283 \nL 263.05269 97.782596 \nL 264.23779 96.942504 \nL 264.369623 97.836209 \nL 265.641848 98.291137 \nL 265.716568 97.433761 \nL 266.005473 97.891784 \nL 266.647922 98.355426 \nL 266.943254 97.482569 \nL 267.124166 96.59887 \nL 267.286648 97.533219 \nL 267.95731 96.633062 \nL 268.01138 95.721437 \nL 268.287245 96.191971 \nL 269.122319 96.668577 \nL 269.797482 95.739424 \nL 269.83679 96.219301 \nL 269.89851 95.274967 \nL 270.157132 95.758125 \nL 270.80159 94.798125 \nL 270.972254 93.825239 \nL 272.394341 94.308395 \nL 272.959612 94.798125 \nL 273.904295 95.294563 \nL 274.077197 94.298263 \nL 275.251927 93.288125 \nL 275.453768 93.784419 \nL 275.561153 94.798125 \nL 275.750673 93.762696 \nL 276.134491 92.71237 \nL 276.424324 90.565716 \nL 276.665613 89.468713 \nL 277.093003 88.355458 \nL 277.925013 89.348501 \nL 277.941233 88.209034 \nL 278.195848 87.052171 \nL 278.528406 87.550125 \nL 278.654498 88.055799 \nL 280.058762 88.569375 \nL 280.449007 87.378912 \nL 280.546435 87.895268 \nL 280.842725 88.419885 \nL 281.505195 87.199415 \nL 281.510585 87.726905 \nL 282.232347 86.480748 \nL 282.597687 84.443839 \nL 283.884115 83.127617 \nL 285.645189 83.647356 \nL 285.746722 84.176056 \nL 285.937963 82.823168 \nL 286.09087 83.353914 \nL 286.599949 83.894054 \nL 287.800068 84.443839 \nL 287.814444 81.619943 \nL 288.052442 82.163997 \nL 288.96132 83.282611 \nL 289.20486 81.806427 \nL 289.88661 80.302125 \nL 290.200756 80.859663 \nL 291.234307 81.428028 \nL 291.684988 79.875772 \nL 293.287242 80.44565 \nL 293.772049 81.026925 \nL 295.396717 79.42358 \nL 295.523244 77.787513 \nL 296.414327 76.117713 \nL 296.900955 76.678125 \nL 298.55213 77.250336 \nL 298.664798 77.834721 \nL 299.450322 78.431673 \nL 299.629592 79.041603 \nL 301.501571 79.664938 \nL 302.386677 77.886125 \nL 302.986037 78.510485 \nL 303.3036 76.678125 \nL 303.487854 77.302953 \nL 304.414601 78.596713 \nL 305.9703 76.678125 \nL 306.414083 77.333065 \nL 307.075024 78.003979 \nL 307.255697 79.396125 \nL 307.776318 80.118631 \nL 307.791075 78.071971 \nL 307.837484 78.796047 \nL 308.802043 76.678125 \nL 309.544427 74.503725 \nL 309.739859 75.208936 \nL 310.554174 70.638125 \nL 310.562406 68.256153 \nL 311.843415 68.912411 \nL 312.49845 69.58769 \nL 312.544224 70.282831 \nL 312.814322 70.998722 \nL 313.511655 68.441761 \nL 313.896712 69.151356 \nL 314.039008 69.883125 \nL 314.191845 67.186696 \nL 315.692678 67.910383 \nL 315.731165 68.657797 \nL 316.158778 69.430125 \nL 316.17381 70.228633 \nL 317.363891 71.054677 \nL 317.556183 71.909704 \nL 318.154212 72.795268 \nL 318.958948 73.713034 \nL 318.996677 74.664792 \nL 319.548956 75.652465 \nL 320.130957 72.496587 \nL 320.335438 73.480478 \nL 321.952277 74.503725 \nL 322.931889 75.568737 \nL 323.464834 76.678125 \nL 326.50684 79.041603 \nL 326.705498 80.302125 \nL 326.712125 81.619943 \nL 328.053404 77.942311 \nL 329.562431 79.266696 \nL 330.215441 80.655686 \nL 330.640161 82.114125 \nL 331.766494 83.647356 \nL 333.179264 85.261283 \nL 334.144086 86.962449 \nL 334.888241 88.758125 \nL 335.487744 92.66636 \nL 335.543071 94.798125 \nL 336.401762 90.268125 \nL 336.637162 92.46006 \nL 338.395074 97.297435 \nL 338.965451 92.209554 \nL 340.702531 86.744792 \nL 341.469893 89.22274 \nL 341.711961 91.898925 \nL 342.161647 94.798125 \nL 342.477593 101.387216 \nL 342.53191 94.798125 \nL 343.976041 98.422125 \nL 345.011897 90.983388 \nL 346.102915 99.061654 \nL 346.413315 103.858125 \nL 346.993788 109.294125 \nL 347.067193 99.975268 \nL 347.804242 105.948894 \nL 348.185249 94.798125 \nL 349.753326 101.387216 \nL 349.841496 87.550125 \nL 351.378856 70.638125 \nL 351.569047 76.678125 \nL 352.913417 53.380982 \nL 354.761398 58.558125 \nL 355.615718 65.806125 \nL 357.622035 76.678125 \nL 358.789785 94.798125 \nL 361.180875 22.318125 \nL 363.363068 22.318125 \nL 363.363068 22.318125 \n\" style=\"fill:none;stroke:#0000ff;stroke-dasharray:5.55,2.4;stroke-dashoffset:0;stroke-width:1.5;\"/>\n   </g>\n   <g id=\"line2d_13\">\n    <path clip-path=\"url(#p7acaa9a3be)\" d=\"M 58.999432 22.318125 \nL 59.247942 23.235593 \nL 76.853688 23.235593 \nL 76.915349 24.153062 \nL 81.48311 24.153062 \nL 81.576027 25.07053 \nL 93.190895 25.07053 \nL 93.332314 25.987998 \nL 93.717273 25.987998 \nL 93.901427 26.905467 \nL 95.776188 26.905467 \nL 95.785511 27.822935 \nL 96.829256 27.822935 \nL 96.897785 28.740403 \nL 97.626501 29.657872 \nL 97.774723 30.57534 \nL 98.890034 30.57534 \nL 99.326306 31.492809 \nL 102.145648 31.492809 \nL 103.076705 32.410277 \nL 103.148103 34.245214 \nL 105.871077 34.245214 \nL 106.471387 35.162682 \nL 119.897952 35.162682 \nL 120.285333 36.08015 \nL 120.343811 36.997619 \nL 121.685092 36.997619 \nL 121.781766 37.915087 \nL 121.906167 37.915087 \nL 121.943261 38.832555 \nL 123.641247 38.832555 \nL 123.823265 39.750024 \nL 125.947482 39.750024 \nL 126.300829 40.667492 \nL 126.923033 40.667492 \nL 127.378848 41.58496 \nL 133.289828 41.58496 \nL 133.523911 42.502429 \nL 133.562214 43.419897 \nL 135.208826 43.419897 \nL 135.298713 44.337366 \nL 135.561064 45.254834 \nL 137.589784 45.254834 \nL 137.703816 46.172302 \nL 138.394 46.172302 \nL 138.423045 47.089771 \nL 138.638968 48.007239 \nL 141.508479 48.007239 \nL 141.922966 48.924707 \nL 144.022079 48.924707 \nL 144.424926 49.842176 \nL 144.575265 50.759644 \nL 145.70333 50.759644 \nL 145.772544 51.677112 \nL 149.011944 51.677112 \nL 149.347518 52.594581 \nL 149.58825 52.594581 \nL 149.593821 53.512049 \nL 152.209508 53.512049 \nL 152.245078 54.429517 \nL 152.472428 54.429517 \nL 152.833367 55.346986 \nL 154.373402 55.346986 \nL 154.510641 56.264454 \nL 155.975462 56.264454 \nL 156.125641 57.181922 \nL 162.948862 57.181922 \nL 163.082411 58.099391 \nL 164.09636 58.099391 \nL 164.155957 59.016859 \nL 166.367848 59.016859 \nL 166.479019 59.934328 \nL 168.395803 60.851796 \nL 170.996759 60.851796 \nL 171.427471 61.769264 \nL 173.404167 61.769264 \nL 173.459189 62.686733 \nL 174.156366 62.686733 \nL 174.428013 63.604201 \nL 174.736295 63.604201 \nL 175.305382 64.521669 \nL 175.626387 64.521669 \nL 175.869111 66.356606 \nL 177.536995 66.356606 \nL 178.229154 67.274074 \nL 179.055332 67.274074 \nL 179.126677 68.191543 \nL 180.235104 68.191543 \nL 180.810004 69.109011 \nL 181.430244 69.109011 \nL 181.570991 70.943948 \nL 182.205849 70.943948 \nL 182.277118 71.861416 \nL 182.890022 71.861416 \nL 183.143963 72.778884 \nL 184.242229 73.696353 \nL 184.43352 74.613821 \nL 185.314453 74.613821 \nL 187.086846 75.53129 \nL 189.063163 75.53129 \nL 189.432444 76.448758 \nL 191.869269 76.448758 \nL 193.634492 77.366226 \nL 198.456202 77.366226 \nL 199.579757 78.283695 \nL 200.440695 78.283695 \nL 200.440782 79.201163 \nL 202.863889 79.201163 \nL 202.962278 80.118631 \nL 205.096147 80.118631 \nL 205.579099 81.0361 \nL 205.84126 81.0361 \nL 205.980874 81.953568 \nL 207.625359 81.953568 \nL 207.735787 82.871036 \nL 208.682926 82.871036 \nL 210.223104 83.788505 \nL 210.30394 85.623441 \nL 211.499402 85.623441 \nL 211.992015 87.458378 \nL 212.065249 88.375847 \nL 217.982407 88.375847 \nL 218.139774 89.293315 \nL 219.834977 89.293315 \nL 220.745241 90.210783 \nL 221.166791 90.210783 \nL 221.389094 91.128252 \nL 222.112108 91.128252 \nL 222.188531 92.04572 \nL 222.396526 92.963188 \nL 222.670808 92.963188 \nL 223.237064 93.880657 \nL 223.564876 93.880657 \nL 224.789176 94.798125 \nL 225.780028 94.798125 \nL 226.048029 95.715593 \nL 228.598893 95.715593 \nL 228.944987 96.633062 \nL 229.147508 96.633062 \nL 230.096575 97.55053 \nL 230.291203 98.467998 \nL 230.414701 98.467998 \nL 230.981891 99.385467 \nL 231.046365 100.302935 \nL 231.436989 100.302935 \nL 231.772852 102.137872 \nL 233.381925 102.137872 \nL 233.68531 103.05534 \nL 234.499293 103.05534 \nL 235.054408 103.972809 \nL 235.239775 104.890277 \nL 236.015071 104.890277 \nL 236.087678 105.807745 \nL 237.829457 106.725214 \nL 238.028353 107.642682 \nL 238.420262 107.642682 \nL 238.762224 108.56015 \nL 239.291522 108.56015 \nL 239.328795 109.477619 \nL 240.339249 109.477619 \nL 240.822391 110.395087 \nL 240.961637 111.312555 \nL 241.112475 111.312555 \nL 241.658997 114.06496 \nL 242.944699 114.06496 \nL 244.211152 114.982429 \nL 245.080963 115.899897 \nL 245.082252 116.817366 \nL 245.320959 116.817366 \nL 245.65926 117.734834 \nL 245.797417 117.734834 \nL 246.277222 119.569771 \nL 247.468543 119.569771 \nL 247.476718 120.487239 \nL 247.916526 120.487239 \nL 249.434483 123.239644 \nL 250.138637 123.239644 \nL 250.416143 124.157112 \nL 250.819173 125.074581 \nL 251.4961 125.074581 \nL 253.147436 125.992049 \nL 253.182317 126.909517 \nL 255.640719 126.909517 \nL 255.927141 128.744454 \nL 257.206429 128.744454 \nL 257.942253 130.579391 \nL 258.07649 131.496859 \nL 258.690602 131.496859 \nL 259.69787 132.414328 \nL 259.7184 133.331796 \nL 260.341035 134.249264 \nL 260.984595 134.249264 \nL 261.516464 135.166733 \nL 262.345594 135.166733 \nL 262.376186 136.084201 \nL 262.738527 136.084201 \nL 263.008364 137.001669 \nL 263.05269 137.919138 \nL 264.23779 137.919138 \nL 264.369623 139.754074 \nL 265.716568 140.671543 \nL 266.005473 141.589011 \nL 266.647922 142.506479 \nL 267.124166 142.506479 \nL 267.286648 144.341416 \nL 268.01138 144.341416 \nL 268.287245 145.258884 \nL 269.122319 146.176353 \nL 269.797482 146.176353 \nL 269.89851 147.093821 \nL 270.157132 148.01129 \nL 270.972254 148.01129 \nL 272.394341 148.928758 \nL 272.959612 149.846226 \nL 273.904295 150.763695 \nL 275.251927 150.763695 \nL 275.453768 151.681163 \nL 275.561153 153.5161 \nL 277.093003 153.5161 \nL 277.941233 155.351036 \nL 278.195848 155.351036 \nL 278.528406 156.268505 \nL 278.654498 157.185973 \nL 280.058762 158.103441 \nL 280.449007 158.103441 \nL 280.546435 159.02091 \nL 280.842725 159.938378 \nL 281.505195 159.938378 \nL 281.510585 160.855847 \nL 282.391293 160.855847 \nL 282.42366 161.773315 \nL 283.884115 161.773315 \nL 285.645189 162.690783 \nL 285.746722 163.608252 \nL 285.937963 163.608252 \nL 286.09087 164.52572 \nL 286.599949 165.443188 \nL 287.814444 166.360657 \nL 288.052442 167.278125 \nL 288.96132 169.113062 \nL 289.88661 169.113062 \nL 290.200756 170.03053 \nL 291.234307 170.947998 \nL 291.684988 170.947998 \nL 293.287242 171.865467 \nL 293.772049 172.782935 \nL 296.414327 172.782935 \nL 296.900955 173.700403 \nL 298.55213 174.617872 \nL 298.664798 175.53534 \nL 299.450322 176.452809 \nL 299.629592 177.370277 \nL 301.501571 178.287745 \nL 302.386677 178.287745 \nL 302.986037 179.205214 \nL 303.3036 179.205214 \nL 303.487854 180.122682 \nL 304.414601 181.957619 \nL 305.9703 181.957619 \nL 306.414083 182.875087 \nL 307.075024 183.792555 \nL 307.255697 185.627492 \nL 307.791075 186.54496 \nL 307.837484 187.462429 \nL 309.544427 187.462429 \nL 309.739859 188.379897 \nL 310.562406 188.379897 \nL 311.843415 189.297366 \nL 312.49845 190.214834 \nL 312.544224 191.132302 \nL 312.814322 192.049771 \nL 313.511655 192.049771 \nL 313.896712 192.967239 \nL 314.039008 193.884707 \nL 314.191845 193.884707 \nL 315.692678 194.802176 \nL 315.731165 195.719644 \nL 316.158778 196.637112 \nL 316.17381 197.554581 \nL 317.363891 198.472049 \nL 317.556183 199.389517 \nL 318.154212 200.306986 \nL 318.958948 201.224454 \nL 318.996677 202.141922 \nL 319.548956 203.059391 \nL 320.130957 203.059391 \nL 320.335438 203.976859 \nL 321.952277 204.894328 \nL 322.931889 205.811796 \nL 323.464834 206.729264 \nL 326.50684 208.564201 \nL 326.705498 209.481669 \nL 326.712125 210.399138 \nL 328.053404 210.399138 \nL 329.562431 211.316606 \nL 330.215441 212.234074 \nL 330.640161 213.151543 \nL 331.766494 214.069011 \nL 333.179264 214.986479 \nL 334.144086 215.903948 \nL 334.888241 216.821416 \nL 335.487744 218.656353 \nL 335.543071 219.573821 \nL 336.401762 219.573821 \nL 336.637162 220.49129 \nL 338.395074 222.326226 \nL 340.702531 222.326226 \nL 341.469893 223.243695 \nL 341.711961 224.161163 \nL 342.161647 225.078631 \nL 342.53191 226.913568 \nL 343.976041 227.831036 \nL 345.011897 227.831036 \nL 345.478799 228.748505 \nL 346.102915 229.665973 \nL 346.413315 230.583441 \nL 347.067193 231.50091 \nL 347.804242 232.418378 \nL 348.185249 232.418378 \nL 349.841496 233.335847 \nL 351.378856 233.335847 \nL 351.569047 234.253315 \nL 352.913417 234.253315 \nL 354.761398 235.170783 \nL 355.615718 236.088252 \nL 357.622035 237.00572 \nL 358.789785 237.923188 \nL 361.180875 237.923188 \nL 363.363068 238.840657 \nL 363.363068 238.840657 \n\" style=\"fill:none;stroke:#ff0000;stroke-dasharray:5.55,2.4;stroke-dashoffset:0;stroke-width:1.5;\"/>\n   </g>\n   <g id=\"patch_3\">\n    <path d=\"M 43.78125 239.758125 \nL 43.78125 22.318125 \n\" style=\"fill:none;stroke:#000000;stroke-linecap:square;stroke-linejoin:miter;stroke-width:0.8;\"/>\n   </g>\n   <g id=\"patch_4\">\n    <path d=\"M 378.58125 239.758125 \nL 378.58125 22.318125 \n\" style=\"fill:none;stroke:#000000;stroke-linecap:square;stroke-linejoin:miter;stroke-width:0.8;\"/>\n   </g>\n   <g id=\"patch_5\">\n    <path d=\"M 43.78125 239.758125 \nL 378.58125 239.758125 \n\" style=\"fill:none;stroke:#000000;stroke-linecap:square;stroke-linejoin:miter;stroke-width:0.8;\"/>\n   </g>\n   <g id=\"patch_6\">\n    <path d=\"M 43.78125 22.318125 \nL 378.58125 22.318125 \n\" style=\"fill:none;stroke:#000000;stroke-linecap:square;stroke-linejoin:miter;stroke-width:0.8;\"/>\n   </g>\n   <g id=\"text_14\">\n    <!-- Precision-Recall vs Threshold Chart -->\n    <g transform=\"translate(105.89625 16.318125)scale(0.12 -0.12)\">\n     <defs>\n      <path d=\"M 4.890625 31.390625 \nL 31.203125 31.390625 \nL 31.203125 23.390625 \nL 4.890625 23.390625 \nz\n\" id=\"DejaVuSans-45\"/>\n      <path d=\"M 2.984375 54.6875 \nL 12.5 54.6875 \nL 29.59375 8.796875 \nL 46.6875 54.6875 \nL 56.203125 54.6875 \nL 35.6875 0 \nL 23.484375 0 \nz\n\" id=\"DejaVuSans-118\"/>\n      <path d=\"M 64.40625 67.28125 \nL 64.40625 56.890625 \nQ 59.421875 61.53125 53.78125 63.8125 \nQ 48.140625 66.109375 41.796875 66.109375 \nQ 29.296875 66.109375 22.65625 58.46875 \nQ 16.015625 50.828125 16.015625 36.375 \nQ 16.015625 21.96875 22.65625 14.328125 \nQ 29.296875 6.6875 41.796875 6.6875 \nQ 48.140625 6.6875 53.78125 8.984375 \nQ 59.421875 11.28125 64.40625 15.921875 \nL 64.40625 5.609375 \nQ 59.234375 2.09375 53.4375 0.328125 \nQ 47.65625 -1.421875 41.21875 -1.421875 \nQ 24.65625 -1.421875 15.125 8.703125 \nQ 5.609375 18.84375 5.609375 36.375 \nQ 5.609375 53.953125 15.125 64.078125 \nQ 24.65625 74.21875 41.21875 74.21875 \nQ 47.75 74.21875 53.53125 72.484375 \nQ 59.328125 70.75 64.40625 67.28125 \nz\n\" id=\"DejaVuSans-67\"/>\n      <path d=\"M 18.3125 70.21875 \nL 18.3125 54.6875 \nL 36.8125 54.6875 \nL 36.8125 47.703125 \nL 18.3125 47.703125 \nL 18.3125 18.015625 \nQ 18.3125 11.328125 20.140625 9.421875 \nQ 21.96875 7.515625 27.59375 7.515625 \nL 36.8125 7.515625 \nL 36.8125 0 \nL 27.59375 0 \nQ 17.1875 0 13.234375 3.875 \nQ 9.28125 7.765625 9.28125 18.015625 \nL 9.28125 47.703125 \nL 2.6875 47.703125 \nL 2.6875 54.6875 \nL 9.28125 54.6875 \nL 9.28125 70.21875 \nz\n\" id=\"DejaVuSans-116\"/>\n     </defs>\n     <use xlink:href=\"#DejaVuSans-80\"/>\n     <use x=\"58.552734\" xlink:href=\"#DejaVuSans-114\"/>\n     <use x=\"97.416016\" xlink:href=\"#DejaVuSans-101\"/>\n     <use x=\"158.939453\" xlink:href=\"#DejaVuSans-99\"/>\n     <use x=\"213.919922\" xlink:href=\"#DejaVuSans-105\"/>\n     <use x=\"241.703125\" xlink:href=\"#DejaVuSans-115\"/>\n     <use x=\"293.802734\" xlink:href=\"#DejaVuSans-105\"/>\n     <use x=\"321.585938\" xlink:href=\"#DejaVuSans-111\"/>\n     <use x=\"382.767578\" xlink:href=\"#DejaVuSans-110\"/>\n     <use x=\"446.146484\" xlink:href=\"#DejaVuSans-45\"/>\n     <use x=\"482.230469\" xlink:href=\"#DejaVuSans-82\"/>\n     <use x=\"547.212891\" xlink:href=\"#DejaVuSans-101\"/>\n     <use x=\"608.736328\" xlink:href=\"#DejaVuSans-99\"/>\n     <use x=\"663.716797\" xlink:href=\"#DejaVuSans-97\"/>\n     <use x=\"724.996094\" xlink:href=\"#DejaVuSans-108\"/>\n     <use x=\"752.779297\" xlink:href=\"#DejaVuSans-108\"/>\n     <use x=\"780.5625\" xlink:href=\"#DejaVuSans-32\"/>\n     <use x=\"812.349609\" xlink:href=\"#DejaVuSans-118\"/>\n     <use x=\"871.529297\" xlink:href=\"#DejaVuSans-115\"/>\n     <use x=\"923.628906\" xlink:href=\"#DejaVuSans-32\"/>\n     <use x=\"955.416016\" xlink:href=\"#DejaVuSans-84\"/>\n     <use x=\"1016.5\" xlink:href=\"#DejaVuSans-104\"/>\n     <use x=\"1079.878906\" xlink:href=\"#DejaVuSans-114\"/>\n     <use x=\"1118.742188\" xlink:href=\"#DejaVuSans-101\"/>\n     <use x=\"1180.265625\" xlink:href=\"#DejaVuSans-115\"/>\n     <use x=\"1232.365234\" xlink:href=\"#DejaVuSans-104\"/>\n     <use x=\"1295.744141\" xlink:href=\"#DejaVuSans-111\"/>\n     <use x=\"1356.925781\" xlink:href=\"#DejaVuSans-108\"/>\n     <use x=\"1384.708984\" xlink:href=\"#DejaVuSans-100\"/>\n     <use x=\"1448.185547\" xlink:href=\"#DejaVuSans-32\"/>\n     <use x=\"1479.972656\" xlink:href=\"#DejaVuSans-67\"/>\n     <use x=\"1549.796875\" xlink:href=\"#DejaVuSans-104\"/>\n     <use x=\"1613.175781\" xlink:href=\"#DejaVuSans-97\"/>\n     <use x=\"1674.455078\" xlink:href=\"#DejaVuSans-114\"/>\n     <use x=\"1715.568359\" xlink:href=\"#DejaVuSans-116\"/>\n    </g>\n   </g>\n   <g id=\"legend_1\">\n    <g id=\"patch_7\">\n     <path d=\"M 50.78125 234.758125 \nL 127.395313 234.758125 \nQ 129.395313 234.758125 129.395313 232.758125 \nL 129.395313 204.401875 \nQ 129.395313 202.401875 127.395313 202.401875 \nL 50.78125 202.401875 \nQ 48.78125 202.401875 48.78125 204.401875 \nL 48.78125 232.758125 \nQ 48.78125 234.758125 50.78125 234.758125 \nz\n\" style=\"fill:#ffffff;opacity:0.8;stroke:#cccccc;stroke-linejoin:miter;\"/>\n    </g>\n    <g id=\"line2d_14\">\n     <path d=\"M 52.78125 210.500312 \nL 72.78125 210.500312 \n\" style=\"fill:none;stroke:#0000ff;stroke-dasharray:5.55,2.4;stroke-dashoffset:0;stroke-width:1.5;\"/>\n    </g>\n    <g id=\"line2d_15\"/>\n    <g id=\"text_15\">\n     <!-- Precision -->\n     <g transform=\"translate(80.78125 214.000312)scale(0.1 -0.1)\">\n      <use xlink:href=\"#DejaVuSans-80\"/>\n      <use x=\"58.552734\" xlink:href=\"#DejaVuSans-114\"/>\n      <use x=\"97.416016\" xlink:href=\"#DejaVuSans-101\"/>\n      <use x=\"158.939453\" xlink:href=\"#DejaVuSans-99\"/>\n      <use x=\"213.919922\" xlink:href=\"#DejaVuSans-105\"/>\n      <use x=\"241.703125\" xlink:href=\"#DejaVuSans-115\"/>\n      <use x=\"293.802734\" xlink:href=\"#DejaVuSans-105\"/>\n      <use x=\"321.585938\" xlink:href=\"#DejaVuSans-111\"/>\n      <use x=\"382.767578\" xlink:href=\"#DejaVuSans-110\"/>\n     </g>\n    </g>\n    <g id=\"line2d_16\">\n     <path d=\"M 52.78125 225.178437 \nL 72.78125 225.178437 \n\" style=\"fill:none;stroke:#ff0000;stroke-dasharray:5.55,2.4;stroke-dashoffset:0;stroke-width:1.5;\"/>\n    </g>\n    <g id=\"line2d_17\"/>\n    <g id=\"text_16\">\n     <!-- Recall -->\n     <g transform=\"translate(80.78125 228.678437)scale(0.1 -0.1)\">\n      <use xlink:href=\"#DejaVuSans-82\"/>\n      <use x=\"64.982422\" xlink:href=\"#DejaVuSans-101\"/>\n      <use x=\"126.505859\" xlink:href=\"#DejaVuSans-99\"/>\n      <use x=\"181.486328\" xlink:href=\"#DejaVuSans-97\"/>\n      <use x=\"242.765625\" xlink:href=\"#DejaVuSans-108\"/>\n      <use x=\"270.548828\" xlink:href=\"#DejaVuSans-108\"/>\n     </g>\n    </g>\n   </g>\n  </g>\n </g>\n <defs>\n  <clipPath id=\"p7acaa9a3be\">\n   <rect height=\"217.44\" width=\"334.8\" x=\"43.78125\" y=\"22.318125\"/>\n  </clipPath>\n </defs>\n</svg>\n",
      "image/png": "[encoded data removed]"
     },
     "metadata": {
      "needs_background": "light"
     }
    }
   ],
   "source": [
    "### Plot my precision recall curve\n",
    "\n",
    "pred_y=final_model.predict(X_test_scaled) \n",
    "\n",
    "probs_y=final_model.predict_proba(X_test_scaled) \n",
    "\n",
    "from sklearn.metrics import precision_recall_curve\n",
    "precision, recall, thresholds = precision_recall_curve(y_test, probs_y[:, 1]) \n",
    "   #retrieve probability of being 1(in second column of probs_y)\n",
    "#pr_auc = auc(recall, precision)\n",
    "\n",
    "plt.title(\"Precision-Recall vs Threshold Chart\")\n",
    "plt.plot(thresholds, precision[: -1], \"b--\", label=\"Precision\")\n",
    "plt.plot(thresholds, recall[: -1], \"r--\", label=\"Recall\")\n",
    "plt.ylabel(\"Precision, Recall\")\n",
    "plt.xlabel(\"Threshold\")\n",
    "plt.legend(loc=\"lower left\")\n",
    "plt.ylim([0,1])"
   ]
  },
  {
   "source": [
    "### Exporting Predictions for Tableau"
   ],
   "cell_type": "markdown",
   "metadata": {}
  },
  {
   "source": [
    "We want to make a tableau dashboard with our predictions in order to further visualize our data. Let's create a new dataframe with all of our original features and add in our predictions."
   ],
   "cell_type": "markdown",
   "metadata": {}
  },
  {
   "cell_type": "code",
   "execution_count": 546,
   "metadata": {},
   "outputs": [],
   "source": [
    "tableau_df = X_test.copy()"
   ]
  },
  {
   "cell_type": "code",
   "execution_count": 547,
   "metadata": {},
   "outputs": [],
   "source": [
    "#join our test dataframe with our TRUE y\n",
    "tableau_df = tableau_df.join(y_test)"
   ]
  },
  {
   "cell_type": "code",
   "execution_count": 548,
   "metadata": {},
   "outputs": [],
   "source": [
    "#create a new column for our Y predictions in our test dataframe\n",
    "tableau_df['Predictions']=y_pred "
   ]
  },
  {
   "cell_type": "code",
   "execution_count": 549,
   "metadata": {},
   "outputs": [],
   "source": [
    "#create a new column for predict probability 1 in X_test df\n",
    "tableau_df['Predict_Proba_1'] = final_model.predict_proba(X_test_scaled)[:,1]"
   ]
  },
  {
   "cell_type": "code",
   "execution_count": 550,
   "metadata": {},
   "outputs": [],
   "source": [
    "#create a new column for predict probability 0 in X_test df\n",
    "tableau_df['Predict_Proba_0'] = final_model.predict_proba(X_test_scaled)[:,0]"
   ]
  },
  {
   "cell_type": "code",
   "execution_count": 551,
   "metadata": {},
   "outputs": [
    {
     "output_type": "execute_result",
     "data": {
      "text/plain": [
       "      birth_year  poverty  child_at_home  fin_assets_30  debts_30  \\\n",
       "6194        1984     1.05            5.0          500.0    7000.0   \n",
       "1509        1981    11.01            0.0       165000.0       0.0   \n",
       "4146        1982     2.59            1.0        64500.0   11500.0   \n",
       "5580        1982    23.03            1.0        10000.0     100.0   \n",
       "1228        1982     1.97            2.0         4200.0       0.0   \n",
       "...          ...      ...            ...            ...       ...   \n",
       "2232        1983     5.53            0.0        11000.0   28500.0   \n",
       "6029        1981     7.53            0.0        17000.0    1000.0   \n",
       "759         1982     8.73            0.0        14000.0   12000.0   \n",
       "498         1983     0.75            4.0         4800.0     332.0   \n",
       "2681        1984     2.40            0.0          520.0   71300.0   \n",
       "\n",
       "      moves_since_12  fin_mobility  bus_income  is_male  is_black  ...  \\\n",
       "6194            13.0      1.810345           0      0.0       1.0  ...   \n",
       "1509             9.0      1.221976           0      0.0       0.0  ...   \n",
       "4146             5.0      1.681818           0      1.0       0.0  ...   \n",
       "5580             0.0      1.000000           0      0.0       0.0  ...   \n",
       "1228            16.0      0.230950           0      0.0       0.0  ...   \n",
       "...              ...           ...         ...      ...       ...  ...   \n",
       "2232             7.0      1.755556           0      1.0       0.0  ...   \n",
       "6029            15.0      9.531646           0      1.0       0.0  ...   \n",
       "759             12.0      2.890728           0      0.0       1.0  ...   \n",
       "498             17.0      0.250000           0      0.0       0.0  ...   \n",
       "2681            15.0      1.230769           0      0.0       0.0  ...   \n",
       "\n",
       "      Assc_College  Bachelors  Masters  PhD  Med_Law  total_income  \\\n",
       "6194             0          0        0    0        0        9000.0   \n",
       "1509             0          1        0    0        0       50000.0   \n",
       "4146             0          0        1    0        0       50000.0   \n",
       "5580             0          0        0    0        0       35000.0   \n",
       "1228             0          0        0    0        0        5000.0   \n",
       "...            ...        ...      ...  ...      ...           ...   \n",
       "2232             0          0        1    0        0       69000.0   \n",
       "6029             1          0        0    0        0       63000.0   \n",
       "759              0          1        0    0        0       75000.0   \n",
       "498              0          0        0    0        0       24000.0   \n",
       "2681             0          0        0    0        0       30000.0   \n",
       "\n",
       "      homeowner_perm  Predictions  Predict_Proba_1  Predict_Proba_0  \n",
       "6194               1            0         0.343282         0.656718  \n",
       "1509               1            1         0.866744         0.133256  \n",
       "4146               0            1         0.840869         0.159131  \n",
       "5580               0            1         0.559271         0.440729  \n",
       "1228               0            0         0.460850         0.539150  \n",
       "...              ...          ...              ...              ...  \n",
       "2232               1            0         0.492721         0.507279  \n",
       "6029               0            0         0.329807         0.670193  \n",
       "759                1            1         0.503637         0.496363  \n",
       "498                0            0         0.340167         0.659833  \n",
       "2681               0            0         0.126578         0.873422  \n",
       "\n",
       "[751 rows x 29 columns]"
      ],
      "text/html": "<div>\n<style scoped>\n    .dataframe tbody tr th:only-of-type {\n        vertical-align: middle;\n    }\n\n    .dataframe tbody tr th {\n        vertical-align: top;\n    }\n\n    .dataframe thead th {\n        text-align: right;\n    }\n</style>\n<table border=\"1\" class=\"dataframe\">\n  <thead>\n    <tr style=\"text-align: right;\">\n      <th></th>\n      <th>birth_year</th>\n      <th>poverty</th>\n      <th>child_at_home</th>\n      <th>fin_assets_30</th>\n      <th>debts_30</th>\n      <th>moves_since_12</th>\n      <th>fin_mobility</th>\n      <th>bus_income</th>\n      <th>is_male</th>\n      <th>is_black</th>\n      <th>...</th>\n      <th>Assc_College</th>\n      <th>Bachelors</th>\n      <th>Masters</th>\n      <th>PhD</th>\n      <th>Med_Law</th>\n      <th>total_income</th>\n      <th>homeowner_perm</th>\n      <th>Predictions</th>\n      <th>Predict_Proba_1</th>\n      <th>Predict_Proba_0</th>\n    </tr>\n  </thead>\n  <tbody>\n    <tr>\n      <th>6194</th>\n      <td>1984</td>\n      <td>1.05</td>\n      <td>5.0</td>\n      <td>500.0</td>\n      <td>7000.0</td>\n      <td>13.0</td>\n      <td>1.810345</td>\n      <td>0</td>\n      <td>0.0</td>\n      <td>1.0</td>\n      <td>...</td>\n      <td>0</td>\n      <td>0</td>\n      <td>0</td>\n      <td>0</td>\n      <td>0</td>\n      <td>9000.0</td>\n      <td>1</td>\n      <td>0</td>\n      <td>0.343282</td>\n      <td>0.656718</td>\n    </tr>\n    <tr>\n      <th>1509</th>\n      <td>1981</td>\n      <td>11.01</td>\n      <td>0.0</td>\n      <td>165000.0</td>\n      <td>0.0</td>\n      <td>9.0</td>\n      <td>1.221976</td>\n      <td>0</td>\n      <td>0.0</td>\n      <td>0.0</td>\n      <td>...</td>\n      <td>0</td>\n      <td>1</td>\n      <td>0</td>\n      <td>0</td>\n      <td>0</td>\n      <td>50000.0</td>\n      <td>1</td>\n      <td>1</td>\n      <td>0.866744</td>\n      <td>0.133256</td>\n    </tr>\n    <tr>\n      <th>4146</th>\n      <td>1982</td>\n      <td>2.59</td>\n      <td>1.0</td>\n      <td>64500.0</td>\n      <td>11500.0</td>\n      <td>5.0</td>\n      <td>1.681818</td>\n      <td>0</td>\n      <td>1.0</td>\n      <td>0.0</td>\n      <td>...</td>\n      <td>0</td>\n      <td>0</td>\n      <td>1</td>\n      <td>0</td>\n      <td>0</td>\n      <td>50000.0</td>\n      <td>0</td>\n      <td>1</td>\n      <td>0.840869</td>\n      <td>0.159131</td>\n    </tr>\n    <tr>\n      <th>5580</th>\n      <td>1982</td>\n      <td>23.03</td>\n      <td>1.0</td>\n      <td>10000.0</td>\n      <td>100.0</td>\n      <td>0.0</td>\n      <td>1.000000</td>\n      <td>0</td>\n      <td>0.0</td>\n      <td>0.0</td>\n      <td>...</td>\n      <td>0</td>\n      <td>0</td>\n      <td>0</td>\n      <td>0</td>\n      <td>0</td>\n      <td>35000.0</td>\n      <td>0</td>\n      <td>1</td>\n      <td>0.559271</td>\n      <td>0.440729</td>\n    </tr>\n    <tr>\n      <th>1228</th>\n      <td>1982</td>\n      <td>1.97</td>\n      <td>2.0</td>\n      <td>4200.0</td>\n      <td>0.0</td>\n      <td>16.0</td>\n      <td>0.230950</td>\n      <td>0</td>\n      <td>0.0</td>\n      <td>0.0</td>\n      <td>...</td>\n      <td>0</td>\n      <td>0</td>\n      <td>0</td>\n      <td>0</td>\n      <td>0</td>\n      <td>5000.0</td>\n      <td>0</td>\n      <td>0</td>\n      <td>0.460850</td>\n      <td>0.539150</td>\n    </tr>\n    <tr>\n      <th>...</th>\n      <td>...</td>\n      <td>...</td>\n      <td>...</td>\n      <td>...</td>\n      <td>...</td>\n      <td>...</td>\n      <td>...</td>\n      <td>...</td>\n      <td>...</td>\n      <td>...</td>\n      <td>...</td>\n      <td>...</td>\n      <td>...</td>\n      <td>...</td>\n      <td>...</td>\n      <td>...</td>\n      <td>...</td>\n      <td>...</td>\n      <td>...</td>\n      <td>...</td>\n      <td>...</td>\n    </tr>\n    <tr>\n      <th>2232</th>\n      <td>1983</td>\n      <td>5.53</td>\n      <td>0.0</td>\n      <td>11000.0</td>\n      <td>28500.0</td>\n      <td>7.0</td>\n      <td>1.755556</td>\n      <td>0</td>\n      <td>1.0</td>\n      <td>0.0</td>\n      <td>...</td>\n      <td>0</td>\n      <td>0</td>\n      <td>1</td>\n      <td>0</td>\n      <td>0</td>\n      <td>69000.0</td>\n      <td>1</td>\n      <td>0</td>\n      <td>0.492721</td>\n      <td>0.507279</td>\n    </tr>\n    <tr>\n      <th>6029</th>\n      <td>1981</td>\n      <td>7.53</td>\n      <td>0.0</td>\n      <td>17000.0</td>\n      <td>1000.0</td>\n      <td>15.0</td>\n      <td>9.531646</td>\n      <td>0</td>\n      <td>1.0</td>\n      <td>0.0</td>\n      <td>...</td>\n      <td>1</td>\n      <td>0</td>\n      <td>0</td>\n      <td>0</td>\n      <td>0</td>\n      <td>63000.0</td>\n      <td>0</td>\n      <td>0</td>\n      <td>0.329807</td>\n      <td>0.670193</td>\n    </tr>\n    <tr>\n      <th>759</th>\n      <td>1982</td>\n      <td>8.73</td>\n      <td>0.0</td>\n      <td>14000.0</td>\n      <td>12000.0</td>\n      <td>12.0</td>\n      <td>2.890728</td>\n      <td>0</td>\n      <td>0.0</td>\n      <td>1.0</td>\n      <td>...</td>\n      <td>0</td>\n      <td>1</td>\n      <td>0</td>\n      <td>0</td>\n      <td>0</td>\n      <td>75000.0</td>\n      <td>1</td>\n      <td>1</td>\n      <td>0.503637</td>\n      <td>0.496363</td>\n    </tr>\n    <tr>\n      <th>498</th>\n      <td>1983</td>\n      <td>0.75</td>\n      <td>4.0</td>\n      <td>4800.0</td>\n      <td>332.0</td>\n      <td>17.0</td>\n      <td>0.250000</td>\n      <td>0</td>\n      <td>0.0</td>\n      <td>0.0</td>\n      <td>...</td>\n      <td>0</td>\n      <td>0</td>\n      <td>0</td>\n      <td>0</td>\n      <td>0</td>\n      <td>24000.0</td>\n      <td>0</td>\n      <td>0</td>\n      <td>0.340167</td>\n      <td>0.659833</td>\n    </tr>\n    <tr>\n      <th>2681</th>\n      <td>1984</td>\n      <td>2.40</td>\n      <td>0.0</td>\n      <td>520.0</td>\n      <td>71300.0</td>\n      <td>15.0</td>\n      <td>1.230769</td>\n      <td>0</td>\n      <td>0.0</td>\n      <td>0.0</td>\n      <td>...</td>\n      <td>0</td>\n      <td>0</td>\n      <td>0</td>\n      <td>0</td>\n      <td>0</td>\n      <td>30000.0</td>\n      <td>0</td>\n      <td>0</td>\n      <td>0.126578</td>\n      <td>0.873422</td>\n    </tr>\n  </tbody>\n</table>\n<p>751 rows × 29 columns</p>\n</div>"
     },
     "metadata": {},
     "execution_count": 551
    }
   ],
   "source": [
    "tableau_df\n"
   ]
  },
  {
   "cell_type": "code",
   "execution_count": 552,
   "metadata": {},
   "outputs": [
    {
     "output_type": "execute_result",
     "data": {
      "text/plain": [
       "Index(['id', 'homeowner_perm', 'birth_year', 'is_male', 'poverty',\n",
       "       'child_at_home', 'fin_assets_30', 'debts_30', 'moves_since_12',\n",
       "       'fin_mobility', 'income_wage_compiled', 'income_bus_compiled',\n",
       "       'is_black', 'is_hispanic', 'is_mixed', 'is_married', 'is_cohab',\n",
       "       'is_metro', 'is_central', 'childhood_owned', 'GED', 'High_School',\n",
       "       'Assc_College', 'Bachelors', 'Masters', 'PhD', 'Med_Law',\n",
       "       'total_income', 'bus_income'],\n",
       "      dtype='object')"
      ]
     },
     "metadata": {},
     "execution_count": 552
    }
   ],
   "source": [
    "df.columns"
   ]
  },
  {
   "cell_type": "code",
   "execution_count": 553,
   "metadata": {},
   "outputs": [],
   "source": [
    "#create id column from origina df to join to tableau df for visualization\n",
    "df_ids = df['id']\n",
    "tableau_df = tableau_df.join(df_ids)\n"
   ]
  },
  {
   "cell_type": "code",
   "execution_count": 554,
   "metadata": {},
   "outputs": [
    {
     "output_type": "execute_result",
     "data": {
      "text/plain": [
       "['birth_year',\n",
       " 'poverty',\n",
       " 'child_at_home',\n",
       " 'fin_assets_30',\n",
       " 'debts_30',\n",
       " 'moves_since_12',\n",
       " 'fin_mobility',\n",
       " 'bus_income',\n",
       " 'is_male',\n",
       " 'is_black',\n",
       " 'is_hispanic',\n",
       " 'is_mixed',\n",
       " 'is_married',\n",
       " 'is_cohab',\n",
       " 'is_metro',\n",
       " 'is_central',\n",
       " 'childhood_owned',\n",
       " 'GED',\n",
       " 'High_School',\n",
       " 'Assc_College',\n",
       " 'Bachelors',\n",
       " 'Masters',\n",
       " 'PhD',\n",
       " 'Med_Law',\n",
       " 'total_income',\n",
       " 'homeowner_perm',\n",
       " 'Predictions',\n",
       " 'Predict_Proba_1',\n",
       " 'Predict_Proba_0',\n",
       " 'id']"
      ]
     },
     "metadata": {},
     "execution_count": 554
    }
   ],
   "source": [
    "cols = tableau_df.columns.tolist()\n",
    "cols"
   ]
  },
  {
   "cell_type": "code",
   "execution_count": 555,
   "metadata": {},
   "outputs": [],
   "source": [
    "#re-index columns \n",
    "\n",
    "cols.insert(0, cols.pop(cols.index('id')))\n",
    "cols.insert(1, cols.pop(cols.index('homeowner_perm')))\n",
    "cols.insert(2, cols.pop(cols.index('Predictions')))\n",
    "cols.insert(3, cols.pop(cols.index('Predict_Proba_1')))\n",
    "cols.insert(4, cols.pop(cols.index('Predict_Proba_0')))\n",
    "tableau_df= tableau_df.reindex(columns= cols)\n"
   ]
  },
  {
   "cell_type": "code",
   "execution_count": 557,
   "metadata": {},
   "outputs": [],
   "source": [
    "#rename columns for easier visualization\n",
    "tableau_df = tableau_df.rename(columns={\"homeowner_perm\": \"Y_true\", \"Predictions\": \"Y_pred\", \"Predict_Proba_1\": \"Pred_Prob_1\", \"Predict_Proba_0\": \"Pred_Prob_0\"})"
   ]
  },
  {
   "cell_type": "code",
   "execution_count": 558,
   "metadata": {},
   "outputs": [
    {
     "output_type": "execute_result",
     "data": {
      "text/plain": [
       "        id  Y_true  Y_pred  Pred_Prob_1  Pred_Prob_0  birth_year  poverty  \\\n",
       "6194  7327       1       0     0.343282     0.656718        1984     1.05   \n",
       "1509  1837       1       1     0.866744     0.133256        1981    11.01   \n",
       "4146  4943       0       1     0.840869     0.159131        1982     2.59   \n",
       "5580  6627       0       1     0.559271     0.440729        1982    23.03   \n",
       "1228  1489       0       0     0.460850     0.539150        1982     1.97   \n",
       "...    ...     ...     ...          ...          ...         ...      ...   \n",
       "2232  2710       1       0     0.492721     0.507279        1983     5.53   \n",
       "6029  7153       0       0     0.329807     0.670193        1981     7.53   \n",
       "759    924       1       1     0.503637     0.496363        1982     8.73   \n",
       "498    605       0       0     0.340167     0.659833        1983     0.75   \n",
       "2681  3252       0       0     0.126578     0.873422        1984     2.40   \n",
       "\n",
       "      child_at_home  fin_assets_30  debts_30  ...  is_central  \\\n",
       "6194            5.0          500.0    7000.0  ...           0   \n",
       "1509            0.0       165000.0       0.0  ...           0   \n",
       "4146            1.0        64500.0   11500.0  ...           1   \n",
       "5580            1.0        10000.0     100.0  ...           0   \n",
       "1228            2.0         4200.0       0.0  ...           0   \n",
       "...             ...            ...       ...  ...         ...   \n",
       "2232            0.0        11000.0   28500.0  ...           1   \n",
       "6029            0.0        17000.0    1000.0  ...           1   \n",
       "759             0.0        14000.0   12000.0  ...           0   \n",
       "498             4.0         4800.0     332.0  ...           0   \n",
       "2681            0.0          520.0   71300.0  ...           1   \n",
       "\n",
       "      childhood_owned  GED  High_School  Assc_College  Bachelors  Masters  \\\n",
       "6194                0    1            0             0          0        0   \n",
       "1509                1    0            0             0          1        0   \n",
       "4146                1    0            0             0          0        1   \n",
       "5580                0    1            0             0          0        0   \n",
       "1228                1    0            1             0          0        0   \n",
       "...               ...  ...          ...           ...        ...      ...   \n",
       "2232                1    0            0             0          0        1   \n",
       "6029                0    0            0             1          0        0   \n",
       "759                 1    0            0             0          1        0   \n",
       "498                 0    1            0             0          0        0   \n",
       "2681                0    1            0             0          0        0   \n",
       "\n",
       "      PhD  Med_Law  total_income  \n",
       "6194    0        0        9000.0  \n",
       "1509    0        0       50000.0  \n",
       "4146    0        0       50000.0  \n",
       "5580    0        0       35000.0  \n",
       "1228    0        0        5000.0  \n",
       "...   ...      ...           ...  \n",
       "2232    0        0       69000.0  \n",
       "6029    0        0       63000.0  \n",
       "759     0        0       75000.0  \n",
       "498     0        0       24000.0  \n",
       "2681    0        0       30000.0  \n",
       "\n",
       "[751 rows x 30 columns]"
      ],
      "text/html": "<div>\n<style scoped>\n    .dataframe tbody tr th:only-of-type {\n        vertical-align: middle;\n    }\n\n    .dataframe tbody tr th {\n        vertical-align: top;\n    }\n\n    .dataframe thead th {\n        text-align: right;\n    }\n</style>\n<table border=\"1\" class=\"dataframe\">\n  <thead>\n    <tr style=\"text-align: right;\">\n      <th></th>\n      <th>id</th>\n      <th>Y_true</th>\n      <th>Y_pred</th>\n      <th>Pred_Prob_1</th>\n      <th>Pred_Prob_0</th>\n      <th>birth_year</th>\n      <th>poverty</th>\n      <th>child_at_home</th>\n      <th>fin_assets_30</th>\n      <th>debts_30</th>\n      <th>...</th>\n      <th>is_central</th>\n      <th>childhood_owned</th>\n      <th>GED</th>\n      <th>High_School</th>\n      <th>Assc_College</th>\n      <th>Bachelors</th>\n      <th>Masters</th>\n      <th>PhD</th>\n      <th>Med_Law</th>\n      <th>total_income</th>\n    </tr>\n  </thead>\n  <tbody>\n    <tr>\n      <th>6194</th>\n      <td>7327</td>\n      <td>1</td>\n      <td>0</td>\n      <td>0.343282</td>\n      <td>0.656718</td>\n      <td>1984</td>\n      <td>1.05</td>\n      <td>5.0</td>\n      <td>500.0</td>\n      <td>7000.0</td>\n      <td>...</td>\n      <td>0</td>\n      <td>0</td>\n      <td>1</td>\n      <td>0</td>\n      <td>0</td>\n      <td>0</td>\n      <td>0</td>\n      <td>0</td>\n      <td>0</td>\n      <td>9000.0</td>\n    </tr>\n    <tr>\n      <th>1509</th>\n      <td>1837</td>\n      <td>1</td>\n      <td>1</td>\n      <td>0.866744</td>\n      <td>0.133256</td>\n      <td>1981</td>\n      <td>11.01</td>\n      <td>0.0</td>\n      <td>165000.0</td>\n      <td>0.0</td>\n      <td>...</td>\n      <td>0</td>\n      <td>1</td>\n      <td>0</td>\n      <td>0</td>\n      <td>0</td>\n      <td>1</td>\n      <td>0</td>\n      <td>0</td>\n      <td>0</td>\n      <td>50000.0</td>\n    </tr>\n    <tr>\n      <th>4146</th>\n      <td>4943</td>\n      <td>0</td>\n      <td>1</td>\n      <td>0.840869</td>\n      <td>0.159131</td>\n      <td>1982</td>\n      <td>2.59</td>\n      <td>1.0</td>\n      <td>64500.0</td>\n      <td>11500.0</td>\n      <td>...</td>\n      <td>1</td>\n      <td>1</td>\n      <td>0</td>\n      <td>0</td>\n      <td>0</td>\n      <td>0</td>\n      <td>1</td>\n      <td>0</td>\n      <td>0</td>\n      <td>50000.0</td>\n    </tr>\n    <tr>\n      <th>5580</th>\n      <td>6627</td>\n      <td>0</td>\n      <td>1</td>\n      <td>0.559271</td>\n      <td>0.440729</td>\n      <td>1982</td>\n      <td>23.03</td>\n      <td>1.0</td>\n      <td>10000.0</td>\n      <td>100.0</td>\n      <td>...</td>\n      <td>0</td>\n      <td>0</td>\n      <td>1</td>\n      <td>0</td>\n      <td>0</td>\n      <td>0</td>\n      <td>0</td>\n      <td>0</td>\n      <td>0</td>\n      <td>35000.0</td>\n    </tr>\n    <tr>\n      <th>1228</th>\n      <td>1489</td>\n      <td>0</td>\n      <td>0</td>\n      <td>0.460850</td>\n      <td>0.539150</td>\n      <td>1982</td>\n      <td>1.97</td>\n      <td>2.0</td>\n      <td>4200.0</td>\n      <td>0.0</td>\n      <td>...</td>\n      <td>0</td>\n      <td>1</td>\n      <td>0</td>\n      <td>1</td>\n      <td>0</td>\n      <td>0</td>\n      <td>0</td>\n      <td>0</td>\n      <td>0</td>\n      <td>5000.0</td>\n    </tr>\n    <tr>\n      <th>...</th>\n      <td>...</td>\n      <td>...</td>\n      <td>...</td>\n      <td>...</td>\n      <td>...</td>\n      <td>...</td>\n      <td>...</td>\n      <td>...</td>\n      <td>...</td>\n      <td>...</td>\n      <td>...</td>\n      <td>...</td>\n      <td>...</td>\n      <td>...</td>\n      <td>...</td>\n      <td>...</td>\n      <td>...</td>\n      <td>...</td>\n      <td>...</td>\n      <td>...</td>\n      <td>...</td>\n    </tr>\n    <tr>\n      <th>2232</th>\n      <td>2710</td>\n      <td>1</td>\n      <td>0</td>\n      <td>0.492721</td>\n      <td>0.507279</td>\n      <td>1983</td>\n      <td>5.53</td>\n      <td>0.0</td>\n      <td>11000.0</td>\n      <td>28500.0</td>\n      <td>...</td>\n      <td>1</td>\n      <td>1</td>\n      <td>0</td>\n      <td>0</td>\n      <td>0</td>\n      <td>0</td>\n      <td>1</td>\n      <td>0</td>\n      <td>0</td>\n      <td>69000.0</td>\n    </tr>\n    <tr>\n      <th>6029</th>\n      <td>7153</td>\n      <td>0</td>\n      <td>0</td>\n      <td>0.329807</td>\n      <td>0.670193</td>\n      <td>1981</td>\n      <td>7.53</td>\n      <td>0.0</td>\n      <td>17000.0</td>\n      <td>1000.0</td>\n      <td>...</td>\n      <td>1</td>\n      <td>0</td>\n      <td>0</td>\n      <td>0</td>\n      <td>1</td>\n      <td>0</td>\n      <td>0</td>\n      <td>0</td>\n      <td>0</td>\n      <td>63000.0</td>\n    </tr>\n    <tr>\n      <th>759</th>\n      <td>924</td>\n      <td>1</td>\n      <td>1</td>\n      <td>0.503637</td>\n      <td>0.496363</td>\n      <td>1982</td>\n      <td>8.73</td>\n      <td>0.0</td>\n      <td>14000.0</td>\n      <td>12000.0</td>\n      <td>...</td>\n      <td>0</td>\n      <td>1</td>\n      <td>0</td>\n      <td>0</td>\n      <td>0</td>\n      <td>1</td>\n      <td>0</td>\n      <td>0</td>\n      <td>0</td>\n      <td>75000.0</td>\n    </tr>\n    <tr>\n      <th>498</th>\n      <td>605</td>\n      <td>0</td>\n      <td>0</td>\n      <td>0.340167</td>\n      <td>0.659833</td>\n      <td>1983</td>\n      <td>0.75</td>\n      <td>4.0</td>\n      <td>4800.0</td>\n      <td>332.0</td>\n      <td>...</td>\n      <td>0</td>\n      <td>0</td>\n      <td>1</td>\n      <td>0</td>\n      <td>0</td>\n      <td>0</td>\n      <td>0</td>\n      <td>0</td>\n      <td>0</td>\n      <td>24000.0</td>\n    </tr>\n    <tr>\n      <th>2681</th>\n      <td>3252</td>\n      <td>0</td>\n      <td>0</td>\n      <td>0.126578</td>\n      <td>0.873422</td>\n      <td>1984</td>\n      <td>2.40</td>\n      <td>0.0</td>\n      <td>520.0</td>\n      <td>71300.0</td>\n      <td>...</td>\n      <td>1</td>\n      <td>0</td>\n      <td>1</td>\n      <td>0</td>\n      <td>0</td>\n      <td>0</td>\n      <td>0</td>\n      <td>0</td>\n      <td>0</td>\n      <td>30000.0</td>\n    </tr>\n  </tbody>\n</table>\n<p>751 rows × 30 columns</p>\n</div>"
     },
     "metadata": {},
     "execution_count": 558
    }
   ],
   "source": [
    "tableau_df"
   ]
  },
  {
   "cell_type": "code",
   "execution_count": 559,
   "metadata": {},
   "outputs": [],
   "source": [
    "#pickle df\n",
    "tableau_df.to_pickle(\"tableau_df.pickle\")"
   ]
  },
  {
   "cell_type": "code",
   "execution_count": 560,
   "metadata": {},
   "outputs": [],
   "source": [
    "#turn df into csv\n",
    "tableau_df.to_csv('/Users/juliaqiao/Documents/Metis/Project_3/tableau.csv', index=False)\n"
   ]
  },
  {
   "source": [
    "Check out my tableau (Project_3.twb) for a final visualization."
   ],
   "cell_type": "markdown",
   "metadata": {}
  },
  {
   "cell_type": "code",
   "execution_count": null,
   "metadata": {},
   "outputs": [],
   "source": []
  }
 ],
 "metadata": {
  "kernelspec": {
   "name": "Python 3.8.5 64-bit ('metis': conda)",
   "display_name": "Python 3.8.5 64-bit ('metis': conda)",
   "metadata": {
    "interpreter": {
     "hash": "1d0d04aa2644a0c780238b0ddc137c378f262d4a91aabf7e22427563e7a47ad8"
    }
   }
  },
  "language_info": {
   "codemirror_mode": {
    "name": "ipython",
    "version": 3
   },
   "file_extension": ".py",
   "mimetype": "text/x-python",
   "name": "python",
   "nbconvert_exporter": "python",
   "pygments_lexer": "ipython3",
   "version": "3.8.5-final"
  }
 },
 "nbformat": 4,
 "nbformat_minor": 4
}